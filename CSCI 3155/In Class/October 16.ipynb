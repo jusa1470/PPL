{
 "cells": [
  {
   "cell_type": "markdown",
   "metadata": {},
   "source": [
    "__October 16 - Tuesday__"
   ]
  },
  {
   "cell_type": "markdown",
   "metadata": {},
   "source": [
    "Implicit Refs: \"Vars\" \n",
    "Reference(j)\n",
    "\n",
    "let x = NewRef(20) in\n",
    "    let f = function(y) x in\n",
    "        let d = AssignRef(x, 10) in // changes value x points to not x itself\n",
    "            f(35) // return a ptr that refers to memory location 1 with value 10\n",
    "            \n",
    "Values:\n",
    "- Real, Bool, Closure, error\n",
    "- References\n",
    "\n",
    "Environment\n",
    "- Map[Ident->Value]\n",
    "\n",
    "eval(expr, sigma, store) = (value, s1)"
   ]
  },
  {
   "cell_type": "code",
   "execution_count": null,
   "metadata": {},
   "outputs": [],
   "source": [
    "//want var mutability like:\n",
    "var x = 16\n",
    "x = x + 1\n",
    "x = 15\n",
    "x = 45\n",
    "//without doing\n",
    "var x = 16\n",
    "x = Deref(x) + 1"
   ]
  }
 ],
 "metadata": {
  "kernelspec": {
   "display_name": "Scala",
   "language": "scala",
   "name": "scala"
  },
  "language_info": {
   "codemirror_mode": "text/x-scala",
   "file_extension": ".scala",
   "mimetype": "text/x-scala",
   "name": "scala211",
   "nbconvert_exporter": "script",
   "pygments_lexer": "scala",
   "version": "2.11.11"
  }
 },
 "nbformat": 4,
 "nbformat_minor": 2
}
