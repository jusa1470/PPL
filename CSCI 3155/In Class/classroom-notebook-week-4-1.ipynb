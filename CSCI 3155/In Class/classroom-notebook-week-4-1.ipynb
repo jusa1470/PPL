{
 "cells": [
  {
   "cell_type": "markdown",
   "metadata": {},
   "source": [
    "# Week 4 : Lecture 1 (18 September, 2018)"
   ]
  },
  {
   "cell_type": "markdown",
   "metadata": {},
   "source": [
    "- Binary Search Trees: Inductively\n",
    "- My first interpreter for arithmetic.\n",
    "- If time permits: Big Step Operational Semantics."
   ]
  },
  {
   "cell_type": "code",
   "execution_count": 1,
   "metadata": {},
   "outputs": [
    {
     "data": {
      "text/plain": [
       "defined \u001b[32mtrait\u001b[39m \u001b[36mNumTree\u001b[39m\n",
       "defined \u001b[32mobject\u001b[39m \u001b[36mLeaf\u001b[39m\n",
       "defined \u001b[32mclass\u001b[39m \u001b[36mNode\u001b[39m"
      ]
     },
     "execution_count": 1,
     "metadata": {},
     "output_type": "execute_result"
    }
   ],
   "source": [
    "sealed trait NumTree\n",
    "case object Leaf extends NumTree\n",
    "case class Node(n: Int, left: NumTree, right: NumTree) extends NumTree"
   ]
  },
  {
   "cell_type": "code",
   "execution_count": 2,
   "metadata": {},
   "outputs": [
    {
     "data": {
      "text/plain": [
       "\u001b[36mt1\u001b[39m: \u001b[32mLeaf\u001b[39m.type = Leaf\n",
       "\u001b[36mt2\u001b[39m: \u001b[32mNode\u001b[39m = Node(10,Leaf,Leaf)\n",
       "\u001b[36mt3\u001b[39m: \u001b[32mNode\u001b[39m = Node(10,Node(8,Leaf,Leaf),Node(15,Leaf,Node(23,Leaf,Leaf)))"
      ]
     },
     "execution_count": 2,
     "metadata": {},
     "output_type": "execute_result"
    }
   ],
   "source": [
    "val t1 = Leaf\n",
    "val t2 = Node(10, Leaf, Leaf)\n",
    "val t3 = Node(10, Node(8, Leaf, Leaf), Node(15, Leaf, Node(23, Leaf, Leaf)))"
   ]
  },
  {
   "cell_type": "code",
   "execution_count": 4,
   "metadata": {},
   "outputs": [
    {
     "data": {
      "text/plain": [
       "defined \u001b[32mfunction\u001b[39m \u001b[36mdepth\u001b[39m"
      ]
     },
     "execution_count": 4,
     "metadata": {},
     "output_type": "execute_result"
    }
   ],
   "source": [
    "def depth(t: NumTree): Int = t match {\n",
    "    case Leaf => 0\n",
    "    case Node(_, lChild, rChild) => 1 + math.max(depth(lChild), depth(rChild))\n",
    "}"
   ]
  },
  {
   "cell_type": "code",
   "execution_count": 6,
   "metadata": {},
   "outputs": [
    {
     "data": {
      "text/plain": [
       "\u001b[36mres5_0\u001b[39m: \u001b[32mInt\u001b[39m = \u001b[32m0\u001b[39m\n",
       "\u001b[36mres5_1\u001b[39m: \u001b[32mInt\u001b[39m = \u001b[32m3\u001b[39m"
      ]
     },
     "execution_count": 6,
     "metadata": {},
     "output_type": "execute_result"
    }
   ],
   "source": [
    "depth(t1)\n",
    "depth(t3)"
   ]
  },
  {
   "cell_type": "code",
   "execution_count": null,
   "metadata": {},
   "outputs": [],
   "source": [
    "def areAllNodesInATreeLessThan(t: NumTree, k: Int): Boolean = t match {\n",
    "    case Leaf => true\n",
    "    case Node(j, left, right) => (j < k) && \n",
    "                               areAllNodesInATreeLessThan(left, k) && \n",
    "                             areAllNodesInATreeLessThan(right, k)\n",
    "    \n",
    "}"
   ]
  },
  {
   "cell_type": "code",
   "execution_count": 7,
   "metadata": {},
   "outputs": [
    {
     "data": {
      "text/plain": [
       "defined \u001b[32mfunction\u001b[39m \u001b[36mcheckForAll\u001b[39m"
      ]
     },
     "execution_count": 7,
     "metadata": {},
     "output_type": "execute_result"
    }
   ],
   "source": [
    "def checkForAll(t: NumTree, p: Int => Boolean): Boolean = t match {\n",
    "    case Leaf => true\n",
    "    case Node(j, left, right) => p(j) && checkForAll(left, p) && checkForAll(right, p)\n",
    "}"
   ]
  },
  {
   "cell_type": "code",
   "execution_count": 8,
   "metadata": {},
   "outputs": [
    {
     "data": {
      "text/plain": [
       "defined \u001b[32mfunction\u001b[39m \u001b[36misBST\u001b[39m"
      ]
     },
     "execution_count": 8,
     "metadata": {},
     "output_type": "execute_result"
    }
   ],
   "source": [
    "def isBST(t: NumTree): Boolean = t match {\n",
    "    case Leaf => true\n",
    "    case Node(k, lChild, rChild) => {\n",
    "        def ltk(j: Int): Boolean = j < k \n",
    "        def gtk(j: Int): Boolean = j > k\n",
    "        isBST(lChild) &&\n",
    "        isBST(rChild) &&\n",
    "        checkForAll(lChild, ltk) &&\n",
    "        checkForAll(rChild, gtk)\n",
    "    }\n",
    "}\n"
   ]
  },
  {
   "cell_type": "code",
   "execution_count": 9,
   "metadata": {},
   "outputs": [
    {
     "data": {
      "text/plain": [
       "\u001b[36mt3\u001b[39m: \u001b[32mNode\u001b[39m = Node(10,Node(8,Leaf,Leaf),Node(15,Leaf,Node(23,Leaf,Leaf)))\n",
       "\u001b[36mt4\u001b[39m: \u001b[32mNode\u001b[39m = Node(10,Node(10,Node(8,Leaf,Leaf),Node(15,Leaf,Node(23,Leaf,Leaf))),Node(10,Node(8,Leaf,Leaf),Node(15,Leaf,Node(23,Leaf,Leaf))))"
      ]
     },
     "execution_count": 9,
     "metadata": {},
     "output_type": "execute_result"
    }
   ],
   "source": [
    "val t3 = Node(10, Node(8, Leaf, Leaf), Node(15, Leaf, Node(23, Leaf, Leaf)))\n",
    "val t4 = Node(10, t3, t3)"
   ]
  },
  {
   "cell_type": "code",
   "execution_count": 10,
   "metadata": {},
   "outputs": [
    {
     "data": {
      "text/plain": [
       "defined \u001b[32mtrait\u001b[39m \u001b[36mExpr\u001b[39m\n",
       "defined \u001b[32mclass\u001b[39m \u001b[36mConst\u001b[39m\n",
       "defined \u001b[32mclass\u001b[39m \u001b[36mIdent\u001b[39m\n",
       "defined \u001b[32mclass\u001b[39m \u001b[36mPlus\u001b[39m\n",
       "defined \u001b[32mclass\u001b[39m \u001b[36mMinus\u001b[39m\n",
       "defined \u001b[32mclass\u001b[39m \u001b[36mMult\u001b[39m\n",
       "defined \u001b[32mclass\u001b[39m \u001b[36mDiv\u001b[39m\n",
       "defined \u001b[32mclass\u001b[39m \u001b[36mLog\u001b[39m\n",
       "defined \u001b[32mclass\u001b[39m \u001b[36mExp\u001b[39m\n",
       "defined \u001b[32mclass\u001b[39m \u001b[36mSine\u001b[39m\n",
       "defined \u001b[32mclass\u001b[39m \u001b[36mCosine\u001b[39m"
      ]
     },
     "execution_count": 10,
     "metadata": {},
     "output_type": "execute_result"
    }
   ],
   "source": [
    "sealed trait Expr\n",
    "case class Const(f: Double) extends Expr \n",
    "// 1. We cheated a bit and allowed all floating point numbers\n",
    "// Also, this deviates from the grammar\n",
    "case class Ident(s: String) extends Expr\n",
    "// 2. We allow any string to be an identifier for now instead of the regular expression shown in the grammar.\n",
    "case class Plus( e1: Expr, e2: Expr ) extends Expr // e1 + e2\n",
    "case class Minus(e1: Expr, e2: Expr) extends Expr // e1 - e2\n",
    "case class Mult(e1: Expr, e2: Expr) extends Expr // e1 * e2\n",
    "case class Div(e1: Expr, e2: Expr) extends Expr // e1 / e2\n",
    "case class Log(e: Expr) extends Expr\n",
    "case class Exp(e: Expr) extends Expr\n",
    "case class Sine(e: Expr) extends Expr\n",
    "case class Cosine(e: Expr) extends Expr"
   ]
  },
  {
   "cell_type": "code",
   "execution_count": 11,
   "metadata": {},
   "outputs": [
    {
     "data": {
      "text/plain": [
       "\u001b[36me1\u001b[39m: \u001b[32mDiv\u001b[39m = Div(Plus(Ident(x),Ident(y)),Ident(z))"
      ]
     },
     "execution_count": 11,
     "metadata": {},
     "output_type": "execute_result"
    }
   ],
   "source": [
    "val e1 = Div(Plus(Ident(\"x\"), Ident(\"y\")), Ident(\"z\"))"
   ]
  },
  {
   "cell_type": "code",
   "execution_count": 13,
   "metadata": {},
   "outputs": [
    {
     "data": {
      "text/plain": [
       "defined \u001b[32mfunction\u001b[39m \u001b[36mcollectAllVars\u001b[39m"
      ]
     },
     "execution_count": 13,
     "metadata": {},
     "output_type": "execute_result"
    }
   ],
   "source": [
    "def collectAllVars(e: Expr): Set[String] = e match {\n",
    "    case Const(f) => Set()\n",
    "    case Ident(id) => Set(id)\n",
    "    case Plus(e1, e2)  => {\n",
    "        (collectAllVars(e1)) union (collectAllVars(e2))\n",
    "    }\n",
    "    \n",
    "    case Minus(e1, e2) => {\n",
    "        (collectAllVars(e1)) union (collectAllVars(e2))\n",
    "    }\n",
    "    \n",
    "    case Mult(e1, e2) => {\n",
    "        (collectAllVars(e1)) union (collectAllVars (e2))\n",
    "    }\n",
    "    \n",
    "    case Div(e1, e2) => {\n",
    "        (collectAllVars (e1)) union (collectAllVars (e2))\n",
    "    }\n",
    "    \n",
    "    case Log(e) => { collectAllVars(e) }\n",
    "    \n",
    "    case Exp(e) => { collectAllVars(e) }\n",
    "    case Sine(e) => { collectAllVars(e) }\n",
    "    case Cosine(e) => { collectAllVars(e) }\n",
    "}"
   ]
  },
  {
   "cell_type": "code",
   "execution_count": 14,
   "metadata": {},
   "outputs": [
    {
     "data": {
      "text/plain": [
       "\u001b[36mres13\u001b[39m: \u001b[32mSet\u001b[39m[\u001b[32mString\u001b[39m] = \u001b[33mSet\u001b[39m(\u001b[32m\"x\"\u001b[39m, \u001b[32m\"y\"\u001b[39m, \u001b[32m\"z\"\u001b[39m)"
      ]
     },
     "execution_count": 14,
     "metadata": {},
     "output_type": "execute_result"
    }
   ],
   "source": [
    "collectAllVars(e1)"
   ]
  },
  {
   "cell_type": "code",
   "execution_count": 15,
   "metadata": {},
   "outputs": [
    {
     "data": {
      "text/plain": [
       "defined \u001b[32mfunction\u001b[39m \u001b[36mprettyPrint\u001b[39m"
      ]
     },
     "execution_count": 15,
     "metadata": {},
     "output_type": "execute_result"
    }
   ],
   "source": [
    "def prettyPrint(e: Expr): String = e match {\n",
    "    case Const(f) => s\"$f\"\n",
    "    case Ident(id) => id\n",
    "    case Plus(e1, e2)  => {\n",
    "        \"(\"+prettyPrint(e1)+\" + \"+prettyPrint(e2)+\")\"\n",
    "    }\n",
    "    \n",
    "    case Minus(e1, e2) => {\n",
    "       \"(\"+prettyPrint(e1)+\" - \"+prettyPrint(e2)+\")\"\n",
    "    }\n",
    "    \n",
    "    case Mult(e1, e2) => {\n",
    "        \"(\"+prettyPrint(e1)+\" * \"+prettyPrint(e2)+\")\"\n",
    "    }\n",
    "    \n",
    "    case Div(e1, e2) => {\n",
    "        \"(\"+prettyPrint(e1)+\" / \"+prettyPrint(e2)+\")\"\n",
    "    }\n",
    "    \n",
    "    case Log(e) => { \"log(\"+prettyPrint(e)+\")\"}\n",
    "    \n",
    "    case Exp(e) => { \"e^(\"+prettyPrint(e)+\")\" }\n",
    "    case Sine(e) => {  \"sin(\"+prettyPrint(e)+\")\"}\n",
    "    case Cosine(e) => { \"cos(\"+prettyPrint(e)+\")\"}\n",
    "    \n",
    "}"
   ]
  },
  {
   "cell_type": "code",
   "execution_count": 16,
   "metadata": {},
   "outputs": [
    {
     "data": {
      "text/plain": [
       "\u001b[36mres15\u001b[39m: \u001b[32mString\u001b[39m = \u001b[32m\"((x + y) / z)\"\u001b[39m"
      ]
     },
     "execution_count": 16,
     "metadata": {},
     "output_type": "execute_result"
    }
   ],
   "source": [
    "prettyPrint(e1)"
   ]
  },
  {
   "cell_type": "code",
   "execution_count": 17,
   "metadata": {},
   "outputs": [
    {
     "data": {
      "text/plain": [
       "\u001b[36mmyEnvironment\u001b[39m: \u001b[32mMap\u001b[39m[\u001b[32mString\u001b[39m, \u001b[32mDouble\u001b[39m] = \u001b[33mMap\u001b[39m(\u001b[32m\"x\"\u001b[39m -> \u001b[32m2.0\u001b[39m, \u001b[32m\"y\"\u001b[39m -> \u001b[32m1.5\u001b[39m, \u001b[32m\"z\"\u001b[39m -> \u001b[32m2.8\u001b[39m)"
      ]
     },
     "execution_count": 17,
     "metadata": {},
     "output_type": "execute_result"
    }
   ],
   "source": [
    "val myEnvironment: Map[String, Double] = Map(\"x\" -> 2.0, \"y\" -> 1.5, \"z\" -> 2.8)"
   ]
  },
  {
   "cell_type": "code",
   "execution_count": 18,
   "metadata": {},
   "outputs": [
    {
     "data": {
      "text/plain": [
       "defined \u001b[32mfunction\u001b[39m \u001b[36mevalExpr\u001b[39m"
      ]
     },
     "execution_count": 18,
     "metadata": {},
     "output_type": "execute_result"
    }
   ],
   "source": [
    "def evalExpr(e: Expr, env: Map[String, Double]): Double = e match {\n",
    "    case Const(f) => f\n",
    "    case Ident(s) => {\n",
    "        if (env.contains(s)) { \n",
    "            return env(s)\n",
    "        } else {\n",
    "            throw new IllegalArgumentException(s\"Define $s please.\")\n",
    "        }\n",
    "    }\n",
    "    \n",
    "    case Plus(e1, e2) => {\n",
    "        val c1 = evalExpr(e1, env)\n",
    "        val c2 = evalExpr(e2, env)\n",
    "        c1 + c2\n",
    "    }\n",
    "    case Minus(e1, e2) => {\n",
    "        val c1 = evalExpr(e1, env)\n",
    "        val c2 = evalExpr(e2, env)\n",
    "        c1 - c2\n",
    "    }\n",
    "    case Mult(e1, e2) => {\n",
    "        val c1 = evalExpr(e1, env)\n",
    "        val c2 = evalExpr(e2, env)\n",
    "        c1 * c2\n",
    "    }\n",
    "    \n",
    "    case Div(e1, e2) => {\n",
    "        val c1 = evalExpr(e1, env)\n",
    "        val c2 = evalExpr(e2, env)\n",
    "        if (c2 != 0.0) {\n",
    "            c1 / c2\n",
    "        } else {\n",
    "           throw new IllegalArgumentException(\"Division by zero happened\") \n",
    "        }\n",
    "    }\n",
    "    \n",
    "    case Log(e)=> {\n",
    "        val c = evalExpr(e, env)\n",
    "        if (c > 0.0) {\n",
    "            math.log(c)\n",
    "        } else {\n",
    "            throw new IllegalArgumentException(\"Log of a negative number happened\")\n",
    "        }\n",
    "    }\n",
    "    \n",
    "    case Exp(e) => {\n",
    "        val c = evalExpr(e, env)\n",
    "        math.exp(c) \n",
    "        \n",
    "    }\n",
    "    \n",
    "    case Sine(e) => {\n",
    "        val c = evalExpr(e, env)\n",
    "        math.sin(c) \n",
    "        \n",
    "    }\n",
    "    \n",
    "    case Cosine(e) => {\n",
    "        val c = evalExpr(e, env)\n",
    "        math.cos(c) \n",
    "    }\n",
    "}"
   ]
  },
  {
   "cell_type": "code",
   "execution_count": 19,
   "metadata": {},
   "outputs": [
    {
     "data": {
      "text/plain": [
       "\u001b[36mj1\u001b[39m: \u001b[32mDouble\u001b[39m = \u001b[32m1.25\u001b[39m"
      ]
     },
     "execution_count": 19,
     "metadata": {},
     "output_type": "execute_result"
    }
   ],
   "source": [
    "val j1 = evalExpr(e1, myEnvironment)"
   ]
  },
  {
   "cell_type": "code",
   "execution_count": null,
   "metadata": {},
   "outputs": [],
   "source": []
  }
 ],
 "metadata": {
  "kernelspec": {
   "display_name": "Scala",
   "language": "scala",
   "name": "scala"
  },
  "language_info": {
   "codemirror_mode": "text/x-scala",
   "file_extension": ".scala",
   "mimetype": "text/x-scala",
   "name": "scala211",
   "nbconvert_exporter": "script",
   "pygments_lexer": "scala",
   "version": "2.11.11"
  }
 },
 "nbformat": 4,
 "nbformat_minor": 2
}
