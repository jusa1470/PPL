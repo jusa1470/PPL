{
 "cells": [
  {
   "cell_type": "markdown",
   "metadata": {
    "deletable": false,
    "editable": false,
    "nbgrader": {
     "checksum": "ab627712e1367302c90741029d2963fb",
     "grade": false,
     "grade_id": "cell-224ca5a0097f63b5",
     "locked": true,
     "schema_version": 1,
     "solution": false
    }
   },
   "source": [
    "# CSCI 3155: Assignment 3 \n",
    "\n",
    "Topics covered: ASTs, pattern matching, higher order functions."
   ]
  },
  {
   "cell_type": "markdown",
   "metadata": {},
   "source": [
    "__Name__: Julia Sanford"
   ]
  },
  {
   "cell_type": "markdown",
   "metadata": {
    "deletable": false,
    "editable": false,
    "nbgrader": {
     "checksum": "26ace7386cc85ea26d596eaae182efc4",
     "grade": false,
     "grade_id": "cell-a3d45980c5a3961a",
     "locked": true,
     "schema_version": 1,
     "solution": false
    }
   },
   "source": [
    "## Problem 1 (15 points)\n",
    "\n",
    "Develop a switch statement for the `mython` (var) language developed in class. \n",
    "The syntax for the to be added switch statement is given in terms of additional rules that\n",
    "add to the existing definitions in the class notes.\n",
    "\n",
    "$$\\begin{array}{rcl}\n",
    "\\mathbf{Statement} & \\rightarrow & \\text{Switch}(\\mathbf{Expr},  \\mathbf{Case}* ) \\\\[5pt]\n",
    "\\mathbf{Case} & \\rightarrow & \\text{SwitchCase}(\\mathbf{Expr}, \\mathbf{Statement}* ) \\\\[5pt]\n",
    "& | & \\text{DefaultCase}(\\mathbf{Statement}*) \\\\\n",
    "\\end{array}$$\n",
    "\n",
    "The existing scala language definitions for `mython` are recalled for below from the class notes.\n",
    "\n",
    "\n",
    "Augment the definitions by adding the extra definitions to support switch statements. Please use\n",
    "the same constructor names as in the grammar: `Switch` for the switch statement and \n",
    "`SwitchCase` and `DefaultCase` for the two rules corresponding to the __Case__ specifications.\n",
    "\n",
    "For your convenience, the definitions used in the class are given. Add your solution at the end.\n"
   ]
  },
  {
   "cell_type": "code",
   "execution_count": 1,
   "metadata": {
    "deletable": false,
    "nbgrader": {
     "checksum": "35baabf92d3f5edf2b3565a2d45dcb73",
     "grade": false,
     "grade_id": "cell-a3a78387d2a93841",
     "locked": false,
     "schema_version": 1,
     "solution": true
    }
   },
   "outputs": [
    {
     "data": {
      "text/plain": [
       "defined \u001b[32mtrait\u001b[39m \u001b[36mExpr\u001b[39m\n",
       "defined \u001b[32mclass\u001b[39m \u001b[36mConst\u001b[39m\n",
       "defined \u001b[32mclass\u001b[39m \u001b[36mIdent\u001b[39m\n",
       "defined \u001b[32mclass\u001b[39m \u001b[36mPlus\u001b[39m\n",
       "defined \u001b[32mclass\u001b[39m \u001b[36mMinus\u001b[39m\n",
       "defined \u001b[32mclass\u001b[39m \u001b[36mMult\u001b[39m\n",
       "defined \u001b[32mclass\u001b[39m \u001b[36mDiv\u001b[39m\n",
       "defined \u001b[32mclass\u001b[39m \u001b[36mNegate\u001b[39m\n",
       "defined \u001b[32mclass\u001b[39m \u001b[36mLog\u001b[39m\n",
       "defined \u001b[32mclass\u001b[39m \u001b[36mExp\u001b[39m\n",
       "defined \u001b[32mclass\u001b[39m \u001b[36mSine\u001b[39m\n",
       "defined \u001b[32mclass\u001b[39m \u001b[36mCosine\u001b[39m\n",
       "defined \u001b[32mtrait\u001b[39m \u001b[36mCondExpr\u001b[39m\n",
       "defined \u001b[32mobject\u001b[39m \u001b[36mConstTrue\u001b[39m\n",
       "defined \u001b[32mobject\u001b[39m \u001b[36mConstFalse\u001b[39m\n",
       "defined \u001b[32mclass\u001b[39m \u001b[36mGeq\u001b[39m\n",
       "defined \u001b[32mclass\u001b[39m \u001b[36mLeq\u001b[39m\n",
       "defined \u001b[32mclass\u001b[39m \u001b[36mEq\u001b[39m\n",
       "defined \u001b[32mclass\u001b[39m \u001b[36mAnd\u001b[39m\n",
       "defined \u001b[32mclass\u001b[39m \u001b[36mOr\u001b[39m\n",
       "defined \u001b[32mclass\u001b[39m \u001b[36mNot\u001b[39m\n",
       "defined \u001b[32mtrait\u001b[39m \u001b[36mDeclaration\u001b[39m\n",
       "defined \u001b[32mtrait\u001b[39m \u001b[36mStatement\u001b[39m\n",
       "defined \u001b[32mtrait\u001b[39m \u001b[36mMythonProgram\u001b[39m\n",
       "defined \u001b[32mclass\u001b[39m \u001b[36mProgram\u001b[39m\n",
       "defined \u001b[32mclass\u001b[39m \u001b[36mVarDecl\u001b[39m\n",
       "defined \u001b[32mclass\u001b[39m \u001b[36mAssignStmt\u001b[39m\n",
       "defined \u001b[32mclass\u001b[39m \u001b[36mWhileStmt\u001b[39m\n",
       "defined \u001b[32mclass\u001b[39m \u001b[36mIfThenElseStmt\u001b[39m\n",
       "defined \u001b[32mclass\u001b[39m \u001b[36mReturnStmt\u001b[39m\n",
       "defined \u001b[32mtrait\u001b[39m \u001b[36mCase\u001b[39m\n",
       "defined \u001b[32mclass\u001b[39m \u001b[36mSwitch\u001b[39m\n",
       "defined \u001b[32mclass\u001b[39m \u001b[36mSwitchCase\u001b[39m\n",
       "defined \u001b[32mclass\u001b[39m \u001b[36mDefaultCase\u001b[39m"
      ]
     },
     "execution_count": 1,
     "metadata": {},
     "output_type": "execute_result"
    }
   ],
   "source": [
    "sealed trait Expr\n",
    "case class Const(d: Double) extends Expr \n",
    "// 1. We cheated a bit and allowed all floating point numbers\n",
    "// Also, this deviates from the grammar\n",
    "case class Ident(s: String) extends Expr\n",
    "// 2. We allow any string to be an identifier for now instead of the regular expression shown in the grammar.\n",
    "case class Plus(e1: Expr, e2: Expr ) extends Expr\n",
    "case class Minus(e1: Expr, e2: Expr) extends Expr\n",
    "case class Mult(e1: Expr, e2: Expr) extends Expr\n",
    "case class Div(e1: Expr, e2: Expr) extends Expr\n",
    "case class Negate(e: Expr) extends Expr\n",
    "case class Log(e: Expr) extends Expr\n",
    "case class Exp(e: Expr) extends Expr\n",
    "case class Sine(e: Expr) extends Expr\n",
    "case class Cosine(e: Expr) extends Expr\n",
    "\n",
    "sealed trait CondExpr\n",
    "case object ConstTrue extends CondExpr\n",
    "case object ConstFalse extends CondExpr\n",
    "case class Geq(e1: Expr, e2: Expr) extends CondExpr\n",
    "case class Leq(e1: Expr, e2: Expr) extends CondExpr\n",
    "case class Eq(e1: Expr, e2: Expr) extends CondExpr\n",
    "case class And(c1: CondExpr, c2: CondExpr) extends CondExpr\n",
    "case class Or(c1: CondExpr, c2: CondExpr) extends CondExpr\n",
    "case class Not(c: CondExpr) extends CondExpr\n",
    "\n",
    "sealed trait Declaration\n",
    "sealed trait Statement\n",
    "sealed trait MythonProgram\n",
    "\n",
    "case class Program(decls: List[Declaration], stmts: List[Statement], returnAtEnd: Expr) extends MythonProgram // We stripped the ReturnStmt tag since it is redundant\n",
    "case class VarDecl(identifier: String, rhsExpr: Expr) extends Declaration\n",
    "case class AssignStmt(identifier: String, rhsExpr: Expr) extends Statement\n",
    "case class WhileStmt(cond: CondExpr, stmts: List[Statement]) extends Statement\n",
    "case class IfThenElseStmt(cond: CondExpr, stmtsThen: List[Statement], stmtsElse: List[Statement]) extends Statement\n",
    "case class ReturnStmt(retExpr: Expr) extends Statement\n",
    "\n",
    "// YOUR CODE HERE\n",
    "sealed trait Case\n",
    "case class Switch(e: Expr, cases: List[Case]) extends Statement\n",
    "case class SwitchCase(e: Expr, stmts: List[Statement]) extends Case\n",
    "case class DefaultCase(stmts: List[Statement]) extends Case"
   ]
  },
  {
   "cell_type": "code",
   "execution_count": 1,
   "metadata": {
    "deletable": false,
    "editable": false,
    "nbgrader": {
     "checksum": "b238b16c3192dce5e1004d7c6835f157",
     "grade": true,
     "grade_id": "cell-b4433298fac96b06",
     "locked": true,
     "points": 5,
     "schema_version": 1,
     "solution": false
    }
   },
   "outputs": [],
   "source": [
    "// WARNING: Tests are hidden because they directly give away the\n",
    "//   answer. Feel free to come into office hours to ask whether\n",
    "//   you're on the right track.\n",
    "// The tests will create an AST with a SwitchCase."
   ]
  },
  {
   "cell_type": "code",
   "execution_count": 1,
   "metadata": {
    "deletable": false,
    "editable": false,
    "nbgrader": {
     "checksum": "50d3659fb871d0dbf2fc9ed6b67fc7b0",
     "grade": true,
     "grade_id": "cell-590403a05cbd399c",
     "locked": true,
     "points": 5,
     "schema_version": 1,
     "solution": false
    }
   },
   "outputs": [],
   "source": [
    "// More hidden tests for DefaultCase"
   ]
  },
  {
   "cell_type": "code",
   "execution_count": 1,
   "metadata": {
    "deletable": false,
    "editable": false,
    "nbgrader": {
     "checksum": "8277cb6fe7d1e55b71edfc6eb93e5b1e",
     "grade": true,
     "grade_id": "cell-73f9de24de44bb2f",
     "locked": true,
     "points": 5,
     "schema_version": 1,
     "solution": false
    }
   },
   "outputs": [],
   "source": [
    "// More hidden tests for Switch"
   ]
  },
  {
   "cell_type": "markdown",
   "metadata": {
    "deletable": false,
    "editable": false,
    "nbgrader": {
     "checksum": "ab035bd7e4e05ac892118672e45c155f",
     "grade": false,
     "grade_id": "cell-55543ed7e443b655",
     "locked": true,
     "schema_version": 1,
     "solution": false
    }
   },
   "source": [
    "## Problem 2 (15 Points)\n",
    "\n",
    "Add list manipulation expressions to the allowed expressions in the `mython` language. \n",
    "\n",
    "We allow list expressions (use a new non terminal called __ListExpr__) that can do the following:\n",
    "- the empty list: use constructor symbol `EmptyList`\n",
    "- explicitly create a list of arithmetic expressions: use constructor symbol `NewList`\n",
    "- Cons an arithmetic expression to the front of a list: use constructor symbol `Cons`\n",
    "- Concatenate two lists defined by list expressions: use constructor symbol `Concat`\n",
    "\n",
    "Next, we add to conditional expressions the following:\n",
    "- A condition expression to check if a list is empty:  Use constructor `IsEmptyList`\n",
    "\n",
    "Finally, we add a special foreach loop statement over the elements of a list.\n",
    "\n",
    "`foreach (x in list_expr) begin  .. list of statements...  end `\n",
    "\n",
    "- Add a statement to loop over the elements of a list: use constructor`ForEach`\n",
    "\n",
    "Write down the extra grammar rules that you would add to the overall \n",
    "`mython` grammar to create these functionalities."
   ]
  },
  {
   "cell_type": "markdown",
   "metadata": {
    "deletable": false,
    "nbgrader": {
     "checksum": "10c1c3648bc72d60b80f2cb28419e223",
     "grade": true,
     "grade_id": "cell-76cfd1d2c6a5898d",
     "locked": false,
     "points": 15,
     "schema_version": 1,
     "solution": true
    }
   },
   "source": [
    "$$\n",
    "\\begin{array}{rcl}\n",
    "    \\textbf{ListExpr} & \\rightarrow & EmptyList \\\\\n",
    "                      &           | & NewList(\\textbf{Expr*}) \\\\\n",
    "                      &           | & Cons(\\textbf{Expr}, \\textbf{ListExpr}) \\\\\n",
    "                      &           | & Concat(\\textbf{ListExpr}, \\textbf{ListExpr}) \\\\\n",
    "    \\textbf{CondExp}  & \\rightarrow & IsEmptyList(\\textbf{ListExpr}) \\\\\n",
    "                      &           | & ForEach(\\textbf{ListExpr}, \\textbf{Statement*}) \\\\\n",
    "\\end{array}\n",
    "$$"
   ]
  },
  {
   "cell_type": "markdown",
   "metadata": {
    "deletable": false,
    "editable": false,
    "nbgrader": {
     "checksum": "f43a462fe2ad182113463a17b7bea4b3",
     "grade": false,
     "grade_id": "cell-33da7cb13bb6465f",
     "locked": true,
     "schema_version": 1,
     "solution": false
    }
   },
   "source": [
    "## Problem 3 (20 points)\n",
    "\n",
    "__(A, 5 points)__ We defined lists in the class. Write a recursive procedure to get the nth element of the list or throw an `IllegalArgumentException` if $n < 0$ or $n >= length of list $. Assume $n=0$ obtains the very first element\n",
    "and $n = length of list -1$ yields very last element. \n",
    "\n",
    "\n",
    "\n"
   ]
  },
  {
   "cell_type": "code",
   "execution_count": 2,
   "metadata": {
    "deletable": false,
    "nbgrader": {
     "checksum": "f2754a20b9fac98c0caa07981ed4ceee",
     "grade": false,
     "grade_id": "cell-724b4ca89445ceaf",
     "locked": false,
     "schema_version": 1,
     "solution": true
    }
   },
   "outputs": [
    {
     "data": {
      "text/plain": [
       "defined \u001b[32mtrait\u001b[39m \u001b[36mNumList\u001b[39m\n",
       "defined \u001b[32mobject\u001b[39m \u001b[36mNil\u001b[39m\n",
       "defined \u001b[32mclass\u001b[39m \u001b[36mCons\u001b[39m\n",
       "defined \u001b[32mfunction\u001b[39m \u001b[36mlistLength\u001b[39m\n",
       "defined \u001b[32mfunction\u001b[39m \u001b[36mgetNthElement\u001b[39m"
      ]
     },
     "execution_count": 2,
     "metadata": {},
     "output_type": "execute_result"
    }
   ],
   "source": [
    "sealed trait NumList\n",
    "case object Nil extends NumList\n",
    "case class Cons(n: Int, l: NumList) extends NumList \n",
    "\n",
    "def listLength(lst: NumList): Int = { \n",
    "    lst match { // pattern match the lst\n",
    "        case Nil => 0\n",
    "        case Cons(_, tl) => 1 + listLength(tl) // _ here is to tell scala that I do not care what is the element.\n",
    "    }\n",
    "}\n",
    "\n",
    "def getNthElement(lst: NumList, n: Int): Int = {\n",
    "    // YOUR CODE HERE\n",
    "    val l = listLength(lst)\n",
    "    lst match {\n",
    "        case _ if(n < 0 || n >= l) => throw new IllegalArgumentException(\"n is negative\")\n",
    "        case Cons(_, rest) if (n != 0) => getNthElement(rest, n-1)\n",
    "        case Cons(ret, rest) if (n == 0) => ret\n",
    "    }\n",
    "}"
   ]
  },
  {
   "cell_type": "code",
   "execution_count": 3,
   "metadata": {
    "deletable": false,
    "editable": false,
    "nbgrader": {
     "checksum": "e9f22f2ca6fa4c6603e35af2e586e817",
     "grade": true,
     "grade_id": "cell-2bc6d5ee94793b48",
     "locked": true,
     "points": 5,
     "schema_version": 1,
     "solution": false
    }
   },
   "outputs": [
    {
     "data": {
      "text/plain": [
       "\u001b[36ml1\u001b[39m: \u001b[32mNil\u001b[39m.type = Nil\n",
       "\u001b[36ml2\u001b[39m: \u001b[32mCons\u001b[39m = Cons(1,Cons(-1,Nil))\n",
       "\u001b[36ml3\u001b[39m: \u001b[32mCons\u001b[39m = Cons(1,Cons(2,Cons(1,Cons(-1,Nil))))\n",
       "\u001b[36ml4\u001b[39m: \u001b[32mCons\u001b[39m = Cons(0,Cons(4,Cons(8,Cons(1,Cons(2,Cons(1,Cons(-1,Nil)))))))\n",
       "\u001b[36mtest1\u001b[39m: \u001b[32mAny\u001b[39m = OK\n",
       "\u001b[36mtest2\u001b[39m: \u001b[32mAny\u001b[39m = OK"
      ]
     },
     "execution_count": 3,
     "metadata": {},
     "output_type": "execute_result"
    }
   ],
   "source": [
    "// BEGIN TESTS\n",
    "val l1 = Nil\n",
    "val l2 = Cons(1, Cons(-1, Nil))\n",
    "val l3 = Cons(1, Cons(2, l2))\n",
    "val l4 = Cons(0, Cons(4, Cons(8, l3)))\n",
    "\n",
    "val test1 = try {\n",
    "    getNthElement(Nil, 3);\n",
    "    assert(false, \"Test 1 : getNthElement(Nil, 3) should raise an IllegalArgumentException. Your code did not.\")\n",
    "} catch {\n",
    "    case e: IllegalArgumentException => \"OK\"\n",
    "} \n",
    "\n",
    "assert(getNthElement(l2, 0) == 1, \"Test2: getNthElement(l2, 0)  failed (expected answer = 1)\")\n",
    "assert(getNthElement(l3, 3) == -1, \"Test3: getNthElement(l3, 3)  failed (expected answer = -1)\")\n",
    "assert(getNthElement(l4, 2) == 8, \"Test4: getNthElement(l4, 2)  failed (expected answer = 8)\")\n",
    "\n",
    "val test2 = try {\n",
    "    getNthElement(l4, 8);\n",
    "    assert(false, \"Test 5 : getNthElement(l4, 8) should raise an IllegalArgumentException. Your code did not.\")\n",
    "} catch {\n",
    "    case e: IllegalArgumentException => \"OK\"\n",
    "} \n",
    "\n",
    "// END TESTS"
   ]
  },
  {
   "cell_type": "markdown",
   "metadata": {
    "deletable": false,
    "editable": false,
    "nbgrader": {
     "checksum": "64db52dfd03c397fd9fc1106f1815654",
     "grade": false,
     "grade_id": "cell-f33dba0762a43adc",
     "locked": true,
     "schema_version": 1,
     "solution": false
    }
   },
   "source": [
    "__(B, 7 points)__ Write a recursive procedure that returns true if the list has the Fibonacci property. I.e, every element\n",
    "at position $i \\geq 2$ is the sum of the two preceding elements. Note that the property is trivially true for lists of sizes $0$ and $1$."
   ]
  },
  {
   "cell_type": "code",
   "execution_count": 4,
   "metadata": {
    "deletable": false,
    "nbgrader": {
     "checksum": "5c56fada9b3460964d0236f3c3113433",
     "grade": false,
     "grade_id": "cell-eedd55e1f86bd6c6",
     "locked": false,
     "schema_version": 1,
     "solution": true
    }
   },
   "outputs": [
    {
     "data": {
      "text/plain": [
       "defined \u001b[32mfunction\u001b[39m \u001b[36misFibonacciList\u001b[39m"
      ]
     },
     "execution_count": 4,
     "metadata": {},
     "output_type": "execute_result"
    }
   ],
   "source": [
    "def isFibonacciList(lst: NumList): Boolean = {\n",
    "    // YOUR CODE HERE\n",
    "    val l = listLength(lst)\n",
    "    lst match {\n",
    "        case _ if(l <= 2) => true\n",
    "        case Cons(one, Cons(two, Cons(three, rest))) if(one + two == three) => {\n",
    "            isFibonacciList(Cons(two, Cons(three, rest)))\n",
    "        }\n",
    "        case Cons(one, Cons(two, Cons(three, rest))) if(one + two != three) => {false}\n",
    "    }\n",
    "}"
   ]
  },
  {
   "cell_type": "code",
   "execution_count": 5,
   "metadata": {
    "deletable": false,
    "editable": false,
    "nbgrader": {
     "checksum": "96e72ee9b90222133d93114da5cd11bf",
     "grade": true,
     "grade_id": "cell-33a4f21c01f0c7c4",
     "locked": true,
     "points": 7,
     "schema_version": 1,
     "solution": false
    }
   },
   "outputs": [
    {
     "data": {
      "text/plain": [
       "\u001b[36ml1\u001b[39m: \u001b[32mCons\u001b[39m = Cons(12,Cons(25,Cons(37,Nil)))\n",
       "\u001b[36ml2\u001b[39m: \u001b[32mCons\u001b[39m = Cons(14,Cons(-1,Cons(13,Cons(12,Cons(25,Cons(37,Nil))))))\n",
       "\u001b[36ml3\u001b[39m: \u001b[32mCons\u001b[39m = Cons(7,Cons(7,Cons(14,Cons(-1,Cons(13,Cons(12,Cons(25,Cons(37,Nil))))))))\n",
       "\u001b[36ml4\u001b[39m: \u001b[32mCons\u001b[39m = Cons(0,Cons(0,Cons(0,Cons(0,Cons(0,Cons(0,Nil))))))"
      ]
     },
     "execution_count": 5,
     "metadata": {},
     "output_type": "execute_result"
    }
   ],
   "source": [
    "// BEGIN TESTS\n",
    "val l1 = Cons(12, Cons(25, Cons(37, Nil)))\n",
    "assert(isFibonacciList(l1), \n",
    "       \"Test case 1 :  isFibonacciList(l1) -- should return true\")\n",
    "\n",
    "val l2 = Cons(14, Cons(-1, Cons(13, l1 )))\n",
    "assert(isFibonacciList(l2), \n",
    "       \"Test case 2 :  isFibonacciList(l2) -- should return true\")\n",
    "\n",
    "val l3 = Cons(7, Cons(7, l2))\n",
    "\n",
    "assert(!isFibonacciList(l3), \n",
    "       \"Test case 3 :  isFibonacciList(l3) -- should return false\")\n",
    "\n",
    "val l4 = Cons(0, Cons(0, Cons(0, Cons(0, Cons(0, Cons(0, Nil))))))\n",
    "assert(isFibonacciList(l2), \n",
    "       \"Test case 4:  isFibonacciList(l4) -- should return true\")\n",
    "\n",
    "// END TESTS"
   ]
  },
  {
   "cell_type": "markdown",
   "metadata": {
    "deletable": false,
    "editable": false,
    "nbgrader": {
     "checksum": "192bb8d21113ef8006ea717e4dcc2ee3",
     "grade": false,
     "grade_id": "cell-d4f6c640c40f9924",
     "locked": true,
     "schema_version": 1,
     "solution": false
    }
   },
   "source": [
    "__(C, 8 points)__ Write a recursive function `filterNumList(l: NumList, f: Int => Boolean): NumList` that takes in a `NumList` and a function `f: Int => Boolean`. \n",
    "\n",
    "1. It should return a new list that consist of all elements of the list `l` that return `true` when the function `f` is called on them.\n",
    "2. The returned list elements must preserve the same order as in the original list.\n",
    "\n",
    "\n"
   ]
  },
  {
   "cell_type": "code",
   "execution_count": 21,
   "metadata": {
    "deletable": false,
    "nbgrader": {
     "checksum": "5da2d93bb68bbf460bf404ffbfd66253",
     "grade": false,
     "grade_id": "cell-0f9f5a51ae34b3bb",
     "locked": false,
     "schema_version": 1,
     "solution": true
    }
   },
   "outputs": [
    {
     "data": {
      "text/plain": [
       "defined \u001b[32mfunction\u001b[39m \u001b[36mfilterNumList\u001b[39m"
      ]
     },
     "execution_count": 21,
     "metadata": {},
     "output_type": "execute_result"
    }
   ],
   "source": [
    "// YOUR CODE HERE\n",
    "def filterNumList(l: NumList, f: Int => Boolean): NumList = {\n",
    "    l match {\n",
    "        case Nil => Nil\n",
    "        case Cons(first, rest) => {\n",
    "            if (f(first)){\n",
    "                Cons(first, filterNumList(rest, f))\n",
    "            }\n",
    "            else {\n",
    "                filterNumList(rest, f)\n",
    "            }\n",
    "        }\n",
    "        \n",
    "    }\n",
    "}"
   ]
  },
  {
   "cell_type": "code",
   "execution_count": 20,
   "metadata": {
    "deletable": false,
    "editable": false,
    "nbgrader": {
     "checksum": "6ea33d8eed5532c356000cfed3424baa",
     "grade": true,
     "grade_id": "cell-a2549ef77f3f9bb0",
     "locked": true,
     "points": 8,
     "schema_version": 1,
     "solution": false
    }
   },
   "outputs": [
    {
     "data": {
      "text/plain": [
       "\u001b[36ml1\u001b[39m: \u001b[32mCons\u001b[39m = Cons(12,Cons(25,Cons(37,Nil)))\n",
       "defined \u001b[32mfunction\u001b[39m \u001b[36mf1\u001b[39m\n",
       "\u001b[36ml2\u001b[39m: \u001b[32mCons\u001b[39m = Cons(22,Cons(135,Cons(137,Cons(12,Cons(25,Cons(37,Nil))))))\n",
       "defined \u001b[32mfunction\u001b[39m \u001b[36mf2\u001b[39m\n",
       "defined \u001b[32mfunction\u001b[39m \u001b[36mf3\u001b[39m\n",
       "\u001b[36ml4\u001b[39m: \u001b[32mCons\u001b[39m = Cons(0,Cons(0,Cons(0,Cons(0,Cons(0,Cons(0,Nil))))))\n",
       "defined \u001b[32mfunction\u001b[39m \u001b[36mf4\u001b[39m"
      ]
     },
     "execution_count": 20,
     "metadata": {},
     "output_type": "execute_result"
    }
   ],
   "source": [
    "// BEGIN TESTS\n",
    "val l1 = Cons(12, Cons(25, Cons(37, Nil)))\n",
    "def f1(j: Int): Boolean =  j <= 25 && j >= 12\n",
    "assert(filterNumList(l1, f1) == Cons(12, Cons(25, Nil)), \"Test 1 failed.\")\n",
    "\n",
    "\n",
    "val l2 = Cons(22, Cons(135, Cons(137, l1)))\n",
    "def f2(j: Int): Boolean =  j % 5 == 0\n",
    "assert(filterNumList(l2, f2) == Cons(135, Cons(25, Nil)), \"Test 2 failed.\")\n",
    "\n",
    "def f3(j: Int): Boolean =  j >= 210\n",
    "assert(filterNumList(l2, f3) == Nil, \"Test 3 failed.\")\n",
    "assert(filterNumList(Nil, f3) == Nil, \"Test 4 failed.\")\n",
    "\n",
    "val l4 = Cons(0, Cons(0, Cons(0, Cons(0, Cons(0, Cons(0, Nil))))))\n",
    "\n",
    "def f4(j: Int): Boolean =  j <= 0\n",
    "assert(filterNumList(l4, f4) == l4, \"Test 5 failed\")\n",
    "\n",
    "// END TESTS"
   ]
  }
 ],
 "metadata": {
  "kernelspec": {
   "display_name": "Scala",
   "language": "scala",
   "name": "scala"
  },
  "language_info": {
   "codemirror_mode": "text/x-scala",
   "file_extension": ".scala",
   "mimetype": "text/x-scala",
   "name": "scala211",
   "nbconvert_exporter": "script",
   "pygments_lexer": "scala",
   "version": "2.11.11"
  }
 },
 "nbformat": 4,
 "nbformat_minor": 2
}
