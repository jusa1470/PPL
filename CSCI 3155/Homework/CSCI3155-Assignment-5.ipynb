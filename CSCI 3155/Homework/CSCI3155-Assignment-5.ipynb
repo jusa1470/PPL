{
 "cells": [
  {
   "cell_type": "markdown",
   "metadata": {
    "deletable": false,
    "editable": false,
    "nbgrader": {
     "checksum": "5fdb25d188ccd1e8f4ccfe2830f7932d",
     "grade": false,
     "grade_id": "cell-fabac98c0ff7a53e",
     "locked": true,
     "schema_version": 1,
     "solution": false
    }
   },
   "source": [
    "# CSCI 3155: Assignment 5"
   ]
  },
  {
   "cell_type": "markdown",
   "metadata": {},
   "source": [
    "__Name__: Julia Sanford"
   ]
  },
  {
   "cell_type": "code",
   "execution_count": 1,
   "metadata": {
    "deletable": false,
    "editable": false,
    "nbgrader": {
     "checksum": "86ab12a38075d94208f11bfb3a5bf7f6",
     "grade": false,
     "grade_id": "cell-3b70237259bb0113",
     "locked": true,
     "schema_version": 1,
     "solution": false
    }
   },
   "outputs": [
    {
     "data": {
      "text/plain": [
       "defined \u001b[32mfunction\u001b[39m \u001b[36mpassed\u001b[39m"
      ]
     },
     "execution_count": 1,
     "metadata": {},
     "output_type": "execute_result"
    }
   ],
   "source": [
    "// TEST HELPER\n",
    "def passed(points: Int) {\n",
    "    require(points >=0)\n",
    "    if (points == 1) print(s\"Tests Passed (1 point)\")\n",
    "    else print(s\"*** Tests Passed ($points points) ***\")\n",
    "}"
   ]
  },
  {
   "cell_type": "markdown",
   "metadata": {
    "deletable": false,
    "editable": false,
    "nbgrader": {
     "checksum": "d868fdcb54f55f3b68019b420552f54d",
     "grade": false,
     "grade_id": "cell-d544bf1cecd7cb3d",
     "locked": true,
     "schema_version": 1,
     "solution": false
    }
   },
   "source": [
    "## Problem 1 (10 points): Case Statements in Lettuce.\n",
    "\n",
    "Let us take a stripped down  subset of the Lettuce language given by the grammar here but \n",
    "add a new case match statement.\n",
    "\n",
    "$$\\begin{array}{rcll}\n",
    "\\mathbf{Program} & \\rightarrow & TopLevel(\\mathbf{Expr}) \\\\[5pt]\n",
    "\\mathbf{Expr} & \\rightarrow & Ident(\\mathbf{Identifier}) \\\\\n",
    "& \\rightarrow & Const(\\mathbf{Double}) \\\\\n",
    "& \\rightarrow & True \\\\\n",
    "& \\rightarrow & False \\\\\n",
    "& \\rightarrow & Plus(\\mathbf{Expr}, \\mathbf{Expr}) \\\\\n",
    "& \\rightarrow & Geq(\\mathbf{Expr}, \\mathbf{Expr}) \\\\\n",
    "& \\rightarrow & Not(\\mathbf{Expr}) \\\\\n",
    "& \\rightarrow & IfThenElse (\\mathbf{Expr}, \\mathbf{Expr}, \\mathbf{Expr}) \\\\\n",
    "& \\rightarrow & CaseMatch(\\mathbf{Expr}, \\mathbf{Cases}*, \\mathbf{Expr}) & \\text{First argument is the caseMatch expression} \\\\\n",
    "& & & \\text{followed by zero or more cases (list) and last argument is the default} \\\\\n",
    "& \\rightarrow & Let(\\mathbf{Identifier}, \\mathbf{Expr}, \\mathbf{Expr}) \\\\[5pt]\n",
    "\\mathbf{Cases} & \\rightarrow & SingleCase( \\mathbf{Expr}, \\mathbf{Expr} ) & \\text{First argument is what we try to match on}\\\\\n",
    "&& & \\text{if the match succeeds, value equals second argument} \\\\\n",
    "\\end{array} $$\n",
    "\n",
    "The value types are\n",
    "\n",
    "- Double precision numbers in scala that are currently taken to be reals : $\\mathbb{R}$.\n",
    "- Booleans true/false: $\\mathbb{B}$.\n",
    "- Error: $\\mathbf{error}$.\n",
    "\n",
    "The semantics of `Const, True, False, Plus, Geq, And, Not, IfThenElse` and `Let` are as we\n",
    "covered in the lecture (see notebook describing Lettuce operational semantics and interpreter).\n",
    "\n",
    "We extend our semantics to `CaseMatch`. The grammar has been extended with these statements already.\n",
    "\n",
    "A `CaseMatch` statement: \n",
    "\n",
    "~~~\n",
    "caseMatch(e) {\n",
    "   case e1 => f1\n",
    "   case e2 => f2\n",
    "    ...\n",
    "   case ek => fk\n",
    "   default => f\n",
    "}\n",
    "~~~\n",
    "\n",
    "involves matching expression `e`, and cases `(e1, f1)`, ..., `(ek,fk)`, and a default `f`.\n",
    "\n",
    "This will be represented as \n",
    "~~~\n",
    "CaseMatch(e, listofCases, f)\n",
    "~~~\n",
    "where `listOfCases` will be\n",
    "~~~\n",
    "SingleCase(e1, f1), ..., SingleCase(ek,fk)\n",
    "~~~\n",
    "\n",
    "It translates into a nested `if-then-elseif-else` statement as\n",
    "\n",
    "~~~\n",
    "if (e == e1)  f1\n",
    "elseif (e == e2) f2\n",
    "elseif ...\n",
    "elseif (e == ek) fk\n",
    "else f\n",
    "~~~\n",
    "\n",
    "**Note**: By this description, and unlike in Scala, a variable used in a pattern should simply read the value of that variable instead of declaring a new one.\n",
    "\n",
    "Extend the `evalExpr` function below with support for the `CaseMatch` statement\n"
   ]
  },
  {
   "cell_type": "code",
   "execution_count": 2,
   "metadata": {
    "deletable": false,
    "editable": false,
    "nbgrader": {
     "checksum": "91226f8140c947af3eb3899634ff7539",
     "grade": false,
     "grade_id": "cell-f0a16a78a95ff334",
     "locked": true,
     "schema_version": 1,
     "solution": false
    }
   },
   "outputs": [
    {
     "data": {
      "text/plain": [
       "defined \u001b[32mtrait\u001b[39m \u001b[36mProgram\u001b[39m\n",
       "defined \u001b[32mtrait\u001b[39m \u001b[36mExpr\u001b[39m\n",
       "defined \u001b[32mtrait\u001b[39m \u001b[36mCases\u001b[39m\n",
       "defined \u001b[32mclass\u001b[39m \u001b[36mTopLevel\u001b[39m\n",
       "defined \u001b[32mclass\u001b[39m \u001b[36mConst\u001b[39m\n",
       "defined \u001b[32mclass\u001b[39m \u001b[36mIdentifier\u001b[39m\n",
       "defined \u001b[32mobject\u001b[39m \u001b[36mTrue\u001b[39m\n",
       "defined \u001b[32mobject\u001b[39m \u001b[36mFalse\u001b[39m\n",
       "defined \u001b[32mclass\u001b[39m \u001b[36mPlus\u001b[39m\n",
       "defined \u001b[32mclass\u001b[39m \u001b[36mGeq\u001b[39m\n",
       "defined \u001b[32mclass\u001b[39m \u001b[36mNot\u001b[39m\n",
       "defined \u001b[32mclass\u001b[39m \u001b[36mIfThenElse\u001b[39m\n",
       "defined \u001b[32mclass\u001b[39m \u001b[36mCaseMatch\u001b[39m\n",
       "defined \u001b[32mclass\u001b[39m \u001b[36mLet\u001b[39m\n",
       "defined \u001b[32mclass\u001b[39m \u001b[36mSingleCase\u001b[39m\n",
       "defined \u001b[32mtrait\u001b[39m \u001b[36mValue\u001b[39m\n",
       "defined \u001b[32mclass\u001b[39m \u001b[36mNumValue\u001b[39m\n",
       "defined \u001b[32mclass\u001b[39m \u001b[36mBoolValue\u001b[39m\n",
       "defined \u001b[32mfunction\u001b[39m \u001b[36mvalueToNum\u001b[39m\n",
       "defined \u001b[32mfunction\u001b[39m \u001b[36mvalueToBool\u001b[39m\n",
       "defined \u001b[32mfunction\u001b[39m \u001b[36mvalueEquals\u001b[39m"
      ]
     },
     "execution_count": 2,
     "metadata": {},
     "output_type": "execute_result"
    }
   ],
   "source": [
    "// Definitions that you will need. Make sure to execute this cell\n",
    "sealed trait Program\n",
    "sealed trait Expr\n",
    "sealed trait Cases\n",
    "\n",
    "case class TopLevel(e: Expr) extends Program\n",
    "\n",
    "case class Const(f: Double) extends Expr\n",
    "case class Identifier(s: String) extends Expr\n",
    "case object True extends Expr\n",
    "case object False extends Expr\n",
    "case class Plus(e1: Expr, e2: Expr) extends Expr\n",
    "case class  Geq(e1: Expr, e2: Expr) extends Expr\n",
    "case class Not(e: Expr) extends Expr\n",
    "case class IfThenElse(e: Expr, eThen: Expr, eElse: Expr)  extends Expr\n",
    "case class CaseMatch(e: Expr, cases: List[Cases], default: Expr) extends Expr\n",
    "case class Let(x: String, e1: Expr, e2: Expr) extends Expr\n",
    "\n",
    "case class SingleCase(e: Expr, f: Expr) extends Cases\n",
    "\n",
    "// Values\n",
    "\n",
    "sealed trait Value\n",
    "case class NumValue(f: Double) extends Value\n",
    "case class BoolValue(b: Boolean) extends Value\n",
    "\n",
    "def valueToNum(v: Value) = v match {\n",
    "    case NumValue(f) => f\n",
    "    case _ => throw new IllegalArgumentException(\"Expected numerical value.\")\n",
    "}\n",
    "\n",
    "def valueToBool(v: Value) = v match {\n",
    "    case BoolValue(b) => b\n",
    "    case _ => throw new IllegalArgumentException(\"Expected boolean value\")\n",
    "    \n",
    "}\n",
    "\n",
    "def valueEquals(v1: Value, v2: Value ): Boolean = (v1, v2) match {\n",
    "    case (NumValue(f1), NumValue(f2)) => f1 == f2\n",
    "    case (BoolValue(b1), BoolValue(b2)) => b1 == b2\n",
    "    case _ => false\n",
    "}\n"
   ]
  },
  {
   "cell_type": "code",
   "execution_count": 7,
   "metadata": {
    "deletable": false,
    "nbgrader": {
     "checksum": "c116d7a7a585bf244d4dc3ef6948ceda",
     "grade": false,
     "grade_id": "cell-a4444bbdcd635c0e",
     "locked": false,
     "schema_version": 1,
     "solution": true
    }
   },
   "outputs": [
    {
     "data": {
      "text/plain": [
       "defined \u001b[32mfunction\u001b[39m \u001b[36mevalExpr\u001b[39m"
      ]
     },
     "execution_count": 7,
     "metadata": {},
     "output_type": "execute_result"
    }
   ],
   "source": [
    "def evalExpr(e: Expr, env: Map[String, Value]): Value = {\n",
    "    e match {\n",
    "        case Const(f) => NumValue(f) \n",
    "        case True => BoolValue(true)\n",
    "        case False => BoolValue(false)\n",
    "        case Identifier(s) =>  if (env contains s) {\n",
    "            env(s)\n",
    "        } else {\n",
    "            throw new IllegalArgumentException(\"Could not find variable \"+ s)\n",
    "        }                              \n",
    "        case Plus(e1, e2) => {\n",
    "            val v1 = valueToNum(evalExpr(e1, env))\n",
    "            val v2 = valueToNum(evalExpr(e2, env))\n",
    "            NumValue(v1 + v2)\n",
    "        }\n",
    "        case Geq(e1, e2) => {\n",
    "            val v1 = valueToNum(evalExpr(e1, env))\n",
    "            val v2 = valueToNum(evalExpr(e2, env))\n",
    "            BoolValue(v1 >= v2)\n",
    "        }\n",
    "        case Not(e) => {\n",
    "            val v = valueToBool(evalExpr(e, env))\n",
    "            BoolValue(!v)\n",
    "        }\n",
    "        case IfThenElse(e, e1, e2) => {\n",
    "            val v1 = valueToBool(evalExpr(e, env))\n",
    "            if (v1)\n",
    "                evalExpr(e1, env)\n",
    "            else\n",
    "                evalExpr(e2, env)\n",
    "        }\n",
    "        case Let(x, e1, e2) => {\n",
    "            val v1 = evalExpr(e1, env)\n",
    "            val newEnv = env + (x -> v1)\n",
    "            evalExpr(e2, newEnv)\n",
    "        }\n",
    "        case CaseMatch(e, cases, f) => {\n",
    "            // YOUR CODE HERE\n",
    "            val value = evalExpr(e, env)\n",
    "            val expr = cases.foldLeft(f) { (acc, element) => \n",
    "                element match {\n",
    "                    case SingleCase(ei, fi) => {\n",
    "                        if(valueEquals(value, evalExpr(ei, env))) {\n",
    "                            fi\n",
    "                        }\n",
    "                        else {\n",
    "                            acc\n",
    "                        }\n",
    "                    }\n",
    "                }\n",
    "            }\n",
    "            evalExpr(expr, env)\n",
    "        } \n",
    "    }\n",
    "\n",
    "}"
   ]
  },
  {
   "cell_type": "code",
   "execution_count": 8,
   "metadata": {
    "deletable": false,
    "editable": false,
    "nbgrader": {
     "checksum": "7f0ad1172f711515721621bbbdb794ac",
     "grade": true,
     "grade_id": "cell-013f2f8ea991dd31",
     "locked": true,
     "points": 3,
     "schema_version": 1,
     "solution": false
    }
   },
   "outputs": [
    {
     "name": "stdout",
     "output_type": "stream",
     "text": [
      "*** Tests Passed (3 points) ***"
     ]
    },
    {
     "data": {
      "text/plain": [
       "\u001b[36mcaseList\u001b[39m: \u001b[32mList\u001b[39m[\u001b[32mSingleCase\u001b[39m] = \u001b[33mList\u001b[39m(SingleCase(Const(1.0),Const(5.0)))\n",
       "\u001b[36moverallExpr\u001b[39m: \u001b[32mCaseMatch\u001b[39m = CaseMatch(Const(1.0),List(SingleCase(Const(1.0),Const(5.0))),Const(6.0))"
      ]
     },
     "execution_count": 8,
     "metadata": {},
     "output_type": "execute_result"
    }
   ],
   "source": [
    "// BEGIN TEST\n",
    "\n",
    "// caseMatch(1)\n",
    "//   case 1 => 5\n",
    "//   default => 6\n",
    "\n",
    "val caseList = List(SingleCase(Const(1.0), Const(5.0)))\n",
    "val overallExpr = CaseMatch(Const(1.0), caseList, Const(6.0))\n",
    "\n",
    "assert(evalExpr(overallExpr, Map()) == NumValue(5.0), \"Test 1 Failed\")\n",
    "\n",
    "passed(3)\n",
    "// END TEST"
   ]
  },
  {
   "cell_type": "code",
   "execution_count": 9,
   "metadata": {
    "deletable": false,
    "editable": false,
    "nbgrader": {
     "checksum": "f5323acf234e681865a447215ce9ec5a",
     "grade": true,
     "grade_id": "cell-7cb8ce169cf48a12",
     "locked": true,
     "points": 2,
     "schema_version": 1,
     "solution": false
    }
   },
   "outputs": [
    {
     "name": "stdout",
     "output_type": "stream",
     "text": [
      "*** Tests Passed (2 points) ***"
     ]
    },
    {
     "data": {
      "text/plain": [
       "\u001b[36mx\u001b[39m: \u001b[32mIdentifier\u001b[39m = \u001b[33mIdentifier\u001b[39m(\u001b[32m\"x\"\u001b[39m)\n",
       "\u001b[36my\u001b[39m: \u001b[32mIdentifier\u001b[39m = \u001b[33mIdentifier\u001b[39m(\u001b[32m\"y\"\u001b[39m)\n",
       "\u001b[36mcaseList\u001b[39m: \u001b[32mList\u001b[39m[\u001b[32mSingleCase\u001b[39m] = \u001b[33mList\u001b[39m(\n",
       "  SingleCase(Plus(Identifier(y),Const(15.0)),Identifier(y)),\n",
       "  SingleCase(Plus(Identifier(x),Identifier(x)),Identifier(x)),\n",
       "  SingleCase(Const(25.0),Const(0.0))\n",
       ")\n",
       "\u001b[36mcaseExpr\u001b[39m: \u001b[32mCaseMatch\u001b[39m = CaseMatch(Plus(Identifier(x),Identifier(y)),List(SingleCase(Plus(Identifier(y),Const(15.0)),Identifier(y)), SingleCase(Plus(Identifier(x),Identifier(x)),Identifier(x)), SingleCase(Const(25.0),Const(0.0))),Const(-100.0))\n",
       "\u001b[36moverallExpr\u001b[39m: \u001b[32mExpr\u001b[39m = Let(x,Const(10.0),Let(y,Const(15.0),CaseMatch(Plus(Identifier(x),Identifier(y)),List(SingleCase(Plus(Identifier(y),Const(15.0)),Identifier(y)), SingleCase(Plus(Identifier(x),Identifier(x)),Identifier(x)), SingleCase(Const(25.0),Const(0.0))),Const(-100.0))))"
      ]
     },
     "execution_count": 9,
     "metadata": {},
     "output_type": "execute_result"
    }
   ],
   "source": [
    "// BEGIN TEST\n",
    "\n",
    "// let x = 10 in \n",
    "// let y = 15 in \n",
    "// caseMatch(x + y)\n",
    "//   case y+15 => y\n",
    "//   case x + x => x\n",
    "//   case 25 => 0\n",
    "//   default => -100\n",
    "\n",
    "val x = Identifier(\"x\")\n",
    "val y = Identifier(\"y\")\n",
    "val caseList = List( SingleCase(Plus(y, Const(15)), y), SingleCase(Plus(x, x), x), SingleCase(Const(25), Const(0)))\n",
    "val caseExpr = CaseMatch(Plus(x,y), caseList, Const(-100.0))\n",
    "val overallExpr: Expr = Let(\"x\", Const(10), Let(\"y\", Const(15), caseExpr))\n",
    "\n",
    "assert(evalExpr(overallExpr, Map()) == NumValue(0.0), \"Test 2 Failed\")\n",
    "\n",
    "passed(2)\n",
    "// END TEST"
   ]
  },
  {
   "cell_type": "code",
   "execution_count": 10,
   "metadata": {
    "deletable": false,
    "editable": false,
    "nbgrader": {
     "checksum": "ddabe380ac5cedcaab18ecb107ef0d9e",
     "grade": true,
     "grade_id": "cell-866a12cf983357c1",
     "locked": true,
     "points": 2,
     "schema_version": 1,
     "solution": false
    }
   },
   "outputs": [
    {
     "name": "stdout",
     "output_type": "stream",
     "text": [
      "*** Tests Passed (2 points) ***"
     ]
    },
    {
     "data": {
      "text/plain": [
       "\u001b[36mx\u001b[39m: \u001b[32mIdentifier\u001b[39m = \u001b[33mIdentifier\u001b[39m(\u001b[32m\"x\"\u001b[39m)\n",
       "\u001b[36mcond\u001b[39m: \u001b[32mIdentifier\u001b[39m = \u001b[33mIdentifier\u001b[39m(\u001b[32m\"cond\"\u001b[39m)\n",
       "\u001b[36mcaseList\u001b[39m: \u001b[32mList\u001b[39m[\u001b[32mSingleCase\u001b[39m] = \u001b[33mList\u001b[39m(SingleCase(True,Const(15.0)), SingleCase(False,Const(25.0)))\n",
       "\u001b[36mcaseExpr\u001b[39m: \u001b[32mLet\u001b[39m = Let(cond,CaseMatch(Geq(Identifier(x),Const(0.0)),List(SingleCase(True,Const(15.0)), SingleCase(False,Const(25.0))),Identifier(y)),Plus(Identifier(cond),Identifier(cond)))\n",
       "\u001b[36moverallExpr2\u001b[39m: \u001b[32mLet\u001b[39m = Let(x,Const(15.0),Let(cond,CaseMatch(Geq(Identifier(x),Const(0.0)),List(SingleCase(True,Const(15.0)), SingleCase(False,Const(25.0))),Identifier(y)),Plus(Identifier(cond),Identifier(cond))))"
      ]
     },
     "execution_count": 10,
     "metadata": {},
     "output_type": "execute_result"
    }
   ],
   "source": [
    "// BEGIN TEST\n",
    "\n",
    "/* let x = 15 in \n",
    "   let cond = caseMatch (x >= 0)\n",
    "               case True: 15\n",
    "               case False: 25\n",
    "               default: y // Intentionally introduce an error\n",
    "   in \n",
    "       cond + cond\n",
    "       */\n",
    "\n",
    "val x = Identifier(\"x\")\n",
    "val cond = Identifier(\"cond\")\n",
    "val caseList= List( SingleCase(True, Const(15)), SingleCase(False, Const(25)))\n",
    "val caseExpr = Let(\"cond\", CaseMatch(Geq(x, Const(0.0)), caseList, Identifier(\"y\")), Plus(cond, cond))\n",
    "val overallExpr2 = Let(\"x\", Const(15), caseExpr)\n",
    "\n",
    "assert(evalExpr(overallExpr2, Map()) == NumValue(30.0), \"Test 3 failed - expected value should be 30\")\n",
    "\n",
    "passed(2)\n",
    "// END TEST"
   ]
  },
  {
   "cell_type": "code",
   "execution_count": 11,
   "metadata": {
    "deletable": false,
    "editable": false,
    "nbgrader": {
     "checksum": "7e4d77999e06684fd61006d9ab11d17e",
     "grade": true,
     "grade_id": "cell-07ea8d62c96d0aed",
     "locked": true,
     "points": 2,
     "schema_version": 1,
     "solution": false
    }
   },
   "outputs": [
    {
     "name": "stdout",
     "output_type": "stream",
     "text": [
      "*** Tests Passed (2 points) ***"
     ]
    },
    {
     "data": {
      "text/plain": [
       "\u001b[36mx\u001b[39m: \u001b[32mIdentifier\u001b[39m = \u001b[33mIdentifier\u001b[39m(\u001b[32m\"x\"\u001b[39m)\n",
       "\u001b[36mcond\u001b[39m: \u001b[32mIdentifier\u001b[39m = \u001b[33mIdentifier\u001b[39m(\u001b[32m\"cond\"\u001b[39m)\n",
       "\u001b[36mcaseExpr\u001b[39m: \u001b[32mCaseMatch\u001b[39m = CaseMatch(Geq(Identifier(x),Identifier(x)),List(),Geq(Identifier(x),Plus(Identifier(x),Const(1.0))))\n",
       "\u001b[36miteExpr\u001b[39m: \u001b[32mIfThenElse\u001b[39m = IfThenElse(Identifier(cond),Const(20.0),Const(40.0))\n",
       "\u001b[36moverallExpr3\u001b[39m: \u001b[32mLet\u001b[39m = Let(x,Const(15.0),Let(cond,CaseMatch(Geq(Identifier(x),Identifier(x)),List(),Geq(Identifier(x),Plus(Identifier(x),Const(1.0)))),IfThenElse(Identifier(cond),Const(20.0),Const(40.0))))"
      ]
     },
     "execution_count": 11,
     "metadata": {},
     "output_type": "execute_result"
    }
   ],
   "source": [
    "// BEGIN TEST\n",
    "/* let x = 15 in \n",
    "   let cond = CaseMatch (x >= x) \n",
    "            default: x >= x + 1\n",
    "   in \n",
    "        if (cond) then 20 else 40 */\n",
    "\n",
    "val x = Identifier(\"x\")\n",
    "val cond = Identifier(\"cond\")\n",
    "val caseExpr = CaseMatch(Geq(x,x), List(), Geq(x, Plus(x, Const(1))))\n",
    "val iteExpr = IfThenElse(cond, Const(20), Const(40))\n",
    "val overallExpr3 = Let(\"x\", Const(15), Let(\"cond\", caseExpr, iteExpr))\n",
    "assert(evalExpr(overallExpr3, Map()) == NumValue(40.0), \"Test 4 failed - expected value should be 40\")\n",
    "\n",
    "passed(2)\n",
    "// END TEST"
   ]
  },
  {
   "cell_type": "markdown",
   "metadata": {
    "deletable": false,
    "editable": false,
    "nbgrader": {
     "checksum": "f121a804bc10c355a6ae4be3a4970aaa",
     "grade": false,
     "grade_id": "cell-90917e8a085459a0",
     "locked": true,
     "schema_version": 1,
     "solution": false
    }
   },
   "source": [
    "## Problem 2 (30 Points): Adding String Values\n",
    "\n",
    "We will now extend Lettuce with support for string manipulations in addition to manipulating numbers and booleans.\n",
    "\n",
    "In particular, we will allow the following string expressions.\n",
    "- A constant string `ConstString(StringLiteral)`\n",
    "- The concatenation of two strings that uses the same operator `Plus`  that was used for addition.\n",
    "- Multiplication of a string with a number: `string * n`  replicates the string `n times`. This is undefined or erroneous if `n < 0` or `n` is not a whole number.\n",
    "- A string length function that obtains the length of a string `StringLength(expr)`\n",
    "- A substring function `SubString(expr, expr, expr)` wherein `SubString(string, i, j)` requires\n",
    "first argument to be a string and the second/third argument to be whole numbers such that `0 <= i <= j < StringLength(string)`. It returns a new string that is a substring of the original string from between positions `i` and `j`. Both end points are included."
   ]
  },
  {
   "cell_type": "markdown",
   "metadata": {
    "deletable": false,
    "editable": false,
    "nbgrader": {
     "checksum": "b90c1df3673d73d266729345bae4fd13",
     "grade": false,
     "grade_id": "cell-9d2238f28ff066ce",
     "locked": true,
     "schema_version": 1,
     "solution": false
    }
   },
   "source": [
    "### 2 A (5 points)\n",
    "Extend the grammar for Lettuce below by adding new rules corresponding to the string expressions. All string expressions must reuse the nonterminal Expr.\n",
    "\n",
    "\n",
    "$$\\begin{array}{rcl}\n",
    "\\mathbf{Program} & \\rightarrow & TopLevel(\\mathbf{Expr}) \\\\[5pt]\n",
    "\\mathbf{Expr} & \\rightarrow & Ident(\\mathbf{Identifier}) \\\\\n",
    "& \\rightarrow & Const(\\mathbf{Double}) \\\\\n",
    "& \\rightarrow & True \\\\\n",
    "& \\rightarrow & False \\\\\n",
    "& \\rightarrow & Plus(\\mathbf{Expr}, \\mathbf{Expr}) \\\\\n",
    "& \\rightarrow & Mult(\\mathbf{Expr}, \\mathbf{Expr}) \\\\\n",
    "& \\rightarrow & Geq(\\mathbf{Expr}, \\mathbf{Expr}) \\\\\n",
    "& \\rightarrow & Not(\\mathbf{Expr}) \\\\\n",
    "& \\rightarrow & IfThenElse (\\mathbf{Expr}, \\mathbf{Expr}, \\mathbf{Expr}) \\\\\n",
    "& \\rightarrow & Let(\\mathbf{Identifier}, \\mathbf{Expr}, \\mathbf{Expr}) \\\\[5pt]\n",
    "\\mathbf{Double} & \\rightarrow & \\text{.. all scala double precision numbers ... }\\\\ \n",
    "\\mathbf{StringLiteral} & \\rightarrow & \\text{... all scala strings ... } \\\\\n",
    "\\end{array} $$\n",
    "\n"
   ]
  },
  {
   "cell_type": "markdown",
   "metadata": {
    "deletable": false,
    "nbgrader": {
     "checksum": "1ec49613bab3a7ecdc7545eeee83e342",
     "grade": true,
     "grade_id": "cell-4260a4a11d388968",
     "locked": false,
     "points": 5,
     "schema_version": 1,
     "solution": true
    }
   },
   "source": [
    "$$\\begin{array}{rcl}\n",
    "& \\rightarrow & ConstString(\\mathbf{StringLiteral}) \\\\\n",
    "& \\rightarrow & StringLength(\\mathbf{Expr}) \\\\\n",
    "& \\rightarrow & SubString(\\mathbf{Expr, Expr, Expr}) \\\\\n",
    "\\end{array} $$"
   ]
  },
  {
   "cell_type": "markdown",
   "metadata": {
    "deletable": false,
    "editable": false,
    "nbgrader": {
     "checksum": "dc1b79083971fdd8d9578687ed7684ce",
     "grade": false,
     "grade_id": "cell-b27b81ca447c54f8",
     "locked": true,
     "schema_version": 1,
     "solution": false
    }
   },
   "source": [
    "### 2 B (5 points)\n",
    "Complete the scala definition for the abstract  syntax tree below by adding extra cases for supporting all the string operations in your grammar. Make sure that you use the constructor symbols `ConstString`, `StringLength`, `SubString`."
   ]
  },
  {
   "cell_type": "code",
   "execution_count": 28,
   "metadata": {
    "deletable": false,
    "nbgrader": {
     "checksum": "f86a235f93c232553a6786e19ef635ca",
     "grade": false,
     "grade_id": "cell-bb4883cc7b98af88",
     "locked": false,
     "schema_version": 1,
     "solution": true
    }
   },
   "outputs": [
    {
     "data": {
      "text/plain": [
       "defined \u001b[32mtrait\u001b[39m \u001b[36mProgram\u001b[39m\n",
       "defined \u001b[32mtrait\u001b[39m \u001b[36mExpr\u001b[39m\n",
       "defined \u001b[32mtrait\u001b[39m \u001b[36mCases\u001b[39m\n",
       "defined \u001b[32mclass\u001b[39m \u001b[36mTopLevel\u001b[39m\n",
       "defined \u001b[32mclass\u001b[39m \u001b[36mConst\u001b[39m\n",
       "defined \u001b[32mclass\u001b[39m \u001b[36mIdentifier\u001b[39m\n",
       "defined \u001b[32mobject\u001b[39m \u001b[36mTrue\u001b[39m\n",
       "defined \u001b[32mobject\u001b[39m \u001b[36mFalse\u001b[39m\n",
       "defined \u001b[32mclass\u001b[39m \u001b[36mPlus\u001b[39m\n",
       "defined \u001b[32mclass\u001b[39m \u001b[36mMult\u001b[39m\n",
       "defined \u001b[32mclass\u001b[39m \u001b[36mGeq\u001b[39m\n",
       "defined \u001b[32mclass\u001b[39m \u001b[36mNot\u001b[39m\n",
       "defined \u001b[32mclass\u001b[39m \u001b[36mIfThenElse\u001b[39m\n",
       "defined \u001b[32mclass\u001b[39m \u001b[36mLet\u001b[39m\n",
       "defined \u001b[32mclass\u001b[39m \u001b[36mConstString\u001b[39m\n",
       "defined \u001b[32mclass\u001b[39m \u001b[36mStringLength\u001b[39m\n",
       "defined \u001b[32mclass\u001b[39m \u001b[36mSubString\u001b[39m"
      ]
     },
     "execution_count": 28,
     "metadata": {},
     "output_type": "execute_result"
    }
   ],
   "source": [
    "sealed trait Program\n",
    "sealed trait Expr\n",
    "sealed trait Cases\n",
    "\n",
    "case class TopLevel(e: Expr) extends Program\n",
    "\n",
    "case class Const(f: Double) extends Expr\n",
    "case class Identifier(s: String) extends Expr\n",
    "case object True extends Expr\n",
    "case object False extends Expr\n",
    "case class Plus(e1: Expr, e2: Expr) extends Expr\n",
    "case class Mult(e1: Expr, e2: Expr) extends Expr\n",
    "case class  Geq(e1: Expr, e2: Expr) extends Expr\n",
    "case class Not(e: Expr) extends Expr\n",
    "case class IfThenElse(e: Expr, eThen: Expr, eElse: Expr)  extends Expr\n",
    "case class Let(x: String, e1: Expr, e2: Expr) extends Expr\n",
    "\n",
    "// YOUR CODE HERE\n",
    "case class ConstString(s: String) extends Expr\n",
    "case class StringLength(e: Expr) extends Expr\n",
    "case class SubString(e1: Expr, e2: Expr, e3: Expr) extends Expr\n"
   ]
  },
  {
   "cell_type": "code",
   "execution_count": 29,
   "metadata": {
    "deletable": false,
    "editable": false,
    "nbgrader": {
     "checksum": "b16a3c277b9463fdb2df0fd3464d4cad",
     "grade": true,
     "grade_id": "cell-0249a6834d1e5918",
     "locked": true,
     "points": 3,
     "schema_version": 1,
     "solution": false
    }
   },
   "outputs": [
    {
     "name": "stdout",
     "output_type": "stream",
     "text": [
      "*** Tests Passed (3 points) ***"
     ]
    },
    {
     "data": {
      "text/plain": [
       "\u001b[36mv1\u001b[39m: \u001b[32mConstString\u001b[39m = \u001b[33mConstString\u001b[39m(\u001b[32m\"hello world\"\u001b[39m)\n",
       "\u001b[36mv2\u001b[39m: \u001b[32mConstString\u001b[39m = \u001b[33mConstString\u001b[39m(\u001b[32m\"\"\u001b[39m)\n",
       "\u001b[36mv4\u001b[39m: \u001b[32mSubString\u001b[39m = SubString(ConstString(hello world),Const(0.0),Const(3.0))\n",
       "\u001b[36mv5\u001b[39m: \u001b[32mStringLength\u001b[39m = StringLength(SubString(ConstString(hello world),Const(0.0),Const(3.0)))\n",
       "\u001b[36mv6\u001b[39m: \u001b[32mStringLength\u001b[39m = StringLength(StringLength(SubString(ConstString(hello world),Const(0.0),Const(3.0))))"
      ]
     },
     "execution_count": 29,
     "metadata": {},
     "output_type": "execute_result"
    }
   ],
   "source": [
    "// BEGIN TEST\n",
    "val v1 = ConstString(\"hello world\")\n",
    "val v2 = ConstString(\"\")\n",
    "val v4 = SubString(v1,Const(0), Const(3))\n",
    "val v5 = StringLength(v4)\n",
    "val v6 = StringLength(v5)\n",
    "\n",
    "passed(3)\n",
    "// END TEST"
   ]
  },
  {
   "cell_type": "code",
   "execution_count": 30,
   "metadata": {
    "deletable": false,
    "editable": false,
    "nbgrader": {
     "checksum": "7ad90ca2e32a330aff5c1d6fd86008be",
     "grade": true,
     "grade_id": "cell-7501887554c244de",
     "locked": true,
     "points": 1,
     "schema_version": 1,
     "solution": false
    }
   },
   "outputs": [
    {
     "name": "stdout",
     "output_type": "stream",
     "text": [
      "Tests Passed (1 point)"
     ]
    },
    {
     "data": {
      "text/plain": [
       "\u001b[36mv1\u001b[39m: \u001b[32mConstString\u001b[39m = \u001b[33mConstString\u001b[39m(\u001b[32m\"hello world\"\u001b[39m)\n",
       "\u001b[36mv2\u001b[39m: \u001b[32mConstString\u001b[39m = \u001b[33mConstString\u001b[39m(\u001b[32m\"\"\u001b[39m)\n",
       "\u001b[36mv3\u001b[39m: \u001b[32mPlus\u001b[39m = Plus(ConstString(hello world),ConstString())"
      ]
     },
     "execution_count": 30,
     "metadata": {},
     "output_type": "execute_result"
    }
   ],
   "source": [
    "// BEGIN TEST\n",
    "val v1 = ConstString(\"hello world\")\n",
    "val v2 = ConstString(\"\")\n",
    "val v3 = Plus(v1, v2)\n",
    "\n",
    "passed(1)\n",
    "// END TEST"
   ]
  },
  {
   "cell_type": "code",
   "execution_count": 31,
   "metadata": {
    "deletable": false,
    "editable": false,
    "nbgrader": {
     "checksum": "eac042fe116cf9df39c57f05373a8e25",
     "grade": true,
     "grade_id": "cell-d23857e667ebd307",
     "locked": true,
     "points": 1,
     "schema_version": 1,
     "solution": false
    }
   },
   "outputs": [
    {
     "name": "stdout",
     "output_type": "stream",
     "text": [
      "Tests Passed (1 point)"
     ]
    },
    {
     "data": {
      "text/plain": [
       "\u001b[36mv1\u001b[39m: \u001b[32mConstString\u001b[39m = \u001b[33mConstString\u001b[39m(\u001b[32m\"hello world\"\u001b[39m)\n",
       "\u001b[36mv2\u001b[39m: \u001b[32mConstString\u001b[39m = \u001b[33mConstString\u001b[39m(\u001b[32m\"\"\u001b[39m)\n",
       "\u001b[36mv4\u001b[39m: \u001b[32mMult\u001b[39m = Mult(ConstString(hello world),Const(20.0))\n",
       "\u001b[36mv5\u001b[39m: \u001b[32mMult\u001b[39m = Mult(ConstString(),Const(10.0))"
      ]
     },
     "execution_count": 31,
     "metadata": {},
     "output_type": "execute_result"
    }
   ],
   "source": [
    "// BEGIN TEST\n",
    "val v1 = ConstString(\"hello world\")\n",
    "val v2 = ConstString(\"\")\n",
    "val v4 = Mult(v1, Const(20))\n",
    "val v5 = Mult(v2, Const(10))\n",
    "\n",
    "passed(1)\n",
    "// END TEST"
   ]
  },
  {
   "cell_type": "markdown",
   "metadata": {
    "deletable": false,
    "editable": false,
    "nbgrader": {
     "checksum": "4f9dce77e763214f66e3be53892239f4",
     "grade": false,
     "grade_id": "cell-58206cbd44ac4cbf",
     "locked": true,
     "schema_version": 1,
     "solution": false
    }
   },
   "source": [
    "### 2 C (5 points)\n",
    "Complete the value type `StringValue` for string values and update the functions below to handle string values."
   ]
  },
  {
   "cell_type": "code",
   "execution_count": 32,
   "metadata": {
    "deletable": false,
    "nbgrader": {
     "checksum": "7f9358f8c06aac4ee4f429739a3f4da5",
     "grade": false,
     "grade_id": "cell-db1d4b0aeb9a75c4",
     "locked": false,
     "schema_version": 1,
     "solution": true
    }
   },
   "outputs": [
    {
     "data": {
      "text/plain": [
       "defined \u001b[32mtrait\u001b[39m \u001b[36mValue\u001b[39m\n",
       "defined \u001b[32mclass\u001b[39m \u001b[36mNumValue\u001b[39m\n",
       "defined \u001b[32mclass\u001b[39m \u001b[36mBoolValue\u001b[39m\n",
       "defined \u001b[32mclass\u001b[39m \u001b[36mStringValue\u001b[39m\n",
       "defined \u001b[32mfunction\u001b[39m \u001b[36mvalueToNum\u001b[39m\n",
       "defined \u001b[32mfunction\u001b[39m \u001b[36mvalueToBool\u001b[39m\n",
       "defined \u001b[32mfunction\u001b[39m \u001b[36mvalueToString\u001b[39m\n",
       "defined \u001b[32mfunction\u001b[39m \u001b[36misNum\u001b[39m\n",
       "defined \u001b[32mfunction\u001b[39m \u001b[36misNatNum\u001b[39m\n",
       "defined \u001b[32mfunction\u001b[39m \u001b[36misString\u001b[39m"
      ]
     },
     "execution_count": 32,
     "metadata": {},
     "output_type": "execute_result"
    }
   ],
   "source": [
    "sealed trait Value\n",
    "case class NumValue(f: Double) extends Value\n",
    "case class BoolValue(b: Boolean) extends Value\n",
    "// YOUR CODE HERE\n",
    "case class StringValue(s: String) extends Value\n",
    "\n",
    "def valueToNum(v: Value): Double = v match {\n",
    "    case NumValue(f) => f\n",
    "    case _ => throw new IllegalArgumentException(\"Expected numerical value.\")\n",
    "}\n",
    "\n",
    "def valueToBool(v: Value): Boolean = v match {\n",
    "    case BoolValue(b) => b\n",
    "    case _ => throw new IllegalArgumentException(\"Expected boolean value\")\n",
    "    \n",
    "}\n",
    "\n",
    "def valueToString(v: Value): String = v match {\n",
    "    // YOUR CODE HERE\n",
    "    case StringValue(s) => s\n",
    "    case _ => throw new IllegalArgumentException(\"Expected string value\")\n",
    "}\n",
    "\n",
    "/*--- Test if a given value is a real number --*/\n",
    "def isNum(v: Value): Boolean = v match {\n",
    "    // YOUR CODE HERE\n",
    "    case NumValue(x) => true\n",
    "    case _ => false\n",
    "}\n",
    "\n",
    "\n",
    "/*-- Test if a given value is a natural number 0, 1, 2, ... */\n",
    "def isNatNum(v: Value): Boolean = v match {\n",
    "    // YOUR CODE HERE\n",
    "    case NumValue(x) if(x >= 0 && x == x.toInt) => true\n",
    "    case _ => false\n",
    "}\n",
    "\n",
    "def isString(v: Value): Boolean = v match {\n",
    "    // YOUR CODE HERE\n",
    "    case StringValue(x) => true\n",
    "    case _ => false\n",
    "}\n"
   ]
  },
  {
   "cell_type": "code",
   "execution_count": 33,
   "metadata": {
    "deletable": false,
    "editable": false,
    "nbgrader": {
     "checksum": "fe0d3bfdf0cadb2811bc0125ecd9f4e3",
     "grade": true,
     "grade_id": "cell-3be410d648ce4073",
     "locked": true,
     "points": 2,
     "schema_version": 1,
     "solution": false
    }
   },
   "outputs": [
    {
     "name": "stdout",
     "output_type": "stream",
     "text": [
      "*** Tests Passed (2 points) ***"
     ]
    },
    {
     "data": {
      "text/plain": [
       "\u001b[36mv1\u001b[39m: \u001b[32mStringValue\u001b[39m = \u001b[33mStringValue\u001b[39m(\u001b[32m\"hello\"\u001b[39m)\n",
       "\u001b[36mv2\u001b[39m: \u001b[32mStringValue\u001b[39m = \u001b[33mStringValue\u001b[39m(\u001b[32m\"world\"\u001b[39m)"
      ]
     },
     "execution_count": 33,
     "metadata": {},
     "output_type": "execute_result"
    }
   ],
   "source": [
    "// BEGIN TEST\n",
    "val v1 = StringValue(\"hello\")\n",
    "assert(isString(v1), \"Test 1 failed\")\n",
    "\n",
    "val v2 = StringValue(\"world\")\n",
    "assert(valueToString(v2) == \"world\", \"Test 2 failed\")\n",
    "\n",
    "passed(2)\n",
    "// END TEST"
   ]
  },
  {
   "cell_type": "code",
   "execution_count": 34,
   "metadata": {
    "deletable": false,
    "editable": false,
    "nbgrader": {
     "checksum": "bd0979076ad667d1e0f0e11b25b24c3d",
     "grade": true,
     "grade_id": "cell-e0aeaa96a2074e93",
     "locked": true,
     "points": 3,
     "schema_version": 1,
     "solution": false
    }
   },
   "outputs": [
    {
     "name": "stdout",
     "output_type": "stream",
     "text": [
      "*** Tests Passed (3 points) ***"
     ]
    },
    {
     "data": {
      "text/plain": [
       "\u001b[36mv3\u001b[39m: \u001b[32mNumValue\u001b[39m = \u001b[33mNumValue\u001b[39m(\u001b[32m20.0\u001b[39m)\n",
       "\u001b[36mv4\u001b[39m: \u001b[32mNumValue\u001b[39m = \u001b[33mNumValue\u001b[39m(\u001b[32m20.00000001\u001b[39m)\n",
       "\u001b[36mv5\u001b[39m: \u001b[32mStringValue\u001b[39m = \u001b[33mStringValue\u001b[39m(\n",
       "  \u001b[32m\"hellohellohellohellohellohellohellohellohellohellohellohellohellohellohellohellohellohellohellohello\"\u001b[39m\n",
       ")"
      ]
     },
     "execution_count": 34,
     "metadata": {},
     "output_type": "execute_result"
    }
   ],
   "source": [
    "// BEGIN TEST\n",
    "val v3 = NumValue(20.0)\n",
    "assert(isNatNum(v3), \"Test 3 Failed\")\n",
    "\n",
    "val v4 = NumValue(20.00000001)\n",
    "assert(!isNatNum(v4), \"Test 4 Failed\")\n",
    "\n",
    "val v5 = StringValue(\"hello\"*20)\n",
    "assert(isString(v5), \"Test 5 passed\")\n",
    "\n",
    "assert(valueToString(v5) == \"hello\"*20, \"Test 6 passed\")\n",
    "\n",
    "passed(3)\n",
    "// END TEST"
   ]
  },
  {
   "cell_type": "markdown",
   "metadata": {
    "deletable": false,
    "editable": false,
    "nbgrader": {
     "checksum": "820ddeedc67aa6d9aa394af125a507fc",
     "grade": false,
     "grade_id": "cell-6e3b57edc9180868",
     "locked": true,
     "schema_version": 1,
     "solution": false
    }
   },
   "source": [
    "### 2 D (5 points)\n",
    "We will now write operational semantics for multiplication that accomodates strings.\n",
    "\n",
    "$$\\begin{array}{c}\n",
    "\\mathbf{eval}(\\texttt{e1}, \\sigma) = v_1, \\mathbf{eval}(\\texttt{e1}, \\sigma) = v_2, v_1 \\in \\mathbb{R}, v_2 \\in \\mathbb{R}\\\\\n",
    "\\hline\n",
    "\\mathbf{eval}(\\texttt{Mult(e1, e2)}, \\sigma) = v_1 \\times v_2 \\\\\n",
    "\\end{array} (\\text{Multiply-Numerical}) $$\n",
    "\n",
    "Given a string $v$ and an integer $n \\geq 0$, we will write $\\mathbf{replicate}(v, n)$ as the string $v$\n",
    "replicated $n$ times.\n",
    "\n",
    "Complete the labelled missing portions of the operational semantic rules below (in $\\color{red}{\\text{red}}$). Let $\\mathbb{Z}$ represent integers (a subset of reals), $\\mathbb{N}$ represent natural numbers including zero and $\\mathbb{Str}$ represent strings. \n",
    "\n",
    "$$\\begin{array}{c}\n",
    "\\mathbf{eval}(\\texttt{e1}, \\sigma) = v_1, \\mathbf{eval}(\\texttt{e1}, \\sigma) = v_2, v_1 \\in \\mathbb{Str}, \\color{red}{1}\\\\\n",
    "\\hline\n",
    "\\mathbf{eval}(\\texttt{Mult(e1, e2)}, \\sigma) = \\color{red}{2} \\\\\n",
    "\\end{array} (\\text{Multiply-String-Number-OK}) $$\n",
    "\n",
    "\n",
    "\n",
    "$$\\begin{array}{c}\n",
    "\\mathbf{eval}(\\texttt{e1}, \\sigma) = v_1,  v_1 \\not\\in \\mathbb{Str} \\cup \\mathbb{R}\\\\\n",
    "\\hline\n",
    "\\mathbf{eval}(\\texttt{Mult(e1, e2)}, \\sigma) = \\color{red}{3} \\\\\n",
    "\\end{array} (\\text{Multiply-String-Number-nok-1}) $$\n",
    "\n",
    "\n",
    "$$\\begin{array}{c}\n",
    "\\mathbf{eval}(\\texttt{e1}, \\sigma) = v_1,\\  v_1 \\in \\mathbb{Str},\\ \\mathbf{eval}(\\texttt{e2}, \\sigma) = v_2,\\ \\ \\color{red}{4} \\\\\n",
    "\\hline\n",
    "\\mathbf{eval}(\\texttt{Mult(e1, e2)}, \\sigma) = \\color{red}{5} \\\\\n",
    "\\end{array} (\\text{Multiply-String-Number-nok-2}) $$\n",
    "\n",
    "Write your answer in the cell bellow. You can make a numbered list in markdown to represent your answers as follows:\n",
    "1. First\n",
    "2. Second\n",
    "3. And so on..."
   ]
  },
  {
   "cell_type": "markdown",
   "metadata": {
    "deletable": false,
    "nbgrader": {
     "checksum": "11faffdc357b24fd7ad503db678097b1",
     "grade": true,
     "grade_id": "cell-f5fd5f1d3c2b24f2",
     "locked": false,
     "points": 5,
     "schema_version": 1,
     "solution": true
    }
   },
   "source": [
    "$$\n",
    "1)\\ v_2 \\in \\mathbb{N} \\\\\n",
    "2)\\ v_1 * v_2 \\\\\n",
    "3)\\ errorType \\\\\n",
    "4)\\ v_2 \\notin \\mathbb{N} \\\\\n",
    "5)\\ errorType \\\\\n",
    "$$"
   ]
  },
  {
   "cell_type": "markdown",
   "metadata": {
    "deletable": false,
    "editable": false,
    "nbgrader": {
     "checksum": "866e26fbb063ace9602b8c5413dabf18",
     "grade": false,
     "grade_id": "cell-9b6dc50300e07d7f",
     "locked": true,
     "schema_version": 1,
     "solution": false
    }
   },
   "source": [
    "### 2 D (10 points)\n",
    "Complete the implementation `evalExpr` function by modifying the existing code."
   ]
  },
  {
   "cell_type": "code",
   "execution_count": 41,
   "metadata": {
    "deletable": false,
    "nbgrader": {
     "checksum": "046481e6b5cd80eecf4668a0c12be4c8",
     "grade": false,
     "grade_id": "cell-6ec45b4d62321bf8",
     "locked": false,
     "schema_version": 1,
     "solution": true
    }
   },
   "outputs": [
    {
     "data": {
      "text/plain": [
       "defined \u001b[32mfunction\u001b[39m \u001b[36mevalExpr\u001b[39m"
      ]
     },
     "execution_count": 41,
     "metadata": {},
     "output_type": "execute_result"
    }
   ],
   "source": [
    "def evalExpr(e: Expr, env: Map[String, Value]): Value = {\n",
    "    e match {\n",
    "        case Const(f) => NumValue(f) \n",
    "        case True => BoolValue(true)\n",
    "        case False => BoolValue(false)\n",
    "        case Identifier(s) =>  if (env contains s) {\n",
    "            env(s)\n",
    "        } else {\n",
    "            throw new IllegalArgumentException(\"Could not find variable \"+ s)\n",
    "        }        \n",
    "        case ConstString(s) => { \n",
    "            // YOUR CODE HERE\n",
    "            StringValue(s)\n",
    "        }\n",
    "        \n",
    "        case StringLength(e) => {\n",
    "            // YOUR CODE HERE\n",
    "            NumValue(valueToString(evalExpr(e, env)).length)\n",
    "        }\n",
    "        \n",
    "        case Plus(e1, e2) => {\n",
    "            // YOUR CODE HERE\n",
    "            if (isString(evalExpr(e1, env)) && isString(evalExpr(e2, env))) {\n",
    "                StringValue(valueToString(evalExpr(e1, env)) + valueToString(evalExpr(e2, env)))\n",
    "            }\n",
    "            else if (isString(evalExpr(e1, env)) && isNum(evalExpr(e2, env))) {\n",
    "                StringValue(valueToString(evalExpr(e1, env)) + valueToNum(evalExpr(e2, env)))\n",
    "            }\n",
    "            else if (isNum(evalExpr(e1, env)) && isString(evalExpr(e2, env))) {\n",
    "                StringValue(valueToNum(evalExpr(e1, env)) + valueToString(evalExpr(e2, env)))\n",
    "            }\n",
    "            else {\n",
    "                NumValue(valueToNum(evalExpr(e1, env)) + valueToNum(evalExpr(e2, env)))\n",
    "            }\n",
    "        }\n",
    "        \n",
    "        case Mult(e1, e2) => {\n",
    "            // YOUR CODE HERE\n",
    "            if (isString(evalExpr(e1, env)) && isNatNum(evalExpr(e2, env))) {\n",
    "                StringValue(valueToString(evalExpr(e1, env)) * valueToNum(evalExpr(e2, env)).toInt)\n",
    "            }\n",
    "            else if (isNatNum(evalExpr(e1, env)) && isString(evalExpr(e2, env))) {\n",
    "                StringValue(valueToString(evalExpr(e2, env)) * valueToNum(evalExpr(e1, env)).toInt)\n",
    "            }\n",
    "            else if (isNum(evalExpr(e1, env)) && isNum(evalExpr(e2, env))) {\n",
    "                NumValue(valueToNum(evalExpr(e1, env)).toInt * valueToNum(evalExpr(e2, env)).toInt)\n",
    "            }\n",
    "            else {\n",
    "                throw new IllegalArgumentException(\"Cannot multiply string and not natural number.\")\n",
    "            }\n",
    "        }\n",
    "        case Geq(e1, e2) => {\n",
    "            val v1 = valueToNum(evalExpr(e1, env))\n",
    "            val v2 = valueToNum(evalExpr(e2, env))\n",
    "            BoolValue(v1 >= v2)\n",
    "        }\n",
    "        case Not(e) => {\n",
    "            val v = valueToBool(evalExpr(e, env))\n",
    "            BoolValue(!v)\n",
    "        }\n",
    "        case IfThenElse(e, e1, e2) => {\n",
    "            val v1 = valueToBool(evalExpr(e, env))\n",
    "            if (v1)\n",
    "                evalExpr(e1, env)\n",
    "            else\n",
    "                evalExpr(e2, env)\n",
    "        }\n",
    "        case Let(x, e1, e2) => {\n",
    "            val v1 = evalExpr(e1, env)\n",
    "            val newEnv = env + (x -> v1)\n",
    "            evalExpr(e2, newEnv)\n",
    "        }\n",
    "        \n",
    "        case SubString(e, e1, e2) => {\n",
    "            // YOUR CODE HERE\n",
    "            val index1 = valueToNum(evalExpr(e1, env)).toInt\n",
    "            val index2 = valueToNum(evalExpr(e2, env)).toInt\n",
    "            StringValue(valueToString(evalExpr(e, env)).substring(index1, index2 + 1))\n",
    "        }\n",
    "        \n",
    "    }\n",
    "\n",
    "}"
   ]
  },
  {
   "cell_type": "code",
   "execution_count": 42,
   "metadata": {
    "deletable": false,
    "editable": false,
    "nbgrader": {
     "checksum": "32d1cd1cbb18ff8c61428cdc088281eb",
     "grade": true,
     "grade_id": "cell-18c0fd606d43f50e",
     "locked": true,
     "points": 5,
     "schema_version": 1,
     "solution": false
    }
   },
   "outputs": [
    {
     "name": "stdout",
     "output_type": "stream",
     "text": [
      "*** Tests Passed (5 points) ***"
     ]
    },
    {
     "data": {
      "text/plain": [
       "\u001b[36mv1\u001b[39m: \u001b[32mConstString\u001b[39m = \u001b[33mConstString\u001b[39m(\u001b[32m\"hello world\"\u001b[39m)\n",
       "\u001b[36mv2\u001b[39m: \u001b[32mConstString\u001b[39m = \u001b[33mConstString\u001b[39m(\u001b[32m\"\"\u001b[39m)\n",
       "\u001b[36mv4\u001b[39m: \u001b[32mMult\u001b[39m = Mult(ConstString(hello world),Const(20.0))\n",
       "\u001b[36mv5\u001b[39m: \u001b[32mMult\u001b[39m = Mult(ConstString(),Const(10.0))\n",
       "\u001b[36memptyEnv\u001b[39m: \u001b[32mMap\u001b[39m[\u001b[32mString\u001b[39m, \u001b[32mValue\u001b[39m] = \u001b[33mMap\u001b[39m()"
      ]
     },
     "execution_count": 42,
     "metadata": {},
     "output_type": "execute_result"
    }
   ],
   "source": [
    "// BEGIN TEST\n",
    "val v1 = ConstString(\"hello world\")\n",
    "val v2 = ConstString(\"\")\n",
    "val v4 = Mult(v1, Const(20))\n",
    "val v5 = Mult(v2, Const(10))\n",
    "val emptyEnv: Map[String,Value] = Map()\n",
    "\n",
    "assert(valueToString(evalExpr(v1, emptyEnv)) == \"hello world\", \"Test 1 failed\")\n",
    "assert(valueToString(evalExpr(v5, emptyEnv)) == \"\", \"Test 2 failed\")\n",
    "assert(valueToNum(evalExpr(StringLength(v5), emptyEnv)) == 0, \"Test 3 failed\")\n",
    "assert(valueToNum(evalExpr(StringLength(v1), emptyEnv)) == 11, \"Test 4 failed\")\n",
    "assert(evalExpr(StringLength(v4), emptyEnv) == NumValue(220.0), \"Test 5 failed\")\n",
    "\n",
    "passed(5)\n",
    "// END TEST "
   ]
  },
  {
   "cell_type": "code",
   "execution_count": 43,
   "metadata": {
    "deletable": false,
    "editable": false,
    "nbgrader": {
     "checksum": "b0c49e818bb523ae493533c34d3ea59c",
     "grade": true,
     "grade_id": "cell-cf3bc029085a33cb",
     "locked": true,
     "points": 5,
     "schema_version": 1,
     "solution": false
    }
   },
   "outputs": [
    {
     "name": "stdout",
     "output_type": "stream",
     "text": [
      "*** Tests Passed (5 points) ***"
     ]
    },
    {
     "data": {
      "text/plain": [
       "\u001b[36mv1\u001b[39m: \u001b[32mConstString\u001b[39m = \u001b[33mConstString\u001b[39m(\u001b[32m\"hello world\"\u001b[39m)\n",
       "\u001b[36mv6\u001b[39m: \u001b[32mSubString\u001b[39m = SubString(ConstString(hello world),Const(0.0),Const(3.0))\n",
       "\u001b[36mvv6\u001b[39m: \u001b[32mValue\u001b[39m = StringValue(hell)\n",
       "\u001b[36mx\u001b[39m: \u001b[32mIdentifier\u001b[39m = \u001b[33mIdentifier\u001b[39m(\u001b[32m\"x\"\u001b[39m)\n",
       "\u001b[36mv7\u001b[39m: \u001b[32mLet\u001b[39m = Let(x,ConstString(Gangster!),Let(y,Const(2.0),Mult(Identifier(x),Identifier(y))))"
      ]
     },
     "execution_count": 43,
     "metadata": {},
     "output_type": "execute_result"
    }
   ],
   "source": [
    "// BEGIN TEST\n",
    "val v1 = ConstString(\"hello world\")\n",
    "val v6 = SubString(v1,Const(0), Const(3))\n",
    "val vv6 = evalExpr(v6, Map()) \n",
    "assert(vv6 == StringValue(\"hell\"), \"Test 1 failed\")\n",
    "\n",
    "val x = Identifier(\"x\")\n",
    "val v7 = Let(\"x\", ConstString(\"Gangster!\"), Let (\"y\", Const(2.0), Mult(x, Identifier(\"y\"))))\n",
    "assert(evalExpr(v7, Map()) == StringValue(\"Gangster!Gangster!\"), \"Test 2 failed\")\n",
    "\n",
    "passed(5)\n",
    "// END TEST"
   ]
  },
  {
   "cell_type": "markdown",
   "metadata": {
    "deletable": false,
    "editable": false,
    "nbgrader": {
     "checksum": "e2414b1f3974801b85d0effbbff328e6",
     "grade": false,
     "grade_id": "cell-47367e59e5ac7041",
     "locked": true,
     "schema_version": 1,
     "solution": false
    }
   },
   "source": [
    "## Problem 3 (15 points)\n",
    "\n",
    "In this problem, we will explore Lettuce with function calls but with dynamic rather than static scoping. \n",
    "Let us take a bare bones subset given by the following grammar.\n",
    "\n",
    "$$\\begin{array}{rcl}\n",
    "\\mathbf{Program} & \\rightarrow & TopLevel(\\mathbf{Expr}) \\\\[5pt]\n",
    "\\mathbf{Expr} & \\rightarrow & Ident(\\mathbf{Identifier}) \\\\\n",
    "& \\rightarrow & Const(\\mathbf{Double}) \\\\\n",
    "& \\rightarrow & Plus(\\mathbf{Expr}, \\mathbf{Expr}) \\\\\n",
    "& \\rightarrow & Let(\\mathbf{Identifier}, \\mathbf{Expr}, \\mathbf{Expr}) \\\\\n",
    "& \\rightarrow & \\color{red}{FunDef(\\mathbf{Identifier}, \\mathbf{Expr})} \\\\\n",
    "& \\rightarrow & \\color{red}{FunCall(\\mathbf{Expr}, \\mathbf{Expr})} \\\\\n",
    "\\end{array} $$\n",
    "\n",
    "As explored earlier, we simply add new case classes to the abstract syntax tree in Scala. Next, we define the values."
   ]
  },
  {
   "cell_type": "code",
   "execution_count": 46,
   "metadata": {
    "deletable": false,
    "editable": false,
    "nbgrader": {
     "checksum": "8bece1d3eb21d49c16fa3d616cd75d0b",
     "grade": false,
     "grade_id": "cell-3db60f8531fdedf3",
     "locked": true,
     "schema_version": 1,
     "solution": false
    }
   },
   "outputs": [
    {
     "data": {
      "text/plain": [
       "defined \u001b[32mtrait\u001b[39m \u001b[36mProgram\u001b[39m\n",
       "defined \u001b[32mtrait\u001b[39m \u001b[36mExpr\u001b[39m\n",
       "defined \u001b[32mclass\u001b[39m \u001b[36mIdent\u001b[39m\n",
       "defined \u001b[32mclass\u001b[39m \u001b[36mConst\u001b[39m\n",
       "defined \u001b[32mclass\u001b[39m \u001b[36mPlus\u001b[39m\n",
       "defined \u001b[32mclass\u001b[39m \u001b[36mLet\u001b[39m\n",
       "defined \u001b[32mclass\u001b[39m \u001b[36mFunDef\u001b[39m\n",
       "defined \u001b[32mclass\u001b[39m \u001b[36mFunCall\u001b[39m"
      ]
     },
     "execution_count": 46,
     "metadata": {},
     "output_type": "execute_result"
    }
   ],
   "source": [
    "sealed trait Program\n",
    "sealed trait Expr\n",
    "case class Ident(st: String) extends Expr\n",
    "case class Const(f: Double) extends Expr\n",
    "case class Plus(e1: Expr, e2: Expr) extends Expr\n",
    "case class Let (id: String, e1: Expr, e2: Expr) extends Expr\n",
    "case class FunDef(id: String, bodyExpr: Expr) extends Expr\n",
    "case class FunCall(e: Expr, callBody: Expr) extends Expr"
   ]
  },
  {
   "cell_type": "code",
   "execution_count": 47,
   "metadata": {
    "deletable": false,
    "editable": false,
    "nbgrader": {
     "checksum": "ba7be026a24e10f3fdf0b217a0ec0925",
     "grade": false,
     "grade_id": "cell-2f5d4ca4fcfcf189",
     "locked": true,
     "schema_version": 1,
     "solution": false
    }
   },
   "outputs": [
    {
     "data": {
      "text/plain": [
       "defined \u001b[32mtrait\u001b[39m \u001b[36mValue\u001b[39m\n",
       "defined \u001b[32mclass\u001b[39m \u001b[36mNumValue\u001b[39m\n",
       "defined \u001b[32mclass\u001b[39m \u001b[36mClosure\u001b[39m\n",
       "defined \u001b[32mfunction\u001b[39m \u001b[36mvalueToNum\u001b[39m\n",
       "defined \u001b[32mfunction\u001b[39m \u001b[36mvalueToClosure\u001b[39m"
      ]
     },
     "execution_count": 47,
     "metadata": {},
     "output_type": "execute_result"
    }
   ],
   "source": [
    "sealed trait Value\n",
    "case class NumValue(f: Double) extends Value\n",
    "case class Closure(x: String, e: Expr, sigma: Map[String, Value]) extends Value\n",
    "\n",
    "def valueToNum(v: Value): Double = v match {\n",
    "    case NumValue(f) => f\n",
    "    case _ => throw new IllegalArgumentException(\"Asking to convert a non numeric value to number -- impossible!\")\n",
    "}\n",
    "\n",
    "def valueToClosure(v: Value): Closure = v match {\n",
    "    case Closure(x, e, s) => Closure(x, e, s)\n",
    "    case _ => throw new IllegalArgumentException(\"Asking to convert a numeric value to closure -- impossible!\")\n",
    "}\n"
   ]
  },
  {
   "cell_type": "markdown",
   "metadata": {
    "deletable": false,
    "editable": false,
    "nbgrader": {
     "checksum": "0a10e62191fabd1aa7dcebcacf7ef24c",
     "grade": false,
     "grade_id": "cell-4980143db4e0d980",
     "locked": true,
     "schema_version": 1,
     "solution": false
    }
   },
   "source": [
    "### 3 A (5 points): Explore static vs. dynamic scoping\n",
    "Let us write the operational semantics for evaluating a function call under _dynamic scoping_. Dynamic scoping was discussed in our notebook on Lettuce.\n",
    "\n",
    "Write down the value of the following program under **static** scoping.\n",
    "\n",
    "~~~\n",
    "let x = 10 in \n",
    "let y = 1 + x  in \n",
    "let f = function (x) \n",
    "          x * y\n",
    "        in \n",
    "let y = 20 in \n",
    "    f (20)\n",
    "~~~\n"
   ]
  },
  {
   "cell_type": "markdown",
   "metadata": {
    "deletable": false,
    "nbgrader": {
     "checksum": "044712e8731298c340636ca6e51a899a",
     "grade": true,
     "grade_id": "cell-bef117bdab037cf4",
     "locked": false,
     "points": 2.5,
     "schema_version": 1,
     "solution": true
    }
   },
   "source": [
    "$$\n",
    "x = 20\\\\\n",
    "y = 11\\\\\n",
    "f(20) = 20 * 11 = 220\n",
    "$$"
   ]
  },
  {
   "cell_type": "markdown",
   "metadata": {
    "deletable": false,
    "editable": false,
    "nbgrader": {
     "checksum": "ba2d08fb0cf56814893e94f831fc767c",
     "grade": false,
     "grade_id": "cell-86d1e4f15dc2746b",
     "locked": true,
     "schema_version": 1,
     "solution": false
    }
   },
   "source": [
    "And under **dynamic** scoping?"
   ]
  },
  {
   "cell_type": "markdown",
   "metadata": {
    "deletable": false,
    "nbgrader": {
     "checksum": "826934470624a0addc0206e1a4278c76",
     "grade": true,
     "grade_id": "cell-4d2d7122be1913c0",
     "locked": false,
     "points": 2.5,
     "schema_version": 1,
     "solution": true
    }
   },
   "source": [
    "$$\n",
    "x = 20\\\\\n",
    "y = 20\\\\\n",
    "f(20) = 20 * 20 = 400\n",
    "$$"
   ]
  },
  {
   "cell_type": "markdown",
   "metadata": {
    "deletable": false,
    "editable": false,
    "nbgrader": {
     "checksum": "68a0b6cead34410ceca6eba6f648d59e",
     "grade": false,
     "grade_id": "cell-7de1a17db7894886",
     "locked": true,
     "schema_version": 1,
     "solution": false
    }
   },
   "source": [
    "### Semantic rule for dynamic scoping\n",
    "\n",
    "We will now compare semantic rules for static vs. dynamic scoping.\n",
    "\n",
    "Note that the rule for function definitions is unchanged. \n",
    "\n",
    "$$ \\begin{array}{c}\n",
    "\\\\\n",
    "\\hline\n",
    "\\text{eval}(\\texttt{FuncDef}(x, e), \\sigma) = \\text{Closure}(x, \\texttt{e}, \\sigma) \\\\\n",
    "\\end{array} \\text{(func-def-ok)}$$\n",
    "\n",
    "The rule for static scoping was (see the notebook titled \"Function Calls in Lettuce\" for an explanation).\n",
    "\n",
    "\n",
    "$$ \\begin{array}{c}\n",
    "\\text{eval}(\\texttt{fun_expr}, \\sigma) = \\text{Closure}(\\color{blue}{p}, \\color{red}{\\texttt{e}}, \\color{green}{\\pi}),\\ \\text{eval}(\\texttt{arg_expr}, \\sigma) = v_2,\\ v_2 \\not= \\mathbf{error} \\\\\n",
    "\\hline\n",
    "\\texttt{eval}( \\texttt{FunCall(fun_expr, arg_expr)}, \\sigma )  = \\texttt{eval}( \\color{red}{\\texttt{e}}, \\color{green}{\\pi} [ \\color{blue}{p} \\mapsto v_2 ] )\\\\\n",
    "\\end{array} \\text{(funcall-static-ok)}\n",
    "$$\n",
    "\n",
    "Let us write a rule for dynamic scoping that will try to evaluate the body of the called function under the current environment. \n",
    "\n",
    "$$ \\begin{array}{c}\n",
    "\\text{eval}(\\texttt{fun_expr}, \\sigma) = \\text{Closure}(\\color{blue}{p}, \\color{red}{\\texttt{e}}, \\color{green}{\\pi}),\\ \\text{eval}(\\texttt{arg_expr}, \\sigma) = v_2,\\ v_2 \\not= \\mathbf{error} \\\\\n",
    "\\hline\n",
    "\\texttt{eval}( \\texttt{FunCall(fun_expr, arg_expr)}, \\sigma )  = \\texttt{eval}( \\color{red}{\\texttt{e}}, \\sigma[p \\mapsto v_2] )\\\\\n",
    "\\end{array} \\text{(funcall-dynamic-ok)}\n",
    "$$\n"
   ]
  },
  {
   "cell_type": "markdown",
   "metadata": {
    "deletable": false,
    "editable": false,
    "nbgrader": {
     "checksum": "df80e2b19f36608500635ca97c0de419",
     "grade": false,
     "grade_id": "cell-8f561a4c936cdaa9",
     "locked": true,
     "schema_version": 1,
     "solution": false
    }
   },
   "source": [
    "### 3 B (10 points): Write an interpreter\n",
    "\n",
    "Let us now write an interpreter that will implement dynamic scoping for function calls. Fill in missing portions from below."
   ]
  },
  {
   "cell_type": "code",
   "execution_count": 56,
   "metadata": {
    "deletable": false,
    "nbgrader": {
     "checksum": "bc74e99286f87825c1d91099991503b2",
     "grade": false,
     "grade_id": "cell-f71060f95d35d864",
     "locked": false,
     "schema_version": 1,
     "solution": true
    }
   },
   "outputs": [
    {
     "data": {
      "text/plain": [
       "defined \u001b[32mfunction\u001b[39m \u001b[36mevalExprDynamic\u001b[39m"
      ]
     },
     "execution_count": 56,
     "metadata": {},
     "output_type": "execute_result"
    }
   ],
   "source": [
    "def evalExprDynamic(e: Expr, env: Map[String, Value]): Value =  e match {\n",
    "    case Ident(x) => { \n",
    "        if (env contains x) {\n",
    "            env(x)\n",
    "        } else\n",
    "            throw new IllegalArgumentException(s\"Identifier $x not found\")\n",
    "    }\n",
    "    \n",
    "    case Const(f) => NumValue(f)\n",
    "    case Plus(e1, e2) => {\n",
    "        val v1 = valueToNum(evalExprDynamic(e1, env))\n",
    "        val v2 = valueToNum(evalExprDynamic(e2, env))\n",
    "        NumValue(v1 + v2)\n",
    "    }\n",
    "    case Let(x, e1, e2) => {\n",
    "        val v1 = evalExprDynamic(e1, env)\n",
    "        val newEnv = env + (x -> v1)\n",
    "        evalExprDynamic(e2, newEnv)\n",
    "    }\n",
    "    \n",
    "    case FunDef(id, e) => {\n",
    "        Closure(id, e, env)\n",
    "    }\n",
    "    \n",
    "    case FunCall(callExpr, argExpr) => { \n",
    "        // YOUR CODE HERE\n",
    "        val eval1 = evalExprDynamic(callExpr, env)\n",
    "        val eval2 = evalExprDynamic(argExpr, env)\n",
    "        eval1 match {\n",
    "            case Closure(p, e, pi) => {\n",
    "                val newEnv = env + (p -> eval2)\n",
    "                evalExprDynamic(e, newEnv)\n",
    "            }\n",
    "        }\n",
    "    }\n",
    "}"
   ]
  },
  {
   "cell_type": "code",
   "execution_count": 57,
   "metadata": {
    "deletable": false,
    "editable": false,
    "nbgrader": {
     "checksum": "96d643a56f288dfed86c22c311dc2fa9",
     "grade": true,
     "grade_id": "cell-00e79dd808b1d684",
     "locked": true,
     "points": 4,
     "schema_version": 1,
     "solution": false
    }
   },
   "outputs": [
    {
     "name": "stdout",
     "output_type": "stream",
     "text": [
      "*** Tests Passed (4 points) ***"
     ]
    },
    {
     "data": {
      "text/plain": [
       "\u001b[36mx\u001b[39m: \u001b[32mIdent\u001b[39m = \u001b[33mIdent\u001b[39m(\u001b[32m\"x\"\u001b[39m)\n",
       "\u001b[36my\u001b[39m: \u001b[32mIdent\u001b[39m = \u001b[33mIdent\u001b[39m(\u001b[32m\"y\"\u001b[39m)\n",
       "\u001b[36mf\u001b[39m: \u001b[32mIdent\u001b[39m = \u001b[33mIdent\u001b[39m(\u001b[32m\"f\"\u001b[39m)\n",
       "\u001b[36me1\u001b[39m: \u001b[32mLet\u001b[39m = Let(x,Const(11.0),FunCall(Ident(f),Const(11.0)))\n",
       "\u001b[36me2\u001b[39m: \u001b[32mLet\u001b[39m = Let(f,FunDef(y,Plus(Ident(y),Ident(x))),Let(x,Const(11.0),FunCall(Ident(f),Const(11.0))))\n",
       "\u001b[36me3\u001b[39m: \u001b[32mLet\u001b[39m = Let(x,Const(10.0),Let(f,FunDef(y,Plus(Ident(y),Ident(x))),Let(x,Const(11.0),FunCall(Ident(f),Const(11.0)))))"
      ]
     },
     "execution_count": 57,
     "metadata": {},
     "output_type": "execute_result"
    }
   ],
   "source": [
    "//BEGIN TEST\n",
    "\n",
    "// let x = 10 in let f = function (y) y + x in let x = 11 in f(11)\n",
    "val x = Ident(\"x\")\n",
    "val y = Ident(\"y\")\n",
    "val f = Ident(\"f\")\n",
    "val e1 = Let(\"x\", Const(11), FunCall(f, Const(11)))\n",
    "val e2 = Let(\"f\", FunDef(\"y\", Plus(y, x)), e1)\n",
    "val e3 = Let(\"x\", Const(10), e2)\n",
    "\n",
    "assert( evalExprDynamic(e3, Map()) == NumValue(22.0), \"Test 1 failed\" )\n",
    "\n",
    "passed(4)\n",
    "//END TEST"
   ]
  },
  {
   "cell_type": "code",
   "execution_count": 58,
   "metadata": {
    "deletable": false,
    "editable": false,
    "nbgrader": {
     "checksum": "279e6ebbe84ad461df97d24e7e8d1a83",
     "grade": true,
     "grade_id": "cell-6ad8e8ef03ae48ae",
     "locked": true,
     "points": 3,
     "schema_version": 1,
     "solution": false
    }
   },
   "outputs": [
    {
     "name": "stdout",
     "output_type": "stream",
     "text": [
      "*** Tests Passed (3 points) ***"
     ]
    },
    {
     "data": {
      "text/plain": [
       "\u001b[36mx\u001b[39m: \u001b[32mIdent\u001b[39m = \u001b[33mIdent\u001b[39m(\u001b[32m\"x\"\u001b[39m)\n",
       "\u001b[36my\u001b[39m: \u001b[32mIdent\u001b[39m = \u001b[33mIdent\u001b[39m(\u001b[32m\"y\"\u001b[39m)\n",
       "\u001b[36mf\u001b[39m: \u001b[32mIdent\u001b[39m = \u001b[33mIdent\u001b[39m(\u001b[32m\"f\"\u001b[39m)\n",
       "\u001b[36me1\u001b[39m: \u001b[32mLet\u001b[39m = Let(y,Const(20.0),FunCall(Ident(f),Const(20.0)))\n",
       "\u001b[36me2\u001b[39m: \u001b[32mLet\u001b[39m = Let(f,FunDef(x,Plus(Ident(y),Ident(x))),Let(y,Const(20.0),FunCall(Ident(f),Const(20.0))))\n",
       "\u001b[36me3\u001b[39m: \u001b[32mLet\u001b[39m = Let(y,Plus(Const(1.0),Ident(x)),Let(f,FunDef(x,Plus(Ident(y),Ident(x))),Let(y,Const(20.0),FunCall(Ident(f),Const(20.0)))))\n",
       "\u001b[36me4\u001b[39m: \u001b[32mLet\u001b[39m = Let(x,Const(10.0),Let(y,Plus(Const(1.0),Ident(x)),Let(f,FunDef(x,Plus(Ident(y),Ident(x))),Let(y,Const(20.0),FunCall(Ident(f),Const(20.0))))))"
      ]
     },
     "execution_count": 58,
     "metadata": {},
     "output_type": "execute_result"
    }
   ],
   "source": [
    "//BEGIN TEST\n",
    "/*\n",
    "let x = 10 in \n",
    "let y = 1 + x  in \n",
    "let f = function (x) \n",
    "          x + y\n",
    "        in \n",
    "let y = 20 in \n",
    "    f (20)\n",
    "    */\n",
    "\n",
    "val x = Ident(\"x\")\n",
    "val y = Ident(\"y\")\n",
    "val f = Ident(\"f\")\n",
    "val e1 = Let(\"y\", Const(20), FunCall(f, Const(20)))\n",
    "val e2 = Let(\"f\", FunDef(\"x\", Plus(y, x)), e1)\n",
    "val e3 = Let(\"y\", Plus(Const(1), x), e2)\n",
    "val e4 = Let(\"x\", Const(10), e3)\n",
    "\n",
    "assert( evalExprDynamic(e4, Map()) == NumValue(40.0), \"Test 2 failed\" )\n",
    "\n",
    "passed(3)\n",
    "//END TEST"
   ]
  },
  {
   "cell_type": "code",
   "execution_count": 59,
   "metadata": {
    "deletable": false,
    "editable": false,
    "nbgrader": {
     "checksum": "19a841d4d42f3df549a7b944b09ef7da",
     "grade": true,
     "grade_id": "cell-a34a49ca0be1708f",
     "locked": true,
     "points": 3,
     "schema_version": 1,
     "solution": false
    }
   },
   "outputs": [
    {
     "name": "stdout",
     "output_type": "stream",
     "text": [
      "*** Tests Passed (3 points) ***"
     ]
    },
    {
     "data": {
      "text/plain": [
       "\u001b[36mx\u001b[39m: \u001b[32mIdent\u001b[39m = \u001b[33mIdent\u001b[39m(\u001b[32m\"x\"\u001b[39m)\n",
       "\u001b[36my\u001b[39m: \u001b[32mIdent\u001b[39m = \u001b[33mIdent\u001b[39m(\u001b[32m\"y\"\u001b[39m)\n",
       "\u001b[36mf\u001b[39m: \u001b[32mIdent\u001b[39m = \u001b[33mIdent\u001b[39m(\u001b[32m\"f\"\u001b[39m)\n",
       "\u001b[36mz\u001b[39m: \u001b[32mIdent\u001b[39m = \u001b[33mIdent\u001b[39m(\u001b[32m\"z\"\u001b[39m)\n",
       "\u001b[36mw\u001b[39m: \u001b[32mIdent\u001b[39m = \u001b[33mIdent\u001b[39m(\u001b[32m\"w\"\u001b[39m)\n",
       "\u001b[36ma\u001b[39m: \u001b[32mIdent\u001b[39m = \u001b[33mIdent\u001b[39m(\u001b[32m\"a\"\u001b[39m)\n",
       "\u001b[36me1\u001b[39m: \u001b[32mLet\u001b[39m = Let(x,Const(20.0),FunCall(Ident(f),Ident(y)))\n",
       "\u001b[36mfn_f\u001b[39m: \u001b[32mFunDef\u001b[39m = FunDef(a,FunCall(Ident(g),Plus(Ident(a),Ident(x))))\n",
       "\u001b[36me2\u001b[39m: \u001b[32mLet\u001b[39m = Let(f,FunDef(a,FunCall(Ident(g),Plus(Ident(a),Ident(x)))),Let(x,Const(20.0),FunCall(Ident(f),Ident(y))))\n",
       "\u001b[36mfn_g\u001b[39m: \u001b[32mFunDef\u001b[39m = FunDef(y,Plus(Ident(x),Ident(y)))\n",
       "\u001b[36me3\u001b[39m: \u001b[32mLet\u001b[39m = Let(g,FunDef(y,Plus(Ident(x),Ident(y))),Let(f,FunDef(a,FunCall(Ident(g),Plus(Ident(a),Ident(x)))),Let(x,Const(20.0),FunCall(Ident(f),Ident(y)))))\n",
       "\u001b[36me4\u001b[39m: \u001b[32mLet\u001b[39m = Let(z,Plus(Const(1.0),Ident(y)),Let(g,FunDef(y,Plus(Ident(x),Ident(y))),Let(f,FunDef(a,FunCall(Ident(g),Plus(Ident(a),Ident(x)))),Let(x,Const(20.0),FunCall(Ident(f),Ident(y))))))\n",
       "\u001b[36me5\u001b[39m: \u001b[32mLet\u001b[39m = Let(y,Plus(Const(1.0),Ident(x)),Let(z,Plus(Const(1.0),Ident(y)),Let(g,FunDef(y,Plus(Ident(x),Ident(y))),Let(f,FunDef(a,FunCall(Ident(g),Plus(Ident(a),Ident(x)))),Let(x,Const(20.0),FunCall(Ident(f),Ident(y)))))))\n",
       "\u001b[36me6\u001b[39m: \u001b[32mLet\u001b[39m = Let(x,Const(10.0),Let(y,Plus(Const(1.0),Ident(x)),Let(z,Plus(Const(1.0),Ident(y)),Let(g,FunDef(y,Plus(Ident(x),Ident(y))),Let(f,FunDef(a,FunCall(Ident(g),Plus(Ident(a),Ident(x)))),Let(x,Const(20.0),FunCall(Ident(f),Ident(y))))))))"
      ]
     },
     "execution_count": 59,
     "metadata": {},
     "output_type": "execute_result"
    }
   ],
   "source": [
    "//BEGIN TEST\n",
    "/*\n",
    "let x = 10 in \n",
    "let y = 1 + x  in \n",
    "let z = 1 + y in \n",
    "let g = function (y)\n",
    "        x + y \n",
    "        in \n",
    "let f = function (a) \n",
    "         g(a + x)\n",
    "        in \n",
    "let x = 20 in \n",
    "    f (y)\n",
    "    */\n",
    "\n",
    "val x = Ident(\"x\")\n",
    "val y = Ident(\"y\")\n",
    "val f = Ident(\"f\")\n",
    "val z = Ident(\"z\")\n",
    "val w = Ident(\"w\")\n",
    "val a = Ident(\"a\")\n",
    "\n",
    "val e1 = Let(\"x\", Const(20), FunCall(f, y)) // let y =  20 in f(y)(30)\n",
    "val fn_f = FunDef(\"a\", FunCall(Ident(\"g\"), Plus(a, x))) // function(a) g(a + x)\n",
    "val e2 = Let(\"f\", fn_f, e1) // let f = function(a) ..\n",
    "val fn_g = FunDef(\"y\", Plus(x, y)) \n",
    "val e3 = Let(\"g\", fn_g, e2)\n",
    "val e4 = Let(\"z\", Plus(Const(1), y), e3) // let z = 1 + y in ...\n",
    "val e5 = Let(\"y\", Plus(Const(1), x), e4) // let y = 1 + x in ...\n",
    "val e6 = Let(\"x\", Const(10), e5)// let x = 10 in ..\n",
    "assert( evalExprDynamic(e6, Map()) == NumValue(51.0), \"Test 3 failed\")\n",
    "\n",
    "passed(3)\n",
    "//END TEST"
   ]
  },
  {
   "cell_type": "markdown",
   "metadata": {
    "deletable": false,
    "editable": false,
    "nbgrader": {
     "checksum": "369f2a539e0a3752eb14627cbc7f20c7",
     "grade": false,
     "grade_id": "cell-70b3c71dcc58c25e",
     "locked": true,
     "schema_version": 1,
     "solution": false
    }
   },
   "source": [
    "## 3 (D) Challenge Problem (Do not submit with assignment)\n",
    "\n",
    "Let us investigate the behavior of the following program under the dynamic scoping rule thus far.\n",
    "\n",
    "~~~\n",
    "let x = 10 in \n",
    "let y = 1 + x in \n",
    "let z = 1 + y in \n",
    "let f = function (x) function (w)\n",
    "          x + y + z + w\n",
    "        in\n",
    "let y = 20 in \n",
    "    f(y)(30)\n",
    "~~~\n",
    "\n",
    "What should the value of this function be under dynamic scoping? To help you out, here is the same program in python that implements dynamic scoping.\n",
    "\n",
    "~~~\n",
    "x = 10\n",
    "y = x + 1\n",
    "z = y + 1\n",
    "def f(x):\n",
    "   def g(w):\n",
    "       return x + y + z + w\n",
    "   return g\n",
    "y = 20\n",
    "f(y)(30)\n",
    "~~~\n",
    "\n",
    "However, check out what our interpreter returns:"
   ]
  },
  {
   "cell_type": "code",
   "execution_count": 24,
   "metadata": {
    "deletable": false,
    "editable": false,
    "nbgrader": {
     "checksum": "04af754871696b2e80f902bf2c11bbe4",
     "grade": false,
     "grade_id": "cell-9a49bc22bcce2764",
     "locked": true,
     "schema_version": 1,
     "solution": false
    }
   },
   "outputs": [
    {
     "ename": "",
     "evalue": "",
     "output_type": "error",
     "traceback": [
      "\u001b[31mscala.NotImplementedError: an implementation is missing\u001b[39m",
      "  scala.Predef$.$qmark$qmark$qmark(\u001b[32mPredef.scala\u001b[39m:\u001b[32m230\u001b[39m)",
      "  $sess.cmd19Wrapper$Helper.evalExprDynamic(\u001b[32mcmd19.sc\u001b[39m:\u001b[32m27\u001b[39m)",
      "  $sess.cmd23Wrapper$Helper.<init>(\u001b[32mcmd23.sc\u001b[39m:\u001b[32m14\u001b[39m)",
      "  $sess.cmd23Wrapper.<init>(\u001b[32mcmd23.sc\u001b[39m:\u001b[32m277\u001b[39m)",
      "  $sess.cmd23$.<init>(\u001b[32mcmd23.sc\u001b[39m:\u001b[32m139\u001b[39m)",
      "  $sess.cmd23$.<clinit>(\u001b[32mcmd23.sc\u001b[39m:\u001b[32m-1\u001b[39m)"
     ]
    }
   ],
   "source": [
    "val x = Ident(\"x\")\n",
    "val y = Ident(\"y\")\n",
    "val f = Ident(\"f\")\n",
    "val z = Ident(\"z\")\n",
    "val w = Ident(\"w\")\n",
    "\n",
    "val e1 = Let(\"y\", Const(20), FunCall(FunCall(f, y), Const(30) )) // let y = 20 in f(y)(30)\n",
    "val innerFn = FunDef(\"w\", Plus( Plus(x,y), Plus(z,w)))\n",
    "val e2 = Let(\"f\", FunDef(\"x\", innerFn), e1)\n",
    "val e3 = Let(\"z\", Plus(Const(1), y), e2)\n",
    "val e4 = Let(\"y\", Plus(Const(1), x), e3)\n",
    "val e5 = Let(\"x\", Const(10), e4)\n",
    "\n",
    "print(s\"my interpreter returns: ${evalExprDynamic(e5, Map())}\")"
   ]
  },
  {
   "cell_type": "markdown",
   "metadata": {
    "deletable": false,
    "editable": false,
    "nbgrader": {
     "checksum": "9df709cdfeb7d7a7256eb4d6d45b1eae",
     "grade": false,
     "grade_id": "cell-8715e8c4ced4c567",
     "locked": true,
     "schema_version": 1,
     "solution": false
    }
   },
   "source": [
    "Explain why the result is wrong/different from what dynamic scoping in Python produces? Fix the interpreter to handle dynamic scoping correctly. Email your answer (code and explanation) directly to Sriram. First two answers will get a prize. The challenge problem will be due in 2 weeks."
   ]
  }
 ],
 "metadata": {
  "kernelspec": {
   "display_name": "Scala",
   "language": "scala",
   "name": "scala"
  },
  "language_info": {
   "codemirror_mode": "text/x-scala",
   "file_extension": ".scala",
   "mimetype": "text/x-scala",
   "name": "scala211",
   "nbconvert_exporter": "script",
   "pygments_lexer": "scala",
   "version": "2.11.11"
  }
 },
 "nbformat": 4,
 "nbformat_minor": 2
}
