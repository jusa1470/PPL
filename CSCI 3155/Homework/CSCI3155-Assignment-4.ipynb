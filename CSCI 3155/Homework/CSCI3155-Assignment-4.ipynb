{
 "cells": [
  {
   "cell_type": "markdown",
   "metadata": {
    "deletable": false,
    "editable": false,
    "nbgrader": {
     "checksum": "6040983709957a8d7fb7427b1b8b5be3",
     "grade": false,
     "grade_id": "cell-554205c9fbf8e007",
     "locked": true,
     "schema_version": 1,
     "solution": false
    }
   },
   "source": [
    "# CSCI 3155: Assignment 4\n",
    "\n",
    "Topics Covered: Operations on inductive definitions, building an interpreter, big step operational semantics and using map, foldLeft and filter functions to replace loops."
   ]
  },
  {
   "cell_type": "markdown",
   "metadata": {},
   "source": [
    "__Name__: Julia Sanford"
   ]
  },
  {
   "cell_type": "markdown",
   "metadata": {
    "deletable": false,
    "editable": false,
    "nbgrader": {
     "checksum": "05a0759a3ae5269a453135edd9c16e81",
     "grade": false,
     "grade_id": "cell-c96c33d1328b5f1b",
     "locked": true,
     "schema_version": 1,
     "solution": false
    }
   },
   "source": [
    "## Problem 1: Pattern Matching, Inductive Structures (25 points)\n",
    "\n",
    "This assignment asks you to implement `hasKey` and `deleteKey` operations on a Binary Search Tree (BST) in order to implement `deleteKey`. We have already seen how to  do some basic tasks on BSTs such as `isBST` and `insert` (lecture on Sept. 18, recitation on Sept. 21)."
   ]
  },
  {
   "cell_type": "markdown",
   "metadata": {
    "deletable": false,
    "editable": false,
    "nbgrader": {
     "checksum": "bc61507df52f89b73ebf73e249f0f727",
     "grade": false,
     "grade_id": "cell-00c7d2a86059598a",
     "locked": true,
     "schema_version": 1,
     "solution": false
    }
   },
   "source": [
    "### 1A: hasKey (5 points)\n",
    "\n",
    "Implement a `hasKey` function on binary search trees that returns `true` if a key `k` is present and `false` otherwise."
   ]
  },
  {
   "cell_type": "code",
   "execution_count": 1,
   "metadata": {
    "deletable": false,
    "editable": false,
    "nbgrader": {
     "checksum": "2937c1325e185e251f656bdae8060681",
     "grade": false,
     "grade_id": "cell-8fa7eb048256fdff",
     "locked": true,
     "schema_version": 1,
     "solution": false
    }
   },
   "outputs": [
    {
     "data": {
      "text/plain": [
       "defined \u001b[32mfunction\u001b[39m \u001b[36mpassed\u001b[39m"
      ]
     },
     "execution_count": 1,
     "metadata": {},
     "output_type": "execute_result"
    }
   ],
   "source": [
    "// TEST HELPER\n",
    "def passed(points: Int) {\n",
    "    require(points >=0)\n",
    "    if (points == 1) print(s\"Tests Passed (1 point)\")\n",
    "    else print(s\"Tests Passed ($points points)\") \n",
    "    \n",
    "}"
   ]
  },
  {
   "cell_type": "code",
   "execution_count": 2,
   "metadata": {
    "deletable": false,
    "nbgrader": {
     "checksum": "7e67d71a32e14e47fc322e609c008fd6",
     "grade": false,
     "grade_id": "1a-answer",
     "locked": false,
     "schema_version": 1,
     "solution": true
    }
   },
   "outputs": [
    {
     "data": {
      "text/plain": [
       "defined \u001b[32mtrait\u001b[39m \u001b[36mNumTree\u001b[39m\n",
       "defined \u001b[32mobject\u001b[39m \u001b[36mLeaf\u001b[39m\n",
       "defined \u001b[32mclass\u001b[39m \u001b[36mNode\u001b[39m\n",
       "defined \u001b[32mfunction\u001b[39m \u001b[36mhasKey\u001b[39m"
      ]
     },
     "execution_count": 2,
     "metadata": {},
     "output_type": "execute_result"
    }
   ],
   "source": [
    "sealed trait NumTree\n",
    "case object Leaf extends NumTree\n",
    "case class Node(j: Int, left: NumTree, right: NumTree ) extends NumTree\n",
    "\n",
    "def hasKey(t: NumTree, k: Int): Boolean = t match {\n",
    "    // YOUR CODE HERE\n",
    "    case Leaf => false\n",
    "    case Node(j, left, right) if(k == j) => true\n",
    "    case Node(j, left, _) if(k < j) => hasKey(left, k)\n",
    "    case Node(j, _, right) if(k > j) => hasKey(right, k)\n",
    "}"
   ]
  },
  {
   "cell_type": "code",
   "execution_count": 3,
   "metadata": {
    "deletable": false,
    "editable": false,
    "nbgrader": {
     "checksum": "f0841a2e8f50cc92637781a56f6d8da3",
     "grade": true,
     "grade_id": "1a-tests",
     "locked": true,
     "points": 5,
     "schema_version": 1,
     "solution": false
    }
   },
   "outputs": [
    {
     "name": "stdout",
     "output_type": "stream",
     "text": [
      "Tests Passed (5 points)"
     ]
    },
    {
     "data": {
      "text/plain": [
       "\u001b[36mt1\u001b[39m: \u001b[32mLeaf\u001b[39m.type = Leaf\n",
       "\u001b[36mt2\u001b[39m: \u001b[32mNode\u001b[39m = Node(10,Node(8,Leaf,Node(9,Leaf,Leaf)),Node(12,Node(11,Leaf,Leaf),Leaf))\n",
       "\u001b[36mt3\u001b[39m: \u001b[32mNode\u001b[39m = Node(20,Node(10,Node(8,Leaf,Node(9,Leaf,Leaf)),Node(12,Node(11,Leaf,Leaf),Leaf)),Node(25,Node(18,Leaf,Leaf),Leaf))"
      ]
     },
     "execution_count": 3,
     "metadata": {},
     "output_type": "execute_result"
    }
   ],
   "source": [
    "// BEGIN TESTS\n",
    "val t1 = Leaf\n",
    "assert(hasKey(t1, 20) == false, \"Test 1 failed: hasKey(Leaf, 20) should be false\")\n",
    "\n",
    "val t2 = Node(10, Node(8, Leaf, Node(9, Leaf, Leaf)), Node(12, Node(11, Leaf, Leaf), Leaf))\n",
    "assert(hasKey(t2, 10), \"Test 2 failed hasKey(t2, 10)\")\n",
    "assert(hasKey(t2, 11), \"Test 3 failed hasKey(t2, 11)\")\n",
    "assert(!hasKey(t2, 7), \"Test 4 failed !hasKey(t2, 7)\")\n",
    "\n",
    "val t3 = Node(20, t2, Node(25, Node(18, Leaf, Leaf), Leaf))\n",
    "assert(!hasKey(t3, 7), \"Test 5 failed !hasKey(t3, 7)\")\n",
    "assert(hasKey(t3, 12), \"Test 6 failed hasKey(t3, 12)\")\n",
    "\n",
    "passed(5)\n",
    "// END TESTS"
   ]
  },
  {
   "cell_type": "markdown",
   "metadata": {
    "deletable": false,
    "editable": false,
    "nbgrader": {
     "checksum": "98da7c08f64e254a3cb1bf1d18134a5c",
     "grade": false,
     "grade_id": "cell-a707ddd95961ad6f",
     "locked": true,
     "schema_version": 1,
     "solution": false
    }
   },
   "source": [
    "### 1B: deleteMin (10 points)\n",
    "\n",
    "Implement a function `deleteMin(t: NumTree): (NumTree, Int)` that deletes the minimum element of a binary search tree `t` and returns a tuple of two things: (a) the new tree with the deletion and (b) the new value of the deleted node."
   ]
  },
  {
   "cell_type": "code",
   "execution_count": 4,
   "metadata": {
    "deletable": false,
    "nbgrader": {
     "checksum": "375815563e908d626809cab6f04d0c8b",
     "grade": false,
     "grade_id": "1b-answer",
     "locked": false,
     "schema_version": 1,
     "solution": true
    }
   },
   "outputs": [
    {
     "data": {
      "text/plain": [
       "defined \u001b[32mfunction\u001b[39m \u001b[36mdeleteMin\u001b[39m"
      ]
     },
     "execution_count": 4,
     "metadata": {},
     "output_type": "execute_result"
    }
   ],
   "source": [
    "def deleteMin(t: NumTree): (NumTree, Int) =  {\n",
    "    require(t != Leaf)\n",
    "    // YOUR CODE HERE\n",
    "    t match {\n",
    "        case Node(k, Leaf, Leaf) => (Leaf, k)\n",
    "        case Node(k, Leaf, right) => (right, k)\n",
    "        case Node(k, left, right) => (Node(k, deleteMin(left)._1, right), deleteMin(left)._2)\n",
    "    }\n",
    "}"
   ]
  },
  {
   "cell_type": "code",
   "execution_count": 5,
   "metadata": {
    "deletable": false,
    "editable": false,
    "nbgrader": {
     "checksum": "f66613cb24a87782c6cdb51d87ccf667",
     "grade": true,
     "grade_id": "1b-test-left_leaf",
     "locked": true,
     "points": 3,
     "schema_version": 1,
     "solution": false
    }
   },
   "outputs": [
    {
     "name": "stdout",
     "output_type": "stream",
     "text": [
      "Tests Passed (3 points)"
     ]
    },
    {
     "data": {
      "text/plain": [
       "\u001b[36mt1\u001b[39m: \u001b[32mNode\u001b[39m = Node(10,Leaf,Leaf)\n",
       "\u001b[36mt1r\u001b[39m: \u001b[32mLeaf\u001b[39m.type = Leaf\n",
       "\u001b[36mt1res\u001b[39m: \u001b[32mNumTree\u001b[39m = Leaf\n",
       "\u001b[36mminval1\u001b[39m: \u001b[32mInt\u001b[39m = \u001b[32m10\u001b[39m"
      ]
     },
     "execution_count": 5,
     "metadata": {},
     "output_type": "execute_result"
    }
   ],
   "source": [
    "// BEGIN TESTS\n",
    "\n",
    "// TEST 1\n",
    "val t1 = Node(10, Leaf, Leaf )\n",
    "val t1r = Leaf\n",
    "val (t1res, minval1) = deleteMin(t1)\n",
    "assert((t1res, minval1) == (t1r, 10), s\"Test 1 failed: expected $t1r, obtained: ${(t1res, minval1)})\")\n",
    "\n",
    "passed(3)"
   ]
  },
  {
   "cell_type": "code",
   "execution_count": 6,
   "metadata": {
    "deletable": false,
    "editable": false,
    "nbgrader": {
     "checksum": "c1e0648a2a9c41edb185c1ef4e87848b",
     "grade": true,
     "grade_id": "1b-test-large",
     "locked": true,
     "points": 7,
     "schema_version": 1,
     "solution": false
    }
   },
   "outputs": [
    {
     "name": "stdout",
     "output_type": "stream",
     "text": [
      "Tests Passed (7 points)"
     ]
    },
    {
     "data": {
      "text/plain": [
       "\u001b[36mt2\u001b[39m: \u001b[32mNode\u001b[39m = Node(10,Node(8,Leaf,Node(9,Leaf,Leaf)),Node(12,Node(11,Leaf,Leaf),Leaf))\n",
       "\u001b[36mt2r\u001b[39m: \u001b[32mNode\u001b[39m = Node(10,Node(9,Leaf,Leaf),Node(12,Node(11,Leaf,Leaf),Leaf))\n",
       "\u001b[36mt2res\u001b[39m: \u001b[32mNumTree\u001b[39m = Node(10,Node(9,Leaf,Leaf),Node(12,Node(11,Leaf,Leaf),Leaf))\n",
       "\u001b[36mminval2\u001b[39m: \u001b[32mInt\u001b[39m = \u001b[32m8\u001b[39m\n",
       "\u001b[36mt3\u001b[39m: \u001b[32mNode\u001b[39m = Node(20,Node(10,Node(8,Leaf,Node(9,Leaf,Leaf)),Node(12,Node(11,Leaf,Leaf),Leaf)),Node(25,Node(18,Leaf,Leaf),Leaf))\n",
       "\u001b[36mt3r\u001b[39m: \u001b[32mNode\u001b[39m = Node(20,Node(10,Node(9,Leaf,Leaf),Node(12,Node(11,Leaf,Leaf),Leaf)),Node(25,Node(18,Leaf,Leaf),Leaf))\n",
       "\u001b[36mt3res\u001b[39m: \u001b[32mNumTree\u001b[39m = Node(20,Node(10,Node(9,Leaf,Leaf),Node(12,Node(11,Leaf,Leaf),Leaf)),Node(25,Node(18,Leaf,Leaf),Leaf))\n",
       "\u001b[36mminval3\u001b[39m: \u001b[32mInt\u001b[39m = \u001b[32m8\u001b[39m\n",
       "\u001b[36mt4\u001b[39m: \u001b[32mNode\u001b[39m = Node(20,Node(10,Node(5,Node(2,Node(1,Leaf,Leaf),Node(3,Leaf,Leaf)),Leaf),Leaf),Leaf)\n",
       "\u001b[36mt4r\u001b[39m: \u001b[32mNode\u001b[39m = Node(20,Node(10,Node(5,Node(2,Leaf,Node(3,Leaf,Leaf)),Leaf),Leaf),Leaf)\n",
       "\u001b[36mt4res\u001b[39m: \u001b[32mNumTree\u001b[39m = Node(20,Node(10,Node(5,Node(2,Leaf,Node(3,Leaf,Leaf)),Leaf),Leaf),Leaf)\n",
       "\u001b[36mminval4\u001b[39m: \u001b[32mInt\u001b[39m = \u001b[32m1\u001b[39m"
      ]
     },
     "execution_count": 6,
     "metadata": {},
     "output_type": "execute_result"
    }
   ],
   "source": [
    "// TEST 2\n",
    "val t2 = Node(10, Node(8, Leaf, Node(9, Leaf, Leaf)), Node(12, Node(11, Leaf, Leaf), Leaf))\n",
    "val t2r = Node(10, Node(9, Leaf, Leaf), Node(12, Node(11, Leaf, Leaf), Leaf))\n",
    "val (t2res, minval2) = deleteMin(t2)\n",
    "assert((t2res, minval2) == (t2r, 8), s\"Test 2 failed: expected $t2r, obtained: (${(t2res, minval2)})\")\n",
    "\n",
    "// Test 3\n",
    "val t3 = Node(20, t2, Node(25, Node(18, Leaf, Leaf), Leaf))\n",
    "val t3r = Node(20, t2r, Node(25, Node(18, Leaf, Leaf), Leaf))\n",
    "val (t3res, minval3) = deleteMin(t3)\n",
    "assert((t3res, minval3) == (t3r, 8), s\"Test 3 failed: expected $t3r, obtained: (${(t3res, minval3)})\")\n",
    "\n",
    "// Test 4\n",
    "\n",
    "val t4 = Node(20, Node(10, Node(5, Node(2, Node(1, Leaf, Leaf), Node(3, Leaf, Leaf)), Leaf), Leaf), Leaf)\n",
    "val t4r = Node(20, Node(10, Node(5, Node(2, Leaf, Node(3, Leaf, Leaf)), Leaf), Leaf), Leaf)\n",
    "val (t4res, minval4) = deleteMin(t4)\n",
    "assert((t4res, minval4) == (t4r, 1), s\"Test 4 failed: expected $t4r, obtained: (${(t4res, minval4)})\")\n",
    "\n",
    "passed(7)\n",
    "// END TESTS"
   ]
  },
  {
   "cell_type": "markdown",
   "metadata": {
    "deletable": false,
    "editable": false,
    "nbgrader": {
     "checksum": "911e6e081c7bd1e0e8c4fd843c84dbfb",
     "grade": false,
     "grade_id": "cell-989837fca92be5ec",
     "locked": true,
     "schema_version": 1,
     "solution": false
    }
   },
   "source": [
    "### 1C: deleteKey (10 points)\n",
    "\n",
    "Now implement a function `deleteKey(j: Int)` that deletes a given key from the BST. Assume that the key `j` to be deleted will be part of the BST.\n",
    "\n",
    "Recall how to do BST deletion:\n",
    "\n",
    "- First recursively get to the node to be deleted.\n",
    "- If one of its children is a `Leaf`, simply replace the node by the other child.\n",
    "- If both its children are non leaf, use `deleteMin` on the right child and \n",
    "   replace the node's value by the integer value returned by `deleteMin`, and the right child of the\n",
    "   node by the resulting tree of the `deleteMin`."
   ]
  },
  {
   "cell_type": "code",
   "execution_count": 7,
   "metadata": {
    "deletable": false,
    "nbgrader": {
     "checksum": "fe1d172949c4e157c0c4804e0ff6bcdd",
     "grade": false,
     "grade_id": "1c-answer",
     "locked": false,
     "schema_version": 1,
     "solution": true
    }
   },
   "outputs": [
    {
     "data": {
      "text/plain": [
       "defined \u001b[32mfunction\u001b[39m \u001b[36mdeleteKey\u001b[39m"
      ]
     },
     "execution_count": 7,
     "metadata": {},
     "output_type": "execute_result"
    }
   ],
   "source": [
    "def deleteKey(t: NumTree, j: Int): NumTree = {\n",
    "    require(t != Leaf)\n",
    "    // YOUR CODE HERE\n",
    "    t match {\n",
    "        case Node(k, Leaf, Leaf) if(j == k) => Leaf\n",
    "        case Node(k, left, Leaf) if(j == k) => left\n",
    "        case Node(k, Leaf, right) if(j == k) => right\n",
    "        case Node(k, left, right) if(j == k) => Node(deleteMin(right)._2, left, deleteMin(right)._1)\n",
    "        case Node(k, left, right) if(j < k) => Node(k, deleteKey(left, j), right)\n",
    "        case Node(k, left, right) if(j > k) => Node(k, left, deleteKey(right, j))\n",
    "    }\n",
    "}"
   ]
  },
  {
   "cell_type": "code",
   "execution_count": 8,
   "metadata": {
    "deletable": false,
    "editable": false,
    "nbgrader": {
     "checksum": "b668d102d0e85cbc5a4c6f6813128d41",
     "grade": true,
     "grade_id": "1c-test-leaves",
     "locked": true,
     "points": 2,
     "schema_version": 1,
     "solution": false
    }
   },
   "outputs": [
    {
     "name": "stdout",
     "output_type": "stream",
     "text": [
      "Tests Passed (2 points)"
     ]
    },
    {
     "data": {
      "text/plain": [
       "\u001b[36mt1\u001b[39m: \u001b[32mNode\u001b[39m = Node(10,Leaf,Leaf)"
      ]
     },
     "execution_count": 8,
     "metadata": {},
     "output_type": "execute_result"
    }
   ],
   "source": [
    "// BEGIN TESTS\n",
    "// TEST 1\n",
    "val t1 = Node(10, Leaf, Leaf )\n",
    "assert(deleteKey(t1, 10) == Leaf, \"Test 1 failed: deleteKey(t1, 10) == Leaf\")\n",
    "\n",
    "passed(2)"
   ]
  },
  {
   "cell_type": "code",
   "execution_count": 9,
   "metadata": {
    "deletable": false,
    "editable": false,
    "nbgrader": {
     "checksum": "c51dc67b991bc4c1b9167e4560487dba",
     "grade": true,
     "grade_id": "1c-test-simple_search",
     "locked": true,
     "points": 2,
     "schema_version": 1,
     "solution": false
    }
   },
   "outputs": [
    {
     "name": "stdout",
     "output_type": "stream",
     "text": [
      "Tests Passed (2 points)"
     ]
    },
    {
     "data": {
      "text/plain": [
       "\u001b[36mt2\u001b[39m: \u001b[32mNode\u001b[39m = Node(10,Node(8,Leaf,Node(9,Leaf,Leaf)),Node(15,Leaf,Leaf))"
      ]
     },
     "execution_count": 9,
     "metadata": {},
     "output_type": "execute_result"
    }
   ],
   "source": [
    "// TEST 2\n",
    "val t2 = Node(10, Node(8, Leaf, Node(9, Leaf, Leaf)), Node(15, Leaf, Leaf))\n",
    "assert(deleteKey(t2, 8) == Node(10, Node(9, Leaf, Leaf), Node(15, Leaf, Leaf)), \"Test 2 failed\" )\n",
    "passed(2)"
   ]
  },
  {
   "cell_type": "code",
   "execution_count": 10,
   "metadata": {
    "deletable": false,
    "editable": false,
    "nbgrader": {
     "checksum": "5cabcb0c44a5e293e2645751a40d157d",
     "grade": true,
     "grade_id": "1c-test-large",
     "locked": true,
     "points": 6,
     "schema_version": 1,
     "solution": false
    }
   },
   "outputs": [
    {
     "name": "stdout",
     "output_type": "stream",
     "text": [
      "Tests Passed (6 points)"
     ]
    },
    {
     "data": {
      "text/plain": [
       "\u001b[36mt3\u001b[39m: \u001b[32mNode\u001b[39m = Node(25,Node(10,Node(8,Leaf,Node(9,Leaf,Leaf)),Node(15,Leaf,Leaf)),Node(100,Leaf,Node(120,Leaf,Leaf)))\n",
       "\u001b[36mt4\u001b[39m: \u001b[32mNode\u001b[39m = Node(25,Leaf,Node(40,Node(35,Leaf,Leaf),Node(50,Node(49,Leaf,Leaf),Leaf)))\n",
       "\u001b[36mt4_expected\u001b[39m: \u001b[32mNode\u001b[39m = Node(25,Leaf,Node(49,Node(35,Leaf,Leaf),Node(50,Leaf,Leaf)))\n",
       "\u001b[36mt4_result\u001b[39m: \u001b[32mNumTree\u001b[39m = Node(25,Leaf,Node(49,Node(35,Leaf,Leaf),Node(50,Leaf,Leaf)))\n",
       "\u001b[36mt5_expected\u001b[39m: \u001b[32mNode\u001b[39m = Node(40,Node(35,Leaf,Leaf),Node(50,Node(49,Leaf,Leaf),Leaf))\n",
       "\u001b[36mt5_result\u001b[39m: \u001b[32mNumTree\u001b[39m = Node(40,Node(35,Leaf,Leaf),Node(50,Node(49,Leaf,Leaf),Leaf))\n",
       "\u001b[36mt6h1\u001b[39m: \u001b[32mNode\u001b[39m = Node(50,Node(45,Leaf,Leaf),Node(75,Node(73,Node(71,Node(69,Node(67,Node(64,Leaf,Leaf),Node(68,Leaf,Leaf)),Leaf),Leaf),Leaf),Leaf))\n",
       "\u001b[36mt6\u001b[39m: \u001b[32mNode\u001b[39m = Node(25,Node(10,Node(8,Leaf,Node(9,Leaf,Leaf)),Node(15,Leaf,Leaf)),Node(100,Node(50,Node(45,Leaf,Leaf),Node(75,Node(73,Node(71,Node(69,Node(67,Node(64,Leaf,Leaf),Node(68,Leaf,Leaf)),Leaf),Leaf),Leaf),Leaf)),Leaf))\n",
       "\u001b[36mt6h2\u001b[39m: \u001b[32mNode\u001b[39m = Node(64,Node(45,Leaf,Leaf),Node(75,Node(73,Node(71,Node(69,Node(67,Leaf,Node(68,Leaf,Leaf)),Leaf),Leaf),Leaf),Leaf))\n",
       "\u001b[36mt6_expected\u001b[39m: \u001b[32mNode\u001b[39m = Node(25,Node(10,Node(8,Leaf,Node(9,Leaf,Leaf)),Node(15,Leaf,Leaf)),Node(100,Node(64,Node(45,Leaf,Leaf),Node(75,Node(73,Node(71,Node(69,Node(67,Leaf,Node(68,Leaf,Leaf)),Leaf),Leaf),Leaf),Leaf)),Leaf))\n",
       "\u001b[36mt6_result\u001b[39m: \u001b[32mNumTree\u001b[39m = Node(25,Node(10,Node(8,Leaf,Node(9,Leaf,Leaf)),Node(15,Leaf,Leaf)),Node(100,Node(64,Node(45,Leaf,Leaf),Node(75,Node(73,Node(71,Node(69,Node(67,Leaf,Node(68,Leaf,Leaf)),Leaf),Leaf),Leaf),Leaf)),Leaf))"
      ]
     },
     "execution_count": 10,
     "metadata": {},
     "output_type": "execute_result"
    }
   ],
   "source": [
    "// TEST 3\n",
    "val t3 = Node(25, t2, Node(100, Leaf, Node(120, Leaf, Leaf)))\n",
    "assert(deleteKey(t3, 25) == Node(100, t2, Node(120, Leaf, Leaf)), \"Test 3 failed\")\n",
    "// Test 4\n",
    "val t4 = Node(25, Leaf, Node(40, Node(35, Leaf, Leaf), Node(50, Node(49, Leaf, Leaf), Leaf)))\n",
    "val t4_expected = Node(25, Leaf, Node(49, Node(35, Leaf, Leaf), Node(50, Leaf, Leaf)))\n",
    "val t4_result = deleteKey(t4, 40)\n",
    "assert(t4_result == t4_expected, \"Test 4 failed\")\n",
    "// Test 5 \n",
    "val t5_expected= Node(40,  Node(35, Leaf, Leaf), Node(50, Node(49, Leaf, Leaf), Leaf))\n",
    "val t5_result = deleteKey(t4, 25)\n",
    "assert(t5_result == t5_expected, \"Test 5 Failed\")\n",
    "// Test 6\n",
    "val t6h1 = Node(50, Node(45, Leaf, Leaf), Node(75, Node(73, Node(71, Node(69, Node(67, Node(64, Leaf, Leaf), Node(68, Leaf, Leaf)),Leaf), Leaf), Leaf), Leaf))\n",
    "val t6 = Node(25, t2, Node(100, t6h1, Leaf))\n",
    "val t6h2 = Node(64, Node(45, Leaf, Leaf), Node(75, Node(73, Node(71, Node(69, Node(67, Leaf, Node(68, Leaf, Leaf)),Leaf), Leaf), Leaf), Leaf))\n",
    "val t6_expected = Node(25, t2, Node(100, t6h2, Leaf))\n",
    "val t6_result = deleteKey(t6, 50)\n",
    "assert(t6_result == t6_expected, \"Test 6 failed\")\n",
    "\n",
    "passed(6)\n",
    "// END TESTS"
   ]
  },
  {
   "cell_type": "markdown",
   "metadata": {
    "deletable": false,
    "editable": false,
    "nbgrader": {
     "checksum": "2fdc87aeb9b45fac4fa61d064a012d16",
     "grade": false,
     "grade_id": "cell-86df80222a5e29f3",
     "locked": true,
     "schema_version": 1,
     "solution": false
    }
   },
   "source": [
    "## Problem 2: Manipulating ASTs, Inference Rules (30 points)"
   ]
  },
  {
   "cell_type": "markdown",
   "metadata": {
    "deletable": false,
    "editable": false,
    "nbgrader": {
     "checksum": "20560cc163200e8f02c2b4fe23bdbfdc",
     "grade": false,
     "grade_id": "cell-7b3432cb0c0460ce",
     "locked": true,
     "schema_version": 1,
     "solution": false
    }
   },
   "source": [
    "### 2A: Derivatives of Expressions (20 points)\n",
    "\n",
    "We have defined a grammar for arithmetic expressions in our class notes. For this problem, you will be writing an _automatic differentiation_ method that, given an expression `e` which involves just a single identifier `x` (no need to check this fact), will return an expression for `de/dx`, the derivative of `e` with respect to `x`.\n",
    "\n",
    "Eg., `e = Sine(Mult(Identifier(\"x\"), Const(2.0)))` should return `Mult(Const(2.0), Cosine(  Mult(Identifier(\"x\"), Const(2.0)))`.  In plain math, $\\frac{d \\sin(2x)}{dx} = 2 \\cos( 2x) $\n",
    "\n",
    "We will write down the inference rules for derivative, as follows.\n",
    "\n",
    "A rule for constants ($\\frac{dc}{dx} = 0, c \\in \\mathbb{R}$)\n",
    "\n",
    "$\\begin{array}{c}\n",
    "\\\\\n",
    "\\hline \n",
    "\\text{derivative}( \\texttt{Const(f)} , x) = \\texttt{Const(0.0)} \\\\\n",
    "\\end{array} \\mathbf{(Constant)}$      \n",
    "\n",
    "A rule for identifiers $\\frac{dx}{dx} = 1, \\frac{dy}{dx} = 0$ for $y \\not= x$.\n",
    "\n",
    "$\\begin{array}{c}\n",
    "\\\\\n",
    "\\hline \n",
    "\\text{derivative}( \\texttt{Ident(s)} , x) = \\left\\{ \\begin{array}{ll} \\texttt{Const(1.0)} & x == s \\\\\n",
    "\\texttt{Const(0.0)} & \\text{otherwise} \\end{array} \\right.\\\\\n",
    "\\end{array} \\mathbf{(Identifier)}  \\;\\;\\;\n",
    "$\n",
    "\n",
    "A rule for plus $\\frac{d}{dx} (e_1 + e_2) = \\frac{de_1}{dx} + \\frac{de_2}{dx}$.\n",
    "\n",
    "$ \\begin{array}{c}\n",
    "\\text{derivative}(\\texttt{e1}, x) = \\texttt{f1},\\;\\;\\text{derivative}(\\texttt{e2}, x) = \\texttt{f2}\\\\\n",
    "\\hline\n",
    "\\text{derivative}(\\texttt{Plus(e1, e2)}, x) = \\texttt{Plus(f1, f2)} \\\\\n",
    "\\end{array} \\mathbf{(Plus)} $\n",
    "\n",
    "A rule for multiplication: $\\frac{d}{dx} (e_1 e_2) = e_2 \\frac{de_1}{dx} + e_1 \\frac{de_2}{dx}$.\n",
    "\n",
    "$ \\begin{array}{c}\n",
    "\\text{derivative}(\\texttt{e1}, x) = \\texttt{f1},\\;\\;\\text{derivative}(\\texttt{e2}, x) = \\texttt{f2}\\\\\n",
    "\\hline\n",
    "\\text{derivative}(\\texttt{Mult(e1, e2)}, x) = \\texttt{Plus(Mult(f1, e2), Mult(f2, e1))} \\\\\n",
    "\\end{array} \\mathbf{(Mult)} $\n",
    "\n",
    "A rule for division $\\frac{d}{dx} \\left(\\frac{e_1}{e_2}\\right) = \\frac{\\frac{de_1}{dx}}{e_2} - \\frac{e_1 \\frac{d e_2}{dx}}{e_2^2}$\n",
    "\n",
    "$ \\begin{array}{c}\n",
    "\\text{derivative}(\\texttt{e1}, x) = \\texttt{f1},\\;\\;\\text{derivative}(\\texttt{e2}, x) = \\texttt{f2}\\\\\n",
    "\\hline\n",
    "\\text{derivative}(\\texttt{Div(e1, e2)}, x) = \\texttt{Minus(Div(f1, e2), Div(Mult(e1, f2), Mult(e2, e2)))} \\\\\n",
    "\\end{array} \\mathbf{(Div)} $\n",
    "\n",
    "A rule for exponentiation $\\frac{d}{dx} \\left(e^{e_1}\\right) = e^{e_1} \\frac{de_1}{dx}$\n",
    "\n",
    "$ \\begin{array}{c}\n",
    "\\text{derivative}(\\texttt{e1}, x) = \\texttt{f1}\\\\\n",
    "\\hline\n",
    "\\text{derivative}(\\texttt{Exp(e1)}, x) = \\texttt{Mult(Exp(e1), f1)} \\\\\n",
    "\\end{array} \\mathbf{(Exp)} $\n",
    "\n",
    "The rules for $\\mathbf{Minus}$, $\\mathbf{Sine}$, and $\\mathbf{Cosine}$ are left for you to write.\n",
    "You do not need to write your solution for these rules in this notebook, __but__, you do need to give them in code below.\n",
    "(Don't forget about the chain rule!)"
   ]
  },
  {
   "cell_type": "code",
   "execution_count": 11,
   "metadata": {
    "deletable": false,
    "editable": false,
    "nbgrader": {
     "checksum": "02c64445eae9901295238649bbb28e54",
     "grade": false,
     "grade_id": "cell-5a6ded9a6f746cee",
     "locked": true,
     "schema_version": 1,
     "solution": false
    }
   },
   "outputs": [
    {
     "data": {
      "text/plain": [
       "defined \u001b[32mtrait\u001b[39m \u001b[36mExpr\u001b[39m\n",
       "defined \u001b[32mclass\u001b[39m \u001b[36mConst\u001b[39m\n",
       "defined \u001b[32mclass\u001b[39m \u001b[36mIdent\u001b[39m\n",
       "defined \u001b[32mclass\u001b[39m \u001b[36mPlus\u001b[39m\n",
       "defined \u001b[32mclass\u001b[39m \u001b[36mMinus\u001b[39m\n",
       "defined \u001b[32mclass\u001b[39m \u001b[36mMult\u001b[39m\n",
       "defined \u001b[32mclass\u001b[39m \u001b[36mDiv\u001b[39m\n",
       "defined \u001b[32mclass\u001b[39m \u001b[36mSine\u001b[39m\n",
       "defined \u001b[32mclass\u001b[39m \u001b[36mCosine\u001b[39m\n",
       "defined \u001b[32mclass\u001b[39m \u001b[36mExp\u001b[39m"
      ]
     },
     "execution_count": 11,
     "metadata": {},
     "output_type": "execute_result"
    }
   ],
   "source": [
    "sealed trait Expr\n",
    "case class Const(f: Double) extends Expr\n",
    "case class Ident(s: String) extends Expr\n",
    "case class Plus(e1: Expr, e2: Expr) extends Expr\n",
    "case class Minus(e1: Expr, e2: Expr) extends Expr\n",
    "case class Mult(e1: Expr, e2: Expr) extends Expr\n",
    "case class Div(e1: Expr, e2: Expr) extends Expr\n",
    "case class Sine(e: Expr) extends Expr\n",
    "case class Cosine(e: Expr) extends Expr\n",
    "case class Exp(e: Expr) extends Expr\n",
    "// We will skip over Log(e: Expr)"
   ]
  },
  {
   "cell_type": "markdown",
   "metadata": {
    "deletable": false,
    "editable": false,
    "nbgrader": {
     "checksum": "3ef175a900ea13a88766e4a65bdf8944",
     "grade": false,
     "grade_id": "cell-3856b2383d61965d",
     "locked": true,
     "schema_version": 1,
     "solution": false
    }
   },
   "source": [
    "Write a function `derivativeExpr` that calculates the derivative of an expression\n",
    "`e` w.r.t a given identifier as a string `x`."
   ]
  },
  {
   "cell_type": "code",
   "execution_count": 12,
   "metadata": {
    "deletable": false,
    "nbgrader": {
     "checksum": "6ff055b85255d75ac73cebc86333267b",
     "grade": false,
     "grade_id": "2a-answer",
     "locked": false,
     "schema_version": 1,
     "solution": true
    }
   },
   "outputs": [
    {
     "data": {
      "text/plain": [
       "defined \u001b[32mfunction\u001b[39m \u001b[36mderivativeExpr\u001b[39m"
      ]
     },
     "execution_count": 12,
     "metadata": {},
     "output_type": "execute_result"
    }
   ],
   "source": [
    "def derivativeExpr(e: Expr, x: String): Expr = {\n",
    "    // YOUR CODE HERE\n",
    "    e match {\n",
    "        case Const(_) => Const(0.0)\n",
    "        case Ident(_) => Const(1.0)\n",
    "        case Plus(e1, e2) => Plus(derivativeExpr(e1, x), derivativeExpr(e2, x))\n",
    "        case Minus(e1, e2) => Minus(derivativeExpr(e1, x), derivativeExpr(e2, x))\n",
    "        case Mult(e1, e2) => Plus(Mult(derivativeExpr(e1, x), e2), Mult(derivativeExpr(e2, x), e1))\n",
    "        case Div(e1, e2) => Minus(Div(derivativeExpr(e1, x), e2), Div(Mult(e1, derivativeExpr(e2, x)), Mult(e2, e2)))\n",
    "        case Sine(e1) => Cosine(e1)\n",
    "        case Cosine(e1) => Minus(Const(0.0), Sine(e1))\n",
    "        case Exp(e1) => Mult(Exp(e1), derivativeExpr(e1, x))\n",
    "    }\n",
    "}"
   ]
  },
  {
   "cell_type": "code",
   "execution_count": 13,
   "metadata": {
    "deletable": false,
    "editable": false,
    "nbgrader": {
     "checksum": "9d0d058206486a5847bd484cc9ee3bed",
     "grade": false,
     "grade_id": "cell-5ebe5c717def6816",
     "locked": true,
     "schema_version": 1,
     "solution": false
    }
   },
   "outputs": [
    {
     "data": {
      "text/plain": [
       "defined \u001b[32mfunction\u001b[39m \u001b[36mevalExpr\u001b[39m\n",
       "defined \u001b[32mfunction\u001b[39m \u001b[36mtestExpressions\u001b[39m\n",
       "\u001b[36mallVals\u001b[39m: \u001b[32mList\u001b[39m[\u001b[32mDouble\u001b[39m] = \u001b[33mList\u001b[39m(\n",
       "  \u001b[32m-5.0\u001b[39m,\n",
       "  \u001b[32m-4.5\u001b[39m,\n",
       "  \u001b[32m-4.0\u001b[39m,\n",
       "  \u001b[32m-3.5\u001b[39m,\n",
       "  \u001b[32m-3.0\u001b[39m,\n",
       "  \u001b[32m-2.5\u001b[39m,\n",
       "  \u001b[32m-1.9\u001b[39m,\n",
       "  \u001b[32m-1.4\u001b[39m,\n",
       "  \u001b[32m-1.0\u001b[39m,\n",
       "  \u001b[32m-0.5\u001b[39m,\n",
       "  \u001b[32m0.1\u001b[39m,\n",
       "\u001b[33m...\u001b[39m"
      ]
     },
     "execution_count": 13,
     "metadata": {},
     "output_type": "execute_result"
    }
   ],
   "source": [
    "// BEGIN TESTS\n",
    "\n",
    "// TEST HELPERS\n",
    "def evalExpr (e: Expr, env: Map[String, Double]): Double = e match {\n",
    "    case Const (f) => f\n",
    "    case Ident (str) => { if (env.contains(str)){\n",
    "                                env(str)\n",
    "                            } else {\n",
    "        throw new IllegalArgumentException(s\"Environment does not contain mapping for $str\")\n",
    "    }\n",
    "                        }\n",
    "    case Plus(e1, e2) => {\n",
    "        (evalExpr(e1, env)) + (evalExpr(e2, env))\n",
    "    }\n",
    "    \n",
    "    case Minus(e1, e2) => {\n",
    "        (evalExpr(e1, env)) - (evalExpr(e2, env))\n",
    "    }\n",
    "    \n",
    "    case Mult(e1, e2) => {\n",
    "        (evalExpr(e1, env)) * (evalExpr(e2, env))\n",
    "    }\n",
    "    \n",
    "    case Div(e1, e2) => {\n",
    "        (evalExpr(e1, env)) / (evalExpr(e2, env))\n",
    "    }\n",
    "    \n",
    "    case Exp(e) => math.exp( evalExpr(e, env))\n",
    "    \n",
    "    case Sine(e) => math.sin( evalExpr(e, env))\n",
    "    \n",
    "    case Cosine(e) => math.cos(evalExpr(e, env))\n",
    "}\n",
    "\n",
    "def testExpressions(exp: Expr, deriv_expected: Expr, testVals: List[Double]): Boolean = {\n",
    "    val tol: Double = 1E-06\n",
    "    val deriv_act = derivativeExpr(exp, \"x\")\n",
    "    testVals forall { \n",
    "            x => {\n",
    "              val res = math.abs( evalExpr(deriv_act, Map(\"x\"-> x)) - evalExpr(deriv_expected, Map(\"x\" -> x)) ) <= tol\n",
    "              if (!res) { println(s\"Failed at $x\")}\n",
    "              res\n",
    "            }\n",
    "    }\n",
    "}\n",
    "\n",
    "val allVals = List(-5.0, -4.5, -4.0, -3.5, -3.0, -2.5, -1.9, -1.4, -1.0, -0.5, 0.1, 0.5, 1.0, 1.5, 2.0, 2.5, 3.0, 3.5, 4.0, 4.5, 5.0)"
   ]
  },
  {
   "cell_type": "code",
   "execution_count": 14,
   "metadata": {
    "deletable": false,
    "editable": false,
    "nbgrader": {
     "checksum": "d5cfdeed2d1e9f8ea0840d539e4688e5",
     "grade": true,
     "grade_id": "2a-test-ident_plus_const",
     "locked": true,
     "points": 5,
     "schema_version": 1,
     "solution": false
    }
   },
   "outputs": [
    {
     "name": "stdout",
     "output_type": "stream",
     "text": [
      "Tests Passed (5 points)"
     ]
    },
    {
     "data": {
      "text/plain": [
       "\u001b[36me1\u001b[39m: \u001b[32mPlus\u001b[39m = Plus(Ident(x),Const(2.0))"
      ]
     },
     "execution_count": 14,
     "metadata": {},
     "output_type": "execute_result"
    }
   ],
   "source": [
    "val e1 = Plus(Ident(\"x\"), Const(2.0))\n",
    "assert(testExpressions(e1, Const(1.0), allVals ), s\"Test 1 Failed -- Input: $e1 \")\n",
    "\n",
    "passed(5)"
   ]
  },
  {
   "cell_type": "code",
   "execution_count": 15,
   "metadata": {
    "deletable": false,
    "editable": false,
    "nbgrader": {
     "checksum": "ac714ecfc2bc24ba724aae240f231a0e",
     "grade": true,
     "grade_id": "2a-test-minus_trig",
     "locked": true,
     "points": 5,
     "schema_version": 1,
     "solution": false
    }
   },
   "outputs": [
    {
     "name": "stdout",
     "output_type": "stream",
     "text": [
      "Tests Passed (5 points)"
     ]
    },
    {
     "data": {
      "text/plain": [
       "\u001b[36me2\u001b[39m: \u001b[32mPlus\u001b[39m = Plus(Cosine(Ident(x)),Sine(Ident(x)))\n",
       "\u001b[36med2\u001b[39m: \u001b[32mMinus\u001b[39m = Minus(Cosine(Ident(x)),Sine(Ident(x)))"
      ]
     },
     "execution_count": 15,
     "metadata": {},
     "output_type": "execute_result"
    }
   ],
   "source": [
    "val e2 = Plus(Cosine(Ident(\"x\")), Sine(Ident(\"x\")))\n",
    "val ed2 = Minus(Cosine(Ident(\"x\")), Sine(Ident(\"x\")))\n",
    "assert(testExpressions(e2, ed2, allVals), s\"Test 2 Failed: Input is $e2\")\n",
    "\n",
    "passed(5)"
   ]
  },
  {
   "cell_type": "code",
   "execution_count": 16,
   "metadata": {
    "deletable": false,
    "editable": false,
    "nbgrader": {
     "checksum": "30d239b4c5fd9ab434be2210110c57c1",
     "grade": true,
     "grade_id": "2a-test-exp_mult",
     "locked": true,
     "points": 5,
     "schema_version": 1,
     "solution": false
    }
   },
   "outputs": [
    {
     "name": "stdout",
     "output_type": "stream",
     "text": [
      "Tests Passed (5 points)"
     ]
    },
    {
     "data": {
      "text/plain": [
       "\u001b[36mx\u001b[39m: \u001b[32mIdent\u001b[39m = \u001b[33mIdent\u001b[39m(\u001b[32m\"x\"\u001b[39m)\n",
       "\u001b[36me3\u001b[39m: \u001b[32mExp\u001b[39m = Exp(Mult(Ident(x),Ident(x)))\n",
       "\u001b[36med3\u001b[39m: \u001b[32mMult\u001b[39m = Mult(Mult(Const(2.0),Ident(x)),Exp(Mult(Ident(x),Ident(x))))"
      ]
     },
     "execution_count": 16,
     "metadata": {},
     "output_type": "execute_result"
    }
   ],
   "source": [
    "val x = Ident(\"x\")\n",
    "val e3 = Exp(Mult(x, x))\n",
    "val ed3 = Mult(Mult(Const(2.0), x), e3)\n",
    "assert(testExpressions(e3, ed3, allVals), s\"Test 3 Failed: Input is $e3\")\n",
    "\n",
    "passed(5)"
   ]
  },
  {
   "cell_type": "code",
   "execution_count": 17,
   "metadata": {
    "deletable": false,
    "editable": false,
    "nbgrader": {
     "checksum": "8bc4e683d9a853baaa10566d4d5f78ba",
     "grade": true,
     "grade_id": "cell-98105bfe539405d9",
     "locked": true,
     "points": 5,
     "schema_version": 1,
     "solution": false
    }
   },
   "outputs": [
    {
     "name": "stdout",
     "output_type": "stream",
     "text": [
      "Tests Passed (5 points)"
     ]
    },
    {
     "data": {
      "text/plain": [
       "\u001b[36me4\u001b[39m: \u001b[32mDiv\u001b[39m = Div(Ident(x),Plus(Ident(x),Const(2.0)))\n",
       "\u001b[36med4\u001b[39m: \u001b[32mDiv\u001b[39m = Div(Const(2.0),Mult(Plus(Ident(x),Const(2.0)),Plus(Ident(x),Const(2.0))))\n",
       "\u001b[36me5\u001b[39m: \u001b[32mSine\u001b[39m = Sine(Mult(Exp(Minus(Cosine(Div(Ident(x),Ident(x))),Cosine(Const(1.0)))),Ident(x)))\n",
       "\u001b[36med5\u001b[39m: \u001b[32mCosine\u001b[39m = Cosine(Ident(x))"
      ]
     },
     "execution_count": 17,
     "metadata": {},
     "output_type": "execute_result"
    }
   ],
   "source": [
    "val e4 = Div(x, Plus(x, Const(2.0)))\n",
    "val ed4 = Div(Const(2.0), Mult(Plus(x, Const(2.0)), Plus(x, Const(2.0))) )\n",
    "assert(testExpressions(e4, ed4, allVals), s\"Test 4 Failed: Input is $e4\")\n",
    "\n",
    "\n",
    "val e5 = Sine(Mult(Exp(Minus( Cosine(Div(x,x)), Cosine(Const(1.0)) )), x))\n",
    "val ed5 = Cosine(x)\n",
    "assert(testExpressions(e5, ed5, allVals), s\"Test 5 Failed: Input is $e5\")\n",
    "\n",
    "passed(5)\n",
    "// END TESTS"
   ]
  },
  {
   "cell_type": "markdown",
   "metadata": {
    "deletable": false,
    "editable": false,
    "nbgrader": {
     "checksum": "89faec5522ca00f368c12f98db8fdb5a",
     "grade": false,
     "grade_id": "cell-c9182e4cf28a06d9",
     "locked": true,
     "schema_version": 1,
     "solution": false
    }
   },
   "source": [
    "### 2B: Newton's Algorithm Reloaded (10 points)\n",
    "\n",
    "Let's revisit problem 5 from assignment 1. Back in assignment 1, we hard coded the\n",
    "expression and its derivative. Here, we will use our `Expr` abstract syntax to \n",
    "define expressions and use the function you wrote in 2A to compute derivatives.\n",
    "You may also use the `evalExpr` function provided below.\n",
    "\n",
    "Newton invented the Newton-Raphson method for solving an equation. \n",
    "We are going to ask you to write some code to solve equations.\n",
    "\n",
    "`solveEquation(e: Expr, x0: Double, maxIters: Int = 1000)`\n",
    "\n",
    "Assume that the input expression has involves just one variable \"x\".\n",
    "\n",
    "To solve an equation of the form\n",
    "\n",
    "$$ x^2 - 3x + 2 == 0$$\n",
    "\n",
    "with initial guess at the solution: say $$x_0 = 4.5$$,\n",
    "\n",
    "We will input `val e = Plus(Minus(Mult(Ident(\"x\"), Ident(\"x\")), Mult(Const(3.0), Ident(\"x\"))), Const(2.0))`\n",
    "into the function\n",
    "\n",
    "`solveEquation( e, 1.5, 1000)`\n",
    "\n",
    "Each time we have the $i^{th}$ guess $x_i$, we update it as\n",
    "\n",
    "$$ x_{i+1} = x_i - \\frac{f(x_i)}{f'(x_i)} $$\n",
    "\n",
    "For our equation, $f(x) = x^2 - 3x +2$ and $f'(x) = 2 x - 3$ ( $f'$ is the derivative of $f$).\n",
    "\n",
    "Thus, our update equation is \n",
    "$$ x_{i+1} = x_i - \\frac{x_i^2 - 3 x_i + 2}{2 x_i - 3}$$.\n",
    "\n",
    "We stop whenever $|f(x_i)| \\leq 10^{-8}$ : i.e, we are very close to a root of the function\n",
    "_or_ $ i \\geq \\text{maxIters}$. \n",
    "\n",
    "Gory details are here:\n",
    "http://www.math.ubc.ca/~anstee/math104/newtonmethod.pdf\n",
    "\n"
   ]
  },
  {
   "cell_type": "code",
   "execution_count": 18,
   "metadata": {
    "deletable": false,
    "editable": false,
    "nbgrader": {
     "checksum": "4f9451bf212f34911173618ed2c26edf",
     "grade": false,
     "grade_id": "cell-818418bd7ec6d27e",
     "locked": true,
     "schema_version": 1,
     "solution": false
    }
   },
   "outputs": [
    {
     "data": {
      "text/plain": [
       "defined \u001b[32mfunction\u001b[39m \u001b[36mevalExpr\u001b[39m"
      ]
     },
     "execution_count": 18,
     "metadata": {},
     "output_type": "execute_result"
    }
   ],
   "source": [
    "def evalExpr (e: Expr, env: Map[String, Double]): Double = e match {\n",
    "    case Const (f) => f\n",
    "    case Ident (str) => { if (env.contains(str)){\n",
    "                                env(str)\n",
    "                            } else {\n",
    "        throw new IllegalArgumentException(s\"Environment does not contain mapping for $str\")\n",
    "    }\n",
    "                        }\n",
    "    case Plus(e1, e2) => {\n",
    "        (evalExpr(e1, env)) + (evalExpr(e2, env))\n",
    "    }\n",
    "    \n",
    "    case Minus(e1, e2) => {\n",
    "        (evalExpr(e1, env)) - (evalExpr(e2, env))\n",
    "    }\n",
    "    \n",
    "    case Mult(e1, e2) => {\n",
    "        (evalExpr(e1, env)) * (evalExpr(e2, env))\n",
    "    }\n",
    "    \n",
    "    case Div(e1, e2) => {\n",
    "        (evalExpr(e1, env)) / (evalExpr(e2, env))\n",
    "    }\n",
    "    \n",
    "    case Exp(e) => math.exp( evalExpr(e, env))\n",
    "    \n",
    "    case Sine(e) => math.sin( evalExpr(e, env))\n",
    "    \n",
    "    case Cosine(e) => math.cos(evalExpr(e, env))\n",
    "}"
   ]
  },
  {
   "cell_type": "code",
   "execution_count": 19,
   "metadata": {
    "deletable": false,
    "nbgrader": {
     "checksum": "9d838f72967241caec1467266d844202",
     "grade": false,
     "grade_id": "2b-answer",
     "locked": false,
     "schema_version": 1,
     "solution": true
    }
   },
   "outputs": [
    {
     "data": {
      "text/plain": [
       "defined \u001b[32mfunction\u001b[39m \u001b[36msolveEquation\u001b[39m"
      ]
     },
     "execution_count": 19,
     "metadata": {},
     "output_type": "execute_result"
    }
   ],
   "source": [
    "def solveEquation(e: Expr, x0: Double, maxIters:Int = 1000): Double  ={\n",
    "    // YOUR CODE HERE\n",
    "    var xi = x0\n",
    "    var env: Map[String, Double] = Map(\"x\" -> xi)\n",
    "    var i = 0\n",
    "    while (math.abs(evalExpr(e, env)) > math.pow(10, -8) && i < maxIters){\n",
    "        xi = evalExpr(Minus(Const(xi), Div(e, derivativeExpr(e, \"x\"))), env)\n",
    "        env = Map(\"x\" -> xi)\n",
    "        i += 1;\n",
    "    }\n",
    "    xi\n",
    "}"
   ]
  },
  {
   "cell_type": "code",
   "execution_count": 20,
   "metadata": {
    "deletable": false,
    "editable": false,
    "nbgrader": {
     "checksum": "c94f6e98d82a028be2e0c67e63453d05",
     "grade": true,
     "grade_id": "2b-test",
     "locked": true,
     "points": 10,
     "schema_version": 1,
     "solution": false
    }
   },
   "outputs": [
    {
     "name": "stdout",
     "output_type": "stream",
     "text": [
      "Tests Passed (10 points)"
     ]
    },
    {
     "data": {
      "text/plain": [
       "defined \u001b[32mfunction\u001b[39m \u001b[36mcheckSolution\u001b[39m\n",
       "\u001b[36me1\u001b[39m: \u001b[32mPlus\u001b[39m = Plus(Minus(Mult(Ident(x),Ident(x)),Mult(Const(3.0),Ident(x))),Const(2.0))\n",
       "\u001b[36mv1\u001b[39m: \u001b[32mDouble\u001b[39m = \u001b[32m2.000000000000081\u001b[39m\n",
       "\u001b[36mx\u001b[39m: \u001b[32mIdent\u001b[39m = \u001b[33mIdent\u001b[39m(\u001b[32m\"x\"\u001b[39m)\n",
       "\u001b[36me2\u001b[39m: \u001b[32mMinus\u001b[39m = Minus(Sine(Ident(x)),Plus(Cosine(Ident(x)),Ident(x)))\n",
       "\u001b[36mv2\u001b[39m: \u001b[32mDouble\u001b[39m = \u001b[32m-1.2587281774926768\u001b[39m\n",
       "\u001b[36me3\u001b[39m: \u001b[32mMinus\u001b[39m = Minus(Exp(Ident(x)),Const(5.0))\n",
       "\u001b[36mv3\u001b[39m: \u001b[32mDouble\u001b[39m = \u001b[32m1.6094379124370815\u001b[39m\n",
       "\u001b[36me4\u001b[39m: \u001b[32mMinus\u001b[39m = Minus(Plus(Exp(Sine(Ident(x))),Exp(Cosine(Ident(x)))),Const(2.0))\n",
       "\u001b[36mv4\u001b[39m: \u001b[32mDouble\u001b[39m = \u001b[32m2.6608333315872805\u001b[39m\n",
       "\u001b[36me5\u001b[39m: \u001b[32mMinus\u001b[39m = Minus(Mult(Ident(x),Sine(Ident(x))),Plus(Cosine(Ident(x)),Const(5.0)))\n",
       "\u001b[36mv5\u001b[39m: \u001b[32mDouble\u001b[39m = \u001b[32m21.80586857241418\u001b[39m"
      ]
     },
     "execution_count": 20,
     "metadata": {},
     "output_type": "execute_result"
    }
   ],
   "source": [
    "// BEGIN TESTS\n",
    "def checkSolution(e: Expr, v: Double): Boolean = {\n",
    "    val y = evalExpr(e, Map{\"x\" -> v}) \n",
    "    math.abs(y) <= 1e-08\n",
    "}\n",
    "\n",
    "val e1 = Plus(Minus(Mult(Ident(\"x\"), Ident(\"x\")), Mult(Const(3.0), Ident(\"x\"))), Const(2.0))\n",
    "val v1 = solveEquation(e1, 10.0, 1000)\n",
    "\n",
    "assert(checkSolution(e1, v1), s\"Test 1 failed: $e1 == 0, your code returned $v1 with f(x) = ${evalExpr(e1, Map{\"x\" -> v1}) }\")\n",
    "\n",
    "// Sine(x)  - Cos(x) - x == 0\n",
    "val x = Ident(\"x\")\n",
    "val e2 = Minus(Sine(x), Plus(Cosine(x), x))\n",
    "val v2 = solveEquation(e2, 1.4)\n",
    "assert(checkSolution(e2, v2), s\"Test 2 failed: $e2 == 0, your code returned $v2 with f(x) = ${evalExpr(e2, Map{\"x\" -> v2}) }\")\n",
    "\n",
    "// e^x - 5.0 = 0\n",
    "val e3 = Minus(Exp(x), Const(5.0))\n",
    "val v3 = solveEquation(e3, 2.0)\n",
    "assert(checkSolution(e3, v3), s\"Test 3 failed: $e3 == 0, your code returned $v3 with f(x) = ${evalExpr(e3, Map{\"x\" -> v3}) }\")\n",
    "\n",
    "// e^cos(x) + e^sin(x) - 2.0 = 0\n",
    "\n",
    "val e4 = Minus(Plus(Exp(Sine(x)), Exp(Cosine(x))), Const(2.0))\n",
    "val v4 = solveEquation(e4, 1.8)\n",
    "assert(checkSolution(e4, v4), s\"Test 3 failed: $e4 == 0, your code returned $v4 with f(x) = ${evalExpr(e4, Map{\"x\" -> v4}) }\")\n",
    "\n",
    "\n",
    "// x sin(x) -  cos(x) - 5.0\n",
    "val e5 = Minus(Mult(x, Sine(x)), Plus(Cosine(x), Const(5.0)))\n",
    "val v5 = solveEquation(e5, 1.8)\n",
    "assert(checkSolution(e5, v5), s\"Test 3 failed: $e5 == 0, your code returned $v5 with f(x) = ${evalExpr(e5, Map{\"x\" -> v5}) }\")\n",
    "\n",
    "passed(10)\n",
    "// END TESTS"
   ]
  },
  {
   "cell_type": "markdown",
   "metadata": {
    "deletable": false,
    "editable": false,
    "nbgrader": {
     "checksum": "0f9b8cd8652c032277e9b2e66a7de8a1",
     "grade": false,
     "grade_id": "cell-c90311f0f12f79f2",
     "locked": true,
     "schema_version": 1,
     "solution": false
    }
   },
   "source": [
    "## Problem 3: map, filter, reduce on containers (25 points)\n",
    "\n",
    "Solve the problems using a combination of map, filter and foldLeft/foldRight opertions over lists. The use of mutables, recursion, For/While loops is forbidden for this problem."
   ]
  },
  {
   "cell_type": "markdown",
   "metadata": {
    "deletable": false,
    "editable": false,
    "nbgrader": {
     "checksum": "42dae3b93c3bcc560799be6a11d74dba",
     "grade": false,
     "grade_id": "cell-57eb1b5c1720b797",
     "locked": true,
     "schema_version": 1,
     "solution": false
    }
   },
   "source": [
    "\n",
    "### 3A: Count how many whitespaces in a string (5 points)\n",
    "\n",
    "Write a function `countWhiteSpaces` that will count how many characters in a string are white spaces ` ` or `\\t`."
   ]
  },
  {
   "cell_type": "code",
   "execution_count": 76,
   "metadata": {
    "deletable": false,
    "nbgrader": {
     "checksum": "251ed8d85f5d1d4253ef2b85a1c7d905",
     "grade": false,
     "grade_id": "cell-d07d79524c90fd4e",
     "locked": false,
     "schema_version": 1,
     "solution": true
    }
   },
   "outputs": [
    {
     "data": {
      "text/plain": [
       "defined \u001b[32mfunction\u001b[39m \u001b[36mcountWhiteSpaces\u001b[39m"
      ]
     },
     "execution_count": 76,
     "metadata": {},
     "output_type": "execute_result"
    }
   ],
   "source": [
    "def countWhiteSpaces(s: String): Int = {\n",
    "    // YOUR CODE HERE\n",
    "    s.filter(w => w == ' ' || w == '\\t').length\n",
    "}"
   ]
  },
  {
   "cell_type": "code",
   "execution_count": 77,
   "metadata": {
    "deletable": false,
    "editable": false,
    "nbgrader": {
     "checksum": "f12f54f2a742949f78dd8a79f9172d87",
     "grade": true,
     "grade_id": "cell-054acf67575fc99c",
     "locked": true,
     "points": 5,
     "schema_version": 1,
     "solution": false
    }
   },
   "outputs": [
    {
     "name": "stdout",
     "output_type": "stream",
     "text": [
      "Tests Passed (5 points)"
     ]
    },
    {
     "data": {
      "text/plain": [
       "\u001b[36mt1\u001b[39m: \u001b[32mInt\u001b[39m = \u001b[32m0\u001b[39m\n",
       "\u001b[36mt2\u001b[39m: \u001b[32mInt\u001b[39m = \u001b[32m5\u001b[39m\n",
       "\u001b[36mt3\u001b[39m: \u001b[32mInt\u001b[39m = \u001b[32m6\u001b[39m\n",
       "\u001b[36mt4\u001b[39m: \u001b[32mInt\u001b[39m = \u001b[32m6\u001b[39m"
      ]
     },
     "execution_count": 77,
     "metadata": {},
     "output_type": "execute_result"
    }
   ],
   "source": [
    "// BEGIN TESTS\n",
    "val t1  = countWhiteSpaces(\"Hello\")\n",
    "assert(t1 == 0, s\"Test1: String whould have 0 white spaces. Your code returned $t1\")\n",
    "val t2 = countWhiteSpaces(\"Hello World this is Sriram Speaking\")\n",
    "assert(t2 ==5, \"Test 2: String should have 5 white spaces.Your code returned $t2 \")\n",
    "val t3 = countWhiteSpaces(\"No Non Nons Nonse Nonsen Nonsens Nonsense!!\")\n",
    "assert(t3 ==6, \"Test 3\")\n",
    "val t4 = countWhiteSpaces(\"      \")\n",
    "assert(t4==6, s\"Test 4: String  (6spaces) should have  white spaces.Your code returned $t4 \")\n",
    "\n",
    "passed(5)\n",
    "// END TESTS"
   ]
  },
  {
   "cell_type": "markdown",
   "metadata": {
    "deletable": false,
    "editable": false,
    "nbgrader": {
     "checksum": "498dd02f299c0be31bee3b53d412f095",
     "grade": false,
     "grade_id": "cell-cce284d399573f50",
     "locked": true,
     "schema_version": 1,
     "solution": false
    }
   },
   "source": [
    "### 3B: Sum of Even  Elements Minus Sum of Odd Elements (5 points)\n",
    "\n",
    "Given a list of length n, write a function that returns the sum of even elements minus sum of odd elements of a list. It must return $0$ for the empty list.\n",
    "\n",
    "eg., input `List(1, 3, 5, 4, 5, 2, 1, 0)`. Output `  (4 + 2 + 0) - (1 + 3 + 5 + 5 + 1) = -9`"
   ]
  },
  {
   "cell_type": "code",
   "execution_count": 36,
   "metadata": {
    "deletable": false,
    "nbgrader": {
     "checksum": "22dc8410a26c77261eb6cf91c799bb1b",
     "grade": false,
     "grade_id": "cell-332c55ac9d70c435",
     "locked": false,
     "schema_version": 1,
     "solution": true
    }
   },
   "outputs": [
    {
     "data": {
      "text/plain": [
       "defined \u001b[32mfunction\u001b[39m \u001b[36msumOfEvenMinusOdd\u001b[39m"
      ]
     },
     "execution_count": 36,
     "metadata": {},
     "output_type": "execute_result"
    }
   ],
   "source": [
    "def sumOfEvenMinusOdd(l: List[Int]) : Int ={\n",
    "    // YOUR CODE HERE\n",
    "    val n = l.length\n",
    "    if (n == 0) {0}\n",
    "    val evenl = l.filter(_ % 2 == 0)\n",
    "    val oddl = l.filter(n => n % 2 == 1 || n % 2 == -1)\n",
    "    println(evenl)\n",
    "    println(oddl)\n",
    "    val even = evenl.foldLeft(0) ((acc, e) => acc + e)\n",
    "    val odd = oddl.foldLeft(0) ((acc, e) => acc + e)\n",
    "    even - odd\n",
    "}"
   ]
  },
  {
   "cell_type": "code",
   "execution_count": 37,
   "metadata": {
    "deletable": false,
    "editable": false,
    "nbgrader": {
     "checksum": "5cafad4d0086d47c0e69a6244235ec63",
     "grade": true,
     "grade_id": "cell-b37de6cd26982543",
     "locked": true,
     "points": 5,
     "schema_version": 1,
     "solution": false
    }
   },
   "outputs": [
    {
     "name": "stdout",
     "output_type": "stream",
     "text": [
      "List(4, 2, 0)\n",
      "List(1, 3, 5, 5, 1)\n",
      "List(2, 4, 6, 8, 10)\n",
      "List(5, 7)\n",
      "List(12, -120, 30, 12, 18)\n",
      "List(109, 19, 1, -5, -15, -33, -13, 19, 3, 1, -1)\n",
      "Tests Passed (5 points)"
     ]
    },
    {
     "data": {
      "text/plain": [
       "\u001b[36mi1\u001b[39m: \u001b[32mInt\u001b[39m = \u001b[32m-9\u001b[39m\n",
       "\u001b[36mi2\u001b[39m: \u001b[32mInt\u001b[39m = \u001b[32m18\u001b[39m\n",
       "\u001b[36mi3\u001b[39m: \u001b[32mInt\u001b[39m = \u001b[32m-133\u001b[39m"
      ]
     },
     "execution_count": 37,
     "metadata": {},
     "output_type": "execute_result"
    }
   ],
   "source": [
    "// BEGIN TESTS\n",
    "val i1 = sumOfEvenMinusOdd(List(1,3,5,4,5,2,1,0))\n",
    "assert(i1 == -9, \"Test 1 Failed\")\n",
    "\n",
    "val i2 = sumOfEvenMinusOdd(List(2,4,5,6,7,8,10))\n",
    "assert(i2 == 18, \"Test 2 Failed\")\n",
    "\n",
    "val i3 = sumOfEvenMinusOdd(List(109, 19, 12, 1, -5, -120, -15, 30,-33,-13, 12, 19, 3, 18, 1, -1))\n",
    "assert(i3 == -133, \"Test 3 Failed\")\n",
    "\n",
    "passed(5)\n",
    "// END TESTS"
   ]
  },
  {
   "cell_type": "markdown",
   "metadata": {
    "deletable": false,
    "editable": false,
    "nbgrader": {
     "checksum": "5036ac3b28940bf9a3628b1f1aa77040",
     "grade": false,
     "grade_id": "cell-1de14d7f940a930f",
     "locked": true,
     "schema_version": 1,
     "solution": false
    }
   },
   "source": [
    "### 3C: sum of odd index elements - sum of even index elements in a list (5 points)\n",
    "\n",
    "Given a list $L= [a(1), ..., a(n)]$ of $n$ integers, find the  the sum\n",
    "of elements at even positions (a[0], a[2], ..., ) minus the sum of elements at\n",
    "odd positions (a[1], a[3], ... ) :\n",
    "(a[0] + a[2]+a[4] + .... ) - (a[1] + a[3]  + .... )\n",
    "\n"
   ]
  },
  {
   "cell_type": "code",
   "execution_count": 41,
   "metadata": {
    "deletable": false,
    "nbgrader": {
     "checksum": "577851f9108a29a9dc306671dfac9cf7",
     "grade": false,
     "grade_id": "cell-0c984f492b25b8b4",
     "locked": false,
     "schema_version": 1,
     "solution": true
    }
   },
   "outputs": [
    {
     "data": {
      "text/plain": [
       "defined \u001b[32mfunction\u001b[39m \u001b[36msumOfEvenIndicesMinusOdd\u001b[39m"
      ]
     },
     "execution_count": 41,
     "metadata": {},
     "output_type": "execute_result"
    }
   ],
   "source": [
    "def sumOfEvenIndicesMinusOdd(l: List[Int]): Int = {\n",
    "    // YOUR CODE HERE\n",
    "    val n = l.length\n",
    "    if (n == 0) {0}\n",
    "    val even = l.indices.filter(_ % 2 == 0).map(l(_)).sum\n",
    "    val odd = l.indices.filter(_ % 2 != 0).map(l(_)).sum\n",
    "    even - odd\n",
    "}"
   ]
  },
  {
   "cell_type": "code",
   "execution_count": 42,
   "metadata": {
    "deletable": false,
    "editable": false,
    "nbgrader": {
     "checksum": "7325864ab4cbbd0ad4343f1309134532",
     "grade": true,
     "grade_id": "cell-8c49d31044f1e0ae",
     "locked": true,
     "points": 5,
     "schema_version": 1,
     "solution": false
    }
   },
   "outputs": [
    {
     "name": "stdout",
     "output_type": "stream",
     "text": [
      "Tests Passed (5 points)"
     ]
    },
    {
     "data": {
      "text/plain": [
       "\u001b[36mt1\u001b[39m: \u001b[32mInt\u001b[39m = \u001b[32m-3\u001b[39m\n",
       "\u001b[36mt2\u001b[39m: \u001b[32mInt\u001b[39m = \u001b[32m-190\u001b[39m\n",
       "\u001b[36mt3\u001b[39m: \u001b[32mInt\u001b[39m = \u001b[32m0\u001b[39m\n",
       "\u001b[36mt4\u001b[39m: \u001b[32mInt\u001b[39m = \u001b[32m0\u001b[39m\n",
       "\u001b[36mt5\u001b[39m: \u001b[32mInt\u001b[39m = \u001b[32m10\u001b[39m"
      ]
     },
     "execution_count": 42,
     "metadata": {},
     "output_type": "execute_result"
    }
   ],
   "source": [
    "// BEGIN TESTS\n",
    "val t1 = sumOfEvenIndicesMinusOdd(List(1, 2, 3, 4, 5, 6))\n",
    "assert(t1 == -3, \"Test 1 failed\")\n",
    "val t2 = sumOfEvenIndicesMinusOdd(List(10, 200))\n",
    "assert(t2 == -190, \"Test 2 failed\")\n",
    "val t3 = sumOfEvenIndicesMinusOdd(List(0, 20, 0, 20, 0, 20, 20, 0, 20, 0, 20, 0))\n",
    "assert(t3 == 0, \"Test 3 failed\")\n",
    "val t4 = sumOfEvenIndicesMinusOdd(List())\n",
    "assert(t4 == 0, \"Test 4 failed\")\n",
    "val t5 = sumOfEvenIndicesMinusOdd(List(10))\n",
    "assert(t5 == 10, \"Test 5 failed\")\n",
    "\n",
    "passed(5)\n",
    "// END TESTS"
   ]
  },
  {
   "cell_type": "markdown",
   "metadata": {
    "deletable": false,
    "editable": false,
    "nbgrader": {
     "checksum": "1c800e131df21331f86c4ab827337dc5",
     "grade": false,
     "grade_id": "cell-0272d508d2481088",
     "locked": true,
     "schema_version": 1,
     "solution": false
    }
   },
   "source": [
    "### 3D: Loop → Recursion (10 points)\n",
    "Eliminate the for loop and mutable variables in the code below"
   ]
  },
  {
   "cell_type": "code",
   "execution_count": 60,
   "metadata": {
    "deletable": false,
    "editable": false,
    "nbgrader": {
     "checksum": "a6cfac55ae72b6b7cc20a8aaf075aaae",
     "grade": false,
     "grade_id": "cell-02bc224733c77bc0",
     "locked": true,
     "schema_version": 1,
     "solution": false
    }
   },
   "outputs": [
    {
     "data": {
      "text/plain": [
       "defined \u001b[32mfunction\u001b[39m \u001b[36mimperativeFun\u001b[39m"
      ]
     },
     "execution_count": 60,
     "metadata": {},
     "output_type": "execute_result"
    }
   ],
   "source": [
    "def imperativeFun(lst: List[Int]): Int = {\n",
    "    var minSoFar = Int.MaxValue // 2^32-1\n",
    "    var maxDiff = 0\n",
    "    val n = lst.length\n",
    "    for (i <- 0 until n) {\n",
    "        if (lst(i) <= minSoFar){\n",
    "            minSoFar = lst(i)\n",
    "        }\n",
    "        if (lst(i) - minSoFar > maxDiff){\n",
    "            maxDiff = lst(i) - minSoFar\n",
    "        }\n",
    "    }\n",
    "    \n",
    "    return maxDiff\n",
    "}"
   ]
  },
  {
   "cell_type": "code",
   "execution_count": 63,
   "metadata": {
    "deletable": false,
    "nbgrader": {
     "checksum": "833709007dac7119ad8b2e440e11d1de",
     "grade": false,
     "grade_id": "cell-61ba46072b910129",
     "locked": false,
     "schema_version": 1,
     "solution": true
    }
   },
   "outputs": [
    {
     "data": {
      "text/plain": [
       "defined \u001b[32mfunction\u001b[39m \u001b[36mfunUsingFoldLeft\u001b[39m"
      ]
     },
     "execution_count": 63,
     "metadata": {},
     "output_type": "execute_result"
    }
   ],
   "source": [
    "def funUsingFoldLeft(lst: List[Int]): Int = {\n",
    "    // YOUR CODE HERE\n",
    "    //val min = lst.foldLeft(Int.MaxValue) ((acc, e) => math.min(acc, e))\n",
    "    val init = (0, Int.MaxValue)\n",
    "    \n",
    "    val maxDiff = lst.foldLeft(init) { (acc, e) =>\n",
    "        (math.max(acc._1, e-acc._2), math.min(acc._2, e))\n",
    "    }\n",
    "    maxDiff._1\n",
    "}"
   ]
  },
  {
   "cell_type": "code",
   "execution_count": 64,
   "metadata": {
    "deletable": false,
    "editable": false,
    "nbgrader": {
     "checksum": "74224c25087fad0f6bf23612f31466dd",
     "grade": true,
     "grade_id": "cell-b766aa2568f6e251",
     "locked": true,
     "points": 10,
     "schema_version": 1,
     "solution": false
    }
   },
   "outputs": [
    {
     "name": "stdout",
     "output_type": "stream",
     "text": [
      "Tests Passed (10 points)"
     ]
    },
    {
     "data": {
      "text/plain": [
       "\u001b[36ml1\u001b[39m: \u001b[32mList\u001b[39m[\u001b[32mInt\u001b[39m] = \u001b[33mList\u001b[39m(\u001b[32m1\u001b[39m, \u001b[32m2\u001b[39m, \u001b[32m3\u001b[39m, \u001b[32m-1\u001b[39m, \u001b[32m2\u001b[39m, \u001b[32m5\u001b[39m, \u001b[32m18\u001b[39m, \u001b[32m19\u001b[39m, \u001b[32m1\u001b[39m, \u001b[32m0\u001b[39m, \u001b[32m-12\u001b[39m, \u001b[32m2\u001b[39m)\n",
       "\u001b[36ml2\u001b[39m: \u001b[32mList\u001b[39m[\u001b[32mInt\u001b[39m] = \u001b[33mList\u001b[39m(\u001b[32m2\u001b[39m)\n",
       "\u001b[36ml3\u001b[39m: \u001b[32mList\u001b[39m[\u001b[32mNothing\u001b[39m] = \u001b[33mList\u001b[39m()\n",
       "\u001b[36ml4\u001b[39m: \u001b[32mList\u001b[39m[\u001b[32mInt\u001b[39m] = \u001b[33mList\u001b[39m(\u001b[32m3\u001b[39m, \u001b[32m2\u001b[39m, \u001b[32m1\u001b[39m, \u001b[32m0\u001b[39m)\n",
       "\u001b[36ml5\u001b[39m: \u001b[32mList\u001b[39m[\u001b[32mInt\u001b[39m] = \u001b[33mList\u001b[39m(\u001b[32m-1\u001b[39m, \u001b[32m-12\u001b[39m, \u001b[32m-22\u001b[39m, \u001b[32m-54\u001b[39m, \u001b[32m-89\u001b[39m, \u001b[32m90\u001b[39m)"
      ]
     },
     "execution_count": 64,
     "metadata": {},
     "output_type": "execute_result"
    }
   ],
   "source": [
    "// BEGIN TESTS\n",
    "val l1 = List(1, 2, 3, -1, 2, 5, 18, 19, 1, 0, -12, 2)\n",
    "assert(imperativeFun(l1) == funUsingFoldLeft(l1), \"Test 1 failed\")\n",
    "\n",
    "val l2 = List(2)\n",
    "assert(imperativeFun(l2) == funUsingFoldLeft(l2), \"Test 2 failed\")\n",
    "\n",
    "val l3 = List()\n",
    "assert(imperativeFun(l3) == funUsingFoldLeft(l3), \"Test 3 failed\")\n",
    "\n",
    "val l4 = List(3, 2, 1, 0)\n",
    "assert(imperativeFun(l4) == funUsingFoldLeft(l4), \"Test 4 failed\")\n",
    "\n",
    "val l5 = List( -1,  -12, -22, -54, -89, 90)\n",
    "assert(imperativeFun(l5) == funUsingFoldLeft(l5), \"Test 5 failed\")\n",
    "\n",
    "passed(10)\n",
    "// END TESTS"
   ]
  }
 ],
 "metadata": {
  "kernelspec": {
   "display_name": "Scala",
   "language": "scala",
   "name": "scala"
  },
  "language_info": {
   "codemirror_mode": "text/x-scala",
   "file_extension": ".scala",
   "mimetype": "text/x-scala",
   "name": "scala211",
   "nbconvert_exporter": "script",
   "pygments_lexer": "scala",
   "version": "2.11.11"
  }
 },
 "nbformat": 4,
 "nbformat_minor": 2
}
