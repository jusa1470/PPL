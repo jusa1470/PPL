{
 "cells": [
  {
   "cell_type": "markdown",
   "metadata": {
    "deletable": false,
    "editable": false,
    "nbgrader": {
     "checksum": "b4f77b261ee5fd9a1d8ac1cf443898e8",
     "grade": false,
     "grade_id": "header",
     "locked": true,
     "schema_version": 1,
     "solution": false
    }
   },
   "source": [
    "# Assignment 1: Scala Programming\n",
    "\n",
    "This assignment asks you to write scala programs. Fill in the programs below. Use the test cases provided to test them. You are also strongly encouraged to contribute your own test cases."
   ]
  },
  {
   "cell_type": "markdown",
   "metadata": {
    "deletable": false,
    "editable": false,
    "nbgrader": {
     "checksum": "ef3a17892f13a651ce092f0132f06cd5",
     "grade": false,
     "grade_id": "p1",
     "locked": true,
     "schema_version": 1,
     "solution": false
    }
   },
   "source": [
    "## Problem 1 (5 points)\n",
    "\n",
    "Write a scala function titled `isPalindrome (s)` that tests whether a given input string `s` is a palindrome.\n",
    "\n",
    "The following string operations will be helpful.\n",
    "\n",
    "1. `s.size` gives you the size of the string.\n",
    "2. `s(i)` gives you the `ith` character for `i = 0, ... , s.size-1`\n",
    "3. For loops in scala are described here: https://www.tutorialspoint.com/scala/scala_for_loop.htm\n",
    "   Pay careful attention between the to and until forms of the for loop."
   ]
  },
  {
   "cell_type": "code",
   "execution_count": 1,
   "metadata": {
    "deletable": false,
    "nbgrader": {
     "checksum": "c57acc50ca82d8524b15ee518eeee370",
     "grade": false,
     "grade_id": "a1",
     "locked": false,
     "schema_version": 1,
     "solution": true
    }
   },
   "outputs": [
    {
     "data": {
      "text/plain": [
       "defined \u001b[32mfunction\u001b[39m \u001b[36misPalindrome\u001b[39m"
      ]
     },
     "execution_count": 1,
     "metadata": {},
     "output_type": "execute_result"
    }
   ],
   "source": [
    "// Julia Sanford\n",
    "\n",
    "def isPalindrome(s: String): Boolean = {\n",
    "    // YOUR CODE HERE\n",
    "    var len = s.size - 1;\n",
    "    var start = 0;\n",
    "    while (start < len){\n",
    "        if (s(start) != s(len)){\n",
    "            return false;\n",
    "        }\n",
    "        start += 1;\n",
    "        len -= 1;\n",
    "    }\n",
    "    return true;\n",
    "}"
   ]
  },
  {
   "cell_type": "code",
   "execution_count": 2,
   "metadata": {
    "deletable": false,
    "editable": false,
    "nbgrader": {
     "checksum": "99197bbb88379ff58854c858c10679d0",
     "grade": true,
     "grade_id": "t1",
     "locked": true,
     "points": 5,
     "schema_version": 1,
     "solution": false
    }
   },
   "outputs": [],
   "source": [
    "// TEST CASES\n",
    "\n",
    "assert(isPalindrome(\"hellolleh\") == true, \"1\")\n",
    "assert(isPalindrome(\"bababablacksheep\") == false, \"2\")\n",
    "assert(isPalindrome(\"\") == true, \"3\")\n",
    "assert(isPalindrome(\"a\") == true, \"4\")\n",
    "assert(isPalindrome(\"xxxxxxxx\") == true, \"5\")\n",
    "assert(isPalindrome(\"ablewasiereisawelba\") == true, \"6\")"
   ]
  },
  {
   "cell_type": "markdown",
   "metadata": {
    "deletable": false,
    "editable": false,
    "nbgrader": {
     "checksum": "72bbb21f587635a222ca95e86d376ae4",
     "grade": false,
     "grade_id": "p2",
     "locked": true,
     "schema_version": 1,
     "solution": false
    }
   },
   "source": [
    "## Problem 2 (5 points)\n",
    "\n",
    "Implement a `isPalindromeRec` function that checks if a given string is a palindrome, but without using mutable `var` or without using `for`/`while` loops.\n",
    "\n",
    "**Hint:** You should consult Scala documentation on strings to figure out:\n",
    "1. How do we get first and last characters of a string.\n",
    "2. How do we get substring between first and last character.\n",
    "3. How to find out if a string is empty or a single character.\n",
    "https://www.tutorialspoint.com/scala/scala_strings.htm"
   ]
  },
  {
   "cell_type": "code",
   "execution_count": 3,
   "metadata": {
    "deletable": false,
    "nbgrader": {
     "checksum": "b24abc7dc09c67ab4338d7c3a1aa2c51",
     "grade": false,
     "grade_id": "a2",
     "locked": false,
     "schema_version": 1,
     "solution": true
    }
   },
   "outputs": [
    {
     "data": {
      "text/plain": [
       "defined \u001b[32mfunction\u001b[39m \u001b[36misPalindromeRec\u001b[39m"
      ]
     },
     "execution_count": 3,
     "metadata": {},
     "output_type": "execute_result"
    }
   ],
   "source": [
    "def isPalindromeRec(s: String): Boolean = {\n",
    "    // YOUR CODE HERE\n",
    "    val l = s.size\n",
    "    if (l == 1 || l == 0 || (l == 2 && s(0) == s(1))){\n",
    "        return true\n",
    "    }\n",
    "    val front = s(0)\n",
    "    val end = s(l-1)\n",
    "    if (front == end && l > 2){\n",
    "        return isPalindromeRec(s.substring(1, l-1))\n",
    "    }\n",
    "    else {\n",
    "        return false\n",
    "    }\n",
    "}"
   ]
  },
  {
   "cell_type": "code",
   "execution_count": 4,
   "metadata": {
    "deletable": false,
    "editable": false,
    "nbgrader": {
     "checksum": "c43e8f670a0e17f4d7bf5cabacf454f5",
     "grade": true,
     "grade_id": "t2",
     "locked": true,
     "points": 5,
     "schema_version": 1,
     "solution": false
    }
   },
   "outputs": [],
   "source": [
    "// TEST CASES\n",
    "\n",
    "assert(isPalindromeRec(\"hellolleh\") == true, \"1\")\n",
    "assert(isPalindromeRec(\"bababablacksheep\") == false, \"2\")\n",
    "assert(isPalindromeRec(\"\") == true, \"3\")\n",
    "assert(isPalindromeRec(\"a\") == true, \"4\")\n",
    "assert(isPalindromeRec(\"xxxxxxxx\") == true, \"5\")\n",
    "assert(isPalindromeRec(\"ablewasiereisawelba\") == true, \"6\")"
   ]
  },
  {
   "cell_type": "markdown",
   "metadata": {
    "deletable": false,
    "editable": false,
    "nbgrader": {
     "checksum": "a46ac3472dd823fa97e9a51e05cd5799",
     "grade": false,
     "grade_id": "p3",
     "locked": true,
     "schema_version": 1,
     "solution": false
    }
   },
   "source": [
    "## Problem 3 (5 points)\n",
    "\n",
    "Write a scala function XOR to compute the XOR of two boolean inputs."
   ]
  },
  {
   "cell_type": "code",
   "execution_count": 5,
   "metadata": {
    "deletable": false,
    "nbgrader": {
     "checksum": "567e224125df5ce07540e7b5ed220635",
     "grade": false,
     "grade_id": "a3",
     "locked": false,
     "schema_version": 1,
     "solution": true
    }
   },
   "outputs": [
    {
     "data": {
      "text/plain": [
       "defined \u001b[32mfunction\u001b[39m \u001b[36mcomputeXOR\u001b[39m"
      ]
     },
     "execution_count": 5,
     "metadata": {},
     "output_type": "execute_result"
    }
   ],
   "source": [
    "def computeXOR(x1: Boolean, x2: Boolean): Boolean = {\n",
    "    // YOUR CODE HERE\n",
    "    if (x1 == x2){\n",
    "        return false;\n",
    "    }\n",
    "    return true;\n",
    "}"
   ]
  },
  {
   "cell_type": "code",
   "execution_count": 6,
   "metadata": {
    "deletable": false,
    "editable": false,
    "nbgrader": {
     "checksum": "7fb1390738c3048e2b31c6eff69536ad",
     "grade": true,
     "grade_id": "t3",
     "locked": true,
     "points": 5,
     "schema_version": 1,
     "solution": false
    }
   },
   "outputs": [],
   "source": [
    "// TEST CASES\n",
    "\n",
    "assert(!computeXOR(true, true), \"1\")\n",
    "assert(computeXOR(true, false), \"2\")\n",
    "assert(computeXOR(false, true), \"3\")\n",
    "assert(!computeXOR(false, false), \"4\")"
   ]
  },
  {
   "cell_type": "markdown",
   "metadata": {
    "deletable": false,
    "editable": false,
    "nbgrader": {
     "checksum": "c0c24c50e425e3bf8ce0f1cc3c29823b",
     "grade": false,
     "grade_id": "p4",
     "locked": true,
     "schema_version": 1,
     "solution": false
    }
   },
   "source": [
    "## Problem 4 (15 points)\n",
    "\n",
    "We would like you to implement the methods in the class Rational that is supposed to represent fractions $\\frac{n}{d}$, where the numerator and denominator are integers $n, d$. Note that it is important to ensure that $d \\not= 0$.\n",
    "\n",
    "Implement the missing methods below.\n",
    "\n",
    "You should read this blog post about how to convert between numeric types.\n",
    "\n",
    "https://alvinalexander.com/scala/how-to-convert-between-numeric-types-in-scala-int-long-float-double\n"
   ]
  },
  {
   "cell_type": "code",
   "execution_count": 7,
   "metadata": {
    "deletable": false,
    "nbgrader": {
     "checksum": "cffc0dbce5f8197b5e2b7087399a880b",
     "grade": false,
     "grade_id": "a4",
     "locked": false,
     "schema_version": 1,
     "solution": true
    }
   },
   "outputs": [
    {
     "data": {
      "text/plain": [
       "defined \u001b[32mclass\u001b[39m \u001b[36mRational\u001b[39m"
      ]
     },
     "execution_count": 7,
     "metadata": {},
     "output_type": "execute_result"
    }
   ],
   "source": [
    "class Rational(val n: Int, val d: Int) {\n",
    "    // Implement a pretty printer\n",
    "    override def toString(): String = {\n",
    "        s\"$n/$d\"\n",
    "    }\n",
    "    \n",
    "    def isValid(): Boolean = {\n",
    "        // check if this is a valid fraction.\n",
    "        // YOUR CODE HERE\n",
    "        if (d == 0){\n",
    "            return false\n",
    "        }\n",
    "        true\n",
    "    }\n",
    "    def toDouble(): Double = {\n",
    "        // Convert n/ d to double\n",
    "        // use toDouble method to convert an integer to double\n",
    "        // YOUR CODE HERE\n",
    "        val num = n.toDouble\n",
    "        val den = d.toDouble\n",
    "        return num/den\n",
    "    }\n",
    "    \n",
    "    def isInteger(): Boolean = {\n",
    "        // Is this fraction an integer.\n",
    "        // A fraction is an integer if n is divisible by d\n",
    "        // YOUR CODE HERE\n",
    "        if (n % d == 0){\n",
    "            return true\n",
    "        }\n",
    "        false\n",
    "    }\n",
    "    \n",
    "    def floor(): Double = {\n",
    "        // return the floor of n/d\n",
    "        // math.floor(f) takes the floor of a double precision number in scala\n",
    "        // YOUR CODE HERE\n",
    "        return math.floor(toDouble())\n",
    "    }\n",
    "    \n",
    "    \n",
    "    def rationalEquals(r: Rational): Boolean = {\n",
    "        // Check if this equals r\n",
    "        // YOUR CODE HERE\n",
    "        if (toDouble() == r.toDouble()){\n",
    "            return true\n",
    "        }\n",
    "        false\n",
    "    }\n",
    "    \n",
    "    \n",
    "    \n",
    "    def + (r: Rational) : Rational = {\n",
    "        // Add two rationals and return a new Rational\n",
    "        // YOUR CODE HERE\n",
    "        val n1 = n * r.d;\n",
    "        val rn1 = r.n * d;\n",
    "        val R: Rational = new Rational(n1 + rn1, r.d * d);\n",
    "        return R\n",
    "    }\n",
    "    \n",
    "    def - (r: Rational): Rational = {\n",
    "        // compute this - r and return a new Rational\n",
    "        // YOUR CODE HERE\n",
    "        val n1 = n * r.d;\n",
    "        val rn1 = r.n * d;\n",
    "        val R: Rational = new Rational(n1 - rn1, r.d * d);\n",
    "        return R\n",
    "    }\n",
    "    \n",
    "    def * (r: Rational): Rational = {\n",
    "        // multiply two rationals and return a new Rational\n",
    "        // YOUR CODE HERE\n",
    "        val R: Rational = new Rational(n * r.n, d * r.d)\n",
    "        return R\n",
    "    }\n",
    "    \n",
    "    def / (r: Rational): Rational = {\n",
    "        // compute this/r and return a new Rational\n",
    "        // YOUR CODE HERE\n",
    "        val R: Rational = new Rational(n * r.d, d * r.n)\n",
    "        return R\n",
    "    }\n",
    "    \n",
    "    // We can use your rationalEquals method to overide the == operator as follows\n",
    "    // Ignore this method for now -- it will be clearer soon\n",
    "    override def equals(r: Any): Boolean = r match {\n",
    "        case rat: Rational => this.rationalEquals(rat) \n",
    "        case _ => false\n",
    "    }\n",
    "    // END Ignore\n",
    "    \n",
    "}"
   ]
  },
  {
   "cell_type": "code",
   "execution_count": 8,
   "metadata": {
    "deletable": false,
    "editable": false,
    "nbgrader": {
     "checksum": "e2ccaec67ec1257558da371521e70563",
     "grade": true,
     "grade_id": "t4_isValid",
     "locked": true,
     "points": 1,
     "schema_version": 1,
     "solution": false
    }
   },
   "outputs": [],
   "source": [
    "// TEST CODE\n",
    "assert(new Rational(10, 0).isValid() == false, \"1 - isValid\")\n",
    "assert(new Rational(10, 1).isValid() == true, \"2 - isValid\")"
   ]
  },
  {
   "cell_type": "code",
   "execution_count": 9,
   "metadata": {
    "deletable": false,
    "editable": false,
    "nbgrader": {
     "checksum": "9cd9b16b1f2c1b3a903d0b8a3e17d82c",
     "grade": true,
     "grade_id": "t4_toDouble",
     "locked": true,
     "points": 1,
     "schema_version": 1,
     "solution": false
    }
   },
   "outputs": [],
   "source": [
    "// TEST CODE\n",
    "assert(new Rational(10, 3).toDouble() == 10.0/3.0, \"1 - toDouble\")\n",
    "assert(new Rational(19, 5).toDouble() == 19.0/5.0, \"2 - toDouble\")"
   ]
  },
  {
   "cell_type": "code",
   "execution_count": 10,
   "metadata": {
    "deletable": false,
    "editable": false,
    "nbgrader": {
     "checksum": "1f40607ab4117ee3114fa38efd736c33",
     "grade": true,
     "grade_id": "t4_isInteger",
     "locked": true,
     "points": 1,
     "schema_version": 1,
     "solution": false
    }
   },
   "outputs": [],
   "source": [
    "// TEST CODE\n",
    "assert(new Rational(15, 3).isInteger() == true, \"1 - isInteger\")\n",
    "assert(new Rational(15, 8).isInteger() == false, \"2 - isInteger\")\n",
    "assert(new Rational(225, 15).isInteger() == true, \"3 - isInteger\")\n",
    "assert(new Rational(181, 2).isInteger() == false, \"4 - isInteger\")"
   ]
  },
  {
   "cell_type": "code",
   "execution_count": 11,
   "metadata": {
    "deletable": false,
    "editable": false,
    "nbgrader": {
     "checksum": "6d9cdbbf744fec62dd95041be0a98bff",
     "grade": true,
     "grade_id": "t4_floor",
     "locked": true,
     "points": 2,
     "schema_version": 1,
     "solution": false
    }
   },
   "outputs": [],
   "source": [
    "// TEST CODE\n",
    "assert(new Rational(15, 4).floor() == 3.0, \"1 - floor\")\n",
    "assert(new Rational(100, 45).floor() == 2.0, \"2 - floor\")\n",
    "assert(new Rational(-25, 3).floor() == -9.0, \"3 - floor\")\n",
    "assert(new Rational(-40, 7).floor() == -6.0, \"4 - floor\")"
   ]
  },
  {
   "cell_type": "code",
   "execution_count": 12,
   "metadata": {
    "deletable": false,
    "editable": false,
    "nbgrader": {
     "checksum": "cd67de3e006a851bfb4ee947fea158bb",
     "grade": true,
     "grade_id": "t4_eq",
     "locked": true,
     "points": 2,
     "schema_version": 1,
     "solution": false
    }
   },
   "outputs": [],
   "source": [
    "// TEST CODE\n",
    "assert((new Rational(20, 5)) == (new Rational(16 , 4)), \"1 - rationalEquals\")\n",
    "assert((new Rational(24, 5)) == (new Rational(120, 25)), \"2 - rationalEquals\")\n",
    "assert((new Rational(19, 5)) != (new Rational(5, 19)), \"3 - rationalEquals\")\n",
    "assert((new Rational(24, 1)) != (new Rational(120, 15)), \"4 - rationalEquals\")"
   ]
  },
  {
   "cell_type": "code",
   "execution_count": 13,
   "metadata": {
    "deletable": false,
    "editable": false,
    "nbgrader": {
     "checksum": "7a8695117b94c2d4985cd11522b5668e",
     "grade": true,
     "grade_id": "t4_plus",
     "locked": true,
     "points": 2,
     "schema_version": 1,
     "solution": false
    }
   },
   "outputs": [
    {
     "data": {
      "text/plain": [
       "\u001b[36mr1\u001b[39m: \u001b[32mRational\u001b[39m = 10/3\n",
       "\u001b[36mr2\u001b[39m: \u001b[32mRational\u001b[39m = 14/3\n",
       "\u001b[36mr3\u001b[39m: \u001b[32mRational\u001b[39m = 72/9\n",
       "\u001b[36mr4\u001b[39m: \u001b[32mRational\u001b[39m = 9/2\n",
       "\u001b[36mr5\u001b[39m: \u001b[32mRational\u001b[39m = 18/2\n",
       "\u001b[36mr6\u001b[39m: \u001b[32mRational\u001b[39m = 54/4\n",
       "\u001b[36mr7\u001b[39m: \u001b[32mRational\u001b[39m = 15/7\n",
       "\u001b[36mr8\u001b[39m: \u001b[32mRational\u001b[39m = 19/6\n",
       "\u001b[36mr9\u001b[39m: \u001b[32mRational\u001b[39m = 223/42"
      ]
     },
     "execution_count": 13,
     "metadata": {},
     "output_type": "execute_result"
    }
   ],
   "source": [
    "// TEST CODE\n",
    "val r1 = new Rational(10, 3)\n",
    "val r2 = new Rational(14, 3)\n",
    "val r3 = r1 + r2\n",
    "assert(r3.n == r3.d * 8, \"1) addition of '10/3 + 14/3'\")\n",
    "\n",
    "val r4 = new Rational(9, 2)\n",
    "val r5 = new Rational(18, 2)\n",
    "val r6 = r4 + r5\n",
    "assert(r6.n * 2 == r6.d * 27, \"2) addition of '9/2 + 18/2'\")\n",
    "\n",
    "val r7 = new Rational(15, 7)\n",
    "val r8 = new Rational(19, 6)\n",
    "val r9 = r7 + r8\n",
    "assert(r9.n * 42 == r9.d * 223, \"3) addition of '15/7 + 19/6'\")"
   ]
  },
  {
   "cell_type": "code",
   "execution_count": 14,
   "metadata": {
    "deletable": false,
    "editable": false,
    "nbgrader": {
     "checksum": "a040827d462ef5dc5aa5fff92e7567d4",
     "grade": true,
     "grade_id": "t4_minus",
     "locked": true,
     "points": 2,
     "schema_version": 1,
     "solution": false
    }
   },
   "outputs": [
    {
     "data": {
      "text/plain": [
       "\u001b[36mr1\u001b[39m: \u001b[32mRational\u001b[39m = 10/3\n",
       "\u001b[36mr2\u001b[39m: \u001b[32mRational\u001b[39m = 13/3\n",
       "\u001b[36mr3\u001b[39m: \u001b[32mRational\u001b[39m = -9/9\n",
       "\u001b[36mr4\u001b[39m: \u001b[32mRational\u001b[39m = 18/2\n",
       "\u001b[36mr5\u001b[39m: \u001b[32mRational\u001b[39m = 9/2\n",
       "\u001b[36mr6\u001b[39m: \u001b[32mRational\u001b[39m = 18/4\n",
       "\u001b[36mr7\u001b[39m: \u001b[32mRational\u001b[39m = 15/7\n",
       "\u001b[36mr8\u001b[39m: \u001b[32mRational\u001b[39m = 19/6\n",
       "\u001b[36mr9\u001b[39m: \u001b[32mRational\u001b[39m = -43/42"
      ]
     },
     "execution_count": 14,
     "metadata": {},
     "output_type": "execute_result"
    }
   ],
   "source": [
    "// TEST CODE\n",
    "val r1 = new Rational(10, 3)\n",
    "val r2 = new Rational(13, 3)\n",
    "val r3 = r1 - r2\n",
    "assert(r3.n == -r3.d, \"1) subtraction of '10/3 - 13/3'\")\n",
    "\n",
    "val r4 = new Rational(18, 2)\n",
    "val r5 = new Rational(9, 2)\n",
    "val r6 = r4 - r5\n",
    "assert(r6.n * 2 == r6.d * 9, \"2) subtraction of '18/2 - 9/2'\")\n",
    "\n",
    "val r7 = new Rational(15, 7)\n",
    "val r8 = new Rational(19, 6)\n",
    "val r9 = r7 - r8\n",
    "assert(r9.n * 42 == r9.d * -43, \"3) subtraction of '15/7 - 19/6'\")"
   ]
  },
  {
   "cell_type": "code",
   "execution_count": 15,
   "metadata": {
    "deletable": false,
    "editable": false,
    "nbgrader": {
     "checksum": "e7f92456181a4dc7fd5d00c0773f2111",
     "grade": true,
     "grade_id": "t4_times",
     "locked": true,
     "points": 2,
     "schema_version": 1,
     "solution": false
    }
   },
   "outputs": [
    {
     "data": {
      "text/plain": [
       "\u001b[36mr1\u001b[39m: \u001b[32mRational\u001b[39m = 10/3\n",
       "\u001b[36mr2\u001b[39m: \u001b[32mRational\u001b[39m = 13/3\n",
       "\u001b[36mr3\u001b[39m: \u001b[32mRational\u001b[39m = 130/9\n",
       "\u001b[36mr4\u001b[39m: \u001b[32mRational\u001b[39m = -18/2\n",
       "\u001b[36mr5\u001b[39m: \u001b[32mRational\u001b[39m = 9/2\n",
       "\u001b[36mr6\u001b[39m: \u001b[32mRational\u001b[39m = -162/4\n",
       "\u001b[36mr7\u001b[39m: \u001b[32mRational\u001b[39m = 15/7\n",
       "\u001b[36mr8\u001b[39m: \u001b[32mRational\u001b[39m = 19/6\n",
       "\u001b[36mr9\u001b[39m: \u001b[32mRational\u001b[39m = 285/42"
      ]
     },
     "execution_count": 15,
     "metadata": {},
     "output_type": "execute_result"
    }
   ],
   "source": [
    "// TEST CODE\n",
    "val r1 = new Rational(10, 3)\n",
    "val r2 = new Rational(13, 3)\n",
    "val r3 = r1 * r2\n",
    "assert(r3.n * 9 == r3.d * 130, \"1) multiplication of '10/3 * 13/3'\")\n",
    "\n",
    "val r4 = new Rational(-18, 2)\n",
    "val r5 = new Rational(9, 2)\n",
    "val r6 = r4 * r5\n",
    "assert(r6.n * -2 == r6.d * 81, \"2) multiplication of '-18/2 * 9/2'\")\n",
    "\n",
    "val r7 = new Rational(15, 7)\n",
    "val r8 = new Rational(19, 6)\n",
    "val r9 = r7 * r8\n",
    "assert(r9.n * 14 == r9.d * 95, \"3) multiplication of '15/7 * 19/6'\")"
   ]
  },
  {
   "cell_type": "code",
   "execution_count": 16,
   "metadata": {
    "deletable": false,
    "editable": false,
    "nbgrader": {
     "checksum": "12952de7885fc68fbe7110284718c103",
     "grade": true,
     "grade_id": "t4_div",
     "locked": true,
     "points": 2,
     "schema_version": 1,
     "solution": false
    }
   },
   "outputs": [
    {
     "data": {
      "text/plain": [
       "\u001b[36mr1\u001b[39m: \u001b[32mRational\u001b[39m = 10/3\n",
       "\u001b[36mr2\u001b[39m: \u001b[32mRational\u001b[39m = 13/3\n",
       "\u001b[36mr3\u001b[39m: \u001b[32mRational\u001b[39m = 30/39\n",
       "\u001b[36mr4\u001b[39m: \u001b[32mRational\u001b[39m = -18/2\n",
       "\u001b[36mr5\u001b[39m: \u001b[32mRational\u001b[39m = 9/3\n",
       "\u001b[36mr6\u001b[39m: \u001b[32mRational\u001b[39m = -54/18\n",
       "\u001b[36mr7\u001b[39m: \u001b[32mRational\u001b[39m = 15/-7\n",
       "\u001b[36mr8\u001b[39m: \u001b[32mRational\u001b[39m = 19/-6\n",
       "\u001b[36mr9\u001b[39m: \u001b[32mRational\u001b[39m = -90/-133"
      ]
     },
     "execution_count": 16,
     "metadata": {},
     "output_type": "execute_result"
    }
   ],
   "source": [
    "// TEST CODE\n",
    "val r1 = new Rational(10, 3)\n",
    "val r2 = new Rational(13, 3)\n",
    "val r3 = r1 / r2\n",
    "assert(r3.n * 13 == r3.d * 10, \"1) division of '(10/3) / (13/3)'\")\n",
    "\n",
    "val r4 = new Rational(-18, 2)\n",
    "val r5 = new Rational(9, 3)\n",
    "val r6 = r4 / r5\n",
    "assert(r6.n == r6.d * -3, \"2) division of '(-18/2) / (9/3)'\")\n",
    "\n",
    "val r7 = new Rational(15, -7)\n",
    "val r8 = new Rational(19, -6)\n",
    "val r9 = r7 / r8\n",
    "assert(r9.n * 133 == r9.d * 90, \"3) division of '(15/-7) / (19/-6)'\")"
   ]
  },
  {
   "cell_type": "markdown",
   "metadata": {
    "deletable": false,
    "editable": false,
    "nbgrader": {
     "checksum": "0431353e950b1106e12e83c9e9e7e676",
     "grade": false,
     "grade_id": "p5a",
     "locked": true,
     "schema_version": 1,
     "solution": false
    }
   },
   "source": [
    "## Problem 5\n",
    "\n",
    "Newton invented the Newton-Raphson method for solving an equation. We are going to ask you to write some code to solve equations.\n",
    "\n",
    "To solve an equation of the form\n",
    "\n",
    "$$ x^2 - 3x + 2 == 0$$\n",
    "\n",
    "we start from an initial guess at the solution: say $$x_0 = 4.5$$\n",
    "\n",
    "Each time we have the $i^th$ guess $x_i$, we update it as\n",
    "\n",
    "$$ x_{i+1} = x_i - \\frac{f(x_i)}{f'(x_i)} $$\n",
    "\n",
    "For our equation, $f(x) = x^2 - 3x +2$ and $f'(x) = 2 x - 3$.\n",
    "\n",
    "Thus, our update equation is \n",
    "$$ x_{i+1} = x_i - \\frac{x_i^2 - 3 x_i + 2}{2 x_i - 3}$$.\n",
    "\n",
    "We stop whenever $|f(x_i)| \\leq 10^{-8}$: i.e, we are very close to a root of the function.\n",
    "\n",
    "Gory details are here:\n",
    "http://www.math.ubc.ca/~anstee/math104/newtonmethod.pdf\n",
    "\n",
    "__(A, 5 points)__ Write a scala function `calculateRoot(x0: Double)` that takes in the initial guess $x_0$ as input and calculates the root for the polynomial $x^2 - 3 x + 2$. Your code should use a While loop.\n",
    "\n",
    "Caution: To calculate $x^2$, you should use `math.pow(x,2)` in Scala."
   ]
  },
  {
   "cell_type": "code",
   "execution_count": 1,
   "metadata": {
    "deletable": false,
    "nbgrader": {
     "checksum": "a31d95904da0134e9729adbeeee9891d",
     "grade": false,
     "grade_id": "a5a",
     "locked": false,
     "schema_version": 1,
     "solution": true
    }
   },
   "outputs": [
    {
     "data": {
      "text/plain": [
       "defined \u001b[32mfunction\u001b[39m \u001b[36mcalculateRoot\u001b[39m"
      ]
     },
     "execution_count": 1,
     "metadata": {},
     "output_type": "execute_result"
    }
   ],
   "source": [
    "def calculateRoot(x0: Double): Double = {\n",
    "    def f(x: Double) = { math.pow(x,2) - 3 * x + 2.0 }\n",
    "    def df(x: Double) = { 2* x - 3}\n",
    "    // YOUR CODE HERE\n",
    "    var xi = x0\n",
    "    while (math.abs(f(xi)) > math.pow(10, -8)){\n",
    "        xi = xi - (f(xi) / df(xi))\n",
    "    }\n",
    "    xi;\n",
    "}"
   ]
  },
  {
   "cell_type": "code",
   "execution_count": 2,
   "metadata": {
    "deletable": false,
    "editable": false,
    "nbgrader": {
     "checksum": "4d0b4090f7e549227116db24dd9fb25f",
     "grade": true,
     "grade_id": "t5a",
     "locked": true,
     "points": 5,
     "schema_version": 1,
     "solution": false
    }
   },
   "outputs": [
    {
     "data": {
      "text/plain": [
       "defined \u001b[32mfunction\u001b[39m \u001b[36misRootCorrect\u001b[39m"
      ]
     },
     "execution_count": 2,
     "metadata": {},
     "output_type": "execute_result"
    }
   ],
   "source": [
    "// TEST CODE\n",
    "\n",
    "def isRootCorrect(x: Double): Boolean = {\n",
    "    val y = calculateRoot(x)\n",
    "    (math.abs(y - 2.0) <= 1e-06) || (math.abs(y - 1.0) <= 1e-06)\n",
    "}\n",
    "\n",
    "assert(isRootCorrect(3.5), \"1\")\n",
    "assert(isRootCorrect(4.6), \"2\")\n",
    "assert(isRootCorrect(-3), \"3\")\n",
    "assert(isRootCorrect(-3.5), \"4\")"
   ]
  },
  {
   "cell_type": "markdown",
   "metadata": {
    "deletable": false,
    "editable": false,
    "nbgrader": {
     "checksum": "57af0bd5099c5bc970645a6b674ec508",
     "grade": false,
     "grade_id": "p5b",
     "locked": true,
     "schema_version": 1,
     "solution": false
    }
   },
   "source": [
    "__(B, 5 points)__ Implement the function `calculateRootRec` that uses a recursion instead of a while loop to compute the root. You should __not__ use a mutable `var` in your code. "
   ]
  },
  {
   "cell_type": "code",
   "execution_count": 19,
   "metadata": {
    "deletable": false,
    "nbgrader": {
     "checksum": "e49b7e93a55f1fbf578b67e98b80bca1",
     "grade": false,
     "grade_id": "a5b",
     "locked": false,
     "schema_version": 1,
     "solution": true
    }
   },
   "outputs": [
    {
     "data": {
      "text/plain": [
       "defined \u001b[32mfunction\u001b[39m \u001b[36mcalculateRootRec\u001b[39m"
      ]
     },
     "execution_count": 19,
     "metadata": {},
     "output_type": "execute_result"
    }
   ],
   "source": [
    "def calculateRootRec(x: Double): Double = {\n",
    "    // YOUR CODE HERE\n",
    "    if (math.abs(math.pow(x,2) - 3 * x + 2.0) > math.pow(10, -8)){\n",
    "        return calculateRootRec(x - ((math.pow(x,2) - 3 * x + 2.0) / (2* x - 3)))\n",
    "    }\n",
    "    x\n",
    "}"
   ]
  },
  {
   "cell_type": "code",
   "execution_count": 20,
   "metadata": {
    "deletable": false,
    "editable": false,
    "nbgrader": {
     "checksum": "b452256e63435a61c20cf8e6187d6437",
     "grade": true,
     "grade_id": "t5b",
     "locked": true,
     "points": 5,
     "schema_version": 1,
     "solution": false
    }
   },
   "outputs": [
    {
     "data": {
      "text/plain": [
       "defined \u001b[32mfunction\u001b[39m \u001b[36misRootCorrectRec\u001b[39m"
      ]
     },
     "execution_count": 20,
     "metadata": {},
     "output_type": "execute_result"
    }
   ],
   "source": [
    "// TEST CODE\n",
    "def isRootCorrectRec(x: Double): Boolean = {\n",
    "    val y = calculateRootRec(x)\n",
    "    (math.abs(y - 2.0) <= 1e-06) || (math.abs(y - 1.0) <= 1e-06)\n",
    "}\n",
    "\n",
    "assert(isRootCorrectRec(3.5), \"1\")\n",
    "assert(isRootCorrectRec(4.6), \"2\")\n",
    "assert(isRootCorrectRec(-3), \"3\")\n",
    "assert(isRootCorrectRec(-3.5), \"4\")\n",
    "assert(isRootCorrectRec(1.3), \"5\")"
   ]
  },
  {
   "cell_type": "markdown",
   "metadata": {
    "deletable": false,
    "editable": false,
    "nbgrader": {
     "checksum": "d9892dd8b8f05f2bd0d6c11043645594",
     "grade": false,
     "grade_id": "p5c",
     "locked": true,
     "schema_version": 1,
     "solution": false
    }
   },
   "source": [
    "__(C, 5 points)__ Write a generalized Newton-Raphson function `solveEquationNewtonRaphson` to solve any \n",
    "equation $f(x) = 0$ wherein the functions $f$ and $f'(x)$ are given as inputs. Do not use while loops or mutable `var` in your code.\n",
    "\n"
   ]
  },
  {
   "cell_type": "code",
   "execution_count": 21,
   "metadata": {
    "deletable": false,
    "nbgrader": {
     "checksum": "9de600cff642f5c20ac2c9df78c87618",
     "grade": false,
     "grade_id": "a5c",
     "locked": false,
     "schema_version": 1,
     "solution": true
    }
   },
   "outputs": [
    {
     "data": {
      "text/plain": [
       "defined \u001b[32mfunction\u001b[39m \u001b[36msolveEquationNewtonRaphson\u001b[39m"
      ]
     },
     "execution_count": 21,
     "metadata": {},
     "output_type": "execute_result"
    }
   ],
   "source": [
    "def solveEquationNewtonRaphson(x: Double, f: Double => Double, df: Double => Double): Double = {\n",
    "    // YOUR CODE HERE\n",
    "    if (math.abs(f(x)) > math.pow(10, -8)){\n",
    "        return solveEquationNewtonRaphson(x - (f(x) / df(x)), f, df)\n",
    "    }\n",
    "    x\n",
    "}"
   ]
  },
  {
   "cell_type": "code",
   "execution_count": 22,
   "metadata": {
    "deletable": false,
    "editable": false,
    "nbgrader": {
     "checksum": "b0836771c1d3eb63c044978559e2d813",
     "grade": true,
     "grade_id": "t5c",
     "locked": true,
     "points": 5,
     "schema_version": 1,
     "solution": false
    }
   },
   "outputs": [
    {
     "data": {
      "text/plain": [
       "defined \u001b[32mfunction\u001b[39m \u001b[36mf1\u001b[39m\n",
       "defined \u001b[32mfunction\u001b[39m \u001b[36mdf1\u001b[39m\n",
       "\u001b[36mx1\u001b[39m: \u001b[32mDouble\u001b[39m = \u001b[32m1.000000000001152\u001b[39m\n",
       "defined \u001b[32mfunction\u001b[39m \u001b[36mf2\u001b[39m\n",
       "defined \u001b[32mfunction\u001b[39m \u001b[36mdf2\u001b[39m\n",
       "\u001b[36mx2\u001b[39m: \u001b[32mDouble\u001b[39m = \u001b[32m8.537195744177245E-13\u001b[39m\n",
       "defined \u001b[32mfunction\u001b[39m \u001b[36mf3\u001b[39m\n",
       "defined \u001b[32mfunction\u001b[39m \u001b[36mdf3\u001b[39m\n",
       "\u001b[36mx3\u001b[39m: \u001b[32mDouble\u001b[39m = \u001b[32m7.389056098804318\u001b[39m\n",
       "defined \u001b[32mfunction\u001b[39m \u001b[36mf4\u001b[39m\n",
       "defined \u001b[32mfunction\u001b[39m \u001b[36mdf4\u001b[39m\n",
       "\u001b[36mx4\u001b[39m: \u001b[32mDouble\u001b[39m = \u001b[32m1.5574077246540006\u001b[39m\n",
       "defined \u001b[32mfunction\u001b[39m \u001b[36mf5\u001b[39m\n",
       "defined \u001b[32mfunction\u001b[39m \u001b[36mdf5\u001b[39m\n",
       "\u001b[36mx5\u001b[39m: \u001b[32mDouble\u001b[39m = \u001b[32m3.1416751165142625\u001b[39m"
      ]
     },
     "execution_count": 22,
     "metadata": {},
     "output_type": "execute_result"
    }
   ],
   "source": [
    "// Test Cases\n",
    "def f1(x: Double) = 2.0 * math.pow(x,3) - math.pow(x, 2) - 1.0\n",
    "def df1(x: Double) = 6.0 * math.pow(x, 2) - 2 * x \n",
    "val x1 = solveEquationNewtonRaphson(3.0, f1, df1)\n",
    "assert(math.abs(f1(x1)) <= 1e-06, \"1\")\n",
    "\n",
    "def f2(x: Double) = math.sin(x) - 0.5 * x \n",
    "def df2(x: Double) = math.cos(x) - 0.5\n",
    "val x2 = solveEquationNewtonRaphson(0.7, f2, df2)\n",
    "assert(math.abs(f2(x2)) <= 1e-06, \"2\")\n",
    "\n",
    "\n",
    "def f3(x: Double) = math.log(x) - 2 \n",
    "def df3(x: Double) = 1/x \n",
    "val x3 = solveEquationNewtonRaphson(2.0, f3, df3)\n",
    "assert(math.abs(f3(x3)) <= 1e-06, \"3\")\n",
    "\n",
    "def f4(x: Double) = math.atan(x) - 1\n",
    "def df4(x: Double) = 1.0/(1.0 + x*x)\n",
    "val x4 = solveEquationNewtonRaphson(3.0, f4, df4)\n",
    "assert(math.abs(f4(x4)) <= 1e-06, \"4\")\n",
    "\n",
    "def f5(x: Double) = math.cos(x)* math.cos(x) - 1\n",
    "def df5(x: Double) = -2.0 * math.sin(x) * math.cos(x)\n",
    "val x5 = solveEquationNewtonRaphson(3.5, f5, df5)\n",
    "assert(math.abs(f5(x5)) <= 1e-06, \"5\")"
   ]
  },
  {
   "cell_type": "code",
   "execution_count": null,
   "metadata": {},
   "outputs": [],
   "source": []
  }
 ],
 "metadata": {
  "kernelspec": {
   "display_name": "Scala",
   "language": "scala",
   "name": "scala"
  },
  "language_info": {
   "codemirror_mode": "text/x-scala",
   "file_extension": ".scala",
   "mimetype": "text/x-scala",
   "name": "scala211",
   "nbconvert_exporter": "script",
   "pygments_lexer": "scala",
   "version": "2.11.11"
  }
 },
 "nbformat": 4,
 "nbformat_minor": 2
}
