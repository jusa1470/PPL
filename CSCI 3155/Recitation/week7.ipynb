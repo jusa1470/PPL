{
 "cells": [
  {
   "cell_type": "markdown",
   "metadata": {
    "deletable": false,
    "editable": false,
    "nbgrader": {
     "checksum": "4b748028f14e855e459ec2c546ffa6c2",
     "grade": false,
     "grade_id": "cell-2a19506a400d63b0",
     "locked": true,
     "schema_version": 1,
     "solution": false
    }
   },
   "source": [
    "# CSCI 3155 Recitation 6\n",
    "October 5, 2018"
   ]
  },
  {
   "cell_type": "markdown",
   "metadata": {
    "deletable": false,
    "editable": false,
    "nbgrader": {
     "checksum": "33ff89ff1a430832259ee34481ce448a",
     "grade": false,
     "grade_id": "cell-7cf9e57e4b45953d",
     "locked": true,
     "schema_version": 1,
     "solution": false
    }
   },
   "source": [
    "## Closures\n",
    "\n",
    "https://docs.google.com/presentation/d/1H5coQ04RiNxKWTAb6ljWDiCJKqk_2w52SaosYGVqZ38/edit?usp=sharing"
   ]
  },
  {
   "cell_type": "markdown",
   "metadata": {
    "deletable": false,
    "editable": false,
    "nbgrader": {
     "checksum": "1d3ef4a15751bf464560a0a08867971e",
     "grade": false,
     "grade_id": "cell-959a7fb941bfc0fa",
     "locked": true,
     "schema_version": 1,
     "solution": false
    }
   },
   "source": [
    "## Mutual Recursion\n",
    "\n",
    "Recursion is defined as a function calling itself in the function body:\n",
    "```\n",
    "def f_rec(): Unit = f_rec()\n",
    "```\n",
    "\n",
    "Mutual recursion is when a function calls a helper function that then makes the call back to it:\n",
    "```\n",
    "def f_mutual_rec_1(): Unit = f_mutual_rec_2()\n",
    "def f_mutual_rec_2(): Unit = f_mutual_rec_1()\n",
    "```\n",
    "\n",
    "Below is an example of a useful function that makes use of mutual recursion."
   ]
  },
  {
   "cell_type": "code",
   "execution_count": 1,
   "metadata": {},
   "outputs": [
    {
     "data": {
      "text/plain": [
       "defined \u001b[32mfunction\u001b[39m \u001b[36misEvenLen\u001b[39m\n",
       "defined \u001b[32mfunction\u001b[39m \u001b[36misOddLen\u001b[39m"
      ]
     },
     "execution_count": 1,
     "metadata": {},
     "output_type": "execute_result"
    }
   ],
   "source": [
    "def isEvenLen(l: List[Int]): Boolean = l match {\n",
    "    case _ :: rest => isOddLen(rest)\n",
    "    case Nil => true\n",
    "}\n",
    "\n",
    "def isOddLen(l: List[Int]): Boolean = l match {\n",
    "    case _ :: rest => isEvenLen(rest)\n",
    "    case Nil => false\n",
    "}"
   ]
  },
  {
   "cell_type": "code",
   "execution_count": 2,
   "metadata": {},
   "outputs": [
    {
     "data": {
      "text/plain": [
       "\u001b[36ml_0\u001b[39m: \u001b[32mNil\u001b[39m.type = \u001b[33mList\u001b[39m()\n",
       "\u001b[36ml_1\u001b[39m: \u001b[32mList\u001b[39m[\u001b[32mInt\u001b[39m] = \u001b[33mList\u001b[39m(\u001b[32m2\u001b[39m)\n",
       "\u001b[36ml_2\u001b[39m: \u001b[32mList\u001b[39m[\u001b[32mInt\u001b[39m] = \u001b[33mList\u001b[39m(\u001b[32m1\u001b[39m, \u001b[32m2\u001b[39m)"
      ]
     },
     "execution_count": 2,
     "metadata": {},
     "output_type": "execute_result"
    }
   ],
   "source": [
    "val l_0 = Nil\n",
    "assert(isEvenLen(l_0))\n",
    "assert(!isOddLen(l_0))\n",
    "\n",
    "val l_1 = 2 :: l_0\n",
    "assert(isOddLen(l_1))\n",
    "assert(!isEvenLen(l_1))\n",
    "\n",
    "val l_2 = 1 :: l_1\n",
    "assert(isEvenLen(l_2))\n",
    "assert(!isOddLen(l_2))"
   ]
  },
  {
   "cell_type": "markdown",
   "metadata": {
    "deletable": false,
    "editable": false,
    "nbgrader": {
     "checksum": "20138f84254ba0880e3b6875116d49db",
     "grade": false,
     "grade_id": "cell-ca0b0b26330a78da",
     "locked": true,
     "schema_version": 1,
     "solution": false
    }
   },
   "source": [
    "Mutually recursive functions are often useful when the input has a mutually recursive structure as well. For example, we have seen binary trees defined inductively:\n",
    "```\n",
    "sealed trait BTree\n",
    "case class EmptyTree() extends BTree\n",
    "case class TreeNode(l: BTree, d: Int, r: BTree) extends BTree\n",
    "```\n",
    "\n",
    "As well as lists:\n",
    "```\n",
    "sealed trait List\n",
    "case class EmptyList() extends List\n",
    "case class ListNode(d: Int, t: List)\n",
    "```\n",
    "\n",
    "We could combine these two inductive structures, and create an n-ary trees _(shamelessly stolen fom Wikipedia)_:"
   ]
  },
  {
   "cell_type": "code",
   "execution_count": 1,
   "metadata": {},
   "outputs": [
    {
     "data": {
      "text/plain": [
       "defined \u001b[32mtrait\u001b[39m \u001b[36mNaryTree\u001b[39m\n",
       "defined \u001b[32mobject\u001b[39m \u001b[36mEmpty\u001b[39m\n",
       "defined \u001b[32mclass\u001b[39m \u001b[36mNode\u001b[39m"
      ]
     },
     "execution_count": 1,
     "metadata": {},
     "output_type": "execute_result"
    }
   ],
   "source": [
    "sealed trait NaryTree\n",
    "case object Empty extends NaryTree\n",
    "// Rely on already defined inductive Lists\n",
    "case class Node(d: Int, childen: List[NaryTree]) extends NaryTree"
   ]
  },
  {
   "cell_type": "code",
   "execution_count": 2,
   "metadata": {},
   "outputs": [
    {
     "data": {
      "text/plain": [
       "defined \u001b[32mfunction\u001b[39m \u001b[36mcountNodesTree\u001b[39m\n",
       "defined \u001b[32mfunction\u001b[39m \u001b[36mcountNodesChildren\u001b[39m"
      ]
     },
     "execution_count": 2,
     "metadata": {},
     "output_type": "execute_result"
    }
   ],
   "source": [
    "def countNodesTree(tree: NaryTree): Int = tree match {\n",
    "    case Empty => 0\n",
    "    case Node(d, children) => 1 + countNodesChildren(children)\n",
    "}\n",
    "\n",
    "def countNodesChildren(trees: List[NaryTree]): Int = trees match {\n",
    "    case Nil => 0\n",
    "    case tree :: rest => countNodesTree(tree) + countNodesChildren(rest)\n",
    "}"
   ]
  },
  {
   "cell_type": "code",
   "execution_count": 3,
   "metadata": {},
   "outputs": [
    {
     "data": {
      "text/plain": [
       "\u001b[36mtree\u001b[39m: \u001b[32mNode\u001b[39m = Node(0,List(Node(1,List(Node(5,List()))), Node(2,List()), Node(3,List()), Node(4,List())))"
      ]
     },
     "execution_count": 3,
     "metadata": {},
     "output_type": "execute_result"
    }
   ],
   "source": [
    "val tree = Node(0,\n",
    "                Node(1, \n",
    "                     Node(5, Nil) :: Nil ) ::\n",
    "                Node(2, Nil) :: \n",
    "                Node(3, Nil) :: \n",
    "                Node(4, Nil) :: Nil\n",
    ")\n",
    "\n",
    "assert(countNodesTree(tree) == 6)"
   ]
  },
  {
   "cell_type": "markdown",
   "metadata": {},
   "source": [
    "### Exercise: Check heapiness\n",
    "\n",
    "Implement a function that checks whether a givenn NaryTree is a min-heap (A tree where every node has a smaller value than any children). "
   ]
  },
  {
   "cell_type": "code",
   "execution_count": 6,
   "metadata": {
    "deletable": false,
    "nbgrader": {
     "checksum": "798b62c9b5c4cb3d33349b0763b47a3a",
     "grade": false,
     "grade_id": "cell-4ba87e6d71c83a74",
     "locked": false,
     "schema_version": 1,
     "solution": true
    }
   },
   "outputs": [
    {
     "data": {
      "text/plain": [
       "defined \u001b[32mfunction\u001b[39m \u001b[36misMinHeapTree\u001b[39m\n",
       "defined \u001b[32mfunction\u001b[39m \u001b[36misMinHeapChildren\u001b[39m"
      ]
     },
     "execution_count": 6,
     "metadata": {},
     "output_type": "execute_result"
    }
   ],
   "source": [
    "// YOUR CODE HERE\n",
    "def isMinHeapTree(tree: NaryTree, min: Int = Int.MinValue): Boolean = tree match {\n",
    "    case Empty => true\n",
    "    case Node(d, children) if(d > min) => isMinHeapChildren(children, d)\n",
    "}\n",
    "\n",
    "def isMinHeapChildren(trees: List[NaryTree], min: Int = Int.MinValue): Boolean = trees match {\n",
    "    case Nil => true\n",
    "    case Node(d, children) :: rest if(d > min) => {\n",
    "        val tree = Node(d, children)\n",
    "        isMinHeapTree(tree, min) && isMinHeapChildren(rest, min)\n",
    "    }\n",
    "}\n",
    "\n",
    "\n",
    "// def isMinHeapTree(tree: NaryTree, min: Int = Int.MinValue): Boolean = tree match {\n",
    "//     case Empty => true\n",
    "//     case Node(d, children) if(d > min) => isMinHeapChildren(children, d)\n",
    "// }\n",
    "\n",
    "// def isMinHeapChildren(trees: List[NaryTree], min: Int = Int.MinValue): Boolean = trees match {\n",
    "//     case Nil => true\n",
    "//     case tree :: rest => {\n",
    "//         isMinHeapTree(tree, min) && isMinHeapChildren(rest, min)\n",
    "//     }\n",
    "// }"
   ]
  },
  {
   "cell_type": "code",
   "execution_count": 7,
   "metadata": {
    "deletable": false,
    "editable": false,
    "nbgrader": {
     "checksum": "da2a18e638f37e068f72854cb735bf17",
     "grade": true,
     "grade_id": "cell-1cfa2c1ebbc45899",
     "locked": true,
     "points": 1,
     "schema_version": 1,
     "solution": false
    }
   },
   "outputs": [
    {
     "ename": "",
     "evalue": "",
     "output_type": "error",
     "traceback": [
      "\u001b[31mscala.MatchError: List(Node(0,List(Node(1,List(Node(5,List()))), Node(2,List()), Node(3,List()), Node(4,List())))) (of class scala.collection.immutable.$colon$colon)\u001b[39m",
      "  $sess.cmd5Wrapper$Helper.isMinHeapChildren(\u001b[32mcmd5.sc\u001b[39m:\u001b[32m6\u001b[39m)",
      "  $sess.cmd5Wrapper$Helper.isMinHeapTree(\u001b[32mcmd5.sc\u001b[39m:\u001b[32m3\u001b[39m)",
      "  $sess.cmd6Wrapper$Helper.<init>(\u001b[32mcmd6.sc\u001b[39m:\u001b[32m10\u001b[39m)",
      "  $sess.cmd6Wrapper.<init>(\u001b[32mcmd6.sc\u001b[39m:\u001b[32m131\u001b[39m)",
      "  $sess.cmd6$.<init>(\u001b[32mcmd6.sc\u001b[39m:\u001b[32m82\u001b[39m)",
      "  $sess.cmd6$.<clinit>(\u001b[32mcmd6.sc\u001b[39m:\u001b[32m-1\u001b[39m)"
     ]
    }
   ],
   "source": [
    "val tree_minHeap = Node(0,\n",
    "                        Node(1, \n",
    "                             Node(5, Nil) :: Nil ) ::\n",
    "                        Node(2, Nil) :: \n",
    "                        Node(3, Nil) :: \n",
    "                        Node(4, Nil) :: Nil)\n",
    "assert(isMinHeapTree(tree_minHeap), \"1\")\n",
    "\n",
    "val tree_NOT_minHeap = Node(5, tree_minHeap :: Nil)\n",
    "assert(!isMinHeapTree(tree_NOT_minHeap), \"2\")"
   ]
  },
  {
   "cell_type": "code",
   "execution_count": null,
   "metadata": {},
   "outputs": [],
   "source": []
  }
 ],
 "metadata": {
  "kernelspec": {
   "display_name": "Scala",
   "language": "scala",
   "name": "scala"
  },
  "language_info": {
   "codemirror_mode": "text/x-scala",
   "file_extension": ".scala",
   "mimetype": "text/x-scala",
   "name": "scala211",
   "nbconvert_exporter": "script",
   "pygments_lexer": "scala",
   "version": "2.11.11"
  }
 },
 "nbformat": 4,
 "nbformat_minor": 2
}
