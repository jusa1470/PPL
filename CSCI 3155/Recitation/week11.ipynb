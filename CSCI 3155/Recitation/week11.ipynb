{
 "cells": [
  {
   "cell_type": "markdown",
   "metadata": {},
   "source": [
    "# CSCI 3155 Recitation 11\n",
    "\n",
    "November 30, 2018"
   ]
  },
  {
   "cell_type": "markdown",
   "metadata": {},
   "source": [
    "## Class Heierarchy\n",
    "The classes we'll be using for this recitation:"
   ]
  },
  {
   "cell_type": "code",
   "execution_count": 1,
   "metadata": {},
   "outputs": [
    {
     "data": {
      "text/plain": [
       "defined \u001b[32mclass\u001b[39m \u001b[36mDepartment\u001b[39m\n",
       "defined \u001b[32mclass\u001b[39m \u001b[36mEngineering\u001b[39m\n",
       "defined \u001b[32mclass\u001b[39m \u001b[36mCompSci\u001b[39m\n",
       "defined \u001b[32mclass\u001b[39m \u001b[36mMechE\u001b[39m\n",
       "defined \u001b[32mclass\u001b[39m \u001b[36mHumanities\u001b[39m\n",
       "defined \u001b[32mclass\u001b[39m \u001b[36mPhilosophy\u001b[39m\n",
       "defined \u001b[32mclass\u001b[39m \u001b[36mFilm\u001b[39m\n",
       "\u001b[36mcu_engineering\u001b[39m: \u001b[32mEngineering\u001b[39m = $sess.cmd0Wrapper$Helper$Engineering@1e6716de\n",
       "\u001b[36mcu_csci\u001b[39m: \u001b[32mCompSci\u001b[39m = $sess.cmd0Wrapper$Helper$CompSci@3e37373a\n",
       "\u001b[36mcu_mcen\u001b[39m: \u001b[32mMechE\u001b[39m = $sess.cmd0Wrapper$Helper$MechE@43f901b3\n",
       "\u001b[36mcu_phil\u001b[39m: \u001b[32mPhilosophy\u001b[39m = $sess.cmd0Wrapper$Helper$Philosophy@324c39cd\n",
       "\u001b[36mcu_film\u001b[39m: \u001b[32mFilm\u001b[39m = $sess.cmd0Wrapper$Helper$Film@5ce7d007"
      ]
     },
     "execution_count": 1,
     "metadata": {},
     "output_type": "execute_result"
    }
   ],
   "source": [
    "class Department\n",
    "\n",
    "class Engineering extends Department\n",
    "class CompSci extends Engineering\n",
    "class MechE extends Engineering\n",
    "\n",
    "class Humanities extends Department\n",
    "class Philosophy extends Humanities\n",
    "class Film extends Humanities\n",
    "\n",
    "val cu_engineering = new Engineering()\n",
    "\n",
    "val cu_csci = new CompSci()\n",
    "val cu_mcen = new MechE()\n",
    "\n",
    "val cu_phil = new Philosophy()\n",
    "val cu_film = new Film()"
   ]
  },
  {
   "cell_type": "markdown",
   "metadata": {},
   "source": [
    "## Variance\n",
    "Variance is what we use to define how we want inheritance to work with generics (type parameters). It defines whether we want inheritance relationships to be preserved (covariant), reversed (contravariant), or ignored (invariant).\n",
    "\n",
    "For example:\n",
    "```scala\n",
    "class Parent\n",
    "class Child extends Parent\n",
    "\n",
    "class MyNewClass[T]\n",
    "```\n",
    "\n",
    "Should `MyNewClass[Child]` inherit from `MyNewClass[Parent]`? Should it be reversed? should I not care?\n",
    "\n",
    "We can say that a class is covariant with its parameters, or that it is contravariant with its parameters. Or that it's contravariant with some, covariant with others, and has no variance in the rest. It is an idea that  exists at the level of classes / types."
   ]
  },
  {
   "cell_type": "markdown",
   "metadata": {},
   "source": [
    "## Covariance\n",
    "Covariance is the following idea: **If** class `A` inherits from class `B`, **then** `MyNewClass[A]` inherits from `MyNewClass[B]`. It states that you want to preserves the hierarchy. It moves in the same direction, hence the name **co**variant.\n",
    "\n",
    "#### We will use this because we want:\n",
    "```\n",
    "ppl: comp sci course\n",
    "prerequisite: engineering course = ppl\n",
    "```"
   ]
  },
  {
   "cell_type": "code",
   "execution_count": 1,
   "metadata": {},
   "outputs": [
    {
     "name": "stderr",
     "output_type": "stream",
     "text": [
      "cmd1.sc:8: type mismatch;\n",
      " found   : Helper.this.Course[cmd1Wrapper.this.cmd0.wrapper.CompSci]\n",
      " required: Helper.this.Course[cmd1Wrapper.this.cmd0.wrapper.Engineering]\n",
      "Note: cmd1Wrapper.this.cmd0.wrapper.CompSci <: cmd1Wrapper.this.cmd0.wrapper.Engineering, but class Course is invariant in type T.\n",
      "You may wish to define T as +T instead. (SLS 4.5)\n",
      "val prereq: Course[Engineering] = ppl\n",
      "                                  ^"
     ]
    },
    {
     "ename": "",
     "evalue": "",
     "output_type": "error",
     "traceback": [
      "Compilation Failed"
     ]
    }
   ],
   "source": [
    "class Course[T <: Department](offering_department: T) {\n",
    "    def get_department(): T = offering_department\n",
    "}\n",
    "\n",
    "val ppl = new Course(cu_csci)\n",
    "\n",
    "// COMPILE ERROR: Didn't define variance\n",
    "val prereq: Course[Engineering] = ppl"
   ]
  },
  {
   "cell_type": "code",
   "execution_count": 2,
   "metadata": {},
   "outputs": [
    {
     "data": {
      "text/plain": [
       "defined \u001b[32mclass\u001b[39m \u001b[36mCourse\u001b[39m\n",
       "\u001b[36mppl\u001b[39m: \u001b[32mCourse\u001b[39m[\u001b[32mCompSci\u001b[39m] = $sess.cmd1Wrapper$Helper$$anon$1@6dfbe55b\n",
       "\u001b[36mprereq\u001b[39m: \u001b[32mCourse\u001b[39m[\u001b[32mEngineering\u001b[39m] = $sess.cmd1Wrapper$Helper$$anon$1@6dfbe55b"
      ]
     },
     "execution_count": 2,
     "metadata": {},
     "output_type": "execute_result"
    }
   ],
   "source": [
    "class Course[+T <: Department](offering_department: T) {\n",
    "    // We can *return* a `T` because we are covariant with `T`\n",
    "    def get_department(): T = offering_department\n",
    "    def has_best_TAs = false\n",
    "}\n",
    "\n",
    "val ppl = new Course(cu_csci) {\n",
    "    override def has_best_TAs = true\n",
    "}\n",
    "\n",
    "// COMPILES!\n",
    "val prereq: Course[Engineering] = ppl"
   ]
  },
  {
   "cell_type": "markdown",
   "metadata": {},
   "source": [
    "### Note:\n",
    "In the C# (C Sharp) language, covariance is defined with the `out` keyword, because functions are covariant with their output types. A function `(Int) => Engineering` can be replaced with `(Int) => CompSci` safely."
   ]
  },
  {
   "cell_type": "markdown",
   "metadata": {},
   "source": [
    "## Contravariance\n",
    "**If** class `A` inherits from class `B`, **then** `MyNewClass[B]` inherits from `MyNewClass[A]` (note the swap). It flips the hierarchy. It moves in the oposite direction, hence the name **contra**variant.\n",
    "\n",
    "#### We will use this because we want:\n",
    "```\n",
    "Bobby Braun: manager of engineering\n",
    "cs manager: manager of computer science = Bobby Braun\n",
    "```"
   ]
  },
  {
   "cell_type": "code",
   "execution_count": 2,
   "metadata": {},
   "outputs": [
    {
     "name": "stderr",
     "output_type": "stream",
     "text": [
      "cmd2.sc:8: type mismatch;\n",
      " found   : Helper.this.DepartmentHead[cmd2Wrapper.this.cmd0.wrapper.Engineering]\n",
      " required: Helper.this.DepartmentHead[cmd2Wrapper.this.cmd0.wrapper.CompSci]\n",
      "Note: cmd2Wrapper.this.cmd0.wrapper.Engineering >: cmd2Wrapper.this.cmd0.wrapper.CompSci, but class DepartmentHead is invariant in type T.\n",
      "You may wish to define T as -T instead. (SLS 4.5)\n",
      "val cs_manager: DepartmentHead[CompSci] = bobby_braun\n",
      "                                          ^"
     ]
    },
    {
     "ename": "",
     "evalue": "",
     "output_type": "error",
     "traceback": [
      "Compilation Failed"
     ]
    }
   ],
   "source": [
    "class DepartmentHead[T <: Department](managed_department: T) {\n",
    "    def manage(department: T) = println(\"You're fired!\")\n",
    "}\n",
    "\n",
    "val bobby_braun = new DepartmentHead(cu_engineering)\n",
    "\n",
    "// COMPILE ERROR: Didn't define variance\n",
    "val cs_manager: DepartmentHead[CompSci] = bobby_braun"
   ]
  },
  {
   "cell_type": "code",
   "execution_count": 3,
   "metadata": {
    "scrolled": true
   },
   "outputs": [
    {
     "data": {
      "text/plain": [
       "defined \u001b[32mclass\u001b[39m \u001b[36mDepartmentHead\u001b[39m\n",
       "\u001b[36mbobby_braun\u001b[39m: \u001b[32mDepartmentHead\u001b[39m[\u001b[32mEngineering\u001b[39m] = $sess.cmd2Wrapper$Helper$DepartmentHead@26a3d71a\n",
       "\u001b[36mcs_manager\u001b[39m: \u001b[32mDepartmentHead\u001b[39m[\u001b[32mCompSci\u001b[39m] = $sess.cmd2Wrapper$Helper$DepartmentHead@26a3d71a"
      ]
     },
     "execution_count": 3,
     "metadata": {},
     "output_type": "execute_result"
    }
   ],
   "source": [
    "class DepartmentHead[-T <: Department](managed_department: T) {\n",
    "    // We can *take* a `T` because we are contravariant with `T`\n",
    "    def manage(department: T): Unit = println(\"You're fired!\")\n",
    "}\n",
    "\n",
    "val bobby_braun = new DepartmentHead(cu_engineering)\n",
    "\n",
    "// COMPILES!\n",
    "val cs_manager: DepartmentHead[CompSci] = bobby_braun"
   ]
  },
  {
   "cell_type": "markdown",
   "metadata": {},
   "source": [
    "### Note:\n",
    "In the C# (C Sharp) language, contravariance is defined with the `in` keyword, because functions are contravariant with their input types. A function `(CompSci) => Int` can be replaced with `(Engineering) => Int` safely."
   ]
  },
  {
   "cell_type": "markdown",
   "metadata": {},
   "source": [
    "## Variance Exercises\n",
    "\n",
    "For the following exercises, you can assume this code for the `Instructor` class:\n",
    "```scala\n",
    "class Instructor[+T <: Department](department: T)\n",
    "```\n",
    "\n",
    "### Exercises\n",
    "1. Due to the chosen variance, we cannot add the following method to our `Course` class. Give an example of what would go wrong if Scala allowed adding methods like the one below (covariant type in input of method):\n",
    "    ```scala\n",
    "    def set_instructor(i: Instructor[T]): Unit\n",
    "    ```\n",
    "2. Due to the chosen variance, we cannot add the following method to our `DepartmentHead` class. Give an example of what would go wrong if Scala allowed adding methods like the one below (contravariant type in output of method):\n",
    "    ```scala\n",
    "    def get_list_of_taught_courses(): List[Course[T]]\n",
    "    ```\n",
    "\n",
    "3. If we made a class `ParkingMeter[PaymentMethod]` which takes in the specified type of payment, what would it's variance be?\n",
    "\n",
    "4. If we made a class `MovieNight[Genre]` which plays a movie of the given genre, what would it's variance be?\n",
    "\n",
    "5. If we made a class `Function[InType, OutType]`, should it be co- or contravariant in `InType`? `OutType`?"
   ]
  },
  {
   "cell_type": "markdown",
   "metadata": {},
   "source": [
    "## Covariance with collections that allow insertion\n",
    "\n",
    "#### We will use this because we want:\n",
    "```scala\n",
    "cs catalog = [ppl, algo, os]\n",
    "me catalog = [sysd, thermo]\n",
    "engineering catalog = cs catalog + me catalog\n",
    "university catalog = engineering catalog + humanities catalog\n",
    "```"
   ]
  },
  {
   "cell_type": "code",
   "execution_count": 4,
   "metadata": {},
   "outputs": [
    {
     "data": {
      "text/plain": [
       "defined \u001b[32mclass\u001b[39m \u001b[36mCatalog\u001b[39m\n",
       "\u001b[36malgo\u001b[39m: \u001b[32mCourse\u001b[39m[\u001b[32mCompSci\u001b[39m] = $sess.cmd1Wrapper$Helper$Course@229d73d0\n",
       "\u001b[36mos\u001b[39m: \u001b[32mCourse\u001b[39m[\u001b[32mCompSci\u001b[39m] = $sess.cmd1Wrapper$Helper$Course@3e9585bc\n",
       "\u001b[36mcs_catalog\u001b[39m: \u001b[32mCatalog\u001b[39m[\u001b[32mCompSci\u001b[39m] = $sess.cmd3Wrapper$Helper$Catalog@6ef4e667"
      ]
     },
     "execution_count": 4,
     "metadata": {},
     "output_type": "execute_result"
    }
   ],
   "source": [
    "class Catalog[T <: Department](val classes: List[Course[T]] = Nil) {\n",
    "    def combine_with(other_catalog: Catalog[T]) =\n",
    "        new Catalog(classes ++ other_catalog.classes)\n",
    "}\n",
    "\n",
    "val algo = new Course(cu_csci)\n",
    "val os = new Course(cu_csci)\n",
    "\n",
    "val cs_catalog: Catalog[CompSci] = new Catalog(List(ppl, algo))"
   ]
  },
  {
   "cell_type": "code",
   "execution_count": 4,
   "metadata": {
    "scrolled": true
   },
   "outputs": [
    {
     "name": "stderr",
     "output_type": "stream",
     "text": [
      "cmd4.sc:4: cmd4Wrapper.this.cmd3.wrapper.Catalog.type does not take parameters\n",
      "val me_catalog: Catalog[MechE] = Catalog(List(sysd, thermo))\n",
      "                                        ^cmd4.sc:7: type mismatch;\n",
      " found   : cmd4Wrapper.this.cmd3.wrapper.Catalog[cmd4Wrapper.this.cmd0.wrapper.MechE]\n",
      " required: cmd4Wrapper.this.cmd3.wrapper.Catalog[cmd4Wrapper.this.cmd3.cmd0.wrapper.CompSci]\n",
      "val engineering_catalog: Catalog[Engineering] = cs_catalog.combine_with(me_catalog)\n",
      "                                                                        ^"
     ]
    },
    {
     "ename": "",
     "evalue": "",
     "output_type": "error",
     "traceback": [
      "Compilation Failed"
     ]
    }
   ],
   "source": [
    "val sysd = new Course(cu_mcen)\n",
    "val thermo = new Course(cu_mcen)\n",
    "\n",
    "val me_catalog: Catalog[MechE] = Catalog(List(sysd, thermo))\n",
    "\n",
    "// COMPILE ERROR: no variance, lets add it.\n",
    "val engineering_catalog: Catalog[Engineering] = cs_catalog.combine_with(me_catalog)"
   ]
  },
  {
   "cell_type": "markdown",
   "metadata": {},
   "source": [
    "### Note:\n",
    "We want `MechE` and `CompSci` catalogs to count as engineering catalogs, so we want the `Catalog` class to be covariant. But we also want to add classes to it, meaning we need to put a covariant type into the parameter of a function, which isn't allowed!"
   ]
  },
  {
   "cell_type": "code",
   "execution_count": 4,
   "metadata": {},
   "outputs": [
    {
     "name": "stderr",
     "output_type": "stream",
     "text": [
      "cmd4.sc:3: covariant type T occurs in contravariant position in type Helper.this.Catalog[T] of value other_catalog\n",
      "    def combine_with(other_catalog: Catalog[T]) =\n",
      "                     ^"
     ]
    },
    {
     "ename": "",
     "evalue": "",
     "output_type": "error",
     "traceback": [
      "Compilation Failed"
     ]
    }
   ],
   "source": [
    "class Catalog[+T <: Department](val classes: List[Course[T]] = Nil) {\n",
    "    // COMPILE ERROR: Covariant type in parameter of method!\n",
    "    def combine_with(other_catalog: Catalog[T]) =\n",
    "        new Catalog(classes ++ other_catalog.classes)\n",
    "}"
   ]
  },
  {
   "cell_type": "markdown",
   "metadata": {},
   "source": [
    "### Note:\n",
    "An alternative is to replace each `T` with the bound for `T`."
   ]
  },
  {
   "cell_type": "code",
   "execution_count": 5,
   "metadata": {},
   "outputs": [
    {
     "data": {
      "text/plain": [
       "defined \u001b[32mclass\u001b[39m \u001b[36mCatalog\u001b[39m"
      ]
     },
     "execution_count": 5,
     "metadata": {},
     "output_type": "execute_result"
    }
   ],
   "source": [
    "class Catalog[+T <: Department](val classes: List[Course[T]] = Nil) {\n",
    "    // Potential solution:\n",
    "    def combine_with(other_catalog: Catalog[Department]) =\n",
    "        new Catalog(classes ++ other_catalog.classes)\n",
    "}"
   ]
  },
  {
   "cell_type": "code",
   "execution_count": 6,
   "metadata": {},
   "outputs": [
    {
     "data": {
      "text/plain": [
       "\u001b[36msysd\u001b[39m: \u001b[32mCourse\u001b[39m[\u001b[32mMechE\u001b[39m] = $sess.cmd1Wrapper$Helper$Course@2125caf4\n",
       "\u001b[36mthermo\u001b[39m: \u001b[32mCourse\u001b[39m[\u001b[32mMechE\u001b[39m] = $sess.cmd1Wrapper$Helper$Course@1325f238\n",
       "\u001b[36mcs_catalog\u001b[39m: \u001b[32mCatalog\u001b[39m[\u001b[32mCompSci\u001b[39m] = $sess.cmd4Wrapper$Helper$Catalog@4c2d92e4\n",
       "\u001b[36mme_catalog\u001b[39m: \u001b[32mCatalog\u001b[39m[\u001b[32mMechE\u001b[39m] = $sess.cmd4Wrapper$Helper$Catalog@5d9d4eb9\n",
       "\u001b[36mengineering_catalog\u001b[39m: \u001b[32mCatalog\u001b[39m[\u001b[32mDepartment\u001b[39m] = $sess.cmd4Wrapper$Helper$Catalog@7bc95782"
      ]
     },
     "execution_count": 6,
     "metadata": {},
     "output_type": "execute_result"
    }
   ],
   "source": [
    "val sysd = new Course(cu_mcen)\n",
    "val thermo = new Course(cu_mcen)\n",
    "\n",
    "val cs_catalog: Catalog[CompSci] = new Catalog(List(ppl, algo))\n",
    "val me_catalog: Catalog[MechE] = new Catalog(List(sysd, thermo))\n",
    "\n",
    "val engineering_catalog: Catalog[Department] = cs_catalog.combine_with(me_catalog)"
   ]
  },
  {
   "cell_type": "markdown",
   "metadata": {},
   "source": [
    "### Note:\n",
    "At first it looks like we've solved it, but now everytime we combine anything it becomes the very undescriptive `Catalog[Department]`. We know more than this. We know that if we run `cs_catalog.combine_with(me_catalog)`, we have a `Catalog[Engineering]`. Lets get the type system to agree with us."
   ]
  },
  {
   "cell_type": "code",
   "execution_count": 6,
   "metadata": {
    "scrolled": true
   },
   "outputs": [
    {
     "name": "stderr",
     "output_type": "stream",
     "text": [
      "cmd6.sc:1: type mismatch;\n",
      " found   : cmd6Wrapper.this.cmd5.cmd4.wrapper.Catalog[cmd6Wrapper.this.cmd5.cmd4.cmd0.wrapper.Department]\n",
      " required: cmd6Wrapper.this.cmd4.wrapper.Catalog[cmd6Wrapper.this.cmd0.wrapper.Engineering]\n",
      "val engineering_catalog: Catalog[Engineering] = cs_catalog.combine_with(me_catalog)\n",
      "                                                                       ^"
     ]
    },
    {
     "ename": "",
     "evalue": "",
     "output_type": "error",
     "traceback": [
      "Compilation Failed"
     ]
    }
   ],
   "source": [
    "// COMPILE ERROR: our typing bounds aren't as strong as we would like...\n",
    "val engineering_catalog: Catalog[Engineering] = cs_catalog.combine_with(me_catalog)"
   ]
  },
  {
   "cell_type": "code",
   "execution_count": 6,
   "metadata": {
    "scrolled": true
   },
   "outputs": [
    {
     "name": "stderr",
     "output_type": "stream",
     "text": [
      "cmd6.sc:6: type mismatch;\n",
      " found   : cmd6Wrapper.this.cmd4.wrapper.Catalog[cmd6Wrapper.this.cmd4.cmd0.wrapper.Department]\n",
      " required: cmd6Wrapper.this.cmd4.wrapper.Catalog[cmd6Wrapper.this.cmd0.wrapper.Engineering]\n",
      "val engineering_catalog: Catalog[Engineering] = cs_catalog.combine_with(me_catalog)\n",
      "                                                                       ^"
     ]
    },
    {
     "ename": "",
     "evalue": "",
     "output_type": "error",
     "traceback": [
      "Compilation Failed"
     ]
    }
   ],
   "source": [
    "// DEFINE Catalog class here:\n",
    "???\n",
    "\n",
    "val cs_catalog: Catalog[CompSci] = new Catalog(List(ppl, algo))\n",
    "val me_catalog: Catalog[MechE] = new Catalog(List(sysd, thermo))\n",
    "\n",
    "val engineering_catalog: Catalog[Engineering] = cs_catalog.combine_with(me_catalog)"
   ]
  }
 ],
 "metadata": {
  "kernelspec": {
   "display_name": "Scala",
   "language": "scala",
   "name": "scala"
  },
  "language_info": {
   "codemirror_mode": "text/x-scala",
   "file_extension": ".scala",
   "mimetype": "text/x-scala",
   "name": "scala211",
   "nbconvert_exporter": "script",
   "pygments_lexer": "scala",
   "version": "2.11.11"
  }
 },
 "nbformat": 4,
 "nbformat_minor": 2
}
