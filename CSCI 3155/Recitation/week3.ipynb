{
 "cells": [
  {
   "cell_type": "markdown",
   "metadata": {
    "deletable": false,
    "editable": false,
    "nbgrader": {
     "checksum": "1d6d2881aa5cd9887c4b64d97a1dd618",
     "grade": false,
     "grade_id": "cell-1b4267c36f7b7664",
     "locked": true,
     "schema_version": 1,
     "solution": false
    }
   },
   "source": [
    "# Recitation 3\n",
    "\n",
    "Topics: ASTs, higher order functions, pattern functions"
   ]
  },
  {
   "cell_type": "markdown",
   "metadata": {
    "deletable": false,
    "editable": false,
    "nbgrader": {
     "checksum": "f59d6f76f4a4079dc8f12572256810df",
     "grade": false,
     "grade_id": "cell-d9e9050110257460",
     "locked": true,
     "schema_version": 1,
     "solution": false
    }
   },
   "source": [
    "## SQL Pt 1\n",
    "\n",
    "### Introduction to SQL\n",
    "\n",
    "SQL (**S**tructured **Q**uerying **L**anguage) is a domain-specific language used to manage and query data. Data is stored in tables. For example, here is a table called **customer** that stores my company's customer records.\n",
    "\n",
    "| id | name | address | city | postal_code | country |\n",
    "| --- | --- | --- | --- | --- | --- |\n",
    "| 1 | Maria Anders | Obere Str. 57 | Berlin | 12209 | Germany |\n",
    "| 2 | Ana Trujillo | Avda. de la Constitución 2222 | Mexico City | 05021 | Mexico |\n",
    "| 3 | Antonio Moreno | Mataderos 2312 |\tMexico City | 05023\t| Mexico |\n",
    "| 4 | Thomas Hardy | 120 Hanover Sq. | London | WA1 1DP | UK |\n",
    "| 5 | Christina Berglund | Berguvsvägen 8 | Luleå | S-958 22 | Sweden |\n",
    "\n",
    "Each table is defined by its name (**customer**) and its columns (**id**, **name**, **address**, **city**, etc). Each table is populated by rows, each of which represents a data record and maps each of the table's columns to values."
   ]
  },
  {
   "cell_type": "markdown",
   "metadata": {
    "deletable": false,
    "editable": false,
    "nbgrader": {
     "checksum": "41c7db0ef22da8a7578fa6b2cab0fc91",
     "grade": false,
     "grade_id": "cell-8bb447953602c983",
     "locked": true,
     "schema_version": 1,
     "solution": false
    }
   },
   "source": [
    "Given a database consisting of one or more tables, SQL makes it easy for me to ask questions about my data. \n",
    "\n",
    "Suppose I'm curious about which cities in which my customers reside. I can make the query\n",
    "```\n",
    "SELECT id, name, city FROM customer\n",
    "```\n",
    "and my SQL engine will return the following table.\n",
    "\n",
    "| id | name | city |\n",
    "| --- | --- | --- |\n",
    "| 1 | Maria Anders | Berlin | \n",
    "| 2 | Ana Trujillo | Mexico City |\n",
    "| 3 | Antonio Moreno | Mexico City |\n",
    "| 4 | Thomas Hardy | London |\n",
    "| 5 | Christina Berglund | Luleå |"
   ]
  },
  {
   "cell_type": "markdown",
   "metadata": {
    "deletable": false,
    "editable": false,
    "nbgrader": {
     "checksum": "2595972367b7de83cab8b5aa8c0c869d",
     "grade": false,
     "grade_id": "cell-0f128c7bee9fb7b1",
     "locked": true,
     "schema_version": 1,
     "solution": false
    }
   },
   "source": [
    "Now let's suppose my company is based in Mexico and I'm curious about the cities in which my *domestic* customers reside. I can make my query more specific with a `WHERE` clause\n",
    "```\n",
    "SELECT id, name, city FROM customer WHERE country = \"Mexico\"\n",
    "```\n",
    "to which my SQL engine returns\n",
    "\n",
    "| id | name | city |\n",
    "| --- | --- | --- |\n",
    "| 2 | Ana Trujillo | Mexico City |\n",
    "| 3 | Antonio Moreno | Mexico City |"
   ]
  },
  {
   "cell_type": "markdown",
   "metadata": {
    "deletable": false,
    "editable": false,
    "nbgrader": {
     "checksum": "18ec0587e742f84b16d9a534badceb5d",
     "grade": false,
     "grade_id": "cell-53ba266b2fd7780c",
     "locked": true,
     "schema_version": 1,
     "solution": false
    }
   },
   "source": [
    "> Aside: The true power of SQL becomes apparent when you start considering multiple tables. Suppose my company also has a database table storing all past orders.\n",
    ">\n",
    "> | id | customer_id | date |\n",
    "> | --- | --- | --- |\n",
    "> | 10308 |  2 | 1996-09-18 |\n",
    "> | 10309 |  3 | 1996-09-19 |\n",
    "> | 10310 |  4 | 1996-09-20 |\n",
    ">\n",
    "> I can use SQL to ask which of my orders came from Mexico and who made the orders. The query\n",
    "> ```\n",
    "> SELECT order.id, order.date, customer.name, customer.city\n",
    "> FROM order JOIN customer ON order.customer_id = customer.id\n",
    "> WHERE customer.country = \"Mexico\"\n",
    "> ```\n",
    "> returns the table\n",
    "> \n",
    "> | order.id | order.date |  customer.name |  customer.city |\n",
    "> | --- | --- | --- | --- |\n",
    "> | 10308 | 1996-09-18 | Ana Trujillo | Mexico City |\n",
    "> | 10309 | 1996-09-19 | Antonio Moreno | Mexico City |\n",
    ">\n",
    "> For now, we'll focus on SQL in the context of single tables."
   ]
  },
  {
   "cell_type": "markdown",
   "metadata": {
    "deletable": false,
    "editable": false,
    "nbgrader": {
     "checksum": "bc2287bae8aa5478f2df4a54367849f0",
     "grade": false,
     "grade_id": "cell-9b700659dcd90129",
     "locked": true,
     "schema_version": 1,
     "solution": false
    }
   },
   "source": [
    "### Exercise: extend our SQL grammar\n",
    "\n",
    "Over the course of the next couple recitations, we'll develop a SQL engine that can run simple queries on your database. Before implementing the engine, which takes our queries and runs them, today we'll develop and extend the query language.\n",
    "\n",
    "Here is the beginning of an implementation of our SQL grammar."
   ]
  },
  {
   "cell_type": "code",
   "execution_count": null,
   "metadata": {
    "deletable": false,
    "editable": false,
    "nbgrader": {
     "checksum": "34462cbf99b126f08f9f89b1b1e90910",
     "grade": false,
     "grade_id": "cell-a9047616796cb739",
     "locked": true,
     "schema_version": 1,
     "solution": false
    }
   },
   "outputs": [],
   "source": [
    "sealed trait TableExpr\n",
    "case class TableIdentifier(val s : String) extends TableExpr\n",
    "case class SelectQuery(columns : List[Expr], table : TableExpr) extends TableExpr\n",
    "\n",
    "sealed trait Expr\n",
    "case class NumConst(n : Int) extends Expr\n",
    "case class StringConst(s : String) extends Expr\n",
    "case class ColumnIdentifier(val s : String) extends Expr"
   ]
  },
  {
   "cell_type": "markdown",
   "metadata": {
    "deletable": false,
    "editable": false,
    "nbgrader": {
     "checksum": "53e7830d323699c9e9e456319224ed5a",
     "grade": false,
     "grade_id": "cell-debfd90084d6596d",
     "locked": true,
     "schema_version": 1,
     "solution": false
    }
   },
   "source": [
    "Our grammar so far allows us to express queries of the form\n",
    "```\n",
    "SELECT a, b, c FROM t\n",
    "```\n",
    "In our Scala grammar, this looks like\n",
    "```\n",
    "SelectQuery(List(\"a\", \"b\", \"c\"), TableIdentifier(\"t\"))\n",
    "```\n",
    "Essentially all we can express in our query language so far is to take existing tables and construct new tables that remove some of the columns. Your task is to extend our grammar with the `WHERE` clause, which allows the user to filter returned rows based on the values within some column. \n",
    "```\n",
    "SELECT a, b, c FROM t WHERE a >= 1\n",
    "```\n",
    "The `WHERE` clause specifies a conditional expression, which can be the `true` or `false` constants, or otherwise make comparisons between `Expr` tokens. For a concrete example, consider above when we filtered down our customer records to those who reside in Mexico. \n",
    "\n",
    "Note that the `WHERE` clause is optional, so the user may choose to include it or not when defining their overall query."
   ]
  },
  {
   "cell_type": "code",
   "execution_count": null,
   "metadata": {
    "deletable": false,
    "nbgrader": {
     "checksum": "3b10602613a70f8c9b2aba6329cc06ec",
     "grade": false,
     "grade_id": "cell-411f774b42335e7a",
     "locked": false,
     "schema_version": 1,
     "solution": true
    }
   },
   "outputs": [],
   "source": [
    "// modify at will\n",
    "// you may need to add your own traits and/or case classes\n",
    "\n",
    "sealed trait TableExpr\n",
    "case class TableIdentifier(val s : String) extends TableExpr\n",
    "case class SelectQuery(columns : List[Expr], table : TableExpr, where: WhereClause) extends TableExpr\n",
    "\n",
    "// YOUR CODE HERE\n",
    "sealed trait WhereClause\n",
    "case class None() extends WhereClause\n",
    "case class Where(c: CondExpr) extends WhereClause\n",
    "\n",
    "sealed trait CondExpr\n",
    "case class TrueConst() extends CondExpr\n",
    "case class FalseConst() extends CondExpr\n",
    "case class Eq(e1: Expr, e2: Expr) extends CondExpr\n",
    "\n",
    "sealed trait Expr\n",
    "case class NumConst(n : Int) extends Expr\n",
    "case class StringConst(s : String) extends Expr\n",
    "case class ColumnIdentifier(val s : String) extends Expr"
   ]
  },
  {
   "cell_type": "markdown",
   "metadata": {
    "deletable": false,
    "editable": false,
    "nbgrader": {
     "checksum": "bb53aa8a7d657c7d7ac4a97f332bcdf2",
     "grade": false,
     "grade_id": "cell-43fe69940009c200",
     "locked": true,
     "schema_version": 1,
     "solution": false
    }
   },
   "source": [
    "> Extra: If you finish early, extend our query language with the `ORDER BY` clause.\n",
    "> ```\n",
    "> SELECT a, b, c FROM t ORDER BY a\n",
    "> ```"
   ]
  },
  {
   "cell_type": "markdown",
   "metadata": {
    "deletable": false,
    "editable": false,
    "nbgrader": {
     "checksum": "2119d35190a46d6077f735e6a2f8fe91",
     "grade": false,
     "grade_id": "cell-c7b49a8b9c707530",
     "locked": true,
     "schema_version": 1,
     "solution": false
    }
   },
   "source": [
    "## Pattern Matching\n",
    "\n",
    "Implement a function, `isZigZag`, using pattern matching. The function should take a list of `Int`s and return `true` if the the numbers in the list switch from icreasing to decreasing to increasing to ... etc. at each position.\n",
    "\n",
    "It should return `true` for the following inputs:\n",
    "```\n",
    "List()\n",
    "List(1)\n",
    "List(1, 2)\n",
    "List(1, 2, 0, 1, -10, 10000, 9999)\n",
    "```\n",
    "\n",
    "It should return `false` for the following inputs:\n",
    "```\n",
    "List(1, 2, 3)\n",
    "List(-1, -2, -3)\n",
    "List(1, 2, 0, 1, -10, 10000, 9999, 9999)\n",
    "```"
   ]
  },
  {
   "cell_type": "code",
   "execution_count": 27,
   "metadata": {
    "deletable": false,
    "nbgrader": {
     "checksum": "22c5d7427293d04540bad179b86ae31a",
     "grade": false,
     "grade_id": "cell-54b6c9087139dc7d",
     "locked": false,
     "schema_version": 1,
     "solution": true
    }
   },
   "outputs": [
    {
     "data": {
      "text/plain": [
       "defined \u001b[32mfunction\u001b[39m \u001b[36misZigZag\u001b[39m"
      ]
     },
     "execution_count": 27,
     "metadata": {},
     "output_type": "execute_result"
    }
   ],
   "source": [
    "// YOUR CODE HERE\n",
    "def isZigZag(l: List[Int]): Boolean = {\n",
    "    l match {\n",
    "        case Nil => true\n",
    "        case first :: Nil => true\n",
    "        case first :: second :: Nil => first != second\n",
    "        case first :: second :: third :: rest => {\n",
    "            if (first < second && third < second) {isZigZag(second :: third :: rest)}\n",
    "            else if (first > second && third > second) {isZigZag(second :: third :: rest)}\n",
    "            else {false}\n",
    "        }\n",
    "        //Another way for last case\n",
    "//         case first :: (rest @ second :: third :: _) => {\n",
    "//             if (first < second && third < second) {isZigZag(rest)}\n",
    "//             else if (first > second && third > second) {isZigZag(rest)}\n",
    "//             else {false}\n",
    "//         }\n",
    "    }\n",
    "}"
   ]
  },
  {
   "cell_type": "code",
   "execution_count": 28,
   "metadata": {
    "deletable": false,
    "editable": false,
    "nbgrader": {
     "checksum": "1df8a672fbd66887139454a8a47ec137",
     "grade": true,
     "grade_id": "cell-dfa080cdfba5acc2",
     "locked": true,
     "points": 1,
     "schema_version": 1,
     "solution": false
    }
   },
   "outputs": [],
   "source": [
    "assert(isZigZag(List()), 1)\n",
    "assert(isZigZag(List(1)), 2)\n",
    "assert(isZigZag(List(1, 2)), 3)\n",
    "assert(isZigZag(List(1, 2, 0, 1, -10, 10000, 9999)), 4)\n",
    "\n",
    "assert(!isZigZag(List(1, 2, 3)), 5)\n",
    "assert(!isZigZag(List(-1, -2, -3)), 6)\n",
    "assert(!isZigZag(List(1, 2, 0, 1, -10, 10000, 9999, 9999)), 7)"
   ]
  },
  {
   "cell_type": "markdown",
   "metadata": {
    "deletable": false,
    "editable": false,
    "nbgrader": {
     "checksum": "316cfb8c5f32907adba12a05996beb9c",
     "grade": false,
     "grade_id": "cell-e5a040c199d4b042",
     "locked": true,
     "schema_version": 1,
     "solution": false
    }
   },
   "source": [
    "## Higher order functions\n",
    "\n",
    "Define a function called `map`. `map` should takes a list of `Int`s, and a function from `Int` to `Int`, then calls the function on each element and makes a new list from the results.\n",
    "\n",
    "For example, the following call:\n",
    "```\n",
    "map(List(1, 2, 3, 4, 5), (x) => x + 1)\n",
    "```\n",
    "should return in the following list\n",
    "```\n",
    "List(2, 3, 4, 5, 6)\n",
    "```"
   ]
  },
  {
   "cell_type": "code",
   "execution_count": 8,
   "metadata": {
    "deletable": false,
    "nbgrader": {
     "checksum": "c44f05fffb2898fa02b88a590de843b9",
     "grade": false,
     "grade_id": "cell-8b571b5bb7fa1675",
     "locked": false,
     "schema_version": 1,
     "solution": true
    }
   },
   "outputs": [
    {
     "data": {
      "text/plain": [
       "defined \u001b[32mfunction\u001b[39m \u001b[36mmap\u001b[39m"
      ]
     },
     "execution_count": 8,
     "metadata": {},
     "output_type": "execute_result"
    }
   ],
   "source": [
    "// YOUR CODE HERE\n",
    "def map(l: List[Int], f: Int => Int): List[Int] = {\n",
    "    l match {\n",
    "        case Nil => Nil\n",
    "        case first :: rest => f(first) :: map(rest, f)\n",
    "    }\n",
    "}"
   ]
  },
  {
   "cell_type": "code",
   "execution_count": 9,
   "metadata": {
    "deletable": false,
    "editable": false,
    "nbgrader": {
     "checksum": "3d4cb20cb5beb98d2134bc6a26ae928f",
     "grade": true,
     "grade_id": "cell-2b91f668dfa52a29",
     "locked": true,
     "points": 1,
     "schema_version": 1,
     "solution": false
    }
   },
   "outputs": [],
   "source": [
    "assert(map(List(), _ + 1) == List())\n",
    "assert(map(List(1), _ + 1) == List(2))\n",
    "assert(map(List(1, 9, 2), _ + 1) == List(2, 10, 3))"
   ]
  },
  {
   "cell_type": "code",
   "execution_count": null,
   "metadata": {},
   "outputs": [],
   "source": []
  }
 ],
 "metadata": {
  "kernelspec": {
   "display_name": "Scala",
   "language": "scala",
   "name": "scala"
  },
  "language_info": {
   "codemirror_mode": "text/x-scala",
   "file_extension": ".scala",
   "mimetype": "text/x-scala",
   "name": "scala211",
   "nbconvert_exporter": "script",
   "pygments_lexer": "scala",
   "version": "2.11.11"
  }
 },
 "nbformat": 4,
 "nbformat_minor": 2
}
