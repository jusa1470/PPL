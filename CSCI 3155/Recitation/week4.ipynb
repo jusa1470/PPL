{
 "cells": [
  {
   "cell_type": "markdown",
   "metadata": {
    "deletable": false,
    "editable": false,
    "nbgrader": {
     "checksum": "f9b54323acd575fee6b9e6a2b354c622",
     "grade": false,
     "grade_id": "cell-e4ec8e4f42d06d14",
     "locked": true,
     "schema_version": 1,
     "solution": false
    }
   },
   "source": [
    "# Recitation 4"
   ]
  },
  {
   "cell_type": "markdown",
   "metadata": {
    "deletable": false,
    "editable": false,
    "nbgrader": {
     "checksum": "aa5515e71e378fdf60847fbb9a6c155b",
     "grade": false,
     "grade_id": "cell-0059d303bebb35ed",
     "locked": true,
     "schema_version": 1,
     "solution": false
    }
   },
   "source": [
    "## SQL Pt 2\n",
    "\n",
    "### Review: intro to SQL\n",
    "\n",
    "SQL (**S**tructured **Q**uerying **L**anguage) is a domain-specific language used to manage and query data. Data is stored in tables. For example, here is a table called **customer** that stores my company's customer records.\n",
    "\n",
    "| id | name | address | city | postal_code | country |\n",
    "| --- | --- | --- | --- | --- | --- |\n",
    "| 1 | Maria Anders | Obere Str. 57 | Berlin | 12209 | Germany |\n",
    "| 2 | Ana Trujillo | Avda. de la Constitución 2222 | Mexico City | 05021 | Mexico |\n",
    "| 3 | Antonio Moreno | Mataderos 2312 |\tMexico City | 05023\t| Mexico |\n",
    "| 4 | Thomas Hardy | 120 Hanover Sq. | London | WA1 1DP | UK |\n",
    "| 5 | Christina Berglund | Berguvsvägen 8 | Luleå | S-958 22 | Sweden |\n",
    "\n",
    "Each table is defined by its name (**customer**) and its columns (**id**, **name**, **address**, **city**, etc). Each table is populated by rows, each of which represents a data record and maps each of the table's columns to values."
   ]
  },
  {
   "cell_type": "markdown",
   "metadata": {
    "deletable": false,
    "editable": false,
    "nbgrader": {
     "checksum": "61e65d3b7df2b9cf82a4a064a0061e13",
     "grade": false,
     "grade_id": "cell-a0510efd3204e24b",
     "locked": true,
     "schema_version": 1,
     "solution": false
    }
   },
   "source": [
    "Given a database consisting of one or more tables, SQL makes it easy for me to ask questions about my data. \n",
    "\n",
    "Suppose I'm curious about which cities in which my customers reside. I can make the query\n",
    "```\n",
    "SELECT id, name, city FROM customer\n",
    "```\n",
    "and my SQL engine will return the following table.\n",
    "\n",
    "| id | name | city |\n",
    "| --- | --- | --- |\n",
    "| 1 | Maria Anders | Berlin | \n",
    "| 2 | Ana Trujillo | Mexico City |\n",
    "| 3 | Antonio Moreno | Mexico City |\n",
    "| 4 | Thomas Hardy | London |\n",
    "| 5 | Christina Berglund | Luleå |"
   ]
  },
  {
   "cell_type": "markdown",
   "metadata": {
    "deletable": false,
    "editable": false,
    "nbgrader": {
     "checksum": "2b52faaf31beb141af4026f4607b0a19",
     "grade": false,
     "grade_id": "cell-c6e5453f3339f9da",
     "locked": true,
     "schema_version": 1,
     "solution": false
    }
   },
   "source": [
    "Now let's suppose my company is based in Mexico and I'm curious about the cities in which my *domestic* customers reside. I can make my query more specific with a `WHERE` clause\n",
    "```\n",
    "SELECT id, name, city FROM customer WHERE country = \"Mexico\"\n",
    "```\n",
    "to which my SQL engine returns\n",
    "\n",
    "| id | name | city |\n",
    "| --- | --- | --- |\n",
    "| 2 | Ana Trujillo | Mexico City |\n",
    "| 3 | Antonio Moreno | Mexico City |"
   ]
  },
  {
   "cell_type": "markdown",
   "metadata": {
    "deletable": false,
    "editable": false,
    "nbgrader": {
     "checksum": "6f3117ebb1e508d5e0df88698a5d06ca",
     "grade": false,
     "grade_id": "cell-d2568492fec7fcba",
     "locked": true,
     "schema_version": 1,
     "solution": false
    }
   },
   "source": [
    "> Aside: The true power of SQL becomes apparent when you start considering multiple tables. Suppose my company also has a database table storing all past orders.\n",
    ">\n",
    "> | id | customer_id | date |\n",
    "> | --- | --- | --- |\n",
    "> | 10308 |  2 | 1996-09-18 |\n",
    "> | 10309 |  3 | 1996-09-19 |\n",
    "> | 10310 |  4 | 1996-09-20 |\n",
    ">\n",
    "> I can use SQL to ask which of my orders came from Mexico and who made the orders. The query\n",
    "> ```\n",
    "> SELECT order.id, order.date, customer.name, customer.city\n",
    "> FROM order JOIN customer ON order.customer_id = customer.id\n",
    "> WHERE customer.country = \"Mexico\"\n",
    "> ```\n",
    "> returns the table\n",
    "> \n",
    "> | order.id | order.date |  customer.name |  customer.city |\n",
    "> | --- | --- | --- | --- |\n",
    "> | 10308 | 1996-09-18 | Ana Trujillo | Mexico City |\n",
    "> | 10309 | 1996-09-19 | Antonio Moreno | Mexico City |\n",
    ">\n",
    "> For now, we'll focus on SQL in the context of single tables."
   ]
  },
  {
   "cell_type": "markdown",
   "metadata": {
    "deletable": false,
    "editable": false,
    "nbgrader": {
     "checksum": "f203529c1d7e816ec3725453199b1d10",
     "grade": false,
     "grade_id": "cell-9a1044b34afc1228",
     "locked": true,
     "schema_version": 1,
     "solution": false
    }
   },
   "source": [
    "### Review: extending SQL query grammar\n",
    "\n",
    "Last week, we extended the grammar of the SQL query language. We started with a grammar that allowed you to express simple queries of the form `SELECT id, name, city FROM customer`."
   ]
  },
  {
   "cell_type": "code",
   "execution_count": 4,
   "metadata": {
    "deletable": false,
    "editable": false,
    "nbgrader": {
     "checksum": "fbc350caec76be42f30a1c07ab08cd4f",
     "grade": false,
     "grade_id": "cell-2e99ac853b37f0eb",
     "locked": true,
     "schema_version": 1,
     "solution": false
    }
   },
   "outputs": [
    {
     "data": {
      "text/plain": [
       "defined \u001b[32mtrait\u001b[39m \u001b[36mTableExpr\u001b[39m\n",
       "defined \u001b[32mclass\u001b[39m \u001b[36mTableIdentifier\u001b[39m\n",
       "defined \u001b[32mclass\u001b[39m \u001b[36mSelectQuery\u001b[39m"
      ]
     },
     "execution_count": 4,
     "metadata": {},
     "output_type": "execute_result"
    }
   ],
   "source": [
    "sealed trait TableExpr\n",
    "case class TableIdentifier(val s : String) extends TableExpr\n",
    "case class SelectQuery(val columns : List[String], table : TableExpr) extends TableExpr"
   ]
  },
  {
   "cell_type": "markdown",
   "metadata": {
    "deletable": false,
    "editable": false,
    "nbgrader": {
     "checksum": "fcd9e24cbe5e3ff15e2b0fa27e177e69",
     "grade": false,
     "grade_id": "cell-0b75c4f922e3c148",
     "locked": true,
     "schema_version": 1,
     "solution": false
    }
   },
   "source": [
    "Using Scala syntax, the query `SELECT id, name, city FROM customer` would be\n",
    "```\n",
    "SelectQuery(List(\"id\", \"name\", \"city\"), TableIdentifier(\"customer\"))\n",
    "```"
   ]
  },
  {
   "cell_type": "markdown",
   "metadata": {
    "deletable": false,
    "editable": false,
    "nbgrader": {
     "checksum": "f05a11935bba53114f27206d8ea6c902",
     "grade": false,
     "grade_id": "cell-0c6cbbc6dd71526d",
     "locked": true,
     "schema_version": 1,
     "solution": false
    }
   },
   "source": [
    "We extended this grammar to support an optional `WHERE` clause, allowing users to express queries of the form `SELECT id, name, city FROM t WHERE country = \"Mexico\"`"
   ]
  },
  {
   "cell_type": "code",
   "execution_count": 5,
   "metadata": {
    "deletable": false,
    "editable": false,
    "nbgrader": {
     "checksum": "d316dba1828196ec58dae3ec55f1ecb4",
     "grade": false,
     "grade_id": "cell-31cd47c430ef1c72",
     "locked": true,
     "schema_version": 1,
     "solution": false
    }
   },
   "outputs": [
    {
     "data": {
      "text/plain": [
       "defined \u001b[32mtrait\u001b[39m \u001b[36mTableExpr\u001b[39m\n",
       "defined \u001b[32mclass\u001b[39m \u001b[36mTableIdentifier\u001b[39m\n",
       "defined \u001b[32mclass\u001b[39m \u001b[36mSelectQuery\u001b[39m\n",
       "defined \u001b[32mtrait\u001b[39m \u001b[36mWhereClause\u001b[39m\n",
       "defined \u001b[32mobject\u001b[39m \u001b[36mNone\u001b[39m\n",
       "defined \u001b[32mclass\u001b[39m \u001b[36mSome\u001b[39m\n",
       "defined \u001b[32mtrait\u001b[39m \u001b[36mCondExpr\u001b[39m\n",
       "defined \u001b[32mobject\u001b[39m \u001b[36mConstTrue\u001b[39m\n",
       "defined \u001b[32mobject\u001b[39m \u001b[36mConstFalse\u001b[39m\n",
       "defined \u001b[32mclass\u001b[39m \u001b[36mEq\u001b[39m"
      ]
     },
     "execution_count": 5,
     "metadata": {},
     "output_type": "execute_result"
    }
   ],
   "source": [
    "sealed trait TableExpr\n",
    "case class TableIdentifier(val s : String) extends TableExpr\n",
    "case class SelectQuery(val columns : List[String], table : TableExpr, /**/ where : WhereClause /**/) extends TableExpr\n",
    "\n",
    "/**/\n",
    "sealed trait WhereClause\n",
    "case object None extends WhereClause\n",
    "case class Some(c : CondExpr) extends WhereClause\n",
    "\n",
    "sealed trait CondExpr\n",
    "case object ConstTrue extends CondExpr\n",
    "case object ConstFalse extends CondExpr\n",
    "case class Eq(columnName : String, value : String) extends CondExpr\n",
    "/**/"
   ]
  },
  {
   "cell_type": "markdown",
   "metadata": {
    "deletable": false,
    "editable": false,
    "nbgrader": {
     "checksum": "5343a1044504896c60ba6f1edcdf4d9c",
     "grade": false,
     "grade_id": "cell-de308047c1cd15a0",
     "locked": true,
     "schema_version": 1,
     "solution": false
    }
   },
   "source": [
    "### SQL engine: getting started\n",
    "\n",
    "This week, we'll take a look at the underlying SQL engine that runs user queries.\n",
    "\n",
    "Our SQL engine takes a query and returns the table represented by that query. Before implementing our engine, we need a runtime representation for a table, which is given below. You do *not* need to understand this code. All that you should note is that there is a `TableRow` class and a `Table` class that the SQL engine will use to hold data. We give examples how to interact with `TableRow` and `Table` further below."
   ]
  },
  {
   "cell_type": "code",
   "execution_count": 6,
   "metadata": {
    "deletable": false,
    "editable": false,
    "nbgrader": {
     "checksum": "5d47f26cf4b731e957e23d860f3d6804",
     "grade": false,
     "grade_id": "cell-943001d404f44db1",
     "locked": true,
     "schema_version": 1,
     "solution": false
    }
   },
   "outputs": [
    {
     "data": {
      "text/plain": [
       "\u001b[32mimport \u001b[39m\u001b[36mscala.collection.mutable.ListBuffer\n",
       "\n",
       "\u001b[39m\n",
       "defined \u001b[32mclass\u001b[39m \u001b[36mTableRow\u001b[39m\n",
       "defined \u001b[32mobject\u001b[39m \u001b[36mTableRow\u001b[39m\n",
       "defined \u001b[32mclass\u001b[39m \u001b[36mTable\u001b[39m\n",
       "defined \u001b[32mobject\u001b[39m \u001b[36mTable\u001b[39m"
      ]
     },
     "execution_count": 6,
     "metadata": {},
     "output_type": "execute_result"
    }
   ],
   "source": [
    "// SKIP\n",
    "\n",
    "import scala.collection.mutable.ListBuffer\n",
    "\n",
    "class TableRow(data : Map[String, String]) {\n",
    "    def selectColumns(columns : List[String]) : TableRow = {\n",
    "        val selectedData = this.data.filterKeys(columns.contains(_))\n",
    "        return TableRow.create(selectedData)\n",
    "    }\n",
    "    def get(columnName : String) : String = {\n",
    "        return this.data(columnName)\n",
    "    }\n",
    "}\n",
    "object TableRow {\n",
    "    def create(data : Map[String, String]) : TableRow = {\n",
    "        return new TableRow(data)\n",
    "    }\n",
    "}\n",
    "\n",
    "class Table(val id : String, val cols : List[String], rows : ListBuffer[TableRow]) {\n",
    "    def add(row : TableRow) : Unit = {\n",
    "        this.rows += row\n",
    "    }\n",
    "    \n",
    "    def getRows() : List[TableRow] = {\n",
    "        return this.rows.toList\n",
    "    }\n",
    "    \n",
    "    def prettyPrint() : Unit = {        \n",
    "        def format(table: Seq[Seq[Any]]) = table match {\n",
    "            case Seq() => \"\"\n",
    "            case _ => \n",
    "                val sizes = for (row <- table) yield (for (cell <- row) yield if (cell == null) 0 else cell.toString.length)\n",
    "                val colSizes = for (col <- sizes.transpose) yield col.max\n",
    "                val rows = for (row <- table) yield formatRow(row, colSizes)\n",
    "                formatRows(rowSeparator(colSizes), rows)\n",
    "        }\n",
    "\n",
    "        def formatRows(rowSeparator: String, rows: Seq[String]): String = (\n",
    "            rowSeparator :: \n",
    "            rows.head :: \n",
    "            rowSeparator :: \n",
    "            rows.tail.toList ::: \n",
    "            rowSeparator :: \n",
    "            List()).mkString(\"\\n\")\n",
    "\n",
    "        def formatRow(row: Seq[Any], colSizes: Seq[Int]) = {\n",
    "            val cells = (for ((item, size) <- row.zip(colSizes)) yield if (size == 0) \"\" else (\"%\" + size + \"s\").format(item))\n",
    "            cells.mkString(\"|\", \"|\", \"|\")\n",
    "        }\n",
    "\n",
    "        def rowSeparator(colSizes: Seq[Int]) = colSizes map { \"-\" * _ } mkString(\"+\", \"+\", \"+\")\n",
    "\n",
    "        val lines : ListBuffer[Seq[Any]] = new ListBuffer()\n",
    "        lines += this.cols\n",
    "        this.rows.foreach(row => {\n",
    "            val cells : ListBuffer[Any] = new ListBuffer()\n",
    "            for (col <- this.cols) {\n",
    "                cells += row.get(col)\n",
    "            }\n",
    "            lines += cells\n",
    "        })        \n",
    "        println(format(lines))\n",
    "    }\n",
    "}\n",
    "object Table {\n",
    "    def create(id : String, cols : List[String], rows : List[TableRow] = List()) : Table = {\n",
    "        return new Table(id, cols, rows.to[ListBuffer])\n",
    "    }\n",
    "}"
   ]
  },
  {
   "cell_type": "markdown",
   "metadata": {
    "deletable": false,
    "editable": false,
    "nbgrader": {
     "checksum": "8b23802d891184639ae7e500c6ec35e5",
     "grade": false,
     "grade_id": "cell-f03dbcc74a5087d3",
     "locked": true,
     "schema_version": 1,
     "solution": false
    }
   },
   "source": [
    "To create a table row, we simply call `TableRow.create` on a map from column names to values. Below we (mostly) re-create the rows of our **customer** table from above."
   ]
  },
  {
   "cell_type": "code",
   "execution_count": 7,
   "metadata": {
    "deletable": false,
    "editable": false,
    "nbgrader": {
     "checksum": "6c5a5e9ad2c416af8f9ef5399a11913e",
     "grade": false,
     "grade_id": "cell-4826cd2d07ed94fa",
     "locked": true,
     "schema_version": 1,
     "solution": false
    }
   },
   "outputs": [
    {
     "data": {
      "text/plain": [
       "\u001b[36manders\u001b[39m: \u001b[32mTableRow\u001b[39m = $sess.cmd5Wrapper$Helper$TableRow@74b53e0d\n",
       "\u001b[36mtrujillo\u001b[39m: \u001b[32mTableRow\u001b[39m = $sess.cmd5Wrapper$Helper$TableRow@24ecb864\n",
       "\u001b[36mmoreno\u001b[39m: \u001b[32mTableRow\u001b[39m = $sess.cmd5Wrapper$Helper$TableRow@6f92a17b\n",
       "\u001b[36mhardy\u001b[39m: \u001b[32mTableRow\u001b[39m = $sess.cmd5Wrapper$Helper$TableRow@1f3b5114\n",
       "\u001b[36mberglund\u001b[39m: \u001b[32mTableRow\u001b[39m = $sess.cmd5Wrapper$Helper$TableRow@42a341a8"
      ]
     },
     "execution_count": 7,
     "metadata": {},
     "output_type": "execute_result"
    }
   ],
   "source": [
    "val anders = TableRow.create(Map(\n",
    "    \"id\" -> \"1\", \n",
    "    \"name\" -> \"Maria Anders\", \n",
    "    \"city\" -> \"Berlin\", \n",
    "    \"country\" -> \"Germany\"))\n",
    "val trujillo = TableRow.create(Map(\n",
    "    \"id\" -> \"2\", \n",
    "    \"name\" -> \"Ana Trujillo\", \n",
    "    \"city\" -> \"Mexico City\", \n",
    "    \"country\" -> \"Mexico\"))\n",
    "val moreno = TableRow.create(Map(\n",
    "    \"id\" -> \"3\", \n",
    "    \"name\" -> \"Antonio Moreno\", \n",
    "    \"city\" -> \"Mexico City\", \n",
    "    \"country\" -> \"Mexico\"))\n",
    "val hardy = TableRow.create(Map(\n",
    "    \"id\" -> \"4\", \n",
    "    \"name\" -> \"Thomas Hardy\", \n",
    "    \"city\" -> \"London\", \n",
    "    \"country\" -> \"UK\"))\n",
    "val berglund = TableRow.create(Map(\n",
    "    \"id\" -> \"5\", \n",
    "    \"name\" -> \"Christina Berglund\", \n",
    "    \"city\" -> \"Luleå\", \n",
    "    \"country\" -> \"Sweden\"))"
   ]
  },
  {
   "cell_type": "markdown",
   "metadata": {
    "deletable": false,
    "editable": false,
    "nbgrader": {
     "checksum": "1e63aad0305f7e3d459d0e03829387c5",
     "grade": false,
     "grade_id": "cell-4eb1d0731b2d55af",
     "locked": true,
     "schema_version": 1,
     "solution": false
    }
   },
   "source": [
    "We can create new tables by calling `Table.create` and passing in the table name, list of column names, and list of `TableRow` objects. We can also `prettyPrint` to examine the contents of the table."
   ]
  },
  {
   "cell_type": "code",
   "execution_count": 8,
   "metadata": {
    "deletable": false,
    "editable": false,
    "nbgrader": {
     "checksum": "72fdbd1c68eea7114e88b04392962070",
     "grade": false,
     "grade_id": "cell-bccc3fc0ce1a1eee",
     "locked": true,
     "schema_version": 1,
     "solution": false
    }
   },
   "outputs": [
    {
     "name": "stdout",
     "output_type": "stream",
     "text": [
      "+--+------------------+-----------+-------+\n",
      "|id|              name|       city|country|\n",
      "+--+------------------+-----------+-------+\n",
      "| 1|      Maria Anders|     Berlin|Germany|\n",
      "| 2|      Ana Trujillo|Mexico City| Mexico|\n",
      "| 3|    Antonio Moreno|Mexico City| Mexico|\n",
      "| 4|      Thomas Hardy|     London|     UK|\n",
      "| 5|Christina Berglund|      Luleå| Sweden|\n",
      "+--+------------------+-----------+-------+\n"
     ]
    },
    {
     "data": {
      "text/plain": [
       "\u001b[36mcustomerTable\u001b[39m: \u001b[32mTable\u001b[39m = $sess.cmd5Wrapper$Helper$Table@465d6c45"
      ]
     },
     "execution_count": 8,
     "metadata": {},
     "output_type": "execute_result"
    }
   ],
   "source": [
    "val customerTable = Table.create(\n",
    "    \"customer\", \n",
    "    List(\"id\", \"name\", \"city\", \"country\"),\n",
    "    List(anders, trujillo, moreno, hardy, berglund))\n",
    "\n",
    "customerTable.prettyPrint()"
   ]
  },
  {
   "cell_type": "markdown",
   "metadata": {
    "deletable": false,
    "editable": false,
    "nbgrader": {
     "checksum": "d4cb53e61b9b01c44bbd8355a15b54e2",
     "grade": false,
     "grade_id": "cell-0b0b01e0b839cf43",
     "locked": true,
     "schema_version": 1,
     "solution": false
    }
   },
   "source": [
    "### Exercise: extend SQL engine\n",
    "\n",
    "Below is the initial implementation to our SQL engine. `SQLEngine.evalTableExpr` takes a `TableExpr` and a `context` that stores our existing tables. By default, we assume that `context` consists of just our `customerTable` defined above.\n",
    "\n",
    "So far, `SQLEngine.evalTableExpr` can evaluate simple `SELECT` queries, e.g., `SELECT id, name, city FROM customer`. Your task is to extend `SQLEngine` so that it can execute queries with `WHERE` clauses, e.g., `SELECT id, name, city FROM customer WHERE country = \"Mexico\"`.\n",
    "\n",
    "To do so, we need to be able to evaluate the conditional expressions specified within a `WHERE` clause. We have started the initial implementation in `SQLEngine.evalCondExpr`. You will need to extend `SQLEngine.evalCondExpr` to support the `Eq` case.\n",
    "\n",
    "> Note the return type of `SQLEngine.evalCondExpr`. When we say `WHERE country = \"Mexico\"`, we are not specifying a single true-or-false value, but rather a function that we apply to each table row to determine if it is acceptable. Hence, the output of evaluating a conditional expression is a function of type `TableRow => Boolean`."
   ]
  },
  {
   "cell_type": "code",
   "execution_count": 16,
   "metadata": {
    "deletable": false,
    "nbgrader": {
     "checksum": "c2f2b5fa019886bd0d75281d871569eb",
     "grade": false,
     "grade_id": "cell-07545445fe777bf9",
     "locked": false,
     "schema_version": 1,
     "solution": true
    }
   },
   "outputs": [
    {
     "data": {
      "text/plain": [
       "\u001b[36mexistingTables\u001b[39m: \u001b[32mMap\u001b[39m[\u001b[32mString\u001b[39m, \u001b[32mTable\u001b[39m] = \u001b[33mMap\u001b[39m(\u001b[32m\"customer\"\u001b[39m -> $sess.cmd5Wrapper$Helper$Table@465d6c45)\n",
       "defined \u001b[32mobject\u001b[39m \u001b[36mSQLEngine\u001b[39m"
      ]
     },
     "execution_count": 16,
     "metadata": {},
     "output_type": "execute_result"
    }
   ],
   "source": [
    "val existingTables : Map[String, Table] = Map(customerTable.id -> customerTable)\n",
    "\n",
    "object SQLEngine {\n",
    "    \n",
    "    def evalTableExpr(t : TableExpr, context : Map[String, Table] = existingTables) : Table = {\n",
    "        t match {\n",
    "            case TableIdentifier(s) => context(s)\n",
    "            // no where clause\n",
    "            case SelectQuery(columns, fromTable, None) => {\n",
    "                val table = evalTableExpr(fromTable)\n",
    "                // row.selectColumn returns a new row containing only the passed columns\n",
    "                val newRows = table.getRows().map(row => row.selectColumns(columns))\n",
    "                return Table.create(\"\", columns, newRows)\n",
    "            }\n",
    "            // some where clause\n",
    "            case SelectQuery(columns, fromTable, Some(condExpr)) => {\n",
    "                // YOUR CODE HERE\n",
    "                val table = evalTableExpr(fromTable)\n",
    "                val newRows = table.getRows().filter(evalCondExpr(condExpr)).map(row => row.selectColumns(columns))\n",
    "                return Table.create(\"\", columns, newRows)\n",
    "            }\n",
    "        }\n",
    "    }\n",
    "\n",
    "    def evalCondExpr(c : CondExpr) : TableRow => Boolean = c match {\n",
    "        case ConstTrue => { return (row => true) }\n",
    "        case ConstFalse => { return (row => false) }\n",
    "        case Eq(columnName, value) => {\n",
    "            // YOUR CODE HERE\n",
    "            return (row => row.get(columnName) == value)\n",
    "        }\n",
    "    }\n",
    "}"
   ]
  },
  {
   "cell_type": "code",
   "execution_count": 17,
   "metadata": {
    "deletable": false,
    "editable": false,
    "nbgrader": {
     "checksum": "c224cd15d3df3ebdef51fed8bbfb1edc",
     "grade": true,
     "grade_id": "cell-521a82879c25186d",
     "locked": true,
     "points": 1,
     "schema_version": 1,
     "solution": false
    }
   },
   "outputs": [
    {
     "name": "stdout",
     "output_type": "stream",
     "text": [
      "SELECT id, name, city FROM customer\n",
      "+--+------------------+-----------+\n",
      "|id|              name|       city|\n",
      "+--+------------------+-----------+\n",
      "| 1|      Maria Anders|     Berlin|\n",
      "| 2|      Ana Trujillo|Mexico City|\n",
      "| 3|    Antonio Moreno|Mexico City|\n",
      "| 4|      Thomas Hardy|     London|\n",
      "| 5|Christina Berglund|      Luleå|\n",
      "+--+------------------+-----------+\n"
     ]
    },
    {
     "data": {
      "text/plain": [
       "\u001b[36mquery1\u001b[39m: \u001b[32mSelectQuery\u001b[39m = SelectQuery(List(id, name, city),TableIdentifier(customer),None)\n",
       "\u001b[36mtableResult1\u001b[39m: \u001b[32mTable\u001b[39m = $sess.cmd5Wrapper$Helper$Table@3da7ce23"
      ]
     },
     "execution_count": 17,
     "metadata": {},
     "output_type": "execute_result"
    }
   ],
   "source": [
    "// SELECT id, name, city FROM customer\n",
    "val query1 = new SelectQuery(List(\"id\", \"name\", \"city\"), new TableIdentifier(\"customer\"), None)\n",
    "val tableResult1 = SQLEngine.evalTableExpr(query1)\n",
    "println(\"SELECT id, name, city FROM customer\")\n",
    "tableResult1.prettyPrint()"
   ]
  },
  {
   "cell_type": "code",
   "execution_count": 18,
   "metadata": {
    "deletable": false,
    "editable": false,
    "nbgrader": {
     "checksum": "25ba96049f362e1118df53da5fe38a2f",
     "grade": true,
     "grade_id": "cell-d3d446eadada8457",
     "locked": true,
     "points": 1,
     "schema_version": 1,
     "solution": false
    }
   },
   "outputs": [
    {
     "name": "stdout",
     "output_type": "stream",
     "text": [
      "SELECT id, name, city FROM customer WHERE true\n",
      "+--+------------------+-----------+\n",
      "|id|              name|       city|\n",
      "+--+------------------+-----------+\n",
      "| 1|      Maria Anders|     Berlin|\n",
      "| 2|      Ana Trujillo|Mexico City|\n",
      "| 3|    Antonio Moreno|Mexico City|\n",
      "| 4|      Thomas Hardy|     London|\n",
      "| 5|Christina Berglund|      Luleå|\n",
      "+--+------------------+-----------+\n"
     ]
    },
    {
     "data": {
      "text/plain": [
       "\u001b[36mquery2\u001b[39m: \u001b[32mSelectQuery\u001b[39m = SelectQuery(List(id, name, city),TableIdentifier(customer),Some(ConstTrue))\n",
       "\u001b[36mtableResult2\u001b[39m: \u001b[32mTable\u001b[39m = $sess.cmd5Wrapper$Helper$Table@4fcb0ea0"
      ]
     },
     "execution_count": 18,
     "metadata": {},
     "output_type": "execute_result"
    }
   ],
   "source": [
    "// SELECT id, name, city FROM customer WHERE true\n",
    "val query2 = new SelectQuery(List(\"id\", \"name\", \"city\"), new TableIdentifier(\"customer\"), Some(ConstTrue))\n",
    "val tableResult2 = SQLEngine.evalTableExpr(query2)\n",
    "println(\"SELECT id, name, city FROM customer WHERE true\")\n",
    "tableResult2.prettyPrint()"
   ]
  },
  {
   "cell_type": "code",
   "execution_count": 19,
   "metadata": {
    "deletable": false,
    "editable": false,
    "nbgrader": {
     "checksum": "4f9170fedf81e7d0ae7a0741cc56a9ce",
     "grade": true,
     "grade_id": "cell-0d9d62bc895abbba",
     "locked": true,
     "points": 1,
     "schema_version": 1,
     "solution": false
    }
   },
   "outputs": [
    {
     "name": "stdout",
     "output_type": "stream",
     "text": [
      "SELECT id, name, city FROM customer WHERE country = \"Mexico\"\n",
      "+--+--------------+-----------+\n",
      "|id|          name|       city|\n",
      "+--+--------------+-----------+\n",
      "| 2|  Ana Trujillo|Mexico City|\n",
      "| 3|Antonio Moreno|Mexico City|\n",
      "+--+--------------+-----------+\n"
     ]
    },
    {
     "data": {
      "text/plain": [
       "\u001b[36mquery3\u001b[39m: \u001b[32mSelectQuery\u001b[39m = SelectQuery(List(id, name, city),TableIdentifier(customer),Some(Eq(country,Mexico)))\n",
       "\u001b[36mtableResult3\u001b[39m: \u001b[32mTable\u001b[39m = $sess.cmd5Wrapper$Helper$Table@76e62081"
      ]
     },
     "execution_count": 19,
     "metadata": {},
     "output_type": "execute_result"
    }
   ],
   "source": [
    "// SELECT id, name, city FROM customer WHERE country = \"Mexico\"\n",
    "val query3 = new SelectQuery(List(\"id\", \"name\", \"city\"), new TableIdentifier(\"customer\"), Some(new Eq(\"country\", \"Mexico\")))\n",
    "val tableResult3 = SQLEngine.evalTableExpr(query3)\n",
    "println(\"SELECT id, name, city FROM customer WHERE country = \\\"Mexico\\\"\")\n",
    "tableResult3.prettyPrint()"
   ]
  },
  {
   "cell_type": "markdown",
   "metadata": {
    "deletable": false,
    "editable": false,
    "nbgrader": {
     "checksum": "ad00a9170f0771db714aceb40285321b",
     "grade": false,
     "grade_id": "cell-dece7ea1f0d5b70c",
     "locked": true,
     "schema_version": 1,
     "solution": false
    }
   },
   "source": [
    "## BSTs\n",
    "Recal the definition of binary search trees from lecture:"
   ]
  },
  {
   "cell_type": "code",
   "execution_count": 20,
   "metadata": {
    "deletable": false,
    "editable": false,
    "nbgrader": {
     "checksum": "817509f3e4193143c3595561cbbd1d90",
     "grade": false,
     "grade_id": "cell-273c120bd6510e8d",
     "locked": true,
     "schema_version": 1,
     "solution": false
    }
   },
   "outputs": [
    {
     "data": {
      "text/plain": [
       "defined \u001b[32mtrait\u001b[39m \u001b[36mNumTree\u001b[39m\n",
       "defined \u001b[32mobject\u001b[39m \u001b[36mLeaf\u001b[39m\n",
       "defined \u001b[32mclass\u001b[39m \u001b[36mNode\u001b[39m"
      ]
     },
     "execution_count": 20,
     "metadata": {},
     "output_type": "execute_result"
    }
   ],
   "source": [
    "sealed trait NumTree\n",
    "case object Leaf extends NumTree\n",
    "case class Node(n: Int, left: NumTree, right: NumTree) extends NumTree"
   ]
  },
  {
   "cell_type": "markdown",
   "metadata": {
    "deletable": false,
    "editable": false,
    "nbgrader": {
     "checksum": "51c764e7b087101d5f609d61ccef12d0",
     "grade": false,
     "grade_id": "cell-eeb7dd9916ccb440",
     "locked": true,
     "schema_version": 1,
     "solution": false
    }
   },
   "source": [
    "### Exercise: insert\n",
    "\n",
    "For this problem, we want you to implement an `insert` function, which will take a number and a search tree and return a new tree with the number inserted. There should be __no duplicates__, meaning if a number is already in the tree it should not be inserted again.\n",
    "\n",
    "We will use the following definition of BSTs for this question: $$\\max(left) < d < \\min(right)$$"
   ]
  },
  {
   "cell_type": "code",
   "execution_count": 31,
   "metadata": {
    "deletable": false,
    "nbgrader": {
     "checksum": "b42b4c4d8f78b7c13a269f66f1334803",
     "grade": false,
     "grade_id": "cell-1483201379b72a63",
     "locked": false,
     "schema_version": 1,
     "solution": true
    }
   },
   "outputs": [
    {
     "data": {
      "text/plain": [
       "defined \u001b[32mfunction\u001b[39m \u001b[36minsert\u001b[39m"
      ]
     },
     "execution_count": 31,
     "metadata": {},
     "output_type": "execute_result"
    }
   ],
   "source": [
    "// YOUR CODE HERE\n",
    "def insert(n: Int, t: NumTree): NumTree = t match {\n",
    "    case Leaf => Node(n, Leaf, Leaf)\n",
    "    case Node(x, left, right) => {\n",
    "        if (n < x){\n",
    "            Node(x, insert(n, left), right)\n",
    "        } else if (n > x) {\n",
    "            Node(x, left, insert(n, right))\n",
    "        } else {\n",
    "            t\n",
    "        }\n",
    "    }\n",
    "}"
   ]
  },
  {
   "cell_type": "code",
   "execution_count": 32,
   "metadata": {
    "deletable": false,
    "editable": false,
    "nbgrader": {
     "checksum": "8694c657e3b143a5595b23893f926142",
     "grade": true,
     "grade_id": "cell-e5858dc19fbcab3f",
     "locked": true,
     "points": 1,
     "schema_version": 1,
     "solution": false
    }
   },
   "outputs": [
    {
     "data": {
      "text/plain": [
       "\u001b[36mempty\u001b[39m: \u001b[32mLeaf\u001b[39m.type = Leaf\n",
       "\u001b[36mleft_only\u001b[39m: \u001b[32mNode\u001b[39m = Node(4,Node(3,Leaf,Leaf),Leaf)\n",
       "\u001b[36minserted\u001b[39m: \u001b[32mNode\u001b[39m = Node(4,Node(3,Leaf,Leaf),Node(5,Leaf,Leaf))\n",
       "\u001b[36minserted6\u001b[39m: \u001b[32mNode\u001b[39m = Node(4,Node(3,Leaf,Leaf),Node(5,Leaf,Node(6,Leaf,Leaf)))"
      ]
     },
     "execution_count": 32,
     "metadata": {},
     "output_type": "execute_result"
    }
   ],
   "source": [
    "val empty = Leaf\n",
    "assert(insert(5, empty) == Node(5, Leaf, Leaf), \"Insert into empty tree failed\")\n",
    "\n",
    "val left_only = Node(4,\n",
    "                     Node(3,\n",
    "                          Leaf,\n",
    "                          Leaf),\n",
    "                     Leaf)\n",
    "val inserted = Node(4,\n",
    "                    Node(3,\n",
    "                         Leaf,\n",
    "                         Leaf),\n",
    "                    Node(5,\n",
    "                         Leaf,\n",
    "                         Leaf))\n",
    "val inserted6 = Node(4,\n",
    "                     Node(3,\n",
    "                          Leaf,\n",
    "                          Leaf),\n",
    "                     Node(5,\n",
    "                          Leaf,\n",
    "                          Node(6,\n",
    "                               Leaf,\n",
    "                               Leaf)))\n",
    "\n",
    "assert(insert(5, left_only) == inserted, \"Insert into `left_only` tree failed\")\n",
    "\n",
    "assert(insert(6, inserted) == inserted6, \"Insert into `inserted` tree failed\")\n",
    "\n",
    "assert(insert(6, inserted6) == inserted6, \"Insertion of existing element failed\")"
   ]
  }
 ],
 "metadata": {
  "kernelspec": {
   "display_name": "Scala",
   "language": "scala",
   "name": "scala"
  },
  "language_info": {
   "codemirror_mode": "text/x-scala",
   "file_extension": ".scala",
   "mimetype": "text/x-scala",
   "name": "scala211",
   "nbconvert_exporter": "script",
   "pygments_lexer": "scala",
   "version": "2.11.11"
  }
 },
 "nbformat": 4,
 "nbformat_minor": 2
}
