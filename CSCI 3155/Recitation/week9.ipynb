{
 "cells": [
  {
   "cell_type": "markdown",
   "metadata": {},
   "source": [
    "# CSCI 3155 Recitation 9\n",
    "\n",
    "November 2, 2018"
   ]
  },
  {
   "cell_type": "markdown",
   "metadata": {},
   "source": [
    "## Type Inference\n",
    "\n",
    "Given a program, the goal of type inference is to produce a mapping from program identifiers to types (or throw an error if no such mapping can be found). In a non-polymorphic language such as Lettuce, the types in the mapping should be concrete.\n",
    "\n",
    "In lecture, we have seen a few informal examples of running type inference (Oct 25) along with a concrete implementation in Scala (Oct 30). The examples may have felt somewhat ad hoc in how they generated type variables; on the other hand, while the Scala implementation is fully general and systematic, it can be difficult to glean the essence of the algorithm from the code. Things are further complicated because the concrete implementation does not generate type variables and constraints in the same way that the examples do.\n",
    "\n",
    "Let's consider the high-level algorithm of the implementation. This allows us to run through examples without having to generate type variables in an ad hoc manner, thereby developing a more precise intuition. We can think of the type inference algorithm as occurring in three phases. \n",
    "\n",
    "1. **Initialize type variables.** \n",
    "    - Generate a type variable for every identifier declaration (e.g. `f` and `x` in `let f = function (x) ... in ...`).\n",
    "    - Collect all type variables in $V$.\n",
    "    \n",
    "2. **Generate constraints.** \n",
    "    - For each program expression in post-order traversal:\n",
    "        - If the expression is a function application, create a new result type variable and add to $V$.\n",
    "        - Tag the expression with its type (as an expression of type variables in $V$) along with any constraints imposed by that expression on the types of its subexpressions.\n",
    "    - Collect all generated constraints in $C$.\n",
    "3. **Solve constraints.**\n",
    "    - Initialize empty substitution map $S$, which maps type variables to type expressions.\n",
    "    - For each constraint in $C$:\n",
    "        - Apply current substitutions to constraint.\n",
    "        - If constraint is a tautology (e.g. `num == num`)\n",
    "            - continue to next constraint                       \n",
    "        - else if constraint is a contradiction (e.g. `num == bool`)\n",
    "            - throw error\n",
    "        - else if constraint can be unified (e.g. `t1 => t2 == t3 => t4`)\n",
    "            - append unification constraints (e.g. `t1 == t3` and `t2 == t4`) to $C$\n",
    "            - continue to next constraint\n",
    "        - else\n",
    "            - add constraint as new entry $e$ in $S$\n",
    "            - update RHS of existing entries in $S$ with $e$\n",
    "    - If $S$ does not consist solely of concrete types on the RHS, throw error.\n",
    "    - Return $S$."
   ]
  },
  {
   "cell_type": "markdown",
   "metadata": {},
   "source": [
    "### Example 1\n",
    "\n",
    "Let's run this high-level algorithm on the Lettuce program\n",
    "```\n",
    "(function (x) x+1)(5)\n",
    "```\n",
    "\n",
    "1. **Initialize type variables.**\n",
    "\n",
    "    $V = \\{t_x\\}$\n",
    "    \n",
    "2. **Generate constraints.**\n",
    "\n",
    "|Program expression (post-order)| Type | Constraints |\n",
    "| --- | ----- | --- |\n",
    "|`x`| $t_x$ | |\n",
    "|`1`| num | |\n",
    "|`x + 1`| num | $t_x = num, num => num$ |\n",
    "|`function (x) x + 1`|  | | \n",
    "|`5`| num | | \n",
    "|`(function (x) x + 1)(5)`| $t_f$ | $c$ |\n",
    "\n",
    "$\\color{blue}{C = \\{ t_x = num, num => num, t_x => num = num => t_f\\}}$\n",
    "\n",
    "3. **Solve constraints.**\n",
    "\n",
    "    $S = \\{\\}$\n",
    "\n",
    "\n",
    "| Constraint | Constraint w/ substitutions | Updated substitution map | Comment |\n",
    "| --- | --- | --- | --- |\n",
    "| $t_x = \\texttt{num}$ | - | $\\{t_x => num\\}$ | |\n",
    "| $\\texttt{num} = \\texttt{num}$ | |  | tautology |\n",
    "| $t_x \\rightarrow \\texttt{num} = \\texttt{num} \\rightarrow t_{ap}$ | $num => num = num => t_f$ |  |  |\n",
    "| $t_x \\rightarrow \\texttt{num} = \\texttt{num} \\rightarrow t_{ap}$ |  |  | tautology |\n",
    "| $t_x \\rightarrow \\texttt{num} = \\texttt{$t_f$} \\rightarrow t_{ap}$ |  | $\\{t_x => num, t_f => num\\}$ |  |"
   ]
  },
  {
   "cell_type": "markdown",
   "metadata": {},
   "source": [
    "### Example 2\n",
    "\n",
    "```\n",
    "let f = function (g) function (x) g(x) + 1 in\n",
    "    let h = function (y) y * y in\n",
    "        f(h)(5)\n",
    "```\n",
    "\n",
    "1. **Initialize type variables.**\n",
    "\n",
    "    $V = \\{\\color{blue}{t_f, t_g, t_x, t_h, t_y}\\}$\n",
    "    \n",
    "2. **Generate constraints.**\n",
    "\n",
    "|Program expression (post-order)| Type | Constraints |\n",
    "| --- | ----- | --- |\n",
    "|`g`| $\\color{blue}{t_{g}}$ | |\n",
    "|`x`| $\\color{blue}{t_x}$ | |\n",
    "|`g(x)`| $\\color{blue}{\\text{$t_{g(x)}$ (new)}}$| $\\color{blue}{t_g = t_x \\rightarrow t_{g(x)}}$ |\n",
    "|`1`| $\\color{blue}{\\texttt{num}}$ | | \n",
    "|`g(x) + 1`| $\\color{blue}{\\texttt{num}}$ | $\\color{blue}{t_{g(x)} = \\texttt{num},\\ \\ \\texttt{num} = \\texttt{num}}$ | \n",
    "|`function (x) g(x) + 1`| $\\color{blue}{t_x \\rightarrow \\texttt{num}}$ | | \n",
    "|`function (g) function (x) g(x) + 1`| $\\color{blue}{t_g \\rightarrow t_x \\rightarrow \\texttt{num}}$ |  |\n",
    "|`y`| $\\color{blue}{t_{y}}$ | |\n",
    "|`y * y`| $\\color{blue}{\\texttt{num}}$ | $\\color{blue}{t_{y} = \\texttt{num}}$|\n",
    "| `function (y) y * y`| $\\color{blue}{t_y \\rightarrow \\texttt{num}}$ | |\n",
    "|`f`| $\\color{blue}{t_{f}}$ | |\n",
    "|`h`| $\\color{blue}{t_h}$ | |\n",
    "|`f(h)`| $\\color{blue}{\\text{$t_{f(h)}$ (new)}}$| $\\color{blue}{t_f = t_h \\rightarrow t_{f(h)}}$ |\n",
    "|`5`| $\\color{blue}{\\texttt{num}}$ | | \n",
    "|`f(h)(5)`| $\\color{blue}{\\text{$t_{f(h)(5)}$ (new)}}$ | $\\color{blue}{t_{f(h)} = \\texttt{num} \\rightarrow t_{f(h)(5)}}$ |\n",
    "|`let h = function (y) y * y in f(h)(5)`| $\\color{blue}{\\text{$t_{f(h)(5)}$}}$ | $\\color{blue}{t_{h} = \\color{blue}{t_y \\rightarrow \\texttt{num}}}$\n",
    "|`let f = ... in let h = ...` | $\\color{blue}{\\text{$t_{f(h)(5)}$}}$ | $\\color{blue}{t_{f} = t_g \\rightarrow t_x \\rightarrow \\texttt{num}}$\n",
    "\n",
    "$\\color{blue}{C = \\{ t_g = t_x \\rightarrow t_{g(x)},\\ \\ t_{g(x)} = \\texttt{num},\\ \\ \\texttt{num} = \\texttt{num},\\ \\  t_{y} = \\texttt{num},\\ \\ t_f = t_h \\rightarrow t_{f(h)},\\ \\ t_{f(h)} = \\texttt{num} \\rightarrow t_{f(h)(5)},\\ \\ t_{h} = \\color{blue}{t_y \\rightarrow \\texttt{num}},\\ \\ t_{f} = t_g \\rightarrow t_x \\rightarrow \\texttt{num}\\}}$\n",
    "\n",
    "3. **Solve constraints.**\n",
    "\n",
    "    $S = \\{\\}$\n",
    "\n",
    "\n",
    "| Constraint | Constraint w/ substitutions | Updated substitution map | Comment |\n",
    "| --- | --- | --- | --- |\n",
    "| $t_g = t_x \\rightarrow t_{g(x)}$ | | $\\color{blue}{S = \\{t_g \\mapsto t_x \\rightarrow t_{g(x)} \\}}$ | |\n",
    "| $t_{g(x)} = \\texttt{num}$ | | $\\color{blue}{S = \\{t_g \\mapsto t_x \\rightarrow \\texttt{num}, t_{g(x)} \\mapsto \\texttt{num} \\}}$ | |\n",
    "| $\\texttt{num} = \\texttt{num}$ | | $\\color{blue}{S = \\{t_g \\mapsto t_x \\rightarrow \\texttt{num}, t_{g(x)} \\mapsto \\texttt{num} \\}}$ | $\\color{blue}{\\text{Tautology, continue to next constraint}}$ |\n",
    "| $t_{y} = \\texttt{num}$ | | $\\color{blue}{S = \\{t_g \\mapsto t_x \\rightarrow \\texttt{num}, t_{g(x)} \\mapsto \\texttt{num}, t_y \\mapsto \\texttt{num} \\}}$ | |\n",
    "| $t_f = t_h \\rightarrow t_{f(h)}$ | | $\\color{blue}{S = \\{t_g \\mapsto t_x \\rightarrow \\texttt{num}, t_{g(x)} \\mapsto \\texttt{num}, t_y \\mapsto \\texttt{num}, t_f \\mapsto t_h \\rightarrow t_{f(h)}  \\}}$ | |\n",
    "| $t_{f(h)} = \\texttt{num} \\rightarrow t_{f(h)(5)}$ | | $\\color{blue}{S = \\{\\\\ t_g \\mapsto t_x \\rightarrow \\texttt{num},\\\\ t_{g(x)} \\mapsto \\texttt{num},\\\\ t_y \\mapsto \\texttt{num},\\\\ t_f \\mapsto t_h \\rightarrow \\texttt{num} \\rightarrow t_{f(h)(5)},\\\\ t_{f(h)} \\mapsto \\texttt{num} \\rightarrow t_{f(h)(5)} \\\\ \\}}$ | |\n",
    "| $t_{h} = t_y \\rightarrow \\texttt{num}$ | $\\color{blue}{t_{h} = \\texttt{num} \\rightarrow \\texttt{num}}$ |  | |\n",
    "| $t_{f} = t_g \\rightarrow t_x \\rightarrow \\texttt{num}$ | $\\color{blue}{t_f = \\texttt{num} \\rightarrow \\texttt{num} \\rightarrow \\texttt{num} \\rightarrow \\texttt{t_{f(h)(5)}}$  |  |  |"
   ]
  },
  {
   "cell_type": "code",
   "execution_count": 0,
   "metadata": {},
   "outputs": [
    {
     "name": "stderr",
     "output_type": "stream",
     "text": [
      "cmd0.sc:1: not found: value th\n",
      "val res0_0 = th = num => num\n",
      "             ^cmd0.sc:2: not found: value tf\n",
      "val res0_1 = tf = \n",
      "             ^"
     ]
    },
    {
     "ename": "",
     "evalue": "",
     "output_type": "error",
     "traceback": [
      "Compilation Failed"
     ]
    }
   ],
   "source": [
    "th = num => num\n",
    "tf = \n",
    "num -> num -> num -> tfh5 = tx -> num -> tx -> num"
   ]
  },
  {
   "cell_type": "code",
   "execution_count": null,
   "metadata": {},
   "outputs": [],
   "source": []
  }
 ],
 "metadata": {
  "kernelspec": {
   "display_name": "Scala",
   "language": "scala",
   "name": "scala"
  },
  "language_info": {
   "codemirror_mode": "text/x-scala",
   "file_extension": ".scala",
   "mimetype": "text/x-scala",
   "name": "scala211",
   "nbconvert_exporter": "script",
   "pygments_lexer": "scala",
   "version": "2.11.11"
  }
 },
 "nbformat": 4,
 "nbformat_minor": 2
}
