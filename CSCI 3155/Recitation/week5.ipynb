{
 "cells": [
  {
   "cell_type": "code",
   "execution_count": 2,
   "metadata": {},
   "outputs": [
    {
     "name": "stdout",
     "output_type": "stream",
     "text": [
      "10\n"
     ]
    },
    {
     "data": {
      "text/plain": [
       "\u001b[36ml\u001b[39m: \u001b[32mList\u001b[39m[\u001b[32mInt\u001b[39m] = \u001b[33mList\u001b[39m(\u001b[32m1\u001b[39m, \u001b[32m2\u001b[39m, \u001b[32m3\u001b[39m, \u001b[32m4\u001b[39m)\n",
       "\u001b[36mtotal\u001b[39m: \u001b[32mInt\u001b[39m = \u001b[32m10\u001b[39m"
      ]
     },
     "execution_count": 2,
     "metadata": {},
     "output_type": "execute_result"
    }
   ],
   "source": [
    "val l = List(1, 2, 3, 4)\n",
    "// fold: does one thing to all numbers in list\n",
    "// f: (A, Int) => A\n",
    "//      (initacc) (f)\n",
    "val total = l.foldLeft(0) ((acc, e) => acc + e)\n",
    "println(total)"
   ]
  },
  {
   "cell_type": "code",
   "execution_count": 2,
   "metadata": {},
   "outputs": [
    {
     "ename": "",
     "evalue": "",
     "output_type": "error",
     "traceback": [
      "SyntaxError: found \"while (i < n) {\\n    \", expected (`val` | `var`) ~/ ValVarDef | `def` ~/ FunDef | `type` ~/ TypeDef | \"}\" at index 151",
      "    while (i < n) {",
      "    ^"
     ]
    }
   ],
   "source": [
    "// what foldLeft is doing\n",
    "def foldLeft(l: List[Int], init: Int, f: (Int, Int) => Int): Int {\n",
    "    val n = l.length\n",
    "    var i = 0\n",
    "    var acc = init\n",
    "    while (i < n) {\n",
    "        acc = f(acc, l(i))\n",
    "        i = i + 1\n",
    "    }\n",
    "    return acc\n",
    "}"
   ]
  },
  {
   "cell_type": "code",
   "execution_count": 3,
   "metadata": {},
   "outputs": [
    {
     "data": {
      "text/plain": [
       "\u001b[36mres2\u001b[39m: \u001b[32mString\u001b[39m = \u001b[32m\"1234\"\u001b[39m"
      ]
     },
     "execution_count": 3,
     "metadata": {},
     "output_type": "execute_result"
    }
   ],
   "source": [
    "l.foldLeft(\"\") ((acc, e) => acc + e)"
   ]
  },
  {
   "cell_type": "code",
   "execution_count": null,
   "metadata": {},
   "outputs": [],
   "source": []
  }
 ],
 "metadata": {
  "kernelspec": {
   "display_name": "Scala",
   "language": "scala",
   "name": "scala"
  },
  "language_info": {
   "codemirror_mode": "text/x-scala",
   "file_extension": ".scala",
   "mimetype": "text/x-scala",
   "name": "scala211",
   "nbconvert_exporter": "script",
   "pygments_lexer": "scala",
   "version": "2.11.11"
  }
 },
 "nbformat": 4,
 "nbformat_minor": 2
}
