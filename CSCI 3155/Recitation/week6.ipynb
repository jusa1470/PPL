{
 "cells": [
  {
   "cell_type": "markdown",
   "metadata": {
    "deletable": false,
    "editable": false,
    "nbgrader": {
     "checksum": "f4e5d8a3de0e64c6c546534a57ea82ec",
     "grade": false,
     "grade_id": "cell-0bf4d589af6d5f9c",
     "locked": true,
     "schema_version": 1,
     "solution": false
    }
   },
   "source": [
    "# CSCI 3155 Recitation 6\n",
    "October 5, 2018"
   ]
  },
  {
   "cell_type": "markdown",
   "metadata": {},
   "source": [
    "## Reviewing inference rules\n",
    "\n",
    "In the past few weeks, you've encountered a variety of formal inference rules of the form\n",
    "\n",
    "$$\\begin{array}{c}\n",
    "s \\in \\text{Domain}(\\sigma)\\\\\n",
    "\\hline\n",
    "\\sigma \\vdash \\texttt{Ident(s)} \\Downarrow \\sigma(s) \\\\\n",
    "\\end{array}\\ (\\text{Ident})$$\n",
    "\n",
    "It's worth pausing briefly and reviewing how to think of and utilize these inference rules at a high level, as it's easy to get lost in the technical details."
   ]
  },
  {
   "cell_type": "markdown",
   "metadata": {},
   "source": [
    "Say we've just started designing our own programming language and have defined the abstract syntax. We now want to take programs defined in our abstract syntax and determine certain useful properties about them, e.g., \"all variables in this program are defined before they are used\", \"this program evaluates to this value\", etc. In PL jargon, each of these statements is called a *judgment*. We define each type of judgment inductively via a collection of inference rules -- that is, judgments of the form \"all variables in this program are defined before they are used\" have a collection of inference rules, judgments of the form \"this program evaluates to this value\" have their own separate collection of rules, etc. \n",
    "As programmer language designers, we can view a judgement's inference rules as instructions for how to implement a tool that automatically checks that the judgment holds."
   ]
  },
  {
   "cell_type": "markdown",
   "metadata": {},
   "source": [
    "Let's make this discussion concrete by reviewing the judgments we've encountered so far for Lettuce. We start with the abstract syntax."
   ]
  },
  {
   "cell_type": "code",
   "execution_count": 1,
   "metadata": {},
   "outputs": [
    {
     "data": {
      "text/plain": [
       "defined \u001b[32mtrait\u001b[39m \u001b[36mExpr\u001b[39m\n",
       "defined \u001b[32mclass\u001b[39m \u001b[36mConst\u001b[39m\n",
       "defined \u001b[32mobject\u001b[39m \u001b[36mTrue\u001b[39m\n",
       "defined \u001b[32mobject\u001b[39m \u001b[36mFalse\u001b[39m\n",
       "defined \u001b[32mclass\u001b[39m \u001b[36mIdent\u001b[39m\n",
       "defined \u001b[32mclass\u001b[39m \u001b[36mPlus\u001b[39m\n",
       "defined \u001b[32mclass\u001b[39m \u001b[36mMinus\u001b[39m\n",
       "defined \u001b[32mclass\u001b[39m \u001b[36mMult\u001b[39m\n",
       "defined \u001b[32mclass\u001b[39m \u001b[36mDiv\u001b[39m\n",
       "defined \u001b[32mclass\u001b[39m \u001b[36mLog\u001b[39m\n",
       "defined \u001b[32mclass\u001b[39m \u001b[36mExp\u001b[39m\n",
       "defined \u001b[32mclass\u001b[39m \u001b[36mSine\u001b[39m\n",
       "defined \u001b[32mclass\u001b[39m \u001b[36mCosine\u001b[39m\n",
       "defined \u001b[32mclass\u001b[39m \u001b[36mGeq\u001b[39m\n",
       "defined \u001b[32mclass\u001b[39m \u001b[36mEq\u001b[39m\n",
       "defined \u001b[32mclass\u001b[39m \u001b[36mAnd\u001b[39m\n",
       "defined \u001b[32mclass\u001b[39m \u001b[36mOr\u001b[39m\n",
       "defined \u001b[32mclass\u001b[39m \u001b[36mNot\u001b[39m\n",
       "defined \u001b[32mclass\u001b[39m \u001b[36mIfThenElse\u001b[39m\n",
       "defined \u001b[32mclass\u001b[39m \u001b[36mLet\u001b[39m"
      ]
     },
     "execution_count": 1,
     "metadata": {},
     "output_type": "execute_result"
    }
   ],
   "source": [
    "sealed trait Expr\n",
    "\n",
    "// Atoms\n",
    "case class Const(v: Double) extends Expr\n",
    "case object True extends Expr\n",
    "case object False extends Expr\n",
    "case class Ident(s: String) extends Expr\n",
    "\n",
    "// Arithmetic Expressions\n",
    "case class Plus(e1: Expr, e2: Expr) extends Expr\n",
    "case class Minus(e1: Expr, e2: Expr) extends Expr\n",
    "case class Mult(e1: Expr, e2: Expr) extends Expr\n",
    "case class Div(e1: Expr, e2: Expr) extends Expr\n",
    "case class Log(e: Expr) extends Expr \n",
    "case class Exp(e: Expr) extends Expr\n",
    "case class Sine(e: Expr) extends Expr\n",
    "case class Cosine(e: Expr) extends Expr\n",
    "\n",
    "// Boolean Expressions\n",
    "case class Geq(e1: Expr, e2:Expr) extends Expr\n",
    "case class Eq(e1: Expr, e2: Expr) extends Expr\n",
    "case class And(e1: Expr, e2: Expr) extends Expr\n",
    "case class Or(e1: Expr, e2: Expr) extends Expr\n",
    "case class Not(e: Expr) extends Expr\n",
    "\n",
    "//If then else\n",
    "case class IfThenElse(e: Expr, eIf: Expr, eElse: Expr) extends Expr\n",
    "\n",
    "//Let bindings\n",
    "case class Let(s: String, defExpr: Expr, bodyExpr: Expr) extends Expr"
   ]
  },
  {
   "cell_type": "markdown",
   "metadata": {},
   "source": [
    "The first judgment you encountered stated that variables in a Lettuce program are defined before they are used. The inference rules tell us precisely how to implement a tool that checks well-formedness. As implementors, we read the rules backwards. For example, $\\text{(let-rule)}$ tells us that, in order to check well-formedness of the expression `Let(x, e1, e2)` given the set $S$ of defined variables, we need to\n",
    "1. confirm that `e1` is well-formed\n",
    "2. confirm that `e2` is well-formed under defined variables $S \\cup \\{x\\}$"
   ]
  },
  {
   "cell_type": "markdown",
   "metadata": {},
   "source": [
    "$\\fbox{$WellFormed(\\texttt{e}, S)$}$\n",
    "\n",
    "$$ \\begin{array}{c}\n",
    "\\\\\n",
    "\\hline\n",
    "WellFormed(\\texttt{Const(f)}, S) \\\\\n",
    "\\end{array} \\text{(const-rule)} $$\n",
    "\n",
    "$$\\begin{array}{c}\n",
    "x \\in S \\\\\n",
    "\\hline\n",
    "WellFormed(\\texttt{Ident(x)}, S) \\\\\n",
    "\\end{array} \\text{(ident-rule)} $$\n",
    "\n",
    "$$ \\begin{array}{c}\n",
    "WellFormed(\\texttt{e1}, S) \\;\\;\\; WellFormed(\\texttt{e2}, S)\\;\\;\\; T \\in \\{ \\texttt{Plus}, \\texttt{Minus}, \\texttt{Mult}, \\texttt{Div}, \\texttt{Geq}, \\texttt{Eq}, \\texttt{And}, \\texttt{Or} \\} \\\\\n",
    "\\hline\n",
    "WellFormed(\\texttt{T(e1, e2)}, S) \\\\\n",
    "\\end{array} \\text{(well-formed-binary-op)} $$\n",
    "\n",
    "$$ \\begin{array}{c}\n",
    "WellFormed(\\texttt{e1}, S) \\;\\;\\; T \\in \\{ \\texttt{Log}, \\texttt{Exp}, \\texttt{Sine}, \\texttt{Cosine}, \\texttt{Not}, \\texttt{Eq} \\} \\\\\n",
    "\\hline\n",
    "WellFormed(\\texttt{T(e1)}, S) \\\\\n",
    "\\end{array} \\text{(well-formed-unary-op)} $$\n",
    "\n",
    "$$\\begin{array}{c}\n",
    "\\color{red}{WellFormed(\\texttt{e1}, S) \\;\\;\\; WellFormed(\\texttt{e2}, S \\cup \\{ x\\} )} \\\\\n",
    "\\hline\n",
    "\\color{red}{WellFormed(\\texttt{Let(x, e1, e2)}, S)} \\\\\n",
    "\\end{array} \\text{(let-rule)} $$"
   ]
  },
  {
   "cell_type": "code",
   "execution_count": 2,
   "metadata": {},
   "outputs": [
    {
     "data": {
      "text/plain": [
       "defined \u001b[32mfunction\u001b[39m \u001b[36misWellFormed\u001b[39m"
      ]
     },
     "execution_count": 2,
     "metadata": {},
     "output_type": "execute_result"
    }
   ],
   "source": [
    "def isWellFormed(e: Expr, S: Set[String]): Boolean = e match {\n",
    "    /* ... */\n",
    "    \n",
    "    /**/\n",
    "    case Let(x, e1, e2) => isWellFormed(e1, S) && { \n",
    "        val S1 = S + x \n",
    "        isWellFormed(e2, S1)\n",
    "    }\n",
    "    /**/\n",
    "\n",
    "    /* ... */\n",
    "}"
   ]
  },
  {
   "cell_type": "markdown",
   "metadata": {},
   "source": [
    "Another example we've seen: the judgment form $eval(e, \\sigma) = v$. We used this judgment form to implement an interpreter for Lettuce programs.\n",
    "\n",
    "> Note on terminology: If a judgment and its inference rules concern the dynamic execution of the program (as opposed to, for example, the well-formedness check above), then they are often called the *operational semantics*.\n",
    "\n",
    "Once again, we read the rules backwards to understand how to evaluate expressions of each type. For example, consider the $\\text{(let-binding-ok)}$ rule. It tell us that, in order to evaluate the expression `Let(x,e1,e2)` under environment $\\sigma$, we need to:\n",
    "1. Evaluate `e1` to get the value $v_1$.\n",
    "2. Evaluate `e2` under $\\sigma$ extended so that `x` points to $v_1$, to get $v_2$.\n",
    "3. Return $v_2$."
   ]
  },
  {
   "cell_type": "markdown",
   "metadata": {},
   "source": [
    "$\\fbox{$eval(e, \\sigma) = v$}$\n",
    "\n",
    "$$\\begin{array}{c}\n",
    "\\\\\n",
    "\\hline\n",
    "eval(\\texttt{Const(v)}, \\sigma) = v \\\\\n",
    "\\end{array} \\text{(const-rule)} $$\n",
    "\n",
    "$$\\begin{array}{c}\n",
    "x \\in \\text{domain}(\\sigma) \\\\\n",
    "\\hline\n",
    "eval(\\texttt{Ident(x)}, \\sigma) = \\sigma(\\texttt{x}) \\\\\n",
    "\\end{array} \\text{(ident-ok-rule)}\\ \\;\\;\\; $$\n",
    "\n",
    "$$\\begin{array}{c}\n",
    "eval(\\texttt{e1}, \\sigma) = v_1,\\; \\; eval(\\texttt{e2}, \\sigma) = v_2,\\ \\ v_1 \\in \\mathbb{R},\\ \\ v_2 \\in \\mathbb{R}, \\; \\; \\texttt{T} \\in \\{ \\texttt{Plus, Minus, Mult} \\}  \\\\\n",
    "\\hline\n",
    "eval(\\texttt{T(e1, e2)}, \\sigma) = f_T(v_1, v_2) \\\\\n",
    "\\end{array} \\text{(arith-binop-ok-rule)}$$\n",
    "\n",
    "$$\\begin{array}{c}\n",
    "eval(\\texttt{e}, \\sigma) = v,\\;\\; v \\in \\mathbb{R} \\; \\; \\texttt{T} \\in \\{ \\texttt{Exp, Sine, Cosine} \\}  \\\\\n",
    "\\hline\n",
    "eval(\\texttt{T(e)}, \\sigma) = f_T(v) \\\\\n",
    "\\end{array} \\text{(arith-unop-ok-rule)}$$\n",
    "\n",
    "$$\\begin{array}{c} \n",
    "\\\\\n",
    "\\hline\n",
    "eval(\\texttt{True}, \\sigma) = true \\\\\n",
    "\\end{array} \\text{(true rule)} \\;\\;\\;\\;\n",
    "\\begin{array}{c} \n",
    "\\\\\n",
    "\\hline\n",
    "eval(\\texttt{False}, \\sigma) = false \\\\\n",
    "\\end{array}\\text{(false rule)}\n",
    "$$\n",
    "\n",
    "$$\\begin{array}{c} \n",
    "eval(\\texttt{e1}, \\sigma) = false\\\\\n",
    "\\hline\n",
    "eval(\\texttt{And}(e1, e2), \\sigma) = false\\\\\n",
    "\\end{array} \\text{(and-arg-1-ok-rule)}$$\n",
    "\n",
    "$$\\begin{array}{c} \n",
    "eval(\\texttt{e1}, \\sigma) = true\\;\\; eval(\\texttt{e2}, \\sigma) = v_2,\\ \\;\\; v_2 \\in \\mathbb{B}\\\\\n",
    "\\hline\n",
    "eval(\\texttt{And}(e1, e2), \\sigma) = v_2\\\\\n",
    "\\end{array} \\text{(and-arg-2-ok-rule)}$$\n",
    "\n",
    "$$\\begin{array}{c} \n",
    "\\color{red}{eval(\\texttt{e1}, \\sigma) = v_1,}\\ \n",
    "\\color{red}{v_1 \\not= \\mathbf{error}}\\;\\; \n",
    "\\color{red}{eval(\\texttt{e2}, \\sigma[x \\mapsto v_1]) = v_2,}\\ \\;\\;\n",
    "\\color{red}{v_2 \\not= \\mathbf{error}}\\\\\n",
    "\\hline\n",
    "\\color{red}{eval(\\texttt{Let(x,e1, e2)}, \\sigma) = v_2}\\\\\n",
    "\\end{array} \\text{(let-binding-ok)} $$\n",
    "\n",
    "$$\\vdots$$"
   ]
  },
  {
   "cell_type": "code",
   "execution_count": 2,
   "metadata": {},
   "outputs": [
    {
     "data": {
      "text/plain": [
       "defined \u001b[32mtrait\u001b[39m \u001b[36mValue\u001b[39m\n",
       "defined \u001b[32mclass\u001b[39m \u001b[36mNumValue\u001b[39m\n",
       "defined \u001b[32mclass\u001b[39m \u001b[36mBoolValue\u001b[39m\n",
       "defined \u001b[32mobject\u001b[39m \u001b[36mErrorValue\u001b[39m\n",
       "defined \u001b[32mfunction\u001b[39m \u001b[36mvalueToNumber\u001b[39m\n",
       "defined \u001b[32mfunction\u001b[39m \u001b[36mvalueToBoolean\u001b[39m"
      ]
     },
     "execution_count": 2,
     "metadata": {},
     "output_type": "execute_result"
    }
   ],
   "source": [
    "/* 1. Define the values */\n",
    "sealed trait Value \n",
    "case class NumValue(d: Double) extends Value\n",
    "case class BoolValue(b: Boolean) extends Value\n",
    "case object ErrorValue extends Value\n",
    "\n",
    "/*2. Operators on values */\n",
    "\n",
    "def valueToNumber(v: Value): Double = v match {\n",
    "    case NumValue(d) => d\n",
    "    case _ => throw new IllegalArgumentException(s\"Error: Asking me to convert Value: $v to a number\")\n",
    "}\n",
    "\n",
    "def valueToBoolean(v: Value): Boolean = v match {\n",
    "    case BoolValue(b) => b\n",
    "    case _ => throw new IllegalArgumentException(s\"Error: Asking me to convert Value: $v to a boolean\")\n",
    "}"
   ]
  },
  {
   "cell_type": "code",
   "execution_count": 3,
   "metadata": {},
   "outputs": [
    {
     "data": {
      "text/plain": [
       "defined \u001b[32mfunction\u001b[39m \u001b[36mevalExpr\u001b[39m"
      ]
     },
     "execution_count": 3,
     "metadata": {},
     "output_type": "execute_result"
    }
   ],
   "source": [
    "def evalExpr(e: Expr, env: Map[String, Value]): Value =  {    \n",
    "    e match {\n",
    "        /* ... */\n",
    "        \n",
    "        /**/\n",
    "        case Let(x, e1, e2) => {\n",
    "            val v1 = evalExpr(e1, env)  // eval e1\n",
    "            val env2 = env + (x -> v1) // create a new extended env\n",
    "            evalExpr(e2, env2) // eval e2 under that.\n",
    "        }\n",
    "        /**/\n",
    "        \n",
    "        /* ... */\n",
    "    }\n",
    "}"
   ]
  },
  {
   "cell_type": "markdown",
   "metadata": {},
   "source": [
    "### Exercise: implement a simple typechecker"
   ]
  },
  {
   "cell_type": "markdown",
   "metadata": {},
   "source": [
    "Let's introduce a new judgment form $typeOf(\\texttt{e}) = \\tau$ that says that the Lettuce expression `e` has the type $\\tau$. For simplicity, we assume `e` has no variables or `Let` expressions.\n",
    "\n",
    "We have started defining the inference rules and implementation below. Your task is to extend the inference rules to handle `IfThenElse` expressions (on paper) and extend the implementation accordingly."
   ]
  },
  {
   "cell_type": "markdown",
   "metadata": {},
   "source": [
    "$\\fbox{$typeOf(e) = \\tau$}$\n",
    "\n",
    "$$\\begin{array}{c}\n",
    "\\\\\n",
    "\\hline\n",
    "typeOf(\\texttt{Const(v)}) = Num \\\\\n",
    "\\end{array} \\text{(const-rule)} $$\n",
    "\n",
    "$$\\begin{array}{c} \n",
    "\\\\\n",
    "\\hline\n",
    "typeOf(\\texttt{True}) = Bool \\\\\n",
    "\\end{array} \\text{(true-rule)} \\;\\;\\;\\;\n",
    "\\begin{array}{c} \n",
    "\\\\\n",
    "\\hline\n",
    "typeOf(\\texttt{False}) = Bool \\\\\n",
    "\\end{array}\\text{(false-rule)}\n",
    "$$\n",
    "\n",
    "$$\\begin{array}{c}\n",
    "typeOf(\\texttt{e1}) = Num\\hspace{1.5em} typeOf(\\texttt{e2}) = Num\\hspace{1.5em} \\texttt{T} \\in \\{ \\texttt{Plus, Minus, Mult} \\}  \\\\\n",
    "\\hline\n",
    "typeOf(\\texttt{T(e1, e2)}) = Num \\\\\n",
    "\\end{array} \\text{(arith-binop-ok-rule)}$$\n",
    "\n",
    "$$\\begin{array}{c}\n",
    "typeOf(\\texttt{e1}) \\neq Num\\hspace{0.5em}\\text{or}\\hspace{0.5em}typeOf(\\texttt{e2}) \\neq Num\\hspace{1.5em} \\texttt{T} \\in \\{ \\texttt{Plus, Minus, Mult} \\}  \\\\\n",
    "\\hline\n",
    "typeOf(\\texttt{T(e1, e2)}) = TypeError \\\\\n",
    "\\end{array} \\text{(arith-binop-nok-rule)}$$\n",
    "\n",
    "$$\\begin{array}{c}\n",
    "typeOf(\\texttt{e1}) = Bool\\hspace{1.5em} typeOf(\\texttt{e2}) = Bool\\hspace{1.5em} \\texttt{T} \\in \\{ \\texttt{And, Or} \\}  \\\\\n",
    "\\hline\n",
    "typeOf(\\texttt{T(e1, e2)}) = Bool \\\\\n",
    "\\end{array} \\text{(bool-binop-ok-rule)}$$\n",
    "\n",
    "$$\\begin{array}{c}\n",
    "typeOf(\\texttt{e1}) \\neq Bool\\hspace{0.5em}\\text{or}\\hspace{0.5em}typeOf(\\texttt{e2}) \\neq Bool\\hspace{1.5em} \\texttt{T} \\in \\{ \\texttt{And, Or} \\}  \\\\\n",
    "\\hline\n",
    "typeOf(\\texttt{T(e1, e2)}) = TypeError \\\\\n",
    "\\end{array} \\text{(bool-binop-nok-rule)}$$\n",
    "\n",
    "$$\\begin{array}{c}\n",
    "typeOf(\\texttt{e1}) = Bool\\hspace{0.5em}\\text{and}\\hspace{0.5em}typeOf(\\texttt{e2}) = typeOf(\\texttt{e3})\\hspace{0.5em} = \\hspace{0.5em}\\tau  \\\\\n",
    "\\hline\n",
    "typeOf(\\texttt{ifThenElse(e1, e2, e3)}) = \\tau  \\\\\n",
    "\\end{array} \\text{(ifthenelse-ok-rule)}$$\n",
    "\n",
    "$$\\begin{array}{c}\n",
    "typeOf(\\texttt{e1}) \\neq Bool\\hspace{0.5em}\\text{or}\\hspace{0.5em}typeOf(\\texttt{e2}) \\neq typeOf(\\texttt{e3})\\hspace{0.5em}\\text{or}\\hspace{0.5em} typeOf(\\texttt{e2}) = TypeError \\hspace{0.5em}\\text{or}\\hspace{0.5em} typeOf(\\texttt{e3}) = TypeError = \\hspace{0.5em}TypeError  \\\\\n",
    "\\hline\n",
    "typeOf(\\texttt{ifThenElse(e1, e2, e3)}) = TypeError  \\\\\n",
    "\\end{array} \\text{(ifthenelse-nok-rule)}$$"
   ]
  },
  {
   "cell_type": "code",
   "execution_count": 11,
   "metadata": {},
   "outputs": [
    {
     "data": {
      "text/plain": [
       "defined \u001b[32mfunction\u001b[39m \u001b[36mtypeOf\u001b[39m"
      ]
     },
     "execution_count": 11,
     "metadata": {},
     "output_type": "execute_result"
    }
   ],
   "source": [
    "def typeOf(e : Expr) : String = {\n",
    "    \n",
    "    def typeOf_arithBinop(e1 : Expr, e2 : Expr) = {\n",
    "        if (typeOf(e1) == \"Num\" && typeOf(e2) == \"Num\") \n",
    "            \"Num\"\n",
    "        else \n",
    "            \"TypeError\"\n",
    "    }\n",
    "    \n",
    "    def typeOf_boolBinop(e1 : Expr, e2 : Expr) = {\n",
    "        if (typeOf(e1) == \"Bool\" && typeOf(e2) == \"Bool\") \n",
    "            \"Bool\"\n",
    "        else \n",
    "            \"TypeError\"\n",
    "    }\n",
    "    \n",
    "    e match {\n",
    "        // const-rule\n",
    "        case Const(v) => \"Num\"\n",
    "        // true-rule\n",
    "        case True => \"Bool\"\n",
    "        // false-rule\n",
    "        case False => \"Bool\"\n",
    "\n",
    "        // arith-binop-ok-rule + arith-binop-nok-rule\n",
    "        case Plus(e1,e2) => typeOf_arithBinop(e1, e2)\n",
    "        case Minus(e1,e2) => typeOf_arithBinop(e1, e2)\n",
    "        case Mult(e1,e2) => typeOf_arithBinop(e1, e2)\n",
    "\n",
    "        // bool-binop-ok-rule + bool-binop-nok-rule\n",
    "        case And(e1, e2) => typeOf_boolBinop(e1, e2)\n",
    "        case Or(e1, e2) => typeOf_boolBinop(e1, e2)\n",
    "                \n",
    "        case IfThenElse(e1, e2, e3) => {\n",
    "            // YOUR CODE HERE\n",
    "            if (typeOf(e1) == \"Bool\") {\n",
    "                if (typeOf_arithBinop(e2, e3) == \"Num\"){\n",
    "                    \"Num\"\n",
    "                } else if (typeOf_boolBinop(e2, e3) == \"Bool\") {\n",
    "                    \"Bool\"\n",
    "                } else {\n",
    "                    \"TypeError\"\n",
    "                }\n",
    "            } else {\n",
    "                \"TypeError\"\n",
    "            }\n",
    "//             val t1 = typeOf(e1)\n",
    "//             val t2 = typeOf(e2)\n",
    "//             val t3 = typeOf(e3)\n",
    "//             if (t1 == \"Bool\" && t2 == t3 && t2 != \"TypeError\") {\n",
    "//                 t2\n",
    "//             } else {\n",
    "//                 \"TypeError\"\n",
    "//             }\n",
    "        }\n",
    "    }\n",
    "}"
   ]
  },
  {
   "cell_type": "code",
   "execution_count": 12,
   "metadata": {},
   "outputs": [],
   "source": [
    "assert(typeOf(Const(1.0)) == \"Num\", \"Test 1\")\n",
    "assert(typeOf(True) == \"Bool\", \"Test 2\")\n",
    "assert(typeOf(Plus(Const(1.0), Const(2.0))) == \"Num\", \"Test 3\")\n",
    "assert(typeOf(Plus(Const(1.0), True)) == \"TypeError\", \"Test 4\")\n",
    "\n",
    "// Tests your addition\n",
    "assert(typeOf(IfThenElse(True, Const(1.0), Const(2.0))) == \"Num\", \"Test 5\")\n",
    "assert(typeOf(IfThenElse(Const(0.0), Const(1.0), Const(2.0))) == \"TypeError\", \"Test 6\")\n",
    "assert(typeOf(IfThenElse(False, Const(1.0), True)) == \"TypeError\", \"Test 7\")"
   ]
  },
  {
   "cell_type": "markdown",
   "metadata": {
    "deletable": false,
    "editable": false,
    "nbgrader": {
     "checksum": "2f2685e679f036b5f9dff257954ad6e8",
     "grade": false,
     "grade_id": "cell-7a5b17fd139c8bc3",
     "locked": true,
     "schema_version": 1,
     "solution": false
    }
   },
   "source": [
    "## Scoping\n",
    "The scope of a defined variable is everywhere it can be **used** while still refering to that definition."
   ]
  },
  {
   "cell_type": "markdown",
   "metadata": {
    "deletable": false,
    "editable": false,
    "nbgrader": {
     "checksum": "61f31c24d1376d702d96fea827ed37d4",
     "grade": false,
     "grade_id": "cell-1e020296e401213d",
     "locked": true,
     "schema_version": 1,
     "solution": false
    }
   },
   "source": [
    "### Scala Scoping\n",
    "In Scala, we have 4 major ways to *define* variables, each with it's own rules about the resulting scope for that variable. The 4 ways are through `var` / `val`, functions parameters, case clauses, and `def`.\n",
    "\n",
    "In Scala, when a variable is defined it's scope is the current scoping block and every nested block which does not redefine the same name. A scoping block is any section of code which can contain variables that are then lost once the block ends. The following are examples of the \"blocks\" I am refering to:\n",
    "\n",
    "* Function body:\n",
    "```\n",
    "def f() = SCOPING BLOCK\n",
    "```\n",
    "* Braces:\n",
    "```\n",
    "{\n",
    "    SCOPING BLOCK\n",
    "}\n",
    "```\n",
    "* Case\n",
    "```\n",
    "() match {\n",
    "    case () => SCOPING BLOCK\n",
    "}\n",
    "```\n",
    "\n",
    "When Scala goes through and tries to find out where the variable definition that corresponds to a variable use is, it looks for a definition in the current scope, then checks every \"parent\" scope until it finds the first one. If there would be a different definition of the same name had we kept going up to parent blocks, we say that the outer variable is \"shadowed\" by the inner variable.\n",
    "\n",
    "In the following, I will refer to variables as `var1`, `var2`, etc. instead of variable names. Because we will talk about shadowing, variable names will be reused."
   ]
  },
  {
   "cell_type": "markdown",
   "metadata": {
    "deletable": false,
    "editable": false,
    "nbgrader": {
     "checksum": "1f49ed45b9a4ee3452e2a954331c589b",
     "grade": false,
     "grade_id": "cell-88ee58501f98d684",
     "locked": true,
     "schema_version": 1,
     "solution": false
    }
   },
   "source": [
    "### `var` / `val`\n",
    "These two language constructs have the same scoping rules, so we will just talk about `val`.\n",
    "\n",
    "We declare 2 variables, both named `x`. The first is named `var1`, and is **shadowed** by the second, named `var2`. Though they have the same name, they are different variables, meaning they are stored at different locations. When we redefine `x`, we lose any way to refer to the old `x`. Since we don't ever redeclare `y`, we have access to it throughout the program."
   ]
  },
  {
   "cell_type": "code",
   "execution_count": 13,
   "metadata": {
    "deletable": false,
    "editable": false,
    "nbgrader": {
     "checksum": "a0b8195429c14c24884549f9bcd51ef4",
     "grade": false,
     "grade_id": "cell-b21e0b4c715c99e5",
     "locked": true,
     "schema_version": 1,
     "solution": false
    }
   },
   "outputs": [
    {
     "name": "stdout",
     "output_type": "stream",
     "text": [
      "x is 1, y is a\n",
      "x is 2, y is a\n",
      "x is 1, y is a\n"
     ]
    },
    {
     "data": {
      "text/plain": [
       "\u001b[36mx\u001b[39m: \u001b[32mInt\u001b[39m = \u001b[32m1\u001b[39m\n",
       "\u001b[36my\u001b[39m: \u001b[32mChar\u001b[39m = \u001b[32m'a'\u001b[39m"
      ]
     },
     "execution_count": 13,
     "metadata": {},
     "output_type": "execute_result"
    }
   ],
   "source": [
    "{\n",
    "    val x = 1   // var1\n",
    "    /* BEGIN SCOPE OF `var1`*/\n",
    "    val y = 'a' // var2\n",
    "    /* BEGIN SCOPE OF `var2` */\n",
    "    println(s\"x is $x, y is $y\")\n",
    "    /* END SCOPE OF `var1` */\n",
    "    {\n",
    "        val x = 2 // var3\n",
    "        /* BEGIN SCOPE OF `var3` */\n",
    "        println(s\"x is $x, y is $y\") // y can still be accessed here!\n",
    "        /* END SCOPE OF `var3` */\n",
    "    }\n",
    "    /* BEGIN SCOPE OF `var1` */\n",
    "    println(s\"x is $x, y is $y\")\n",
    "    /* END SCOPE OF `var1`, `var2` */\n",
    "}"
   ]
  },
  {
   "cell_type": "markdown",
   "metadata": {
    "deletable": false,
    "editable": false,
    "nbgrader": {
     "checksum": "e65d205a8b763372d0ddaa32c09144c7",
     "grade": false,
     "grade_id": "cell-68ed8a964d4f8bcb",
     "locked": true,
     "schema_version": 1,
     "solution": false
    }
   },
   "source": [
    "### Function parameters\n",
    "Function parameters are also variable declarations. They make variables available in the function body. They follow the same scoping rules as we saw above."
   ]
  },
  {
   "cell_type": "code",
   "execution_count": 14,
   "metadata": {
    "deletable": false,
    "editable": false,
    "nbgrader": {
     "checksum": "b843402471a886550e4185725b477855",
     "grade": false,
     "grade_id": "cell-a6d760bd807541f1",
     "locked": true,
     "schema_version": 1,
     "solution": false
    }
   },
   "outputs": [
    {
     "name": "stdout",
     "output_type": "stream",
     "text": [
      "x is 1, y is 2\n",
      "x is 3, y is 2\n",
      "x is 1, y is 2\n"
     ]
    },
    {
     "data": {
      "text/plain": [
       "defined \u001b[32mfunction\u001b[39m \u001b[36mf\u001b[39m"
      ]
     },
     "execution_count": 14,
     "metadata": {},
     "output_type": "execute_result"
    }
   ],
   "source": [
    "{\n",
    "    def f(x: Int, y: Int): Unit = { // var1, var2\n",
    "        /* BEGIN SCOPE OF `var1`, `var2` */\n",
    "        println(s\"x is $x, y is $y\")\n",
    "        /* END SCOPE OF `var1` */\n",
    "        (\n",
    "            (x: Char) => {\n",
    "                /* BEGIN SCOPE OF `var3` */\n",
    "                println(s\"x is $x, y is $y\")\n",
    "                x\n",
    "                /* END SCOPE OF `var3` */\n",
    "            }\n",
    "        )('3')\n",
    "        /* BEGIN SCOPE OF `var1` */\n",
    "        println(s\"x is $x, y is $y\")\n",
    "        /* END SCOPE OF `var1`, `var2` */\n",
    "    }\n",
    "    f(1, 2)\n",
    "}"
   ]
  },
  {
   "cell_type": "markdown",
   "metadata": {
    "deletable": false,
    "editable": false,
    "nbgrader": {
     "checksum": "75a3849f716d4f29cffa67bd581f9c20",
     "grade": false,
     "grade_id": "cell-9372822f56845cc9",
     "locked": true,
     "schema_version": 1,
     "solution": false
    }
   },
   "source": [
    "### Cases\n",
    "Case clauses declare variables in their pattern, and make them available in the block after the arrow. They follow the same scoping rules as we saw above.\n",
    "\n",
    "\\* Note, the variables declared in a pattern are in scope within the guard as well."
   ]
  },
  {
   "cell_type": "code",
   "execution_count": 15,
   "metadata": {
    "deletable": false,
    "editable": false,
    "nbgrader": {
     "checksum": "631fa139964fc0b7b424c875a43c221b",
     "grade": false,
     "grade_id": "cell-217c8f9b9aef0040",
     "locked": true,
     "schema_version": 1,
     "solution": false
    }
   },
   "outputs": [
    {
     "name": "stdout",
     "output_type": "stream",
     "text": [
      "x is 1, y is 2\n",
      "x is 3, y is 2\n",
      "x is 1, y is 2\n"
     ]
    }
   ],
   "source": [
    "{\n",
    "    1 :: 2 :: Nil match {\n",
    "        case x :: y :: _ => { // var1, var2\n",
    "            /* BEGIN SCOPE OF `var1`, `var2` */\n",
    "            println(s\"x is $x, y is $y\")\n",
    "            3 match {\n",
    "                /* END SCOPE OF `var1` */\n",
    "                case x => { //var3\n",
    "                    /* BEGIN SCOPE OF `var3` */\n",
    "                    println(s\"x is $x, y is $y\")\n",
    "                    x\n",
    "                    /* END SCOPE OF `var3` */\n",
    "                }\n",
    "                /* BEGIN SCOPE OF `var1` */\n",
    "            }\n",
    "            println(s\"x is $x, y is $y\")\n",
    "            /* END SCOPE OF `var1`, `var2` */\n",
    "        }\n",
    "    }\n",
    "}"
   ]
  },
  {
   "cell_type": "markdown",
   "metadata": {
    "deletable": false,
    "editable": false,
    "nbgrader": {
     "checksum": "786310729cdc2db6e2c76267942f148b",
     "grade": false,
     "grade_id": "cell-943549a21c112618",
     "locked": true,
     "schema_version": 1,
     "solution": false
    }
   },
   "source": [
    "### `def`\n",
    "`def` is what we use to define functions. It is similar to `val`, but it allows the defined variable to be used on the right hand side of the `=` as well. Note the difference between the below example and the `var` / `val` (the \"BEGIN SCOPE\" comes *right after* the `=`, instead of on the next line). This is what allows functions to be **recursive**"
   ]
  },
  {
   "cell_type": "code",
   "execution_count": 16,
   "metadata": {
    "deletable": false,
    "editable": false,
    "nbgrader": {
     "checksum": "36ff29d5aaa30277df3146c8c855570d",
     "grade": false,
     "grade_id": "cell-cda6f23b55f310b7",
     "locked": true,
     "schema_version": 1,
     "solution": false
    }
   },
   "outputs": [
    {
     "data": {
      "text/plain": [
       "defined \u001b[32mfunction\u001b[39m \u001b[36mf\u001b[39m\n",
       "\u001b[36mres15_1\u001b[39m: () => \u001b[32mUnit\u001b[39m = <function0>"
      ]
     },
     "execution_count": 16,
     "metadata": {},
     "output_type": "execute_result"
    }
   ],
   "source": [
    "{\n",
    "    def f(): Unit = /* BEGIN SCOPE OF `var1` */ {\n",
    "        f()\n",
    "    }\n",
    "    f _ // This simple avoids applying the funtion, since it's an infinite loop\n",
    "    /* END SCOPE OF `var1` */\n",
    "}"
   ]
  },
  {
   "cell_type": "markdown",
   "metadata": {
    "deletable": false,
    "editable": false,
    "nbgrader": {
     "checksum": "9c20397df522b4e5ca055f0e164e8917",
     "grade": false,
     "grade_id": "cell-61906af26d80a963",
     "locked": true,
     "schema_version": 1,
     "solution": false
    }
   },
   "source": [
    "### Exercise: Scoping\n",
    "For each variable use, say which line it's definition lies on. Then, list any variable definitions which have no use."
   ]
  },
  {
   "cell_type": "code",
   "execution_count": 16,
   "metadata": {
    "deletable": false,
    "editable": false,
    "nbgrader": {
     "checksum": "9f431266da749e9035bcdd18895fdcdf",
     "grade": false,
     "grade_id": "cell-897d54bfd13f3441",
     "locked": true,
     "schema_version": 1,
     "solution": false
    }
   },
   "outputs": [
    {
     "name": "stderr",
     "output_type": "stream",
     "text": [
      "cmd16.sc:22: Int(7) does not take parameters\n",
      "/* 23 */         {\n",
      "                 ^"
     ]
    },
    {
     "ename": "",
     "evalue": "",
     "output_type": "error",
     "traceback": [
      "Compilation Failed"
     ]
    }
   ],
   "source": [
    "/*  1 */ {\n",
    "/*  2 */     val x = 4\n",
    "/*  3 */     val y = 5\n",
    "/*  4 */     x match {\n",
    "/*  5 */         case y => y\n",
    "/*  6 */         case x => y\n",
    "/*  7 */     }\n",
    "/*  8 */     def f(x: Int, z: Int) {\n",
    "/*  9 */         x match {\n",
    "/* 10 */             case z => {\n",
    "/* 11 */                 def f(y: Int) {\n",
    "/* 12 */                     val z = 10\n",
    "/* 13 */                     x + y + z\n",
    "/* 14 */                 }\n",
    "/* 15 */                 f(z)\n",
    "/* 16 */             }\n",
    "/* 17 */             case x => y\n",
    "/* 18 */         }\n",
    "/* 19 */     }\n",
    "/* 20 */     {\n",
    "/* 21 */         val x = 6\n",
    "/* 22 */         val z = 7\n",
    "/* 23 */         {\n",
    "/* 24 */             x + y + z\n",
    "/* 25 */         }\n",
    "/* 26 */     }\n",
    "/* 27 */ }"
   ]
  },
  {
   "cell_type": "markdown",
   "metadata": {
    "deletable": false,
    "nbgrader": {
     "checksum": "2eb714ad81f0048b61ccfb65281c3407",
     "grade": true,
     "grade_id": "cell-f3d0d36ce0a76b6f",
     "locked": false,
     "points": 1,
     "schema_version": 1,
     "solution": true
    }
   },
   "source": [
    "x = \n",
    "y = \n",
    "z = "
   ]
  },
  {
   "cell_type": "markdown",
   "metadata": {
    "deletable": false,
    "editable": false,
    "nbgrader": {
     "checksum": "7f25d1b1e7700c385e20e91499dda041",
     "grade": false,
     "grade_id": "cell-064af4539638c7b4",
     "locked": true,
     "schema_version": 1,
     "solution": false
    }
   },
   "source": [
    "### Exercise: Environments\n",
    "Now, using our knowledge of scoping, lets walk through the execution of a program and list the environment at each step. Walk through the following program, and for each line, write the environment as follows:\n",
    "\n",
    "For the program:\n",
    "```\n",
    "/* 1 */ val x = 10\n",
    "/* 2 */ val y = 5\n",
    "/* 3 */ def f() {\n",
    "/* 4 */     val y = 6\n",
    "/* 5 */ }\n",
    "/* 6 */ f()\n",
    "```\n",
    "We would give the following answer:\n",
    "\n",
    "| Line | Env |\n",
    "|------|-----|\n",
    "| 1 | `{}` |\n",
    "| 2 | `{x: 10}` |\n",
    "| 3 | `{x: 10, y: 5, f: func}` |\n",
    "| 6 | `{x: 10, y: 5, f: func}` |\n",
    "| 4 | `{x: 10, y: 6, f: func}` |\n",
    "\n",
    "Give this table for the following code:"
   ]
  },
  {
   "cell_type": "code",
   "execution_count": 17,
   "metadata": {
    "deletable": false,
    "editable": false,
    "nbgrader": {
     "checksum": "79e1341c95d2bb129f114f9a4f713178",
     "grade": false,
     "grade_id": "cell-b57472808923582c",
     "locked": true,
     "schema_version": 1,
     "solution": false
    }
   },
   "outputs": [
    {
     "data": {
      "text/plain": [
       "\u001b[36mx\u001b[39m: \u001b[32mInt\u001b[39m = \u001b[32m3\u001b[39m\n",
       "\u001b[36my\u001b[39m: \u001b[32mInt\u001b[39m = \u001b[32m6\u001b[39m\n",
       "defined \u001b[32mfunction\u001b[39m \u001b[36mf\u001b[39m"
      ]
     },
     "execution_count": 17,
     "metadata": {},
     "output_type": "execute_result"
    }
   ],
   "source": [
    "/*  1 */ val x = 3\n",
    "/*  2 */ val y = 6\n",
    "/*  3 */ def f(x: Int, y: Int) {\n",
    "/*  4 */     x match {\n",
    "/*  5 */         case z if x > 0 =>\n",
    "/*  6 */             f(x - y, y)\n",
    "/*  7 */         case _ =>\n",
    "/*  8 */             ()\n",
    "/*  9 */     }\n",
    "/* 10 */ }\n",
    "/* 11 */ f(y, x)"
   ]
  },
  {
   "cell_type": "markdown",
   "metadata": {
    "deletable": false,
    "nbgrader": {
     "checksum": "075ba5ab74fd1bb877c1a076337b4470",
     "grade": true,
     "grade_id": "cell-e8dfdbf23531d413",
     "locked": false,
     "points": 1,
     "schema_version": 1,
     "solution": true
    }
   },
   "source": [
    "1) {} <br>\n",
    "2) {x: 3}<br>\n",
    "3) {x: 3, y: 6}<br>\n",
    "11) {x: 3, y: 6, f: func}<br>\n",
    "4) {x: 6, y: 3, f: func}<br>\n",
    "5) {x: 6, y: 3, f: func}<br>\n",
    "6) {x: 6, y: 3, f: func, z: 6}<br>\n",
    "4) {x: 3, y: 3, f: func}<br>\n",
    "5) {x: 3, y: 3, f: func}<br>\n",
    "6) {x: 3, y: 3, f: func, z: 3}<br>\n",
    "4) {x: 0, y: 3, f: func}<br>\n",
    "7) {x: 0, y: 3, f: func}<br>"
   ]
  },
  {
   "cell_type": "code",
   "execution_count": null,
   "metadata": {},
   "outputs": [],
   "source": []
  }
 ],
 "metadata": {
  "kernelspec": {
   "display_name": "Scala",
   "language": "scala",
   "name": "scala"
  },
  "language_info": {
   "codemirror_mode": "text/x-scala",
   "file_extension": ".scala",
   "mimetype": "text/x-scala",
   "name": "scala211",
   "nbconvert_exporter": "script",
   "pygments_lexer": "scala",
   "version": "2.11.11"
  }
 },
 "nbformat": 4,
 "nbformat_minor": 2
}
