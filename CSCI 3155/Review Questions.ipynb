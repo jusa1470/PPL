{
 "cells": [
  {
   "cell_type": "markdown",
   "metadata": {},
   "source": [
    "### For Loop to foldLeft"
   ]
  },
  {
   "cell_type": "code",
   "execution_count": 5,
   "metadata": {},
   "outputs": [
    {
     "name": "stdout",
     "output_type": "stream",
     "text": [
      "List(2, 4)\n",
      "List(2, 4)\n"
     ]
    },
    {
     "data": {
      "text/plain": [
       "defined \u001b[32mfunction\u001b[39m \u001b[36mfunc\u001b[39m\n",
       "\u001b[36ml\u001b[39m: \u001b[32mList\u001b[39m[\u001b[32mInt\u001b[39m] = \u001b[33mList\u001b[39m(\u001b[32m1\u001b[39m, \u001b[32m2\u001b[39m, \u001b[32m3\u001b[39m, \u001b[32m4\u001b[39m)\n",
       "defined \u001b[32mfunction\u001b[39m \u001b[36mf\u001b[39m"
      ]
     },
     "execution_count": 5,
     "metadata": {},
     "output_type": "execute_result"
    }
   ],
   "source": [
    "// Implement filter with fold\n",
    "\n",
    "// for loop\n",
    "def func(l: List[Int], f: Int => Boolean): List[Int] = {\n",
    "    var newList: List[Int] = Nil\n",
    "    for (x <- l) {\n",
    "        if (f(x)) {\n",
    "            newList = newList ++ List(x)\n",
    "        }\n",
    "    }\n",
    "    return newList\n",
    "}\n",
    "// foldLeft\n",
    "val l: List[Int] = List(1, 2, 3, 4)\n",
    "def f(x: Int) = {\n",
    "    if (x % 2 == 0) {\n",
    "        true\n",
    "    }\n",
    "    else {\n",
    "        false\n",
    "    }\n",
    "}\n",
    "println(l.foldLeft[List[Int]] (Nil) {case(a, x) => (if(f(x)) a ++ List(x) else a)})\n",
    "println(func(l, f))"
   ]
  },
  {
   "cell_type": "markdown",
   "metadata": {},
   "source": [
    "### Sum even indices - Sum odd indices"
   ]
  },
  {
   "cell_type": "code",
   "execution_count": 14,
   "metadata": {},
   "outputs": [
    {
     "name": "stdout",
     "output_type": "stream",
     "text": [
      "(5,10)\n",
      "10\n",
      "10"
     ]
    },
    {
     "data": {
      "text/plain": [
       "\u001b[36ml\u001b[39m: \u001b[32mList\u001b[39m[\u001b[32mInt\u001b[39m] = \u001b[33mList\u001b[39m(\u001b[32m1\u001b[39m, \u001b[32m2\u001b[39m, \u001b[32m4\u001b[39m, \u001b[32m7\u001b[39m, \u001b[32m14\u001b[39m)\n",
       "defined \u001b[32mfunction\u001b[39m \u001b[36mevenMinusOddSum\u001b[39m\n",
       "defined \u001b[32mfunction\u001b[39m \u001b[36mloopFunc\u001b[39m\n",
       "\u001b[36macc\u001b[39m: (\u001b[32mInt\u001b[39m, \u001b[32mInt\u001b[39m) = (\u001b[32m0\u001b[39m, \u001b[32m0\u001b[39m)"
      ]
     },
     "execution_count": 14,
     "metadata": {},
     "output_type": "execute_result"
    }
   ],
   "source": [
    "val l: List[Int] = List(1, 2, 4, 7, 14)\n",
    "\n",
    "// for loop\n",
    "def evenMinusOddSum(l: List[Int]): Int = {\n",
    "    var acc = 0\n",
    "    var i = 0\n",
    "    for (x <- l) {\n",
    "        if (i % 2 == 0) {\n",
    "            acc = acc + x\n",
    "        }\n",
    "        else {\n",
    "            acc = acc - x\n",
    "        }\n",
    "        i = i + 1\n",
    "    }\n",
    "    return acc\n",
    "}\n",
    "// foldLeft\n",
    "def loopFunc(acc: (Int, Int), x: Int) = {\n",
    "    val (i, sum) = acc\n",
    "    val newSum = if (i%2==0) sum + x else sum - x\n",
    "    val newI = i + 1\n",
    "    (newI, newSum)\n",
    "}\n",
    "var acc = (0, 0)\n",
    "println(l.foldLeft[(Int, Int)] ((0,0)) (loopFunc)) //have the loopFunc do the work and return a tuple\n",
    "println((l.foldLeft (0,0) { (acc,x) => if(acc._2%2==0) (acc._1+x,acc._2+1) else (acc._1-x,acc._2+1)})._1)\n",
    "\n",
    "print(evenMinusOddSum(l))"
   ]
  },
  {
   "cell_type": "code",
   "execution_count": null,
   "metadata": {},
   "outputs": [],
   "source": []
  }
 ],
 "metadata": {
  "kernelspec": {
   "display_name": "Scala",
   "language": "scala",
   "name": "scala"
  },
  "language_info": {
   "codemirror_mode": "text/x-scala",
   "file_extension": ".scala",
   "mimetype": "text/x-scala",
   "name": "scala211",
   "nbconvert_exporter": "script",
   "pygments_lexer": "scala",
   "version": "2.11.11"
  }
 },
 "nbformat": 4,
 "nbformat_minor": 2
}
